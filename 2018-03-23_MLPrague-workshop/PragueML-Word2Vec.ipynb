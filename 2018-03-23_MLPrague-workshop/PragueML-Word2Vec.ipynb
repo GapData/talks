{
 "cells": [
  {
   "cell_type": "markdown",
   "metadata": {},
   "source": [
    "# ML Prague - Word Embeddings 1: Word2Vec & Application\n",
    "Objectives of this notebook:\n",
    "1. Demonstrate training/utilization of a `Word2Vec` model using `Gensim`.\n",
    "2. Familiarization with `Gensim` APIs.\n",
    "3. Application of word embeddings on a supervised text classification task."
   ]
  },
  {
   "cell_type": "markdown",
   "metadata": {},
   "source": [
    "### Requirements:\n",
    "- Python3.5\n",
    "- gensim\n",
    "- pandas\n",
    "- matplotlib\n",
    "- sklearn"
   ]
  },
  {
   "cell_type": "code",
   "execution_count": 1,
   "metadata": {
    "ExecuteTime": {
     "end_time": "2018-03-17T12:59:26.301444Z",
     "start_time": "2018-03-17T12:59:25.900844Z"
    }
   },
   "outputs": [],
   "source": [
    "# imports\n",
    "\n",
    "from __future__ import print_function\n",
    "import logging\n",
    "import gensim\n",
    "from gensim.models import Word2Vec, KeyedVectors\n",
    "from gensim.models.word2vec import Text8Corpus\n",
    "from gensim.parsing import preprocess_string\n",
    "from gensim.parsing.preprocessing import strip_punctuation, strip_numeric, strip_multiple_whitespaces, strip_short\n",
    "import gensim.downloader as api\n",
    "import numpy as np\n",
    "from collections import defaultdict\n",
    "import multiprocessing\n",
    "from smart_open import smart_open"
   ]
  },
  {
   "cell_type": "code",
   "execution_count": 2,
   "metadata": {
    "ExecuteTime": {
     "end_time": "2018-03-17T12:59:27.479475Z",
     "start_time": "2018-03-17T12:59:27.470650Z"
    }
   },
   "outputs": [
    {
     "data": {
      "text/plain": [
       "1"
      ]
     },
     "execution_count": 2,
     "metadata": {},
     "output_type": "execute_result"
    }
   ],
   "source": [
    "# ensure FAST_VERSION > -1 - would be painfully slow to train models otherwise.\n",
    "# A good BLAS library is recommended to make use of heavy low level optimisations.\n",
    "gensim.models.word2vec.FAST_VERSION"
   ]
  },
  {
   "cell_type": "code",
   "execution_count": 3,
   "metadata": {
    "ExecuteTime": {
     "end_time": "2018-03-17T12:59:28.081199Z",
     "start_time": "2018-03-17T12:59:28.074597Z"
    }
   },
   "outputs": [],
   "source": [
    "logging.basicConfig(format='%(asctime)s : %(levelname)s : %(message)s', level=logging.INFO)"
   ]
  },
  {
   "cell_type": "markdown",
   "metadata": {
    "ExecuteTime": {
     "end_time": "2018-03-11T14:35:02.829190Z",
     "start_time": "2018-03-11T14:35:02.826128Z"
    }
   },
   "source": [
    "## Training a `Word2Vec` model\n",
    "Train a Word2Vec model on `text8`."
   ]
  },
  {
   "cell_type": "markdown",
   "metadata": {},
   "source": [
    "### Input to model\n",
    "> Keeping the input as a Python built-in list is convenient, but can use up a lot of RAM when the input is large.\n",
    "> Gensim only requires that the input must provide sentences sequentially, when iterated over. No need to keep everything in RAM: we can provide one sentence, process it, forget it, load another sentence…\n",
    "\n",
    "The input to `Word2Vec` can be simply a list of lists of tokens, but for larger corpora, it is better to give it an iterable that streams the sentences directly from disk/network."
   ]
  },
  {
   "cell_type": "code",
   "execution_count": 4,
   "metadata": {
    "ExecuteTime": {
     "end_time": "2018-03-17T12:59:30.092504Z",
     "start_time": "2018-03-17T12:59:29.397101Z"
    }
   },
   "outputs": [],
   "source": [
    "# a memory-friendly iterator\n",
    "# text8_corpus = Text8Corpus('./data/text8')\n",
    "text8_corpus = api.load(\"text8\")"
   ]
  },
  {
   "cell_type": "code",
   "execution_count": 5,
   "metadata": {
    "ExecuteTime": {
     "end_time": "2018-03-17T13:00:22.991328Z",
     "start_time": "2018-03-17T12:59:30.667296Z"
    },
    "scrolled": true
   },
   "outputs": [
    {
     "name": "stderr",
     "output_type": "stream",
     "text": [
      "2018-03-17 18:29:30,674 : WARNING : consider setting layer size to a multiple of 4 for greater performance\n",
      "2018-03-17 18:29:30,677 : INFO : collecting all words and their counts\n",
      "2018-03-17 18:29:30,688 : INFO : PROGRESS: at sentence #0, processed 0 words, keeping 0 word types\n",
      "2018-03-17 18:29:34,698 : INFO : collected 253854 word types from a corpus of 17005207 raw words and 1701 sentences\n",
      "2018-03-17 18:29:34,698 : INFO : Loading a fresh vocabulary\n",
      "2018-03-17 18:29:34,906 : INFO : min_count=5 retains 71290 unique words (28% of original 253854, drops 182564)\n",
      "2018-03-17 18:29:34,906 : INFO : min_count=5 leaves 16718844 word corpus (98% of original 17005207, drops 286363)\n",
      "2018-03-17 18:29:35,053 : INFO : deleting the raw counts dictionary of 253854 items\n",
      "2018-03-17 18:29:35,065 : INFO : sample=0.001 downsamples 38 most-common words\n",
      "2018-03-17 18:29:35,066 : INFO : downsampling leaves estimated 12506280 word corpus (74.8% of prior 16718844)\n",
      "2018-03-17 18:29:35,269 : INFO : estimated required memory for 71290 words and 50 dimensions: 64161000 bytes\n",
      "2018-03-17 18:29:35,270 : INFO : resetting layer weights\n",
      "2018-03-17 18:29:35,761 : INFO : training model with 8 workers on 71290 vocabulary and 50 features, using sg=0 hs=0 sample=0.001 negative=5 window=5\n",
      "2018-03-17 18:29:36,768 : INFO : EPOCH 1 - PROGRESS: at 10.64% examples, 1314962 words/s, in_qsize 0, out_qsize 0\n",
      "2018-03-17 18:29:37,769 : INFO : EPOCH 1 - PROGRESS: at 21.69% examples, 1347745 words/s, in_qsize 0, out_qsize 0\n",
      "2018-03-17 18:29:38,771 : INFO : EPOCH 1 - PROGRESS: at 32.39% examples, 1348356 words/s, in_qsize 0, out_qsize 0\n",
      "2018-03-17 18:29:39,775 : INFO : EPOCH 1 - PROGRESS: at 43.15% examples, 1348811 words/s, in_qsize 0, out_qsize 0\n",
      "2018-03-17 18:29:40,775 : INFO : EPOCH 1 - PROGRESS: at 53.97% examples, 1350627 words/s, in_qsize 0, out_qsize 0\n",
      "2018-03-17 18:29:41,778 : INFO : EPOCH 1 - PROGRESS: at 64.79% examples, 1351127 words/s, in_qsize 0, out_qsize 0\n",
      "2018-03-17 18:29:42,782 : INFO : EPOCH 1 - PROGRESS: at 75.90% examples, 1355102 words/s, in_qsize 0, out_qsize 0\n",
      "2018-03-17 18:29:43,784 : INFO : EPOCH 1 - PROGRESS: at 86.77% examples, 1354389 words/s, in_qsize 0, out_qsize 0\n",
      "2018-03-17 18:29:44,786 : INFO : EPOCH 1 - PROGRESS: at 97.53% examples, 1352413 words/s, in_qsize 0, out_qsize 0\n",
      "2018-03-17 18:29:45,006 : INFO : worker thread finished; awaiting finish of 7 more threads\n",
      "2018-03-17 18:29:45,010 : INFO : worker thread finished; awaiting finish of 6 more threads\n",
      "2018-03-17 18:29:45,010 : INFO : worker thread finished; awaiting finish of 5 more threads\n",
      "2018-03-17 18:29:45,011 : INFO : worker thread finished; awaiting finish of 4 more threads\n",
      "2018-03-17 18:29:45,012 : INFO : worker thread finished; awaiting finish of 3 more threads\n",
      "2018-03-17 18:29:45,012 : INFO : worker thread finished; awaiting finish of 2 more threads\n",
      "2018-03-17 18:29:45,014 : INFO : worker thread finished; awaiting finish of 1 more threads\n",
      "2018-03-17 18:29:45,020 : INFO : worker thread finished; awaiting finish of 0 more threads\n",
      "2018-03-17 18:29:45,020 : INFO : EPOCH - 1 : training on 17005207 raw words (12508319 effective words) took 9.3s, 1351294 effective words/s\n",
      "2018-03-17 18:29:46,025 : INFO : EPOCH 2 - PROGRESS: at 10.76% examples, 1335023 words/s, in_qsize 0, out_qsize 0\n",
      "2018-03-17 18:29:47,027 : INFO : EPOCH 2 - PROGRESS: at 21.52% examples, 1339134 words/s, in_qsize 0, out_qsize 0\n",
      "2018-03-17 18:29:48,034 : INFO : EPOCH 2 - PROGRESS: at 32.33% examples, 1345690 words/s, in_qsize 0, out_qsize 0\n",
      "2018-03-17 18:29:49,038 : INFO : EPOCH 2 - PROGRESS: at 43.21% examples, 1350177 words/s, in_qsize 0, out_qsize 0\n",
      "2018-03-17 18:29:50,043 : INFO : EPOCH 2 - PROGRESS: at 54.03% examples, 1350476 words/s, in_qsize 0, out_qsize 0\n",
      "2018-03-17 18:29:51,047 : INFO : EPOCH 2 - PROGRESS: at 64.96% examples, 1352959 words/s, in_qsize 0, out_qsize 0\n",
      "2018-03-17 18:29:52,047 : INFO : EPOCH 2 - PROGRESS: at 75.84% examples, 1353395 words/s, in_qsize 0, out_qsize 0\n",
      "2018-03-17 18:29:53,047 : INFO : EPOCH 2 - PROGRESS: at 86.54% examples, 1350296 words/s, in_qsize 0, out_qsize 0\n",
      "2018-03-17 18:29:54,054 : INFO : EPOCH 2 - PROGRESS: at 97.35% examples, 1348874 words/s, in_qsize 0, out_qsize 0\n",
      "2018-03-17 18:29:54,288 : INFO : worker thread finished; awaiting finish of 7 more threads\n",
      "2018-03-17 18:29:54,289 : INFO : worker thread finished; awaiting finish of 6 more threads\n",
      "2018-03-17 18:29:54,289 : INFO : worker thread finished; awaiting finish of 5 more threads\n",
      "2018-03-17 18:29:54,290 : INFO : worker thread finished; awaiting finish of 4 more threads\n",
      "2018-03-17 18:29:54,290 : INFO : worker thread finished; awaiting finish of 3 more threads\n",
      "2018-03-17 18:29:54,291 : INFO : worker thread finished; awaiting finish of 2 more threads\n",
      "2018-03-17 18:29:54,295 : INFO : worker thread finished; awaiting finish of 1 more threads\n",
      "2018-03-17 18:29:54,296 : INFO : worker thread finished; awaiting finish of 0 more threads\n",
      "2018-03-17 18:29:54,296 : INFO : EPOCH - 2 : training on 17005207 raw words (12506772 effective words) took 9.3s, 1349046 effective words/s\n",
      "2018-03-17 18:29:55,301 : INFO : EPOCH 3 - PROGRESS: at 10.76% examples, 1331483 words/s, in_qsize 0, out_qsize 0\n",
      "2018-03-17 18:29:56,301 : INFO : EPOCH 3 - PROGRESS: at 21.40% examples, 1330617 words/s, in_qsize 0, out_qsize 0\n",
      "2018-03-17 18:29:57,306 : INFO : EPOCH 3 - PROGRESS: at 32.33% examples, 1345831 words/s, in_qsize 0, out_qsize 0\n",
      "2018-03-17 18:29:58,307 : INFO : EPOCH 3 - PROGRESS: at 42.97% examples, 1343891 words/s, in_qsize 0, out_qsize 0\n",
      "2018-03-17 18:29:59,309 : INFO : EPOCH 3 - PROGRESS: at 53.85% examples, 1347500 words/s, in_qsize 0, out_qsize 0\n",
      "2018-03-17 18:30:00,313 : INFO : EPOCH 3 - PROGRESS: at 64.55% examples, 1345975 words/s, in_qsize 0, out_qsize 0\n",
      "2018-03-17 18:30:01,315 : INFO : EPOCH 3 - PROGRESS: at 75.37% examples, 1346207 words/s, in_qsize 0, out_qsize 0\n",
      "2018-03-17 18:30:02,318 : INFO : EPOCH 3 - PROGRESS: at 86.13% examples, 1344056 words/s, in_qsize 0, out_qsize 0\n",
      "2018-03-17 18:30:03,320 : INFO : EPOCH 3 - PROGRESS: at 96.94% examples, 1344166 words/s, in_qsize 0, out_qsize 0\n",
      "2018-03-17 18:30:03,596 : INFO : worker thread finished; awaiting finish of 7 more threads\n",
      "2018-03-17 18:30:03,600 : INFO : worker thread finished; awaiting finish of 6 more threads\n",
      "2018-03-17 18:30:03,600 : INFO : worker thread finished; awaiting finish of 5 more threads\n",
      "2018-03-17 18:30:03,601 : INFO : worker thread finished; awaiting finish of 4 more threads\n",
      "2018-03-17 18:30:03,602 : INFO : worker thread finished; awaiting finish of 3 more threads\n",
      "2018-03-17 18:30:03,603 : INFO : worker thread finished; awaiting finish of 2 more threads\n",
      "2018-03-17 18:30:03,606 : INFO : worker thread finished; awaiting finish of 1 more threads\n",
      "2018-03-17 18:30:03,608 : INFO : worker thread finished; awaiting finish of 0 more threads\n",
      "2018-03-17 18:30:03,609 : INFO : EPOCH - 3 : training on 17005207 raw words (12505788 effective words) took 9.3s, 1343242 effective words/s\n",
      "2018-03-17 18:30:04,614 : INFO : EPOCH 4 - PROGRESS: at 10.70% examples, 1324485 words/s, in_qsize 0, out_qsize 0\n",
      "2018-03-17 18:30:05,616 : INFO : EPOCH 4 - PROGRESS: at 21.63% examples, 1344556 words/s, in_qsize 0, out_qsize 0\n",
      "2018-03-17 18:30:06,616 : INFO : EPOCH 4 - PROGRESS: at 32.10% examples, 1337483 words/s, in_qsize 0, out_qsize 0\n",
      "2018-03-17 18:30:07,619 : INFO : EPOCH 4 - PROGRESS: at 41.92% examples, 1310876 words/s, in_qsize 0, out_qsize 0\n",
      "2018-03-17 18:30:08,624 : INFO : EPOCH 4 - PROGRESS: at 52.15% examples, 1304121 words/s, in_qsize 0, out_qsize 0\n",
      "2018-03-17 18:30:09,628 : INFO : EPOCH 4 - PROGRESS: at 61.61% examples, 1284146 words/s, in_qsize 0, out_qsize 0\n",
      "2018-03-17 18:30:10,634 : INFO : EPOCH 4 - PROGRESS: at 71.96% examples, 1284964 words/s, in_qsize 0, out_qsize 0\n",
      "2018-03-17 18:30:11,639 : INFO : EPOCH 4 - PROGRESS: at 82.77% examples, 1290310 words/s, in_qsize 0, out_qsize 0\n",
      "2018-03-17 18:30:12,644 : INFO : EPOCH 4 - PROGRESS: at 92.48% examples, 1280969 words/s, in_qsize 0, out_qsize 0\n",
      "2018-03-17 18:30:13,425 : INFO : worker thread finished; awaiting finish of 7 more threads\n",
      "2018-03-17 18:30:13,429 : INFO : worker thread finished; awaiting finish of 6 more threads\n",
      "2018-03-17 18:30:13,429 : INFO : worker thread finished; awaiting finish of 5 more threads\n"
     ]
    },
    {
     "name": "stderr",
     "output_type": "stream",
     "text": [
      "2018-03-17 18:30:13,430 : INFO : worker thread finished; awaiting finish of 4 more threads\n",
      "2018-03-17 18:30:13,431 : INFO : worker thread finished; awaiting finish of 3 more threads\n",
      "2018-03-17 18:30:13,432 : INFO : worker thread finished; awaiting finish of 2 more threads\n",
      "2018-03-17 18:30:13,434 : INFO : worker thread finished; awaiting finish of 1 more threads\n",
      "2018-03-17 18:30:13,439 : INFO : worker thread finished; awaiting finish of 0 more threads\n",
      "2018-03-17 18:30:13,439 : INFO : EPOCH - 4 : training on 17005207 raw words (12505202 effective words) took 9.8s, 1272366 effective words/s\n",
      "2018-03-17 18:30:14,443 : INFO : EPOCH 5 - PROGRESS: at 10.29% examples, 1275578 words/s, in_qsize 0, out_qsize 0\n",
      "2018-03-17 18:30:15,450 : INFO : EPOCH 5 - PROGRESS: at 20.75% examples, 1286140 words/s, in_qsize 0, out_qsize 0\n",
      "2018-03-17 18:30:16,456 : INFO : EPOCH 5 - PROGRESS: at 31.16% examples, 1293229 words/s, in_qsize 0, out_qsize 1\n",
      "2018-03-17 18:30:17,458 : INFO : EPOCH 5 - PROGRESS: at 42.15% examples, 1315375 words/s, in_qsize 0, out_qsize 0\n",
      "2018-03-17 18:30:18,459 : INFO : EPOCH 5 - PROGRESS: at 52.56% examples, 1313373 words/s, in_qsize 0, out_qsize 0\n",
      "2018-03-17 18:30:19,463 : INFO : EPOCH 5 - PROGRESS: at 63.02% examples, 1312664 words/s, in_qsize 0, out_qsize 0\n",
      "2018-03-17 18:30:20,464 : INFO : EPOCH 5 - PROGRESS: at 73.60% examples, 1314879 words/s, in_qsize 0, out_qsize 0\n",
      "2018-03-17 18:30:21,468 : INFO : EPOCH 5 - PROGRESS: at 84.07% examples, 1310998 words/s, in_qsize 0, out_qsize 0\n",
      "2018-03-17 18:30:22,472 : INFO : EPOCH 5 - PROGRESS: at 94.53% examples, 1309611 words/s, in_qsize 0, out_qsize 0\n",
      "2018-03-17 18:30:22,973 : INFO : worker thread finished; awaiting finish of 7 more threads\n",
      "2018-03-17 18:30:22,976 : INFO : worker thread finished; awaiting finish of 6 more threads\n",
      "2018-03-17 18:30:22,977 : INFO : worker thread finished; awaiting finish of 5 more threads\n",
      "2018-03-17 18:30:22,978 : INFO : worker thread finished; awaiting finish of 4 more threads\n",
      "2018-03-17 18:30:22,979 : INFO : worker thread finished; awaiting finish of 3 more threads\n",
      "2018-03-17 18:30:22,979 : INFO : worker thread finished; awaiting finish of 2 more threads\n",
      "2018-03-17 18:30:22,982 : INFO : worker thread finished; awaiting finish of 1 more threads\n",
      "2018-03-17 18:30:22,987 : INFO : worker thread finished; awaiting finish of 0 more threads\n",
      "2018-03-17 18:30:22,988 : INFO : EPOCH - 5 : training on 17005207 raw words (12506330 effective words) took 9.5s, 1310070 effective words/s\n",
      "2018-03-17 18:30:22,989 : INFO : training on a 85026035 raw words (62532411 effective words) took 47.2s, 1324068 effective words/s\n"
     ]
    },
    {
     "name": "stdout",
     "output_type": "stream",
     "text": [
      "CPU times: user 2min 21s, sys: 456 ms, total: 2min 21s\n",
      "Wall time: 52.3 s\n"
     ]
    }
   ],
   "source": [
    "%%time\n",
    "# train a `Word2Vec` model on text8 corpus\n",
    "model_text8 = Word2Vec(text8_corpus, size=50, iter=5, workers=multiprocessing.cpu_count())"
   ]
  },
  {
   "cell_type": "code",
   "execution_count": 6,
   "metadata": {
    "ExecuteTime": {
     "end_time": "2018-03-17T13:00:45.253808Z",
     "start_time": "2018-03-17T13:00:45.247847Z"
    }
   },
   "outputs": [
    {
     "name": "stdout",
     "output_type": "stream",
     "text": [
      "Vocabulary size: 71290\n",
      "Word embeddings matrix shape: (71290, 50)\n"
     ]
    }
   ],
   "source": [
    "print('Vocabulary size: %d' % len(model_text8.wv.vocab))\n",
    "print('Word embeddings matrix shape: %s' % str(model_text8.wv.vectors.shape))"
   ]
  },
  {
   "cell_type": "code",
   "execution_count": 7,
   "metadata": {
    "ExecuteTime": {
     "end_time": "2018-03-17T13:00:47.480445Z",
     "start_time": "2018-03-17T13:00:47.465392Z"
    }
   },
   "outputs": [
    {
     "name": "stdout",
     "output_type": "stream",
     "text": [
      "(50,)\n",
      "[ 2.8120091e+00 -4.4274482e-01 -1.2171491e-01 -1.1067118e-01\n",
      " -3.4908062e-01 -8.6004508e-01 -1.8854939e+00 -3.0238085e+00\n",
      " -1.2976211e+00  2.0229805e-01  7.6597488e-01 -6.6948879e-01\n",
      "  8.7617785e-01  5.1289356e-01 -4.9695468e-01  7.1485177e-02\n",
      "  1.6823003e+00 -2.6944602e+00 -3.2400355e-01  6.1904854e-01\n",
      "  2.1600552e+00  3.9656472e-01  3.6598623e-01  7.2499603e-01\n",
      " -8.0536604e-01 -1.6124638e+00  1.0816779e+00  1.3378210e+00\n",
      " -1.0271267e+00  5.9613442e-01  1.2789030e+00 -1.4804765e+00\n",
      "  1.5649840e+00 -4.5707607e-01  8.1829834e-01  2.3345325e+00\n",
      " -7.8127226e-03 -1.5305336e-01  1.8449184e+00 -8.1483310e-01\n",
      "  1.4861569e+00 -1.5639691e+00 -1.1471926e+00 -1.3460046e+00\n",
      " -4.2964953e-01  3.8233975e-01 -1.1196358e+00 -5.4196471e-01\n",
      " -2.1623047e-03  2.1009531e+00]\n",
      "[ 2.8120091e+00 -4.4274482e-01 -1.2171491e-01 -1.1067118e-01\n",
      " -3.4908062e-01 -8.6004508e-01 -1.8854939e+00 -3.0238085e+00\n",
      " -1.2976211e+00  2.0229805e-01  7.6597488e-01 -6.6948879e-01\n",
      "  8.7617785e-01  5.1289356e-01 -4.9695468e-01  7.1485177e-02\n",
      "  1.6823003e+00 -2.6944602e+00 -3.2400355e-01  6.1904854e-01\n",
      "  2.1600552e+00  3.9656472e-01  3.6598623e-01  7.2499603e-01\n",
      " -8.0536604e-01 -1.6124638e+00  1.0816779e+00  1.3378210e+00\n",
      " -1.0271267e+00  5.9613442e-01  1.2789030e+00 -1.4804765e+00\n",
      "  1.5649840e+00 -4.5707607e-01  8.1829834e-01  2.3345325e+00\n",
      " -7.8127226e-03 -1.5305336e-01  1.8449184e+00 -8.1483310e-01\n",
      "  1.4861569e+00 -1.5639691e+00 -1.1471926e+00 -1.3460046e+00\n",
      " -4.2964953e-01  3.8233975e-01 -1.1196358e+00 -5.4196471e-01\n",
      " -2.1623047e-03  2.1009531e+00]\n"
     ]
    }
   ],
   "source": [
    "# get a word's vector\n",
    "print(model_text8.wv['cat'].shape)\n",
    "print(model_text8.wv['cat'])\n",
    "print(model_text8.wv.word_vec('cat', use_norm=False))"
   ]
  },
  {
   "cell_type": "code",
   "execution_count": 8,
   "metadata": {
    "ExecuteTime": {
     "end_time": "2018-03-17T13:00:48.523012Z",
     "start_time": "2018-03-17T13:00:48.501044Z"
    }
   },
   "outputs": [
    {
     "name": "stderr",
     "output_type": "stream",
     "text": [
      "2018-03-17 18:30:48,502 : INFO : precomputing L2-norms of word weight vectors\n"
     ]
    },
    {
     "name": "stdout",
     "output_type": "stream",
     "text": [
      "[ 3.14031631e-01 -4.94436063e-02 -1.35925347e-02 -1.23592233e-02\n",
      " -3.89836431e-02 -9.60456878e-02 -2.10562870e-01 -3.37684363e-01\n",
      " -1.44912079e-01  2.25916710e-02  8.55403841e-02 -7.47652799e-02\n",
      "  9.78473201e-02  5.72774820e-02 -5.54975048e-02  7.98312016e-03\n",
      "  1.87871188e-01 -3.00904334e-01 -3.61831561e-02  6.91323578e-02\n",
      "  2.41224542e-01  4.42864373e-02  4.08715792e-02  8.09640586e-02\n",
      " -8.99394006e-02 -1.80072188e-01  1.20796576e-01  1.49401397e-01\n",
      " -1.14704557e-01  6.65734187e-02  1.42821729e-01 -1.65332481e-01\n",
      "  1.74769863e-01 -5.10440543e-02  9.13836136e-02  2.60709345e-01\n",
      " -8.72487202e-04 -1.70922615e-02  2.06031591e-01 -9.09966305e-02\n",
      "  1.65966839e-01 -1.74656540e-01 -1.28112942e-01 -1.50315300e-01\n",
      " -4.79811877e-02  4.26978581e-02 -1.25035524e-01 -6.05240054e-02\n",
      " -2.41475762e-04  2.34624311e-01]\n"
     ]
    }
   ],
   "source": [
    "# get a word's normalized vector\n",
    "model_text8.wv.init_sims()\n",
    "print(model_text8.wv.word_vec('cat', use_norm=True))"
   ]
  },
  {
   "cell_type": "markdown",
   "metadata": {},
   "source": [
    "## Online training\n",
    "Continue training on more corpus/data. The new corpus can have new vocabulary words."
   ]
  },
  {
   "cell_type": "code",
   "execution_count": 9,
   "metadata": {
    "ExecuteTime": {
     "end_time": "2018-03-17T13:00:55.399227Z",
     "start_time": "2018-03-17T13:00:55.390676Z"
    }
   },
   "outputs": [],
   "source": [
    "# Gensim only requires that the input must provide sentences sequentially, when iterated over.\n",
    "# yield one sentence (list of utf8 words) after another.\n",
    "class MySentences(object):\n",
    "    def __init__(self, filename):\n",
    "        self._fname = filename\n",
    "\n",
    "    def __iter__(self):\n",
    "        for line in smart_open(self._fname, 'rb'):\n",
    "            cleaned_words = [word for word in preprocess_string(line.decode('utf-8'))]\n",
    "            if cleaned_words:\n",
    "                yield cleaned_words"
   ]
  },
  {
   "cell_type": "code",
   "execution_count": 10,
   "metadata": {
    "ExecuteTime": {
     "end_time": "2018-03-17T13:00:57.509290Z",
     "start_time": "2018-03-17T13:00:57.502777Z"
    }
   },
   "outputs": [],
   "source": [
    "new_sentences = MySentences('data/article-about-rare-words.txt')"
   ]
  },
  {
   "cell_type": "code",
   "execution_count": 11,
   "metadata": {
    "ExecuteTime": {
     "end_time": "2018-03-17T13:01:00.507949Z",
     "start_time": "2018-03-17T13:01:00.325187Z"
    }
   },
   "outputs": [
    {
     "name": "stderr",
     "output_type": "stream",
     "text": [
      "2018-03-17 18:31:00,330 : INFO : collecting all words and their counts\n",
      "2018-03-17 18:31:00,333 : INFO : PROGRESS: at sentence #0, processed 0 words, keeping 0 word types\n",
      "2018-03-17 18:31:00,351 : INFO : collected 235 word types from a corpus of 324 raw words and 45 sentences\n",
      "2018-03-17 18:31:00,352 : INFO : Updating model with new vocabulary\n",
      "2018-03-17 18:31:00,353 : INFO : New added 235 unique words (50% of original 470) and increased the count of 235 pre-existing words (50% of original 470)\n",
      "2018-03-17 18:31:00,358 : INFO : deleting the raw counts dictionary of 235 items\n",
      "2018-03-17 18:31:00,358 : INFO : sample=0.001 downsamples 470 most-common words\n",
      "2018-03-17 18:31:00,359 : INFO : downsampling leaves estimated 448 word corpus (138.5% of prior 324)\n",
      "2018-03-17 18:31:00,495 : INFO : estimated required memory for 470 words and 50 dimensions: 423000 bytes\n",
      "2018-03-17 18:31:00,495 : INFO : updating layer weights\n"
     ]
    }
   ],
   "source": [
    "# update vocabulary with new words (if any)\n",
    "model_text8.build_vocab(new_sentences, update=True, min_count=1)"
   ]
  },
  {
   "cell_type": "code",
   "execution_count": 12,
   "metadata": {
    "ExecuteTime": {
     "end_time": "2018-03-17T13:01:04.311552Z",
     "start_time": "2018-03-17T13:01:04.206566Z"
    }
   },
   "outputs": [
    {
     "name": "stderr",
     "output_type": "stream",
     "text": [
      "/encrypted/virtualenvironments/gensim_workshop_py3.5/lib/python3.5/site-packages/ipykernel_launcher.py:2: DeprecationWarning: Call to deprecated `iter` (Attribute will be removed in 4.0.0, use self.epochs instead).\n",
      "  \n",
      "2018-03-17 18:31:04,225 : WARNING : Effective 'alpha' higher than previous training cycles\n",
      "2018-03-17 18:31:04,226 : INFO : training model with 8 workers on 71407 vocabulary and 50 features, using sg=0 hs=0 sample=0.001 negative=5 window=5\n",
      "2018-03-17 18:31:04,239 : INFO : worker thread finished; awaiting finish of 7 more threads\n",
      "2018-03-17 18:31:04,240 : INFO : worker thread finished; awaiting finish of 6 more threads\n",
      "2018-03-17 18:31:04,241 : INFO : worker thread finished; awaiting finish of 5 more threads\n",
      "2018-03-17 18:31:04,241 : INFO : worker thread finished; awaiting finish of 4 more threads\n",
      "2018-03-17 18:31:04,242 : INFO : worker thread finished; awaiting finish of 3 more threads\n",
      "2018-03-17 18:31:04,242 : INFO : worker thread finished; awaiting finish of 2 more threads\n",
      "2018-03-17 18:31:04,243 : INFO : worker thread finished; awaiting finish of 1 more threads\n",
      "2018-03-17 18:31:04,243 : INFO : worker thread finished; awaiting finish of 0 more threads\n",
      "2018-03-17 18:31:04,244 : INFO : EPOCH - 1 : training on 324 raw words (224 effective words) took 0.0s, 19091 effective words/s\n",
      "2018-03-17 18:31:04,252 : INFO : worker thread finished; awaiting finish of 7 more threads\n",
      "2018-03-17 18:31:04,253 : INFO : worker thread finished; awaiting finish of 6 more threads\n",
      "2018-03-17 18:31:04,253 : INFO : worker thread finished; awaiting finish of 5 more threads\n",
      "2018-03-17 18:31:04,254 : INFO : worker thread finished; awaiting finish of 4 more threads\n",
      "2018-03-17 18:31:04,254 : INFO : worker thread finished; awaiting finish of 3 more threads\n",
      "2018-03-17 18:31:04,255 : INFO : worker thread finished; awaiting finish of 2 more threads\n",
      "2018-03-17 18:31:04,255 : INFO : worker thread finished; awaiting finish of 1 more threads\n",
      "2018-03-17 18:31:04,255 : INFO : worker thread finished; awaiting finish of 0 more threads\n",
      "2018-03-17 18:31:04,256 : INFO : EPOCH - 2 : training on 324 raw words (226 effective words) took 0.0s, 24942 effective words/s\n",
      "2018-03-17 18:31:04,266 : INFO : worker thread finished; awaiting finish of 7 more threads\n",
      "2018-03-17 18:31:04,267 : INFO : worker thread finished; awaiting finish of 6 more threads\n",
      "2018-03-17 18:31:04,268 : INFO : worker thread finished; awaiting finish of 5 more threads\n",
      "2018-03-17 18:31:04,268 : INFO : worker thread finished; awaiting finish of 4 more threads\n",
      "2018-03-17 18:31:04,269 : INFO : worker thread finished; awaiting finish of 3 more threads\n",
      "2018-03-17 18:31:04,269 : INFO : worker thread finished; awaiting finish of 2 more threads\n",
      "2018-03-17 18:31:04,270 : INFO : worker thread finished; awaiting finish of 1 more threads\n",
      "2018-03-17 18:31:04,270 : INFO : worker thread finished; awaiting finish of 0 more threads\n",
      "2018-03-17 18:31:04,271 : INFO : EPOCH - 3 : training on 324 raw words (232 effective words) took 0.0s, 24545 effective words/s\n",
      "2018-03-17 18:31:04,285 : INFO : worker thread finished; awaiting finish of 7 more threads\n",
      "2018-03-17 18:31:04,286 : INFO : worker thread finished; awaiting finish of 6 more threads\n",
      "2018-03-17 18:31:04,286 : INFO : worker thread finished; awaiting finish of 5 more threads\n",
      "2018-03-17 18:31:04,287 : INFO : worker thread finished; awaiting finish of 4 more threads\n",
      "2018-03-17 18:31:04,287 : INFO : worker thread finished; awaiting finish of 3 more threads\n",
      "2018-03-17 18:31:04,288 : INFO : worker thread finished; awaiting finish of 2 more threads\n",
      "2018-03-17 18:31:04,288 : INFO : worker thread finished; awaiting finish of 1 more threads\n",
      "2018-03-17 18:31:04,290 : INFO : worker thread finished; awaiting finish of 0 more threads\n",
      "2018-03-17 18:31:04,290 : INFO : EPOCH - 4 : training on 324 raw words (209 effective words) took 0.0s, 20450 effective words/s\n",
      "2018-03-17 18:31:04,298 : INFO : worker thread finished; awaiting finish of 7 more threads\n",
      "2018-03-17 18:31:04,299 : INFO : worker thread finished; awaiting finish of 6 more threads\n",
      "2018-03-17 18:31:04,299 : INFO : worker thread finished; awaiting finish of 5 more threads\n",
      "2018-03-17 18:31:04,300 : INFO : worker thread finished; awaiting finish of 4 more threads\n",
      "2018-03-17 18:31:04,300 : INFO : worker thread finished; awaiting finish of 3 more threads\n",
      "2018-03-17 18:31:04,301 : INFO : worker thread finished; awaiting finish of 2 more threads\n",
      "2018-03-17 18:31:04,301 : INFO : worker thread finished; awaiting finish of 1 more threads\n",
      "2018-03-17 18:31:04,302 : INFO : worker thread finished; awaiting finish of 0 more threads\n",
      "2018-03-17 18:31:04,302 : INFO : EPOCH - 5 : training on 324 raw words (216 effective words) took 0.0s, 23084 effective words/s\n",
      "2018-03-17 18:31:04,303 : INFO : training on a 1620 raw words (1107 effective words) took 0.1s, 14709 effective words/s\n",
      "2018-03-17 18:31:04,303 : WARNING : under 10 jobs per worker: consider setting a smaller `batch_words' for smoother alpha decay\n"
     ]
    },
    {
     "data": {
      "text/plain": [
       "(1107, 1620)"
      ]
     },
     "execution_count": 12,
     "metadata": {},
     "output_type": "execute_result"
    }
   ],
   "source": [
    "# train on new corpus\n",
    "model_text8.train(new_sentences, total_examples=len(list(new_sentences)), epochs=model_text8.iter)"
   ]
  },
  {
   "cell_type": "code",
   "execution_count": 13,
   "metadata": {
    "ExecuteTime": {
     "end_time": "2018-03-17T13:01:13.637299Z",
     "start_time": "2018-03-17T13:01:13.633852Z"
    }
   },
   "outputs": [
    {
     "name": "stdout",
     "output_type": "stream",
     "text": [
      "Vocabulary size: 71407\n",
      "Word embeddings matrix shape: (71407, 50)\n"
     ]
    }
   ],
   "source": [
    "# new vocabulary and embeddings matrix\n",
    "print('Vocabulary size: %d' % len(model_text8.wv.vocab))\n",
    "print('Word embeddings matrix shape: %s' % str(model_text8.wv.vectors.shape))"
   ]
  },
  {
   "cell_type": "markdown",
   "metadata": {},
   "source": [
    "## Similarities"
   ]
  },
  {
   "cell_type": "code",
   "execution_count": 14,
   "metadata": {
    "ExecuteTime": {
     "end_time": "2018-03-17T13:01:15.294743Z",
     "start_time": "2018-03-17T13:01:15.289133Z"
    }
   },
   "outputs": [
    {
     "name": "stdout",
     "output_type": "stream",
     "text": [
      "0.888437513979438\n",
      "0.1403110568806305\n"
     ]
    }
   ],
   "source": [
    "# get cosine similarity between words\n",
    "print(model_text8.wv.similarity('cat' , 'dog'))\n",
    "print(model_text8.wv.similarity('cat' , 'winter'))"
   ]
  },
  {
   "cell_type": "code",
   "execution_count": 15,
   "metadata": {
    "ExecuteTime": {
     "end_time": "2018-03-17T13:01:16.223392Z",
     "start_time": "2018-03-17T13:01:16.176052Z"
    }
   },
   "outputs": [
    {
     "name": "stderr",
     "output_type": "stream",
     "text": [
      "2018-03-17 18:31:16,179 : INFO : precomputing L2-norms of word weight vectors\n"
     ]
    },
    {
     "data": {
      "text/plain": [
       "[('winter', 0.899670422077179),\n",
       " ('spring', 0.8529752492904663),\n",
       " ('autumn', 0.8301669359207153),\n",
       " ('olympics', 0.7994884252548218),\n",
       " ('afternoon', 0.7345671653747559)]"
      ]
     },
     "execution_count": 15,
     "metadata": {},
     "output_type": "execute_result"
    }
   ],
   "source": [
    "# find the top-n most similar words\n",
    "model_text8.wv.similar_by_word('summer', topn=5)"
   ]
  },
  {
   "cell_type": "code",
   "execution_count": 16,
   "metadata": {
    "ExecuteTime": {
     "end_time": "2018-03-17T13:01:17.480300Z",
     "start_time": "2018-03-17T13:01:17.473988Z"
    }
   },
   "outputs": [
    {
     "data": {
      "text/plain": [
       "[('summer', 1.0),\n",
       " ('winter', 0.899670422077179),\n",
       " ('spring', 0.8529752492904663),\n",
       " ('autumn', 0.8301669359207153),\n",
       " ('olympics', 0.7994884252548218),\n",
       " ('afternoon', 0.7345670461654663)]"
      ]
     },
     "execution_count": 16,
     "metadata": {},
     "output_type": "execute_result"
    }
   ],
   "source": [
    "# find the top-n most similar words by vector.\n",
    "model_text8.wv.similar_by_vector(model_text8.wv['summer'], topn=6)"
   ]
  },
  {
   "cell_type": "markdown",
   "metadata": {},
   "source": [
    "<a id='exercise1'></a>\n",
    "### Exercise 1: (5-10 mins)\n",
    "Recollect the famous example - `king:queen :: man:?`\n",
    "\n",
    "`norm_vec(man) + norm_vec(queen) - norm_vec(king) = ?`\n",
    "\n",
    "Write a general function to find `wordX` in the relation `wordA:wordB :: wordC:wordX`, using the APIs introduced upto this point. Assume all words exist in the vocabulary."
   ]
  },
  {
   "cell_type": "code",
   "execution_count": 17,
   "metadata": {
    "ExecuteTime": {
     "end_time": "2018-03-17T13:01:22.281381Z",
     "start_time": "2018-03-17T13:01:22.278796Z"
    }
   },
   "outputs": [],
   "source": [
    "def find_analogy(model, wordA, wordB, wordC):\n",
    "    # complete this function\n",
    "    pass"
   ]
  },
  {
   "cell_type": "markdown",
   "metadata": {},
   "source": [
    "[Solution 1](#solution1)"
   ]
  },
  {
   "cell_type": "markdown",
   "metadata": {},
   "source": [
    "### Evaluating Word Analogies Task\n",
    "Word2vec training is an unsupervised task, there’s no good way to objectively evaluate the result. Evaluation depends on your end application.\n",
    "\n",
    "Google have released their testing set of about 20,000 syntactic and semantic test examples, following the “A is to B as C is to D” task: https://raw.githubusercontent.com/RaRe-Technologies/gensim/develop/gensim/test/test_data/questions-words.txt.\n",
    "\n",
    "Same technique can be used to evaluate the quality of word embeddings."
   ]
  },
  {
   "cell_type": "code",
   "execution_count": 18,
   "metadata": {
    "ExecuteTime": {
     "end_time": "2018-03-17T13:01:36.303601Z",
     "start_time": "2018-03-17T13:01:36.272352Z"
    }
   },
   "outputs": [
    {
     "name": "stderr",
     "output_type": "stream",
     "text": [
      "2018-03-17 18:31:36,300 : INFO : adding document #0 to Dictionary(0 unique tokens: [])\n",
      "2018-03-17 18:31:36,301 : INFO : built Dictionary(12 unique tokens: ['survey', 'computer', 'eps', 'response', 'user']...) from 9 documents (total 29 corpus positions)\n"
     ]
    }
   ],
   "source": [
    "from gensim.test.utils import datapath"
   ]
  },
  {
   "cell_type": "code",
   "execution_count": 19,
   "metadata": {
    "ExecuteTime": {
     "end_time": "2018-03-17T13:01:43.483063Z",
     "start_time": "2018-03-17T13:01:43.444697Z"
    }
   },
   "outputs": [],
   "source": [
    "def print_accuracy(model):\n",
    "    print('Evaluating...\\n')\n",
    "    # function to calculate accuracy on the word analogy task\n",
    "    path = datapath(\"questions-words.txt\")\n",
    "    acc = model.wv.accuracy(path)\n",
    "\n",
    "    sem_correct = sum((len(acc[i]['correct']) for i in range(5)))\n",
    "    sem_total = sum((len(acc[i]['correct']) + len(acc[i]['incorrect'])) for i in range(5))\n",
    "    sem_acc = 100*float(sem_correct)/sem_total\n",
    "    print('\\nSemantic: {:d}/{:d}, Accuracy: {:.2f}%'.format(sem_correct, sem_total, sem_acc))\n",
    "    \n",
    "    syn_correct = sum((len(acc[i]['correct']) for i in range(5, len(acc)-1)))\n",
    "    syn_total = sum((len(acc[i]['correct']) + len(acc[i]['incorrect'])) for i in range(5,len(acc)-1))\n",
    "    syn_acc = 100*float(syn_correct)/syn_total\n",
    "    print('Syntactic: {:d}/{:d}, Accuracy: {:.2f}%\\n'.format(syn_correct, syn_total, syn_acc))\n",
    "    return (sem_acc, syn_acc)"
   ]
  },
  {
   "cell_type": "code",
   "execution_count": 20,
   "metadata": {
    "ExecuteTime": {
     "end_time": "2018-03-17T13:02:23.484958Z",
     "start_time": "2018-03-17T13:01:47.725967Z"
    }
   },
   "outputs": [
    {
     "name": "stdout",
     "output_type": "stream",
     "text": [
      "Evaluating...\n",
      "\n"
     ]
    },
    {
     "name": "stderr",
     "output_type": "stream",
     "text": [
      "2018-03-17 18:31:49,307 : INFO : capital-common-countries: 22.7% (115/506)\n",
      "2018-03-17 18:31:53,456 : INFO : capital-world: 14.4% (209/1452)\n",
      "2018-03-17 18:31:54,281 : INFO : currency: 6.0% (16/268)\n",
      "2018-03-17 18:31:59,167 : INFO : city-in-state: 7.7% (121/1571)\n",
      "2018-03-17 18:32:00,076 : INFO : family: 71.6% (219/306)\n",
      "2018-03-17 18:32:02,257 : INFO : gram1-adjective-to-adverb: 9.0% (68/756)\n",
      "2018-03-17 18:32:03,161 : INFO : gram2-opposite: 11.4% (35/306)\n",
      "2018-03-17 18:32:06,714 : INFO : gram3-comparative: 51.0% (643/1260)\n",
      "2018-03-17 18:32:08,202 : INFO : gram4-superlative: 25.1% (127/506)\n",
      "2018-03-17 18:32:10,999 : INFO : gram5-present-participle: 23.3% (231/992)\n",
      "2018-03-17 18:32:14,907 : INFO : gram6-nationality-adjective: 38.4% (526/1371)\n",
      "2018-03-17 18:32:18,684 : INFO : gram7-past-tense: 17.9% (239/1332)\n",
      "2018-03-17 18:32:21,566 : INFO : gram8-plural: 33.0% (327/992)\n",
      "2018-03-17 18:32:23,450 : INFO : gram9-plural-verbs: 25.8% (168/650)\n",
      "2018-03-17 18:32:23,475 : INFO : total: 24.8% (3044/12268)\n"
     ]
    },
    {
     "name": "stdout",
     "output_type": "stream",
     "text": [
      "\n",
      "Semantic: 680/4103, Accuracy: 16.57%\n",
      "Syntactic: 2364/8165, Accuracy: 28.95%\n",
      "\n",
      "(16.57323909334633, 28.952847519902022)\n"
     ]
    }
   ],
   "source": [
    "print(print_accuracy(model_text8))"
   ]
  },
  {
   "cell_type": "markdown",
   "metadata": {},
   "source": [
    "<a id='exercise2'></a>\n",
    "### Exercise 2: (10 mins)\n",
    "\n",
    "Write a function to find the odd one out from 4 given words.\n",
    "\n",
    "E.g.: `input`: 'summer', 'winter', 'spring', 'cold'\n",
    "`output`: 'cold'\n",
    "\n",
    "Assume all words exist in the vocabulary.\n",
    "\n",
    "Hint:\n",
    "You could possibly make use of `model_text8.wv.cosine_similarities`. Look at its documentation."
   ]
  },
  {
   "cell_type": "code",
   "execution_count": 21,
   "metadata": {
    "ExecuteTime": {
     "end_time": "2018-03-17T13:02:26.814577Z",
     "start_time": "2018-03-17T13:02:26.812121Z"
    }
   },
   "outputs": [],
   "source": [
    "def oddword(words_list):\n",
    "    # complete code\n",
    "    pass"
   ]
  },
  {
   "cell_type": "markdown",
   "metadata": {},
   "source": [
    "[Solution 2](#solution2)"
   ]
  },
  {
   "cell_type": "markdown",
   "metadata": {},
   "source": [
    "## Saving/Loading model\n",
    "You can store/load models using the standard gensim methods, which uses pickle internally, optionally mmap‘ing the model’s internal large NumPy matrices into virtual memory directly from disk files, for inter-process memory sharing."
   ]
  },
  {
   "cell_type": "code",
   "execution_count": 28,
   "metadata": {
    "ExecuteTime": {
     "end_time": "2018-03-17T13:02:48.634389Z",
     "start_time": "2018-03-17T13:02:48.259006Z"
    }
   },
   "outputs": [
    {
     "name": "stderr",
     "output_type": "stream",
     "text": [
      "2018-03-17 18:32:48,261 : INFO : saving Word2Vec object under model_text8.gensim, separately None\n",
      "2018-03-17 18:32:48,263 : INFO : not storing attribute vectors_norm\n",
      "2018-03-17 18:32:48,266 : INFO : not storing attribute cum_table\n",
      "2018-03-17 18:32:48,632 : INFO : saved model_text8.gensim\n"
     ]
    }
   ],
   "source": [
    "model_text8.save('model_text8.gensim')"
   ]
  },
  {
   "cell_type": "code",
   "execution_count": 29,
   "metadata": {
    "ExecuteTime": {
     "end_time": "2018-03-17T13:02:49.717192Z",
     "start_time": "2018-03-17T13:02:49.235505Z"
    }
   },
   "outputs": [
    {
     "name": "stderr",
     "output_type": "stream",
     "text": [
      "2018-03-17 18:32:49,239 : INFO : loading Word2Vec object from model_text8.gensim\n",
      "2018-03-17 18:32:49,551 : INFO : loading wv recursively from model_text8.gensim.wv.* with mmap=None\n",
      "2018-03-17 18:32:49,553 : INFO : setting ignored attribute vectors_norm to None\n",
      "2018-03-17 18:32:49,555 : INFO : loading vocabulary recursively from model_text8.gensim.vocabulary.* with mmap=None\n",
      "2018-03-17 18:32:49,556 : INFO : loading trainables recursively from model_text8.gensim.trainables.* with mmap=None\n",
      "2018-03-17 18:32:49,556 : INFO : setting ignored attribute cum_table to None\n",
      "2018-03-17 18:32:49,557 : INFO : loaded model_text8.gensim\n"
     ]
    }
   ],
   "source": [
    "loaded_model = Word2Vec.load('model_text8.gensim')"
   ]
  },
  {
   "cell_type": "markdown",
   "metadata": {},
   "source": [
    "## Gensim-data\n",
    "Contains free datsets and models relevant to unsupervised text analysis. Link to the [repo](https://github.com/RaRe-Technologies/gensim-data).\n"
   ]
  },
  {
   "cell_type": "code",
   "execution_count": null,
   "metadata": {
    "ExecuteTime": {
     "end_time": "2018-03-13T15:45:15.792417Z",
     "start_time": "2018-03-13T15:45:11.040006Z"
    }
   },
   "outputs": [],
   "source": [
    "# Do not run, will take time to download and trin model. Code here is for showing example.\n",
    "text8_corpus = api.load('text8') \n",
    "w2v_model = Word2Vec(text8_corpus)  # train word2vec model on text8 corpus\n",
    "print(w2v_model.similarity('tree', 'leaf'))  # sanity check"
   ]
  },
  {
   "cell_type": "code",
   "execution_count": 30,
   "metadata": {
    "ExecuteTime": {
     "end_time": "2018-03-16T14:12:47.297882Z",
     "start_time": "2018-03-16T14:12:46.610232Z"
    }
   },
   "outputs": [],
   "source": [
    "data = api.info()"
   ]
  },
  {
   "cell_type": "code",
   "execution_count": 31,
   "metadata": {
    "ExecuteTime": {
     "end_time": "2018-03-16T14:12:47.303181Z",
     "start_time": "2018-03-16T14:12:47.299329Z"
    }
   },
   "outputs": [
    {
     "data": {
      "text/plain": [
       "dict_keys(['patent-2017', '__testing_multipart-matrix-synopsis', 'fake-news', 'text8', 'wiki-english-20171001', 'semeval-2016-2017-task3-subtaskBC', 'quora-duplicate-questions', '__testing_matrix-synopsis', 'semeval-2016-2017-task3-subtaskA-unannotated', '20-newsgroups'])"
      ]
     },
     "execution_count": 31,
     "metadata": {},
     "output_type": "execute_result"
    }
   ],
   "source": [
    "data['corpora'].keys()"
   ]
  },
  {
   "cell_type": "code",
   "execution_count": 32,
   "metadata": {
    "ExecuteTime": {
     "end_time": "2018-03-16T14:12:48.085679Z",
     "start_time": "2018-03-16T14:12:48.079737Z"
    }
   },
   "outputs": [
    {
     "data": {
      "text/plain": [
       "dict_keys(['fasttext-wiki-news-subwords-300', 'glove-wiki-gigaword-300', 'glove-twitter-25', 'glove-wiki-gigaword-200', 'word2vec-ruscorpora-300', 'glove-twitter-100', 'glove-twitter-50', 'glove-wiki-gigaword-50', 'conceptnet-numberbatch-17-06-300', 'glove-twitter-200', 'word2vec-google-news-300', '__testing_word2vec-matrix-synopsis', 'glove-wiki-gigaword-100'])"
      ]
     },
     "execution_count": 32,
     "metadata": {},
     "output_type": "execute_result"
    }
   ],
   "source": [
    "data['models'].keys()"
   ]
  },
  {
   "cell_type": "markdown",
   "metadata": {},
   "source": [
    "## Task - Movie Genre prediction\n",
    "Common scenario in businesses - classify texts into one of many classes.\n",
    "\n",
    "How do you move from `word embeddings` to calculating embeddings for higher units of text, say, sentences, paragraphs or documents.\n",
    "\n",
    "**Task:** Classify movies based on their plots into one of the 6 genres (action, animation, comedy, fantasy, romance, sci-fi).\n",
    "\n",
    "**Dataset:** We will use MovieLens dataset linked with plots from OMDB.  Thanks to [Sujit Pal](http://sujitpal.blogspot.in/2016/04/predicting-movie-tags-from-plots-using.html) for this linking idea. The prepared csv is in this repository. If you wish to link the datasets yourself - see the code in the blog.\n"
   ]
  },
  {
   "cell_type": "code",
   "execution_count": 30,
   "metadata": {
    "ExecuteTime": {
     "end_time": "2018-03-17T13:03:52.804490Z",
     "start_time": "2018-03-17T13:03:52.485162Z"
    }
   },
   "outputs": [
    {
     "name": "stderr",
     "output_type": "stream",
     "text": [
      "/encrypted/virtualenvironments/gensim_workshop_py3.5/lib/python3.5/site-packages/sklearn/cross_validation.py:41: DeprecationWarning: This module was deprecated in version 0.18 in favor of the model_selection module into which all the refactored classes and functions are moved. Also note that the interface of the new CV iterators are different from that of this module. This module will be removed in 0.20.\n",
      "  \"This module will be removed in 0.20.\", DeprecationWarning)\n"
     ]
    }
   ],
   "source": [
    "import operator\n",
    "from sklearn.pipeline import Pipeline\n",
    "from sklearn.svm import LinearSVC\n",
    "from sklearn.feature_extraction.text import CountVectorizer, TfidfVectorizer, TfidfTransformer\n",
    "from sklearn.cross_validation import cross_val_score, train_test_split\n",
    "from sklearn.metrics import confusion_matrix, accuracy_score\n",
    "import pandas as pd\n",
    "import matplotlib.pyplot as plt\n",
    "\n",
    "%matplotlib inline"
   ]
  },
  {
   "cell_type": "markdown",
   "metadata": {},
   "source": [
    "### Explore data"
   ]
  },
  {
   "cell_type": "code",
   "execution_count": 31,
   "metadata": {
    "ExecuteTime": {
     "end_time": "2018-03-17T13:03:53.889377Z",
     "start_time": "2018-03-17T13:03:53.863927Z"
    }
   },
   "outputs": [
    {
     "name": "stdout",
     "output_type": "stream",
     "text": [
      "Total number of words in the dataset: 171156\n"
     ]
    }
   ],
   "source": [
    "df = pd.read_csv('data/tagged_plots_movielens.csv')\n",
    "df = df.dropna()\n",
    "total_words = df['plot'].apply(lambda x: len(x.split(' '))).sum()\n",
    "print('Total number of words in the dataset: %d' % total_words)"
   ]
  },
  {
   "cell_type": "markdown",
   "metadata": {},
   "source": [
    "The dataset only contains **170k words**. It is quite small but makes sure we don't have to wait a long time for the code to complete."
   ]
  },
  {
   "cell_type": "code",
   "execution_count": 32,
   "metadata": {
    "ExecuteTime": {
     "end_time": "2018-03-17T13:03:54.992324Z",
     "start_time": "2018-03-17T13:03:54.984337Z"
    }
   },
   "outputs": [
    {
     "data": {
      "text/plain": [
       "Unnamed: 0    2427\n",
       "movieId       2427\n",
       "plot          2427\n",
       "tag           2427\n",
       "dtype: int64"
      ]
     },
     "execution_count": 32,
     "metadata": {},
     "output_type": "execute_result"
    }
   ],
   "source": [
    "df.count()"
   ]
  },
  {
   "cell_type": "code",
   "execution_count": 33,
   "metadata": {
    "ExecuteTime": {
     "end_time": "2018-03-17T13:03:56.027110Z",
     "start_time": "2018-03-17T13:03:55.900511Z"
    }
   },
   "outputs": [
    {
     "data": {
      "text/plain": [
       "<matplotlib.axes._subplots.AxesSubplot at 0x7fb7ad00f208>"
      ]
     },
     "execution_count": 33,
     "metadata": {},
     "output_type": "execute_result"
    },
    {
     "data": {
      "image/png": "[encoded data removed]",
      "text/plain": [
       "<Figure size 432x288 with 1 Axes>"
      ]
     },
     "metadata": {},
     "output_type": "display_data"
    }
   ],
   "source": [
    "df.tag.value_counts().plot(kind=\"bar\", rot=0)"
   ]
  },
  {
   "cell_type": "code",
   "execution_count": 34,
   "metadata": {
    "ExecuteTime": {
     "end_time": "2018-03-17T13:03:56.191726Z",
     "start_time": "2018-03-17T13:03:56.176488Z"
    }
   },
   "outputs": [
    {
     "data": {
      "text/plain": [
       "0.32138442521631644"
      ]
     },
     "execution_count": 34,
     "metadata": {},
     "output_type": "execute_result"
    }
   ],
   "source": [
    "float(df.tag.value_counts()['comedy']) / df.tag.value_counts().sum() "
   ]
  },
  {
   "cell_type": "markdown",
   "metadata": {},
   "source": [
    "Data has a skewed distribution among the classes. A dumb classifier that always predicts 'comedy' achieves an accuracy of **32%**."
   ]
  },
  {
   "cell_type": "code",
   "execution_count": 35,
   "metadata": {
    "ExecuteTime": {
     "end_time": "2018-03-17T13:03:58.099502Z",
     "start_time": "2018-03-17T13:03:58.069605Z"
    }
   },
   "outputs": [
    {
     "data": {
      "text/html": [
       "<div>\n",
       "<style scoped>\n",
       "    .dataframe tbody tr th:only-of-type {\n",
       "        vertical-align: middle;\n",
       "    }\n",
       "\n",
       "    .dataframe tbody tr th {\n",
       "        vertical-align: top;\n",
       "    }\n",
       "\n",
       "    .dataframe thead th {\n",
       "        text-align: right;\n",
       "    }\n",
       "</style>\n",
       "<table border=\"1\" class=\"dataframe\">\n",
       "  <thead>\n",
       "    <tr style=\"text-align: right;\">\n",
       "      <th></th>\n",
       "      <th>Unnamed: 0</th>\n",
       "      <th>movieId</th>\n",
       "      <th>plot</th>\n",
       "      <th>tag</th>\n",
       "    </tr>\n",
       "  </thead>\n",
       "  <tbody>\n",
       "    <tr>\n",
       "      <th>1509</th>\n",
       "      <td>1509</td>\n",
       "      <td>65230</td>\n",
       "      <td>A family learns important life lessons from their adorable, but naughty and neurotic dog.</td>\n",
       "      <td>comedy</td>\n",
       "    </tr>\n",
       "    <tr>\n",
       "      <th>1770</th>\n",
       "      <td>1770</td>\n",
       "      <td>83134</td>\n",
       "      <td>Tucker and Dale are on vacation at their dilapidated mountain cabin when they are attacked by a group of preppy college kids.</td>\n",
       "      <td>comedy</td>\n",
       "    </tr>\n",
       "    <tr>\n",
       "      <th>2428</th>\n",
       "      <td>2428</td>\n",
       "      <td>143245</td>\n",
       "      <td>From Mark Osborne comes the first-ever animated feature film adaptation of Antoine de Saint-Exupry's iconic masterpiece, The Little Prince. At the heart of it all is The Little Girl, who's being prepared by her mother for the very grown-up world in which they live - only to be interrupted by her eccentric, kind-hearted neighbor, The Aviator. The Aviator introduces his new friend to an extraordinary world where anything is possible. A world that he himself was initiated into long ago by The Little Prince. It's here that The Little Girl's magical and emotional journey into her own imagination - and into the universe of The Little Prince - begins. And it's where The Little Girl rediscovers her childhood and learns that ultimately, it's human connections that matter most, and that what's truly essential can only be seen with the heart.</td>\n",
       "      <td>animation</td>\n",
       "    </tr>\n",
       "    <tr>\n",
       "      <th>1709</th>\n",
       "      <td>1709</td>\n",
       "      <td>78893</td>\n",
       "      <td>Follows the adventures of Aang, a young successor to a long line of Avatars, who must master all four elements and stop the Fire Nation from enslaving the Water Tribes and the Earth Kingdom.</td>\n",
       "      <td>fantasy</td>\n",
       "    </tr>\n",
       "    <tr>\n",
       "      <th>1738</th>\n",
       "      <td>1738</td>\n",
       "      <td>80489</td>\n",
       "      <td>As he plans his next job, a longtime thief tries to balance his feelings for a bank manager connected to one of his earlier heists, as well as the FBI agent looking to bring him and his crew down.</td>\n",
       "      <td>action</td>\n",
       "    </tr>\n",
       "    <tr>\n",
       "      <th>1299</th>\n",
       "      <td>1299</td>\n",
       "      <td>48660</td>\n",
       "      <td>Based on Michel Houellebecq's controversial novel, this movie focuses on Michael and Bruno, two very different half-brothers and their disturbed sexuality. After a chaotic childhood with a hippie mother only caring for her affairs, Michael, a molecular biologist, is more interested in genes than women, while Bruno is obsessed with his sexual desires, but mostly finds his satisfaction with prostitutes. His pitiful life changes when he gets to know the experienced Christiane. In the meantime, Michael meets Annabelle, the love of his youth, again...</td>\n",
       "      <td>romance</td>\n",
       "    </tr>\n",
       "    <tr>\n",
       "      <th>1960</th>\n",
       "      <td>1960</td>\n",
       "      <td>96079</td>\n",
       "      <td>Bond's loyalty to M is tested when her past comes back to haunt her. Whilst MI6 comes under attack, 007 must track down and destroy the threat, no matter how personal the cost.</td>\n",
       "      <td>action</td>\n",
       "    </tr>\n",
       "    <tr>\n",
       "      <th>961</th>\n",
       "      <td>961</td>\n",
       "      <td>7254</td>\n",
       "      <td>Evan Treborn suffers blackouts during significant events of his life. As he grows up, he finds a way to remember these lost memories and a supernatural way to alter his life by reading his journal.</td>\n",
       "      <td>sci-fi</td>\n",
       "    </tr>\n",
       "    <tr>\n",
       "      <th>1175</th>\n",
       "      <td>1175</td>\n",
       "      <td>33794</td>\n",
       "      <td>After training with his mentor, Batman begins his war on crime to free the crime-ridden Gotham City from corruption that the Scarecrow and the League of Shadows have cast upon it.</td>\n",
       "      <td>action</td>\n",
       "    </tr>\n",
       "    <tr>\n",
       "      <th>918</th>\n",
       "      <td>918</td>\n",
       "      <td>6800</td>\n",
       "      <td>A gang of neo-fascist thugs, led by the self-proclaimed 'Night Slasher', are breaking into people's homes &amp; cars, then killing them at random. When of of these thugs holds up a food store &amp; takes hostages, Lt. Marian Cobretti - an intense, take-no-prisoners cop, is brought onto the scene to end the hostage-taking. Ranting bizarrely about a 'New World', the man levels a sawed-off shotgun at Cobretti, who hits him with a knife, then guns him down when the man refuses to put down his weapon. Later that night, another murder occurs, attributed to the Night Slasher - and the next day, another one. This one is witnessed by a young woman, Ingrid Knutsen. She drives away before the thugs can kill her, but it isn't long before some creepy-looking people start making attempts on her life - and Cobretti's. Cobretti plans to move the only witness to the blood spree upstate, but with inside information, the thugs follow them. And a battle for survival rages between Cobretti and the thugs...</td>\n",
       "      <td>action</td>\n",
       "    </tr>\n",
       "    <tr>\n",
       "      <th>1071</th>\n",
       "      <td>1071</td>\n",
       "      <td>25993</td>\n",
       "      <td>When churlish, spoiled rich man Bob Merrick foolishly wrecks his speed boat, the rescue team resuscitates him with equipment that's therefore unavailable to aid a local hero, Dr. Wayne Phillips, who dies as a result. Phillips had helped many people, and when Merrick learns Phillips' secret, to give selflessly and in secret, he tries it in a ham-handed way. The result further alienates Phillips' widow, Helen, with whom Merrick has fallen in love. Merrick's persistence causes another tragedy, and he must remake his life, including going back to medical school, in an attempt to make amends and win her love.</td>\n",
       "      <td>romance</td>\n",
       "    </tr>\n",
       "    <tr>\n",
       "      <th>422</th>\n",
       "      <td>422</td>\n",
       "      <td>2378</td>\n",
       "      <td>A group of good-hearted but incompetent misfits enter the police academy, but the instructors there are not going to put up with their pranks.</td>\n",
       "      <td>comedy</td>\n",
       "    </tr>\n",
       "    <tr>\n",
       "      <th>229</th>\n",
       "      <td>229</td>\n",
       "      <td>1244</td>\n",
       "      <td>Forty-two year old Isaac Davis has a romanticized view of his hometown, New York City, most specifically Manhattan, as channeled through the lead character in the first book he is writing, despite his own Manhattan-based life being more of a tragicomedy. He has just quit his job as a hack writer for a bad television comedy, he, beyond the ten second rush of endorphins during the actual act of quitting, now regretting the decision, especially as he isn't sure he can live off his book writing career. He is paying two alimonies, his second ex-wife, Jill Davis, a lesbian, who is writing her own tell-all book of their acrimonious split. The one somewhat positive aspect of his life is that he is dating a young woman named Tracy, although she is only seventeen and still in high school. Largely because of their differences a big part of which is due to their ages, he does not see a long term future with her. His life has the potential to be even more tragicomical when he meets journalist Mary Wilkie, the mistress of his best friend, college professor Yale Pollack. Although Isaac's first impression of Mary is that she is a pretentious intellectual, he falls for her. They do become friends with the potential of becoming more than just friends as she knows that being the \"other woman\" in Yale's life is not a long term role that she wants. An Isaac/Mary coupling may complicate matters even more with Yale being mutually in their lives. Regardless, Isaac may be able to rationalize events after they happen, no matter what those events are.</td>\n",
       "      <td>comedy</td>\n",
       "    </tr>\n",
       "    <tr>\n",
       "      <th>127</th>\n",
       "      <td>127</td>\n",
       "      <td>671</td>\n",
       "      <td>Mike Nelson and his robot companions watch and give their comments about This Island Earth (1955).</td>\n",
       "      <td>comedy</td>\n",
       "    </tr>\n",
       "    <tr>\n",
       "      <th>252</th>\n",
       "      <td>252</td>\n",
       "      <td>1346</td>\n",
       "      <td>The Cat People originated way back in time, when humans sacrificed their women to leopards, who mated with them. Cat People look similar to humans, but must mate with other Cat People before they transform into panthers. Irene Gallier was raised by adoptive parents and meets her older brother Paul for the first time since childhood. We follow brother and sister - who seem to be the only ones of their kind left.</td>\n",
       "      <td>fantasy</td>\n",
       "    </tr>\n",
       "    <tr>\n",
       "      <th>1786</th>\n",
       "      <td>1786</td>\n",
       "      <td>84942</td>\n",
       "      <td>John Milton is up against the clock: Jonah King, the leader of a Satanic cult, has murdered Milton's daughter and kidnapped her baby. In three days, King and his followers will sacrifice the child at midnight. Milton picks up the trail in Oklahoma as well as rescuing a waitress named Piper from her brutal, two-timing fianc. There are odd things about Milton: his driver's license is out of date, he has a very strange gun, and he's being pursued by a man in a suit who carries FBI ID and calls himself the Accountant. Piper, who's lived a life on the sidelines, has to piece things together on the fly as they close in on King.</td>\n",
       "      <td>fantasy</td>\n",
       "    </tr>\n",
       "    <tr>\n",
       "      <th>1860</th>\n",
       "      <td>1860</td>\n",
       "      <td>89904</td>\n",
       "      <td>Outside a movie premiere, enthusiastic fan Peppy Miller literally bumps into the swashbuckling hero of the silent film, George Valentin. The star reacts graciously and Peppy plants a kiss on his cheek as they are surrounded by photographers. The headlines demand: \"Who's That Girl?\" and Peppy is inspired to audition for a dancing bit-part at the studio. However as Peppy slowly rises through the industry, the introduction of talking-pictures turns Valentin's world upside-down.</td>\n",
       "      <td>romance</td>\n",
       "    </tr>\n",
       "    <tr>\n",
       "      <th>1336</th>\n",
       "      <td>1336</td>\n",
       "      <td>51931</td>\n",
       "      <td>A man who lost his family in the September 11 attack on New York City runs into his old college roommate. Rekindling the friendship is the one thing that appears able to help the man recover from his grief.</td>\n",
       "      <td>comedy</td>\n",
       "    </tr>\n",
       "    <tr>\n",
       "      <th>2095</th>\n",
       "      <td>2095</td>\n",
       "      <td>106032</td>\n",
       "      <td>In the early 1600's, Countess Elizabeth Bathory slaughtered more than 600 young women, believing if she bathed in the blood of virgins that she would stay young and beautiful forever. Still alive today, she's found a perfect hunting ground for her 'botox' as an abstinence educator in conservative America, and the young ladies of San Griento High are poised to be her next victims. But will her unholy ritual finally be stopped by Leah Ratliff, a feminist blogger and ambitious reporter for the school paper?</td>\n",
       "      <td>comedy</td>\n",
       "    </tr>\n",
       "    <tr>\n",
       "      <th>1981</th>\n",
       "      <td>1981</td>\n",
       "      <td>97648</td>\n",
       "      <td>Shahid Khan is exiled after impersonating the legendary Sultana Daku in order to rob British trains. Now outcast, Shahid becomes a worker at Ramadhir Singh's colliery, only to spur a revenge battle that passes on to generations. At the turn of the decade, Shahid's son, the philandering Sardar Khan vows to get his father's honor back, becoming the most feared man of Wasseypur.</td>\n",
       "      <td>action</td>\n",
       "    </tr>\n",
       "  </tbody>\n",
       "</table>\n",
       "</div>"
      ],
      "text/plain": [
       "      Unnamed: 0  movieId  \\\n",
       "1509  1509        65230     \n",
       "1770  1770        83134     \n",
       "2428  2428        143245    \n",
       "1709  1709        78893     \n",
       "1738  1738        80489     \n",
       "1299  1299        48660     \n",
       "1960  1960        96079     \n",
       "961   961         7254      \n",
       "1175  1175        33794     \n",
       "918   918         6800      \n",
       "1071  1071        25993     \n",
       "422   422         2378      \n",
       "229   229         1244      \n",
       "127   127         671       \n",
       "252   252         1346      \n",
       "1786  1786        84942     \n",
       "1860  1860        89904     \n",
       "1336  1336        51931     \n",
       "2095  2095        106032    \n",
       "1981  1981        97648     \n",
       "\n",
       "                                                                                                                                                                                                                                                                                                                                                                                                                                                                                                                                                                                                                                                                                                                                                                                                                                                                                                                                                                                                                                                                                                                                                                                                                                                                                                                                                                                                                                                                                                                                                                                                                plot  \\\n",
       "1509  A family learns important life lessons from their adorable, but naughty and neurotic dog.                                                                                                                                                                                                                                                                                                                                                                                                                                                                                                                                                                                                                                                                                                                                                                                                                                                                                                                                                                                                                                                                                                                                                                                                                                                                                                                                                                                                                                                                                                                        \n",
       "1770  Tucker and Dale are on vacation at their dilapidated mountain cabin when they are attacked by a group of preppy college kids.                                                                                                                                                                                                                                                                                                                                                                                                                                                                                                                                                                                                                                                                                                                                                                                                                                                                                                                                                                                                                                                                                                                                                                                                                                                                                                                                                                                                                                                                                    \n",
       "2428  From Mark Osborne comes the first-ever animated feature film adaptation of Antoine de Saint-Exupry's iconic masterpiece, The Little Prince. At the heart of it all is The Little Girl, who's being prepared by her mother for the very grown-up world in which they live - only to be interrupted by her eccentric, kind-hearted neighbor, The Aviator. The Aviator introduces his new friend to an extraordinary world where anything is possible. A world that he himself was initiated into long ago by The Little Prince. It's here that The Little Girl's magical and emotional journey into her own imagination - and into the universe of The Little Prince - begins. And it's where The Little Girl rediscovers her childhood and learns that ultimately, it's human connections that matter most, and that what's truly essential can only be seen with the heart.                                                                                                                                                                                                                                                                                                                                                                                                                                                                                                                                                                                                                                                                                                                                      \n",
       "1709  Follows the adventures of Aang, a young successor to a long line of Avatars, who must master all four elements and stop the Fire Nation from enslaving the Water Tribes and the Earth Kingdom.                                                                                                                                                                                                                                                                                                                                                                                                                                                                                                                                                                                                                                                                                                                                                                                                                                                                                                                                                                                                                                                                                                                                                                                                                                                                                                                                                                                                                   \n",
       "1738  As he plans his next job, a longtime thief tries to balance his feelings for a bank manager connected to one of his earlier heists, as well as the FBI agent looking to bring him and his crew down.                                                                                                                                                                                                                                                                                                                                                                                                                                                                                                                                                                                                                                                                                                                                                                                                                                                                                                                                                                                                                                                                                                                                                                                                                                                                                                                                                                                                             \n",
       "1299  Based on Michel Houellebecq's controversial novel, this movie focuses on Michael and Bruno, two very different half-brothers and their disturbed sexuality. After a chaotic childhood with a hippie mother only caring for her affairs, Michael, a molecular biologist, is more interested in genes than women, while Bruno is obsessed with his sexual desires, but mostly finds his satisfaction with prostitutes. His pitiful life changes when he gets to know the experienced Christiane. In the meantime, Michael meets Annabelle, the love of his youth, again...                                                                                                                                                                                                                                                                                                                                                                                                                                                                                                                                                                                                                                                                                                                                                                                                                                                                                                                                                                                                                                         \n",
       "1960  Bond's loyalty to M is tested when her past comes back to haunt her. Whilst MI6 comes under attack, 007 must track down and destroy the threat, no matter how personal the cost.                                                                                                                                                                                                                                                                                                                                                                                                                                                                                                                                                                                                                                                                                                                                                                                                                                                                                                                                                                                                                                                                                                                                                                                                                                                                                                                                                                                                                                 \n",
       "961   Evan Treborn suffers blackouts during significant events of his life. As he grows up, he finds a way to remember these lost memories and a supernatural way to alter his life by reading his journal.                                                                                                                                                                                                                                                                                                                                                                                                                                                                                                                                                                                                                                                                                                                                                                                                                                                                                                                                                                                                                                                                                                                                                                                                                                                                                                                                                                                                            \n",
       "1175  After training with his mentor, Batman begins his war on crime to free the crime-ridden Gotham City from corruption that the Scarecrow and the League of Shadows have cast upon it.                                                                                                                                                                                                                                                                                                                                                                                                                                                                                                                                                                                                                                                                                                                                                                                                                                                                                                                                                                                                                                                                                                                                                                                                                                                                                                                                                                                                                              \n",
       "918   A gang of neo-fascist thugs, led by the self-proclaimed 'Night Slasher', are breaking into people's homes & cars, then killing them at random. When of of these thugs holds up a food store & takes hostages, Lt. Marian Cobretti - an intense, take-no-prisoners cop, is brought onto the scene to end the hostage-taking. Ranting bizarrely about a 'New World', the man levels a sawed-off shotgun at Cobretti, who hits him with a knife, then guns him down when the man refuses to put down his weapon. Later that night, another murder occurs, attributed to the Night Slasher - and the next day, another one. This one is witnessed by a young woman, Ingrid Knutsen. She drives away before the thugs can kill her, but it isn't long before some creepy-looking people start making attempts on her life - and Cobretti's. Cobretti plans to move the only witness to the blood spree upstate, but with inside information, the thugs follow them. And a battle for survival rages between Cobretti and the thugs...                                                                                                                                                                                                                                                                                                                                                                                                                                                                                                                                                                                 \n",
       "1071  When churlish, spoiled rich man Bob Merrick foolishly wrecks his speed boat, the rescue team resuscitates him with equipment that's therefore unavailable to aid a local hero, Dr. Wayne Phillips, who dies as a result. Phillips had helped many people, and when Merrick learns Phillips' secret, to give selflessly and in secret, he tries it in a ham-handed way. The result further alienates Phillips' widow, Helen, with whom Merrick has fallen in love. Merrick's persistence causes another tragedy, and he must remake his life, including going back to medical school, in an attempt to make amends and win her love.                                                                                                                                                                                                                                                                                                                                                                                                                                                                                                                                                                                                                                                                                                                                                                                                                                                                                                                                                                              \n",
       "422   A group of good-hearted but incompetent misfits enter the police academy, but the instructors there are not going to put up with their pranks.                                                                                                                                                                                                                                                                                                                                                                                                                                                                                                                                                                                                                                                                                                                                                                                                                                                                                                                                                                                                                                                                                                                                                                                                                                                                                                                                                                                                                                                                   \n",
       "229   Forty-two year old Isaac Davis has a romanticized view of his hometown, New York City, most specifically Manhattan, as channeled through the lead character in the first book he is writing, despite his own Manhattan-based life being more of a tragicomedy. He has just quit his job as a hack writer for a bad television comedy, he, beyond the ten second rush of endorphins during the actual act of quitting, now regretting the decision, especially as he isn't sure he can live off his book writing career. He is paying two alimonies, his second ex-wife, Jill Davis, a lesbian, who is writing her own tell-all book of their acrimonious split. The one somewhat positive aspect of his life is that he is dating a young woman named Tracy, although she is only seventeen and still in high school. Largely because of their differences a big part of which is due to their ages, he does not see a long term future with her. His life has the potential to be even more tragicomical when he meets journalist Mary Wilkie, the mistress of his best friend, college professor Yale Pollack. Although Isaac's first impression of Mary is that she is a pretentious intellectual, he falls for her. They do become friends with the potential of becoming more than just friends as she knows that being the \"other woman\" in Yale's life is not a long term role that she wants. An Isaac/Mary coupling may complicate matters even more with Yale being mutually in their lives. Regardless, Isaac may be able to rationalize events after they happen, no matter what those events are.   \n",
       "127   Mike Nelson and his robot companions watch and give their comments about This Island Earth (1955).                                                                                                                                                                                                                                                                                                                                                                                                                                                                                                                                                                                                                                                                                                                                                                                                                                                                                                                                                                                                                                                                                                                                                                                                                                                                                                                                                                                                                                                                                                               \n",
       "252   The Cat People originated way back in time, when humans sacrificed their women to leopards, who mated with them. Cat People look similar to humans, but must mate with other Cat People before they transform into panthers. Irene Gallier was raised by adoptive parents and meets her older brother Paul for the first time since childhood. We follow brother and sister - who seem to be the only ones of their kind left.                                                                                                                                                                                                                                                                                                                                                                                                                                                                                                                                                                                                                                                                                                                                                                                                                                                                                                                                                                                                                                                                                                                                                                                   \n",
       "1786  John Milton is up against the clock: Jonah King, the leader of a Satanic cult, has murdered Milton's daughter and kidnapped her baby. In three days, King and his followers will sacrifice the child at midnight. Milton picks up the trail in Oklahoma as well as rescuing a waitress named Piper from her brutal, two-timing fianc. There are odd things about Milton: his driver's license is out of date, he has a very strange gun, and he's being pursued by a man in a suit who carries FBI ID and calls himself the Accountant. Piper, who's lived a life on the sidelines, has to piece things together on the fly as they close in on King.                                                                                                                                                                                                                                                                                                                                                                                                                                                                                                                                                                                                                                                                                                                                                                                                                                                                                                                                                            \n",
       "1860  Outside a movie premiere, enthusiastic fan Peppy Miller literally bumps into the swashbuckling hero of the silent film, George Valentin. The star reacts graciously and Peppy plants a kiss on his cheek as they are surrounded by photographers. The headlines demand: \"Who's That Girl?\" and Peppy is inspired to audition for a dancing bit-part at the studio. However as Peppy slowly rises through the industry, the introduction of talking-pictures turns Valentin's world upside-down.                                                                                                                                                                                                                                                                                                                                                                                                                                                                                                                                                                                                                                                                                                                                                                                                                                                                                                                                                                                                                                                                                                                  \n",
       "1336  A man who lost his family in the September 11 attack on New York City runs into his old college roommate. Rekindling the friendship is the one thing that appears able to help the man recover from his grief.                                                                                                                                                                                                                                                                                                                                                                                                                                                                                                                                                                                                                                                                                                                                                                                                                                                                                                                                                                                                                                                                                                                                                                                                                                                                                                                                                                                                   \n",
       "2095  In the early 1600's, Countess Elizabeth Bathory slaughtered more than 600 young women, believing if she bathed in the blood of virgins that she would stay young and beautiful forever. Still alive today, she's found a perfect hunting ground for her 'botox' as an abstinence educator in conservative America, and the young ladies of San Griento High are poised to be her next victims. But will her unholy ritual finally be stopped by Leah Ratliff, a feminist blogger and ambitious reporter for the school paper?                                                                                                                                                                                                                                                                                                                                                                                                                                                                                                                                                                                                                                                                                                                                                                                                                                                                                                                                                                                                                                                                                    \n",
       "1981  Shahid Khan is exiled after impersonating the legendary Sultana Daku in order to rob British trains. Now outcast, Shahid becomes a worker at Ramadhir Singh's colliery, only to spur a revenge battle that passes on to generations. At the turn of the decade, Shahid's son, the philandering Sardar Khan vows to get his father's honor back, becoming the most feared man of Wasseypur.                                                                                                                                                                                                                                                                                                                                                                                                                                                                                                                                                                                                                                                                                                                                                                                                                                                                                                                                                                                                                                                                                                                                                                                                                       \n",
       "\n",
       "            tag  \n",
       "1509  comedy     \n",
       "1770  comedy     \n",
       "2428  animation  \n",
       "1709  fantasy    \n",
       "1738  action     \n",
       "1299  romance    \n",
       "1960  action     \n",
       "961   sci-fi     \n",
       "1175  action     \n",
       "918   action     \n",
       "1071  romance    \n",
       "422   comedy     \n",
       "229   comedy     \n",
       "127   comedy     \n",
       "252   fantasy    \n",
       "1786  fantasy    \n",
       "1860  romance    \n",
       "1336  comedy     \n",
       "2095  comedy     \n",
       "1981  action     "
      ]
     },
     "execution_count": 35,
     "metadata": {},
     "output_type": "execute_result"
    }
   ],
   "source": [
    "pd.set_option('display.max_colwidth', -1)\n",
    "df.sample(20)"
   ]
  },
  {
   "cell_type": "code",
   "execution_count": 36,
   "metadata": {
    "ExecuteTime": {
     "end_time": "2018-03-17T13:04:03.382875Z",
     "start_time": "2018-03-17T13:04:03.379610Z"
    }
   },
   "outputs": [],
   "source": [
    "train_data, test_data = train_test_split(df, test_size=0.1, random_state=42)"
   ]
  },
  {
   "cell_type": "code",
   "execution_count": 37,
   "metadata": {
    "ExecuteTime": {
     "end_time": "2018-03-17T13:04:05.476810Z",
     "start_time": "2018-03-17T13:04:05.473925Z"
    }
   },
   "outputs": [
    {
     "name": "stdout",
     "output_type": "stream",
     "text": [
      "Number of training examples: 2184\n",
      "Number of tesing examples: 243\n"
     ]
    }
   ],
   "source": [
    "print('Number of training examples: %d' % len(train_data))\n",
    "print('Number of tesing examples: %d' % len(test_data))"
   ]
  },
  {
   "cell_type": "code",
   "execution_count": 38,
   "metadata": {
    "ExecuteTime": {
     "end_time": "2018-03-17T13:04:06.550580Z",
     "start_time": "2018-03-17T13:04:06.410882Z"
    }
   },
   "outputs": [
    {
     "data": {
      "image/png": "[encoded data removed]",
      "text/plain": [
       "<Figure size 432x288 with 1 Axes>"
      ]
     },
     "metadata": {},
     "output_type": "display_data"
    }
   ],
   "source": [
    "test_data.tag.value_counts().plot(kind=\"bar\", rot=0)\n",
    "my_tags = ['sci-fi' , 'action', 'comedy', 'fantasy', 'animation', 'romance']"
   ]
  },
  {
   "cell_type": "markdown",
   "metadata": {},
   "source": [
    "### Model Evaluation"
   ]
  },
  {
   "cell_type": "code",
   "execution_count": 39,
   "metadata": {
    "ExecuteTime": {
     "end_time": "2018-03-17T13:04:07.796715Z",
     "start_time": "2018-03-17T13:04:07.785165Z"
    }
   },
   "outputs": [],
   "source": [
    "def plot_confusion_matrix(cm, title='Confusion matrix', cmap=plt.cm.Blues):\n",
    "    plt.imshow(cm, interpolation='nearest', cmap=cmap)\n",
    "    plt.title(title)\n",
    "    plt.colorbar()\n",
    "    tick_marks = np.arange(len(my_tags))\n",
    "    target_names = my_tags\n",
    "    plt.xticks(tick_marks, target_names, rotation=45)\n",
    "    plt.yticks(tick_marks, target_names)\n",
    "    plt.tight_layout()\n",
    "    plt.ylabel('True label')\n",
    "    plt.xlabel('Predicted label')"
   ]
  },
  {
   "cell_type": "code",
   "execution_count": 40,
   "metadata": {
    "ExecuteTime": {
     "end_time": "2018-03-17T13:04:09.065989Z",
     "start_time": "2018-03-17T13:04:09.054192Z"
    }
   },
   "outputs": [],
   "source": [
    "def evaluate_prediction(predictions, target, title=\"Confusion matrix\"):\n",
    "    print('accuracy %s' % accuracy_score(target, predictions))\n",
    "    cm = confusion_matrix(target, predictions)\n",
    "    print('confusion matrix\\n %s' % cm)\n",
    "    print('(row=expected, col=predicted)')\n",
    "    \n",
    "    cm_normalized = cm.astype('float') / cm.sum(axis=1)[:, np.newaxis]\n",
    "    plot_confusion_matrix(cm_normalized, title + ' Normalized')"
   ]
  },
  {
   "cell_type": "markdown",
   "metadata": {
    "ExecuteTime": {
     "end_time": "2018-03-13T08:20:27.541210Z",
     "start_time": "2018-03-13T08:20:27.536076Z"
    }
   },
   "source": [
    "### Tokenize text"
   ]
  },
  {
   "cell_type": "code",
   "execution_count": 41,
   "metadata": {
    "ExecuteTime": {
     "end_time": "2018-03-17T13:04:11.187994Z",
     "start_time": "2018-03-17T13:04:11.184278Z"
    }
   },
   "outputs": [],
   "source": [
    "def custom_tokenize_text(text):\n",
    "    filters = [strip_punctuation, strip_numeric, strip_multiple_whitespaces, strip_short]\n",
    "    cleaned_words = [word for word in preprocess_string(text, filters=filters)]\n",
    "    if cleaned_words:\n",
    "        return cleaned_words"
   ]
  },
  {
   "cell_type": "markdown",
   "metadata": {},
   "source": [
    "### Prepare data"
   ]
  },
  {
   "cell_type": "code",
   "execution_count": 42,
   "metadata": {
    "ExecuteTime": {
     "end_time": "2018-03-17T13:04:12.849073Z",
     "start_time": "2018-03-17T13:04:12.679095Z"
    }
   },
   "outputs": [],
   "source": [
    "# prepare training data\n",
    "X_train = []\n",
    "y_train = []\n",
    "for plot, tag in train_data[['plot', 'tag']].values:\n",
    "    X_train.append(custom_tokenize_text(plot))\n",
    "    y_train.append(tag)\n",
    "X_train, y_train = np.array(X_train), np.array(y_train)"
   ]
  },
  {
   "cell_type": "code",
   "execution_count": 43,
   "metadata": {
    "ExecuteTime": {
     "end_time": "2018-03-17T13:04:14.046650Z",
     "start_time": "2018-03-17T13:04:14.043549Z"
    }
   },
   "outputs": [
    {
     "name": "stdout",
     "output_type": "stream",
     "text": [
      "2184 2184\n",
      "comedy\n",
      "['Turkish', 'and', 'his', 'close', 'friend', 'accomplice', 'Tommy', 'get', 'pulled', 'into', 'the', 'world', 'match', 'fixing', 'the', 'notorious', 'Brick', 'Top', 'Things', 'get', 'complicated', 'when', 'the', 'boxer', 'they', 'had', 'lined', 'gets', 'badly', 'beaten', 'Pitt', 'pikey', 'slang', 'for', 'Irish', 'Gypsy', 'who', 'comes', 'into', 'the', 'equation', 'after', 'Turkish', 'unlicensed', 'boxing', 'promoter', 'wants', 'buy', 'caravan', 'off', 'the', 'Irish', 'Gypsies', 'They', 'then', 'try', 'convince', 'Pitt', 'not', 'only', 'fight', 'for', 'them', 'but', 'lose', 'for', 'them', 'too', 'Whilst', 'all', 'this', 'going', 'huge', 'diamond', 'heist', 'takes', 'place', 'and', 'fistful', 'motley', 'characters', 'enter', 'the', 'story', 'including', 'Cousin', 'Avi', 'Boris', 'The', 'Blade', 'Franky', 'Four', 'Fingers', 'and', 'Bullet', 'Tooth', 'Tony', 'Things', 'from', 'bad', 'worse', 'all', 'becomes', 'about', 'the', 'money', 'the', 'guns', 'and', 'the', 'damned', 'dog']\n"
     ]
    }
   ],
   "source": [
    "print(len(X_train), len(y_train))\n",
    "print(y_train[0])\n",
    "print(X_train[0])"
   ]
  },
  {
   "cell_type": "code",
   "execution_count": 44,
   "metadata": {
    "ExecuteTime": {
     "end_time": "2018-03-17T13:04:19.788129Z",
     "start_time": "2018-03-17T13:04:19.762004Z"
    }
   },
   "outputs": [],
   "source": [
    "# prepare test data\n",
    "X_test = []\n",
    "y_test = []\n",
    "for plot, tag in test_data[['plot', 'tag']].values:\n",
    "    X_test.append(custom_tokenize_text(plot))\n",
    "    y_test.append(tag)\n",
    "X_test, y_test = np.array(X_test), np.array(y_test)"
   ]
  },
  {
   "cell_type": "code",
   "execution_count": 45,
   "metadata": {
    "ExecuteTime": {
     "end_time": "2018-03-17T13:04:20.155599Z",
     "start_time": "2018-03-17T13:04:20.150540Z"
    }
   },
   "outputs": [
    {
     "data": {
      "text/plain": [
       "(243, 243)"
      ]
     },
     "execution_count": 45,
     "metadata": {},
     "output_type": "execute_result"
    }
   ],
   "source": [
    "len(X_test), len(y_test)"
   ]
  },
  {
   "cell_type": "markdown",
   "metadata": {},
   "source": [
    "## Technique 1: Bag-of-Words(BoW) + Linear SVM"
   ]
  },
  {
   "cell_type": "markdown",
   "metadata": {},
   "source": [
    "### CountVectorizer"
   ]
  },
  {
   "cell_type": "code",
   "execution_count": 46,
   "metadata": {
    "ExecuteTime": {
     "end_time": "2018-03-17T13:04:22.041490Z",
     "start_time": "2018-03-17T13:04:22.031058Z"
    }
   },
   "outputs": [
    {
     "name": "stdout",
     "output_type": "stream",
     "text": [
      "[('brown', 0), ('dog', 1), ('fox', 2), ('jumped', 3), ('lazy', 4), ('over', 5), ('quick', 6), ('the', 7)]\n",
      "(1, 8)\n",
      "<class 'scipy.sparse.csr.csr_matrix'>\n",
      "[[1 1 1 1 1 1 1 2]]\n"
     ]
    }
   ],
   "source": [
    "from sklearn.feature_extraction.text import CountVectorizer\n",
    "# list of text documents\n",
    "text = [\"The quick brown fox jumped over the lazy dog.\"]\n",
    "# create the transform\n",
    "vectorizer = CountVectorizer()\n",
    "# tokenize and build vocab\n",
    "vectorizer.fit(text)\n",
    "# summarize\n",
    "print(sorted(vectorizer.vocabulary_.items(), key=operator.itemgetter(1)))\n",
    "# encode document\n",
    "vector = vectorizer.transform(text)\n",
    "# summarize encoded vector\n",
    "print(vector.shape)\n",
    "print(type(vector))\n",
    "print(vector.toarray())"
   ]
  },
  {
   "cell_type": "code",
   "execution_count": 47,
   "metadata": {
    "ExecuteTime": {
     "end_time": "2018-03-17T13:04:25.114332Z",
     "start_time": "2018-03-17T13:04:25.111708Z"
    }
   },
   "outputs": [],
   "source": [
    "bow_svc = Pipeline([(\"count_vectorizer\", CountVectorizer(analyzer=lambda x: x)), (\"linear_svc\", LinearSVC())])"
   ]
  },
  {
   "cell_type": "markdown",
   "metadata": {},
   "source": [
    "### Train classifier - Word Counts feature + Linear SVC"
   ]
  },
  {
   "cell_type": "code",
   "execution_count": 48,
   "metadata": {
    "ExecuteTime": {
     "end_time": "2018-03-17T13:04:26.564855Z",
     "start_time": "2018-03-17T13:04:26.375861Z"
    }
   },
   "outputs": [
    {
     "name": "stdout",
     "output_type": "stream",
     "text": [
      "CPU times: user 180 ms, sys: 4 ms, total: 184 ms\n",
      "Wall time: 182 ms\n"
     ]
    },
    {
     "data": {
      "text/plain": [
       "Pipeline(memory=None,\n",
       "     steps=[('count_vectorizer', CountVectorizer(analyzer=<function <lambda> at 0x7fb7acfc8ea0>, binary=False,\n",
       "        decode_error='strict', dtype=<class 'numpy.int64'>,\n",
       "        encoding='utf-8', input='content', lowercase=True, max_df=1.0,\n",
       "        max_features=None, min_df=1, ngram_range=(1, 1), prepro...ax_iter=1000,\n",
       "     multi_class='ovr', penalty='l2', random_state=None, tol=0.0001,\n",
       "     verbose=0))])"
      ]
     },
     "execution_count": 48,
     "metadata": {},
     "output_type": "execute_result"
    }
   ],
   "source": [
    "%%time\n",
    "bow_svc.fit(X_train, y_train)"
   ]
  },
  {
   "cell_type": "markdown",
   "metadata": {},
   "source": [
    "### Get predictions"
   ]
  },
  {
   "cell_type": "code",
   "execution_count": 49,
   "metadata": {
    "ExecuteTime": {
     "end_time": "2018-03-17T13:04:27.605570Z",
     "start_time": "2018-03-17T13:04:27.596347Z"
    }
   },
   "outputs": [],
   "source": [
    "y_pred_bow_svc = bow_svc.predict(X_test)"
   ]
  },
  {
   "cell_type": "code",
   "execution_count": 50,
   "metadata": {
    "ExecuteTime": {
     "end_time": "2018-03-17T13:04:28.189392Z",
     "start_time": "2018-03-17T13:04:28.033585Z"
    }
   },
   "outputs": [
    {
     "name": "stdout",
     "output_type": "stream",
     "text": [
      "accuracy 0.45267489711934156\n",
      "confusion matrix\n",
      " [[20  2 13  1  4  2]\n",
      " [ 5  9 12  2  2  1]\n",
      " [ 8  8 52  1 16  1]\n",
      " [ 2  2  4  4  1  3]\n",
      " [ 3  1 19  1  9  2]\n",
      " [ 5  3  7  1  1 16]]\n",
      "(row=expected, col=predicted)\n"
     ]
    },
    {
     "data": {
      "image/png": "[encoded data removed]",
      "text/plain": [
       "<Figure size 432x288 with 2 Axes>"
      ]
     },
     "metadata": {},
     "output_type": "display_data"
    }
   ],
   "source": [
    "evaluate_prediction(y_pred_bow_svc, y_test)"
   ]
  },
  {
   "cell_type": "markdown",
   "metadata": {},
   "source": [
    "Not bad - Bag of Words + Linear SVC shows more than 12-14% increase in accuracy compared to a classifier than always predicts comedy."
   ]
  },
  {
   "cell_type": "markdown",
   "metadata": {},
   "source": [
    "The next two techniques require a well trained word embeddings model. We use 'word2vec-google-news-300' (see description below).\n",
    "\n",
    "\n",
    "Vocabulary size: 3 million words.\n",
    "\n",
    "**Warning:** ~2 mins to load, takes 4 GB of RAM.\n",
    "\n",
    "In case this is a problem, you could limit the number of vectors that you read."
   ]
  },
  {
   "cell_type": "code",
   "execution_count": 51,
   "metadata": {
    "ExecuteTime": {
     "end_time": "2018-03-17T13:04:58.960366Z",
     "start_time": "2018-03-17T13:04:57.427307Z"
    }
   },
   "outputs": [
    {
     "data": {
      "text/plain": [
       "{'base_dataset': 'Google News (about 100 billion words)',\n",
       " 'checksum': 'a5e5354d40acb95f9ec66d5977d140ef',\n",
       " 'description': \"Pre-trained vectors trained on a part of the Google News dataset (about 100 billion words). The model contains 300-dimensional vectors for 3 million words and phrases. The phrases were obtained using a simple data-driven approach described in 'Distributed Representations of Words and Phrases and their Compositionality' (https://code.google.com/archive/p/word2vec/).\",\n",
       " 'file_name': 'word2vec-google-news-300.gz',\n",
       " 'file_size': 1743563840,\n",
       " 'license': 'not found',\n",
       " 'num_records': 3000000,\n",
       " 'parameters': {'dimension': 300},\n",
       " 'parts': 1,\n",
       " 'read_more': ['https://code.google.com/archive/p/word2vec/',\n",
       "  'https://arxiv.org/abs/1301.3781',\n",
       "  'https://arxiv.org/abs/1310.4546',\n",
       "  'https://www.microsoft.com/en-us/research/publication/linguistic-regularities-in-continuous-space-word-representations/?from=http%3A%2F%2Fresearch.microsoft.com%2Fpubs%2F189726%2Frvecs.pdf'],\n",
       " 'reader_code': 'https://github.com/RaRe-Technologies/gensim-data/releases/download/word2vec-google-news-300/__init__.py'}"
      ]
     },
     "execution_count": 51,
     "metadata": {},
     "output_type": "execute_result"
    }
   ],
   "source": [
    "api.info()['models']['word2vec-google-news-300']"
   ]
  },
  {
   "cell_type": "code",
   "execution_count": 53,
   "metadata": {
    "ExecuteTime": {
     "end_time": "2018-03-17T13:05:20.126890Z",
     "start_time": "2018-03-17T13:05:14.453596Z"
    }
   },
   "outputs": [
    {
     "name": "stderr",
     "output_type": "stream",
     "text": [
      "2018-03-17 18:35:14,829 : INFO : loading projection weights from /home/cva/gensim-data/word2vec-google-news-300/word2vec-google-news-300.gz\n",
      "2018-03-17 18:35:20,010 : INFO : loaded (200000, 300) matrix from /home/cva/gensim-data/word2vec-google-news-300/word2vec-google-news-300.gz\n"
     ]
    },
    {
     "name": "stdout",
     "output_type": "stream",
     "text": [
      "CPU times: user 5.16 s, sys: 145 ms, total: 5.3 s\n",
      "Wall time: 5.66 s\n"
     ]
    }
   ],
   "source": [
    "%%time\n",
    "path = api.load('word2vec-google-news-300', return_path=True)\n",
    "w2v_model = KeyedVectors.load_word2vec_format(path, binary=True, limit=200000)\n",
    "# you can load all vectors using one line\n",
    "# w2v_model = api.load('word2vec-google-news-300')"
   ]
  },
  {
   "cell_type": "code",
   "execution_count": 54,
   "metadata": {
    "ExecuteTime": {
     "end_time": "2018-03-17T13:05:26.388806Z",
     "start_time": "2018-03-17T13:05:24.971743Z"
    }
   },
   "outputs": [
    {
     "name": "stderr",
     "output_type": "stream",
     "text": [
      "2018-03-17 18:35:24,975 : INFO : precomputing L2-norms of word weight vectors\n"
     ]
    },
    {
     "name": "stdout",
     "output_type": "stream",
     "text": [
      "CPU times: user 1.41 s, sys: 53 µs, total: 1.41 s\n",
      "Wall time: 1.41 s\n"
     ]
    }
   ],
   "source": [
    "%%time\n",
    "w2v_model.init_sims(replace=True)"
   ]
  },
  {
   "cell_type": "markdown",
   "metadata": {},
   "source": [
    "## Technique 2: Average word embeddings + Linear SVM"
   ]
  },
  {
   "cell_type": "code",
   "execution_count": 55,
   "metadata": {
    "ExecuteTime": {
     "end_time": "2018-03-17T13:05:28.915416Z",
     "start_time": "2018-03-17T13:05:28.907960Z"
    }
   },
   "outputs": [],
   "source": [
    "class MeanEmbeddingVectorizer(object):\n",
    "    def __init__(self, word2vec):\n",
    "        self.word2vec = word2vec\n",
    "        self.dim = word2vec.vector_size\n",
    "    \n",
    "    def fit(self, X, y):\n",
    "        return self \n",
    "\n",
    "    def transform(self, X):\n",
    "        return np.array([\n",
    "            np.mean([self.word2vec[w] for w in words if w in self.word2vec] \n",
    "                    or [np.zeros(self.dim)], axis=0)\n",
    "            for words in X\n",
    "        ])"
   ]
  },
  {
   "cell_type": "code",
   "execution_count": 56,
   "metadata": {
    "ExecuteTime": {
     "end_time": "2018-03-17T13:05:29.563831Z",
     "start_time": "2018-03-17T13:05:29.556793Z"
    }
   },
   "outputs": [],
   "source": [
    "avg_wv_svc = Pipeline([(\"mean_embedding_vectorizer\", MeanEmbeddingVectorizer(w2v_model)), (\"linear_svc\", LinearSVC())])"
   ]
  },
  {
   "cell_type": "code",
   "execution_count": 57,
   "metadata": {
    "ExecuteTime": {
     "end_time": "2018-03-17T13:05:30.673387Z",
     "start_time": "2018-03-17T13:05:29.994559Z"
    }
   },
   "outputs": [
    {
     "data": {
      "text/plain": [
       "Pipeline(memory=None,\n",
       "     steps=[('mean_embedding_vectorizer', <__main__.MeanEmbeddingVectorizer object at 0x7fb7ac4e8400>), ('linear_svc', LinearSVC(C=1.0, class_weight=None, dual=True, fit_intercept=True,\n",
       "     intercept_scaling=1, loss='squared_hinge', max_iter=1000,\n",
       "     multi_class='ovr', penalty='l2', random_state=None, tol=0.0001,\n",
       "     verbose=0))])"
      ]
     },
     "execution_count": 57,
     "metadata": {},
     "output_type": "execute_result"
    }
   ],
   "source": [
    "avg_wv_svc.fit(X_train, y_train)"
   ]
  },
  {
   "cell_type": "code",
   "execution_count": 58,
   "metadata": {
    "ExecuteTime": {
     "end_time": "2018-03-17T13:05:30.977575Z",
     "start_time": "2018-03-17T13:05:30.929841Z"
    }
   },
   "outputs": [],
   "source": [
    "y_pred_avg_wv_svc = avg_wv_svc.predict(X_test)"
   ]
  },
  {
   "cell_type": "code",
   "execution_count": 59,
   "metadata": {
    "ExecuteTime": {
     "end_time": "2018-03-17T13:05:31.881788Z",
     "start_time": "2018-03-17T13:05:31.696887Z"
    }
   },
   "outputs": [
    {
     "name": "stdout",
     "output_type": "stream",
     "text": [
      "accuracy 0.5967078189300411\n",
      "confusion matrix\n",
      " [[26  1 12  0  1  2]\n",
      " [ 2 10 13  1  2  3]\n",
      " [ 4  0 77  0  4  1]\n",
      " [ 2  1  7  3  0  3]\n",
      " [ 2  0 21  1  9  2]\n",
      " [ 7  0  6  0  0 20]]\n",
      "(row=expected, col=predicted)\n"
     ]
    },
    {
     "data": {
      "image/png": "[encoded data removed]",
      "text/plain": [
       "<Figure size 432x288 with 2 Axes>"
      ]
     },
     "metadata": {},
     "output_type": "display_data"
    }
   ],
   "source": [
    "evaluate_prediction(y_pred_avg_wv_svc, y_test)"
   ]
  },
  {
   "cell_type": "markdown",
   "metadata": {},
   "source": [
    "We saw 2 techniques to classify texts. The results here do not indicate the best achievable performance using these techniques. Potential ways to increase the performance of these techniques is by using some other supervised classifier (instead of linear SVC) and ofcourse tuning the classifier."
   ]
  },
  {
   "cell_type": "markdown",
   "metadata": {},
   "source": [
    "## Are average word embeddings any good?\n",
    ">The prevailing view is that it lacks the ability to capture semantics of word sequences and is virtually useless for most purposes, unless combined with heavy machinery.\n",
    "\n",
    "While classification using simple word embeddings averaging may not be best model, it does provide a **decent baseline** on most tasks.\n",
    "\n",
    "There are several papers that challenge the above quoted view and point out the significant boost in accuracy (performing competitive to state-of-art) with small modifications to average word embeddings. These discussions are out of the scope this workshop. Below are a few link to some of the papers:\n",
    "- [\"Deep Unordered Composition Rivals Syntactic Methods for Text Classification\"](https://www.cs.umd.edu/~miyyer/pubs/2015_acl_dan.pdf)\n",
    "- [\"In Defense of Word Embedding for Generic Text Representation\"](https://www.semanticscholar.org/paper/In-Defense-of-Word-Embedding-for-Generic-Text-Repr-Lev-Klein/a0c098337a726274db31bc5ec67d17c29c5e7eae)\n",
    "- [\"All-but-the-Top: Simple and Effective Postprocessing for Word Representations\"](https://arxiv.org/pdf/1702.01417.pdf)\n",
    "- [\"A Simple But Tough-To-Beat Baseline For Sentence Embeddings\"](https://openreview.net/pdf?id=SyK00v5xx)\n"
   ]
  },
  {
   "cell_type": "markdown",
   "metadata": {},
   "source": [
    "## References\n",
    "A lot of the code used in this notebook as been picked up directly/modified from various other tutorials/blogs/notebooks. Thanks to all of you guys to help speed up the creation of this notebook.\n",
    "- https://github.com/RaRe-Technologies/movie-plots-by-genre/blob/master/Document%20classification%20with%20word%20embeddings%20tutorial.ipynb - Lev Konstantinovskiy.\n",
    "- http://sujitpal.blogspot.in/2016/04/predicting-movie-tags-from-plots-using.html - Sujit Pal.\n",
    "- http://nadbordrozd.github.io/blog/2016/05/20/text-classification-with-word2vec/ - Nadbor Drozd.\n",
    "- https://machinelearningmastery.com/prepare-text-data-machine-learning-scikit-learn/ - Jason Brownlee."
   ]
  },
  {
   "cell_type": "code",
   "execution_count": null,
   "metadata": {},
   "outputs": [],
   "source": []
  },
  {
   "cell_type": "code",
   "execution_count": null,
   "metadata": {},
   "outputs": [],
   "source": []
  },
  {
   "cell_type": "code",
   "execution_count": null,
   "metadata": {},
   "outputs": [],
   "source": []
  },
  {
   "cell_type": "markdown",
   "metadata": {},
   "source": [
    "# Appendix"
   ]
  },
  {
   "cell_type": "markdown",
   "metadata": {},
   "source": [
    "<a id='solution1'></a>\n",
    "### Solution to Exercise1"
   ]
  },
  {
   "cell_type": "code",
   "execution_count": 22,
   "metadata": {
    "ExecuteTime": {
     "end_time": "2018-03-17T13:02:36.709203Z",
     "start_time": "2018-03-17T13:02:36.697229Z"
    }
   },
   "outputs": [],
   "source": [
    "def find_analogy(model, wordA, wordB, wordC):\n",
    "    resultant_vector = model.wv.word_vec(wordB, use_norm=True) + model.wv.word_vec(wordC, use_norm=True) - model.wv.word_vec(wordA, use_norm=True)\n",
    "    return model.wv.similar_by_vector(resultant_vector, topn=5)"
   ]
  },
  {
   "cell_type": "code",
   "execution_count": 23,
   "metadata": {
    "ExecuteTime": {
     "end_time": "2018-03-17T13:02:37.226451Z",
     "start_time": "2018-03-17T13:02:37.212534Z"
    }
   },
   "outputs": [
    {
     "data": {
      "text/plain": [
       "[('man', 0.8756952285766602),\n",
       " ('woman', 0.8381981253623962),\n",
       " ('girl', 0.7609813809394836),\n",
       " ('lady', 0.6938247084617615),\n",
       " ('love', 0.6851938962936401)]"
      ]
     },
     "execution_count": 23,
     "metadata": {},
     "output_type": "execute_result"
    }
   ],
   "source": [
    "find_analogy(model_text8, 'king', 'man', 'queen')"
   ]
  },
  {
   "cell_type": "markdown",
   "metadata": {},
   "source": [
    "Are you surprised by the results? Why is 'woman' not the closest but it's rather 'man'. The explanation for this is a little out of scope of this tutorial. Have a look at this [video](https://www.coursera.org/learn/language-processing/lecture/lpSIA/word-analogies-without-magic-king-man-woman-queen) in case you are interested. "
   ]
  },
  {
   "cell_type": "code",
   "execution_count": 24,
   "metadata": {
    "ExecuteTime": {
     "end_time": "2018-03-17T13:02:39.602403Z",
     "start_time": "2018-03-17T13:02:39.595704Z"
    }
   },
   "outputs": [
    {
     "data": {
      "text/plain": [
       "[('woman', 0.8381981253623962),\n",
       " ('girl', 0.7609813809394836),\n",
       " ('lady', 0.6938247084617615)]"
      ]
     },
     "execution_count": 24,
     "metadata": {},
     "output_type": "execute_result"
    }
   ],
   "source": [
    "# a general `Gensim` API for the same purpose as exercise 1\n",
    "model_text8.wv.most_similar(positive=['man', 'queen'], negative=['king'], topn=3)"
   ]
  },
  {
   "cell_type": "markdown",
   "metadata": {},
   "source": [
    "[Back to Exercise 1](#exercise1)"
   ]
  },
  {
   "cell_type": "markdown",
   "metadata": {},
   "source": [
    "<a id='solution2'></a>\n",
    "### Solution to Exercise2"
   ]
  },
  {
   "cell_type": "code",
   "execution_count": 25,
   "metadata": {
    "ExecuteTime": {
     "end_time": "2018-03-17T13:02:43.574510Z",
     "start_time": "2018-03-17T13:02:43.569716Z"
    }
   },
   "outputs": [],
   "source": [
    "def oddword(words_list):\n",
    "    words_norm_vectors = np.array([model_text8.wv.word_vec(word, use_norm=True) for word in words_list])\n",
    "    vectors_mean = np.sum(words_norm_vectors, axis=0) / float(len(words_list))\n",
    "    odd_word_index = np.argsort(model_text8.wv.cosine_similarities(vectors_mean, words_norm_vectors))[0]\n",
    "    return words_list[odd_word_index]"
   ]
  },
  {
   "cell_type": "code",
   "execution_count": 26,
   "metadata": {
    "ExecuteTime": {
     "end_time": "2018-03-17T13:02:44.153844Z",
     "start_time": "2018-03-17T13:02:44.142755Z"
    }
   },
   "outputs": [
    {
     "data": {
      "text/plain": [
       "'cold'"
      ]
     },
     "execution_count": 26,
     "metadata": {},
     "output_type": "execute_result"
    }
   ],
   "source": [
    "oddword(['summer', 'winter', 'spring', 'cold'])"
   ]
  },
  {
   "cell_type": "code",
   "execution_count": 27,
   "metadata": {
    "ExecuteTime": {
     "end_time": "2018-03-17T13:02:44.622341Z",
     "start_time": "2018-03-17T13:02:44.613007Z"
    }
   },
   "outputs": [
    {
     "data": {
      "text/plain": [
       "'cold'"
      ]
     },
     "execution_count": 27,
     "metadata": {},
     "output_type": "execute_result"
    }
   ],
   "source": [
    "# a general `Gensim` API for the same purpose as exercise 2\n",
    "model_text8.wv.doesnt_match(['summer', 'winter', 'spring', 'cold'])"
   ]
  },
  {
   "cell_type": "markdown",
   "metadata": {},
   "source": [
    "[Back to Exercise 2](#exercise2)"
   ]
  },
  {
   "cell_type": "code",
   "execution_count": null,
   "metadata": {},
   "outputs": [],
   "source": []
  }
 ],
 "metadata": {
  "kernelspec": {
   "display_name": "Python 2",
   "language": "python",
   "name": "python2"
  },
  "language_info": {
   "codemirror_mode": {
    "name": "ipython",
    "version": 3
   },
   "file_extension": ".py",
   "mimetype": "text/x-python",
   "name": "python",
   "nbconvert_exporter": "python",
   "pygments_lexer": "ipython3",
   "version": "3.5.2"
  }
 },
 "nbformat": 4,
 "nbformat_minor": 2
}
