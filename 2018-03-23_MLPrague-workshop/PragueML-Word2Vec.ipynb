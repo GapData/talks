{
 "cells": [
  {
   "cell_type": "markdown",
   "metadata": {},
   "source": [
    "# ML Prague - Word Embeddings 1: Word2Vec & Application\n",
    "Objectives of this notebook:\n",
    "1. Demonstrate training/utilization of a `Word2Vec` model using `Gensim`.\n",
    "2. Familiarization with `Gensim` APIs.\n",
    "3. Application of word embeddings on a supervised text classification task."
   ]
  },
  {
   "cell_type": "markdown",
   "metadata": {},
   "source": [
    "### Requirements:\n",
    "- Python2.7\n",
    "- gensim\n",
    "- nltk\n",
    "- pandas\n",
    "- matplotlib\n",
    "- sklearn"
   ]
  },
  {
   "cell_type": "code",
   "execution_count": 1,
   "metadata": {
    "ExecuteTime": {
     "end_time": "2018-03-13T15:42:29.522702Z",
     "start_time": "2018-03-13T15:42:28.997208Z"
    }
   },
   "outputs": [],
   "source": [
    "# imports\n",
    "\n",
    "from __future__ import print_function\n",
    "import logging\n",
    "import gensim\n",
    "from gensim.models import Word2Vec\n",
    "from gensim.models.word2vec import Text8Corpus\n",
    "import gensim.downloader as api\n",
    "import numpy as np\n",
    "from collections import defaultdict\n",
    "from nltk.tokenize import word_tokenize\n",
    "import multiprocessing"
   ]
  },
  {
   "cell_type": "code",
   "execution_count": 2,
   "metadata": {
    "ExecuteTime": {
     "end_time": "2018-03-13T15:42:30.626641Z",
     "start_time": "2018-03-13T15:42:30.612816Z"
    }
   },
   "outputs": [
    {
     "data": {
      "text/plain": [
       "1"
      ]
     },
     "execution_count": 2,
     "metadata": {},
     "output_type": "execute_result"
    }
   ],
   "source": [
    "# ensure FAST_VERSION > 0 - would be painfully slow to train models otherwise.\n",
    "gensim.models.word2vec.FAST_VERSION"
   ]
  },
  {
   "cell_type": "code",
   "execution_count": 3,
   "metadata": {
    "ExecuteTime": {
     "end_time": "2018-03-13T15:42:31.529035Z",
     "start_time": "2018-03-13T15:42:31.522234Z"
    }
   },
   "outputs": [],
   "source": [
    "logging.basicConfig(format='%(asctime)s : %(levelname)s : %(message)s', level=logging.INFO)"
   ]
  },
  {
   "cell_type": "markdown",
   "metadata": {
    "ExecuteTime": {
     "end_time": "2018-03-11T14:35:02.829190Z",
     "start_time": "2018-03-11T14:35:02.826128Z"
    }
   },
   "source": [
    "## Training a `Word2Vec` model\n",
    "Train a Word2Vec model on `text8`."
   ]
  },
  {
   "cell_type": "markdown",
   "metadata": {},
   "source": [
    "### Input to model\n",
    "> Keeping the input as a Python built-in list is convenient, but can use up a lot of RAM when the input is large.\n",
    "> Gensim only requires that the input must provide sentences sequentially, when iterated over. No need to keep everything in RAM: we can provide one sentence, process it, forget it, load another sentence…\n",
    "\n",
    "The input to `Word2Vec` can be simply a list of lists of tokens, but for larger corpora, it is better to give it an iterable that streams the sentences directly from disk/network."
   ]
  },
  {
   "cell_type": "code",
   "execution_count": 4,
   "metadata": {
    "ExecuteTime": {
     "end_time": "2018-03-13T15:42:33.401317Z",
     "start_time": "2018-03-13T15:42:33.398998Z"
    }
   },
   "outputs": [],
   "source": [
    "# a memory-friendly iterator\n",
    "text8_corpus = Text8Corpus('./data/text8')"
   ]
  },
  {
   "cell_type": "code",
   "execution_count": 5,
   "metadata": {
    "ExecuteTime": {
     "end_time": "2018-03-13T15:43:22.373027Z",
     "start_time": "2018-03-13T15:42:37.353852Z"
    },
    "scrolled": true
   },
   "outputs": [
    {
     "name": "stderr",
     "output_type": "stream",
     "text": [
      "2018-03-13 21:12:37,355 : WARNING : consider setting layer size to a multiple of 4 for greater performance\n",
      "2018-03-13 21:12:37,356 : INFO : collecting all words and their counts\n",
      "2018-03-13 21:12:37,357 : INFO : PROGRESS: at sentence #0, processed 0 words, keeping 0 word types\n",
      "2018-03-13 21:12:40,823 : INFO : collected 253854 word types from a corpus of 17005207 raw words and 1701 sentences\n",
      "2018-03-13 21:12:40,824 : INFO : Loading a fresh vocabulary\n",
      "2018-03-13 21:12:41,044 : INFO : min_count=5 retains 71290 unique words (28% of original 253854, drops 182564)\n",
      "2018-03-13 21:12:41,045 : INFO : min_count=5 leaves 16718844 word corpus (98% of original 17005207, drops 286363)\n",
      "2018-03-13 21:12:41,195 : INFO : deleting the raw counts dictionary of 253854 items\n",
      "2018-03-13 21:12:41,200 : INFO : sample=0.001 downsamples 38 most-common words\n",
      "2018-03-13 21:12:41,201 : INFO : downsampling leaves estimated 12506280 word corpus (74.8% of prior 16718844)\n",
      "2018-03-13 21:12:41,378 : INFO : estimated required memory for 71290 words and 50 dimensions: 64161000 bytes\n",
      "2018-03-13 21:12:41,379 : INFO : resetting layer weights\n",
      "2018-03-13 21:12:41,918 : INFO : training model with 8 workers on 71290 vocabulary and 50 features, using sg=0 hs=0 sample=0.001 negative=5 window=5\n",
      "2018-03-13 21:12:42,927 : INFO : EPOCH 1 - PROGRESS: at 12.11% examples, 1495360 words/s, in_qsize 13, out_qsize 2\n",
      "2018-03-13 21:12:43,937 : INFO : EPOCH 1 - PROGRESS: at 25.10% examples, 1553663 words/s, in_qsize 14, out_qsize 1\n",
      "2018-03-13 21:12:44,940 : INFO : EPOCH 1 - PROGRESS: at 37.57% examples, 1559865 words/s, in_qsize 15, out_qsize 0\n",
      "2018-03-13 21:12:45,946 : INFO : EPOCH 1 - PROGRESS: at 50.26% examples, 1565918 words/s, in_qsize 15, out_qsize 0\n",
      "2018-03-13 21:12:46,952 : INFO : EPOCH 1 - PROGRESS: at 62.55% examples, 1559411 words/s, in_qsize 15, out_qsize 0\n",
      "2018-03-13 21:12:47,955 : INFO : EPOCH 1 - PROGRESS: at 75.25% examples, 1563284 words/s, in_qsize 15, out_qsize 0\n",
      "2018-03-13 21:12:48,957 : INFO : EPOCH 1 - PROGRESS: at 87.89% examples, 1563117 words/s, in_qsize 15, out_qsize 0\n",
      "2018-03-13 21:12:49,892 : INFO : worker thread finished; awaiting finish of 7 more threads\n",
      "2018-03-13 21:12:49,893 : INFO : worker thread finished; awaiting finish of 6 more threads\n",
      "2018-03-13 21:12:49,895 : INFO : worker thread finished; awaiting finish of 5 more threads\n",
      "2018-03-13 21:12:49,896 : INFO : worker thread finished; awaiting finish of 4 more threads\n",
      "2018-03-13 21:12:49,904 : INFO : worker thread finished; awaiting finish of 3 more threads\n",
      "2018-03-13 21:12:49,905 : INFO : worker thread finished; awaiting finish of 2 more threads\n",
      "2018-03-13 21:12:49,905 : INFO : worker thread finished; awaiting finish of 1 more threads\n",
      "2018-03-13 21:12:49,911 : INFO : worker thread finished; awaiting finish of 0 more threads\n",
      "2018-03-13 21:12:49,911 : INFO : EPOCH - 1 : training on 17005207 raw words (12505625 effective words) took 8.0s, 1565176 effective words/s\n",
      "2018-03-13 21:12:50,917 : INFO : EPOCH 2 - PROGRESS: at 12.35% examples, 1528307 words/s, in_qsize 16, out_qsize 0\n",
      "2018-03-13 21:12:51,918 : INFO : EPOCH 2 - PROGRESS: at 24.93% examples, 1550785 words/s, in_qsize 15, out_qsize 0\n",
      "2018-03-13 21:12:52,923 : INFO : EPOCH 2 - PROGRESS: at 37.57% examples, 1564463 words/s, in_qsize 15, out_qsize 0\n",
      "2018-03-13 21:12:53,923 : INFO : EPOCH 2 - PROGRESS: at 50.09% examples, 1566550 words/s, in_qsize 15, out_qsize 0\n",
      "2018-03-13 21:12:54,934 : INFO : EPOCH 2 - PROGRESS: at 61.49% examples, 1536602 words/s, in_qsize 16, out_qsize 1\n",
      "2018-03-13 21:12:55,945 : INFO : EPOCH 2 - PROGRESS: at 73.78% examples, 1534614 words/s, in_qsize 15, out_qsize 1\n",
      "2018-03-13 21:12:56,947 : INFO : EPOCH 2 - PROGRESS: at 86.13% examples, 1532674 words/s, in_qsize 15, out_qsize 2\n",
      "2018-03-13 21:12:57,956 : INFO : EPOCH 2 - PROGRESS: at 98.82% examples, 1536907 words/s, in_qsize 15, out_qsize 0\n",
      "2018-03-13 21:12:58,012 : INFO : worker thread finished; awaiting finish of 7 more threads\n",
      "2018-03-13 21:12:58,018 : INFO : worker thread finished; awaiting finish of 6 more threads\n",
      "2018-03-13 21:12:58,021 : INFO : worker thread finished; awaiting finish of 5 more threads\n",
      "2018-03-13 21:12:58,027 : INFO : worker thread finished; awaiting finish of 4 more threads\n",
      "2018-03-13 21:12:58,031 : INFO : worker thread finished; awaiting finish of 3 more threads\n",
      "2018-03-13 21:12:58,034 : INFO : worker thread finished; awaiting finish of 2 more threads\n",
      "2018-03-13 21:12:58,035 : INFO : worker thread finished; awaiting finish of 1 more threads\n",
      "2018-03-13 21:12:58,040 : INFO : worker thread finished; awaiting finish of 0 more threads\n",
      "2018-03-13 21:12:58,041 : INFO : EPOCH - 2 : training on 17005207 raw words (12506966 effective words) took 8.1s, 1538888 effective words/s\n",
      "2018-03-13 21:12:59,045 : INFO : EPOCH 3 - PROGRESS: at 12.05% examples, 1494476 words/s, in_qsize 15, out_qsize 0\n",
      "2018-03-13 21:13:00,053 : INFO : EPOCH 3 - PROGRESS: at 25.04% examples, 1554619 words/s, in_qsize 16, out_qsize 0\n",
      "2018-03-13 21:13:01,065 : INFO : EPOCH 3 - PROGRESS: at 37.68% examples, 1563028 words/s, in_qsize 14, out_qsize 2\n",
      "2018-03-13 21:13:02,069 : INFO : EPOCH 3 - PROGRESS: at 49.27% examples, 1534532 words/s, in_qsize 14, out_qsize 1\n",
      "2018-03-13 21:13:03,075 : INFO : EPOCH 3 - PROGRESS: at 61.73% examples, 1538684 words/s, in_qsize 15, out_qsize 0\n",
      "2018-03-13 21:13:04,082 : INFO : EPOCH 3 - PROGRESS: at 74.31% examples, 1543631 words/s, in_qsize 14, out_qsize 1\n",
      "2018-03-13 21:13:05,083 : INFO : EPOCH 3 - PROGRESS: at 86.83% examples, 1543791 words/s, in_qsize 16, out_qsize 0\n",
      "2018-03-13 21:13:06,093 : INFO : EPOCH 3 - PROGRESS: at 99.47% examples, 1545687 words/s, in_qsize 7, out_qsize 3\n",
      "2018-03-13 21:13:06,094 : INFO : worker thread finished; awaiting finish of 7 more threads\n",
      "2018-03-13 21:13:06,095 : INFO : worker thread finished; awaiting finish of 6 more threads\n",
      "2018-03-13 21:13:06,106 : INFO : worker thread finished; awaiting finish of 5 more threads\n",
      "2018-03-13 21:13:06,108 : INFO : worker thread finished; awaiting finish of 4 more threads\n",
      "2018-03-13 21:13:06,110 : INFO : worker thread finished; awaiting finish of 3 more threads\n",
      "2018-03-13 21:13:06,111 : INFO : worker thread finished; awaiting finish of 2 more threads\n",
      "2018-03-13 21:13:06,113 : INFO : worker thread finished; awaiting finish of 1 more threads\n",
      "2018-03-13 21:13:06,120 : INFO : worker thread finished; awaiting finish of 0 more threads\n",
      "2018-03-13 21:13:06,121 : INFO : EPOCH - 3 : training on 17005207 raw words (12506309 effective words) took 8.1s, 1548312 effective words/s\n",
      "2018-03-13 21:13:07,140 : INFO : EPOCH 4 - PROGRESS: at 11.99% examples, 1466632 words/s, in_qsize 11, out_qsize 4\n",
      "2018-03-13 21:13:08,149 : INFO : EPOCH 4 - PROGRESS: at 24.57% examples, 1514352 words/s, in_qsize 15, out_qsize 0\n",
      "2018-03-13 21:13:09,149 : INFO : EPOCH 4 - PROGRESS: at 37.15% examples, 1539659 words/s, in_qsize 13, out_qsize 0\n",
      "2018-03-13 21:13:10,165 : INFO : EPOCH 4 - PROGRESS: at 49.68% examples, 1541386 words/s, in_qsize 14, out_qsize 1\n",
      "2018-03-13 21:13:11,176 : INFO : EPOCH 4 - PROGRESS: at 61.85% examples, 1535421 words/s, in_qsize 15, out_qsize 0\n",
      "2018-03-13 21:13:12,180 : INFO : EPOCH 4 - PROGRESS: at 74.13% examples, 1535441 words/s, in_qsize 14, out_qsize 3\n",
      "2018-03-13 21:13:13,188 : INFO : EPOCH 4 - PROGRESS: at 86.71% examples, 1536313 words/s, in_qsize 14, out_qsize 1\n",
      "2018-03-13 21:13:14,193 : INFO : EPOCH 4 - PROGRESS: at 99.24% examples, 1538351 words/s, in_qsize 11, out_qsize 2\n",
      "2018-03-13 21:13:14,214 : INFO : worker thread finished; awaiting finish of 7 more threads\n",
      "2018-03-13 21:13:14,215 : INFO : worker thread finished; awaiting finish of 6 more threads\n",
      "2018-03-13 21:13:14,217 : INFO : worker thread finished; awaiting finish of 5 more threads\n",
      "2018-03-13 21:13:14,228 : INFO : worker thread finished; awaiting finish of 4 more threads\n",
      "2018-03-13 21:13:14,230 : INFO : worker thread finished; awaiting finish of 3 more threads\n",
      "2018-03-13 21:13:14,232 : INFO : worker thread finished; awaiting finish of 2 more threads\n",
      "2018-03-13 21:13:14,237 : INFO : worker thread finished; awaiting finish of 1 more threads\n",
      "2018-03-13 21:13:14,239 : INFO : worker thread finished; awaiting finish of 0 more threads\n",
      "2018-03-13 21:13:14,239 : INFO : EPOCH - 4 : training on 17005207 raw words (12506418 effective words) took 8.1s, 1541078 effective words/s\n"
     ]
    },
    {
     "name": "stderr",
     "output_type": "stream",
     "text": [
      "2018-03-13 21:13:15,248 : INFO : EPOCH 5 - PROGRESS: at 12.23% examples, 1514768 words/s, in_qsize 15, out_qsize 1\n",
      "2018-03-13 21:13:16,252 : INFO : EPOCH 5 - PROGRESS: at 24.81% examples, 1541752 words/s, in_qsize 15, out_qsize 0\n",
      "2018-03-13 21:13:17,253 : INFO : EPOCH 5 - PROGRESS: at 36.74% examples, 1531125 words/s, in_qsize 14, out_qsize 2\n",
      "2018-03-13 21:13:18,253 : INFO : EPOCH 5 - PROGRESS: at 48.97% examples, 1532004 words/s, in_qsize 15, out_qsize 0\n",
      "2018-03-13 21:13:19,254 : INFO : EPOCH 5 - PROGRESS: at 61.20% examples, 1532735 words/s, in_qsize 13, out_qsize 2\n",
      "2018-03-13 21:13:20,261 : INFO : EPOCH 5 - PROGRESS: at 73.72% examples, 1537284 words/s, in_qsize 15, out_qsize 0\n",
      "2018-03-13 21:13:21,261 : INFO : EPOCH 5 - PROGRESS: at 86.01% examples, 1534380 words/s, in_qsize 16, out_qsize 0\n",
      "2018-03-13 21:13:22,269 : INFO : EPOCH 5 - PROGRESS: at 98.53% examples, 1535843 words/s, in_qsize 16, out_qsize 0\n",
      "2018-03-13 21:13:22,341 : INFO : worker thread finished; awaiting finish of 7 more threads\n",
      "2018-03-13 21:13:22,355 : INFO : worker thread finished; awaiting finish of 6 more threads\n",
      "2018-03-13 21:13:22,361 : INFO : worker thread finished; awaiting finish of 5 more threads\n",
      "2018-03-13 21:13:22,362 : INFO : worker thread finished; awaiting finish of 4 more threads\n",
      "2018-03-13 21:13:22,363 : INFO : worker thread finished; awaiting finish of 3 more threads\n",
      "2018-03-13 21:13:22,363 : INFO : worker thread finished; awaiting finish of 2 more threads\n",
      "2018-03-13 21:13:22,365 : INFO : worker thread finished; awaiting finish of 1 more threads\n",
      "2018-03-13 21:13:22,369 : INFO : worker thread finished; awaiting finish of 0 more threads\n",
      "2018-03-13 21:13:22,370 : INFO : EPOCH - 5 : training on 17005207 raw words (12505955 effective words) took 8.1s, 1539278 effective words/s\n",
      "2018-03-13 21:13:22,370 : INFO : training on a 85026035 raw words (62531273 effective words) took 40.5s, 1545827 effective words/s\n"
     ]
    },
    {
     "name": "stdout",
     "output_type": "stream",
     "text": [
      "CPU times: user 2min 21s, sys: 667 ms, total: 2min 22s\n",
      "Wall time: 45 s\n"
     ]
    }
   ],
   "source": [
    "%%time\n",
    "# train a `Word2Vec` model on text8 corpus\n",
    "model_text8 = Word2Vec(text8_corpus, size=50, iter=5, workers=multiprocessing.cpu_count())"
   ]
  },
  {
   "cell_type": "code",
   "execution_count": 6,
   "metadata": {
    "ExecuteTime": {
     "end_time": "2018-03-13T15:43:24.288967Z",
     "start_time": "2018-03-13T15:43:24.285970Z"
    }
   },
   "outputs": [
    {
     "name": "stdout",
     "output_type": "stream",
     "text": [
      "Vocabulary size: 71290\n",
      "Word embeddings matrix shape: (71290, 50)\n"
     ]
    }
   ],
   "source": [
    "print('Vocabulary size: %d' % len(model_text8.wv.vocab))\n",
    "print('Word embeddings matrix shape: %s' % str(model_text8.wv.vectors.shape))"
   ]
  },
  {
   "cell_type": "code",
   "execution_count": 7,
   "metadata": {
    "ExecuteTime": {
     "end_time": "2018-03-13T15:43:25.102344Z",
     "start_time": "2018-03-13T15:43:25.097750Z"
    }
   },
   "outputs": [
    {
     "name": "stdout",
     "output_type": "stream",
     "text": [
      "(50,)\n",
      "[ 0.9714077   0.41633862 -1.8405143   2.8462236   2.1922705   1.6705432\n",
      " -1.4128091   1.6883986  -0.22915226 -0.6089448   0.7636123  -0.03612326\n",
      " -0.79976964  0.06739185 -3.9415495   0.05261845  0.17297673  1.4529318\n",
      " -1.0996907   2.5311146   2.5694537  -0.19454342  0.942085   -0.11740362\n",
      "  0.4774611   0.478353   -1.7112926  -1.2313077   1.9657023  -0.19825572\n",
      "  0.59867454  0.99526334  2.4318345   0.24153328  0.31855485  1.3313147\n",
      " -0.99823195 -0.22923392  0.10529979 -0.62430894  0.6144239  -1.3691924\n",
      "  1.3578664  -0.72764593 -1.1282007  -0.44288343  1.9190735   0.11720308\n",
      " -0.07578781 -1.6665267 ]\n",
      "[ 0.9714077   0.41633862 -1.8405143   2.8462236   2.1922705   1.6705432\n",
      " -1.4128091   1.6883986  -0.22915226 -0.6089448   0.7636123  -0.03612326\n",
      " -0.79976964  0.06739185 -3.9415495   0.05261845  0.17297673  1.4529318\n",
      " -1.0996907   2.5311146   2.5694537  -0.19454342  0.942085   -0.11740362\n",
      "  0.4774611   0.478353   -1.7112926  -1.2313077   1.9657023  -0.19825572\n",
      "  0.59867454  0.99526334  2.4318345   0.24153328  0.31855485  1.3313147\n",
      " -0.99823195 -0.22923392  0.10529979 -0.62430894  0.6144239  -1.3691924\n",
      "  1.3578664  -0.72764593 -1.1282007  -0.44288343  1.9190735   0.11720308\n",
      " -0.07578781 -1.6665267 ]\n"
     ]
    }
   ],
   "source": [
    "# get a word's vector\n",
    "print(model_text8.wv['cat'].shape)\n",
    "print(model_text8.wv['cat'])\n",
    "print(model_text8.wv.word_vec('cat', use_norm=False))"
   ]
  },
  {
   "cell_type": "code",
   "execution_count": 8,
   "metadata": {
    "ExecuteTime": {
     "end_time": "2018-03-13T15:43:26.180481Z",
     "start_time": "2018-03-13T15:43:26.138085Z"
    }
   },
   "outputs": [
    {
     "name": "stderr",
     "output_type": "stream",
     "text": [
      "2018-03-13 21:13:26,140 : INFO : precomputing L2-norms of word weight vectors\n"
     ]
    },
    {
     "name": "stdout",
     "output_type": "stream",
     "text": [
      "[ 0.10151868  0.04351021 -0.1923462   0.29744965  0.22910711  0.17458308\n",
      " -0.14764813  0.17644909 -0.02394796 -0.06363885  0.07980265 -0.00377513\n",
      " -0.08358134  0.0070429  -0.4119186   0.00549898  0.01807724  0.15184121\n",
      " -0.11492512  0.26451862  0.2685253  -0.02033111  0.09845427 -0.01226947\n",
      "  0.04989792  0.04999113 -0.17884167 -0.12867999  0.2054292  -0.02071906\n",
      "  0.06256554  0.10401176  0.25414318  0.02524186  0.03329114  0.1391314\n",
      " -0.10432199 -0.0239565   0.01100454 -0.06524451  0.06421146 -0.14308988\n",
      "  0.14190623 -0.07604393 -0.1179046  -0.04628432  0.20055617  0.01224852\n",
      " -0.00792034 -0.17416333]\n"
     ]
    }
   ],
   "source": [
    "# get a word's normalized vector\n",
    "model_text8.wv.init_sims()\n",
    "print(model_text8.wv.word_vec('cat', use_norm=True))"
   ]
  },
  {
   "cell_type": "markdown",
   "metadata": {},
   "source": [
    "## Online training\n",
    "Continue training on more corpus/data. The new corpus can have new vocabulary words."
   ]
  },
  {
   "cell_type": "code",
   "execution_count": 9,
   "metadata": {
    "ExecuteTime": {
     "end_time": "2018-03-13T15:43:27.144243Z",
     "start_time": "2018-03-13T15:43:27.121034Z"
    }
   },
   "outputs": [],
   "source": [
    "# Gensim only requires that the input must provide sentences sequentially, when iterated over.\n",
    "# yield one sentence (list of utf8 words) after another.\n",
    "class MySentences(object):\n",
    "    def __init__(self, filename):\n",
    "        self._fname = filename\n",
    "\n",
    "    def __iter__(self):\n",
    "        for line in open(self._fname, 'rb'):\n",
    "            cleaned_words = [word for word in word_tokenize(line.decode('utf-8')) if word.isalpha()]\n",
    "            if cleaned_words:\n",
    "                yield cleaned_words"
   ]
  },
  {
   "cell_type": "code",
   "execution_count": 10,
   "metadata": {
    "ExecuteTime": {
     "end_time": "2018-03-13T15:43:27.975460Z",
     "start_time": "2018-03-13T15:43:27.968675Z"
    }
   },
   "outputs": [],
   "source": [
    "new_sentences = MySentences('data/article-about-rare-words.txt')"
   ]
  },
  {
   "cell_type": "code",
   "execution_count": 11,
   "metadata": {
    "ExecuteTime": {
     "end_time": "2018-03-13T15:43:28.513142Z",
     "start_time": "2018-03-13T15:43:28.330108Z"
    }
   },
   "outputs": [
    {
     "name": "stderr",
     "output_type": "stream",
     "text": [
      "2018-03-13 21:13:28,331 : INFO : collecting all words and their counts\n",
      "2018-03-13 21:13:28,357 : INFO : PROGRESS: at sentence #0, processed 0 words, keeping 0 word types\n",
      "2018-03-13 21:13:28,366 : INFO : collected 327 word types from a corpus of 580 raw words and 45 sentences\n",
      "2018-03-13 21:13:28,366 : INFO : Updating model with new vocabulary\n",
      "2018-03-13 21:13:28,367 : INFO : New added 327 unique words (50% of original 654) and increased the count of 327 pre-existing words (50% of original 654)\n",
      "2018-03-13 21:13:28,370 : INFO : deleting the raw counts dictionary of 327 items\n",
      "2018-03-13 21:13:28,371 : INFO : sample=0.001 downsamples 108 most-common words\n",
      "2018-03-13 21:13:28,371 : INFO : downsampling leaves estimated 780 word corpus (134.5% of prior 580)\n",
      "2018-03-13 21:13:28,494 : INFO : estimated required memory for 654 words and 50 dimensions: 588600 bytes\n",
      "2018-03-13 21:13:28,495 : INFO : updating layer weights\n"
     ]
    }
   ],
   "source": [
    "# update vocabulary with new words (if any)\n",
    "model_text8.build_vocab(new_sentences, update=True, min_count=1)"
   ]
  },
  {
   "cell_type": "code",
   "execution_count": 12,
   "metadata": {
    "ExecuteTime": {
     "end_time": "2018-03-13T15:43:32.436559Z",
     "start_time": "2018-03-13T15:43:32.329743Z"
    }
   },
   "outputs": [
    {
     "name": "stderr",
     "output_type": "stream",
     "text": [
      "/encrypted/virtualenvironments/gensim_workshop_py3.6/lib/python3.6/site-packages/ipykernel_launcher.py:2: DeprecationWarning: Call to deprecated `iter` (Attribute will be removed in 4.0.0, use self.epochs instead).\n",
      "  \n",
      "2018-03-13 21:13:32,349 : WARNING : Effective 'alpha' higher than previous training cycles\n",
      "2018-03-13 21:13:32,349 : INFO : training model with 8 workers on 71367 vocabulary and 50 features, using sg=0 hs=0 sample=0.001 negative=5 window=5\n",
      "2018-03-13 21:13:32,361 : INFO : worker thread finished; awaiting finish of 7 more threads\n",
      "2018-03-13 21:13:32,361 : INFO : worker thread finished; awaiting finish of 6 more threads\n",
      "2018-03-13 21:13:32,362 : INFO : worker thread finished; awaiting finish of 5 more threads\n",
      "2018-03-13 21:13:32,362 : INFO : worker thread finished; awaiting finish of 4 more threads\n",
      "2018-03-13 21:13:32,363 : INFO : worker thread finished; awaiting finish of 3 more threads\n",
      "2018-03-13 21:13:32,363 : INFO : worker thread finished; awaiting finish of 2 more threads\n",
      "2018-03-13 21:13:32,364 : INFO : worker thread finished; awaiting finish of 1 more threads\n",
      "2018-03-13 21:13:32,364 : INFO : worker thread finished; awaiting finish of 0 more threads\n",
      "2018-03-13 21:13:32,365 : INFO : EPOCH - 1 : training on 580 raw words (391 effective words) took 0.0s, 31723 effective words/s\n",
      "2018-03-13 21:13:32,375 : INFO : worker thread finished; awaiting finish of 7 more threads\n",
      "2018-03-13 21:13:32,376 : INFO : worker thread finished; awaiting finish of 6 more threads\n",
      "2018-03-13 21:13:32,376 : INFO : worker thread finished; awaiting finish of 5 more threads\n",
      "2018-03-13 21:13:32,377 : INFO : worker thread finished; awaiting finish of 4 more threads\n",
      "2018-03-13 21:13:32,377 : INFO : worker thread finished; awaiting finish of 3 more threads\n",
      "2018-03-13 21:13:32,378 : INFO : worker thread finished; awaiting finish of 2 more threads\n",
      "2018-03-13 21:13:32,378 : INFO : worker thread finished; awaiting finish of 1 more threads\n",
      "2018-03-13 21:13:32,379 : INFO : worker thread finished; awaiting finish of 0 more threads\n",
      "2018-03-13 21:13:32,379 : INFO : EPOCH - 2 : training on 580 raw words (385 effective words) took 0.0s, 33469 effective words/s\n",
      "2018-03-13 21:13:32,393 : INFO : worker thread finished; awaiting finish of 7 more threads\n",
      "2018-03-13 21:13:32,394 : INFO : worker thread finished; awaiting finish of 6 more threads\n",
      "2018-03-13 21:13:32,394 : INFO : worker thread finished; awaiting finish of 5 more threads\n",
      "2018-03-13 21:13:32,395 : INFO : worker thread finished; awaiting finish of 4 more threads\n",
      "2018-03-13 21:13:32,395 : INFO : worker thread finished; awaiting finish of 3 more threads\n",
      "2018-03-13 21:13:32,396 : INFO : worker thread finished; awaiting finish of 2 more threads\n",
      "2018-03-13 21:13:32,396 : INFO : worker thread finished; awaiting finish of 1 more threads\n",
      "2018-03-13 21:13:32,397 : INFO : worker thread finished; awaiting finish of 0 more threads\n",
      "2018-03-13 21:13:32,398 : INFO : EPOCH - 3 : training on 580 raw words (411 effective words) took 0.0s, 28178 effective words/s\n",
      "2018-03-13 21:13:32,412 : INFO : worker thread finished; awaiting finish of 7 more threads\n",
      "2018-03-13 21:13:32,413 : INFO : worker thread finished; awaiting finish of 6 more threads\n",
      "2018-03-13 21:13:32,413 : INFO : worker thread finished; awaiting finish of 5 more threads\n",
      "2018-03-13 21:13:32,414 : INFO : worker thread finished; awaiting finish of 4 more threads\n",
      "2018-03-13 21:13:32,414 : INFO : worker thread finished; awaiting finish of 3 more threads\n",
      "2018-03-13 21:13:32,415 : INFO : worker thread finished; awaiting finish of 2 more threads\n",
      "2018-03-13 21:13:32,415 : INFO : worker thread finished; awaiting finish of 1 more threads\n",
      "2018-03-13 21:13:32,415 : INFO : worker thread finished; awaiting finish of 0 more threads\n",
      "2018-03-13 21:13:32,416 : INFO : EPOCH - 4 : training on 580 raw words (391 effective words) took 0.0s, 34897 effective words/s\n",
      "2018-03-13 21:13:32,426 : INFO : worker thread finished; awaiting finish of 7 more threads\n",
      "2018-03-13 21:13:32,426 : INFO : worker thread finished; awaiting finish of 6 more threads\n",
      "2018-03-13 21:13:32,427 : INFO : worker thread finished; awaiting finish of 5 more threads\n",
      "2018-03-13 21:13:32,429 : INFO : worker thread finished; awaiting finish of 4 more threads\n",
      "2018-03-13 21:13:32,429 : INFO : worker thread finished; awaiting finish of 3 more threads\n",
      "2018-03-13 21:13:32,430 : INFO : worker thread finished; awaiting finish of 2 more threads\n",
      "2018-03-13 21:13:32,431 : INFO : worker thread finished; awaiting finish of 1 more threads\n",
      "2018-03-13 21:13:32,431 : INFO : worker thread finished; awaiting finish of 0 more threads\n",
      "2018-03-13 21:13:32,432 : INFO : EPOCH - 5 : training on 580 raw words (391 effective words) took 0.0s, 29181 effective words/s\n",
      "2018-03-13 21:13:32,433 : INFO : training on a 2900 raw words (1969 effective words) took 0.1s, 23790 effective words/s\n",
      "2018-03-13 21:13:32,433 : WARNING : under 10 jobs per worker: consider setting a smaller `batch_words' for smoother alpha decay\n"
     ]
    },
    {
     "data": {
      "text/plain": [
       "(1969, 2900)"
      ]
     },
     "execution_count": 12,
     "metadata": {},
     "output_type": "execute_result"
    }
   ],
   "source": [
    "# train on new corpus\n",
    "model_text8.train(new_sentences, total_examples=len(list(new_sentences)), epochs=model_text8.iter)"
   ]
  },
  {
   "cell_type": "code",
   "execution_count": 13,
   "metadata": {
    "ExecuteTime": {
     "end_time": "2018-03-13T15:43:34.477132Z",
     "start_time": "2018-03-13T15:43:34.466057Z"
    }
   },
   "outputs": [
    {
     "name": "stdout",
     "output_type": "stream",
     "text": [
      "Vocabulary size: 71367\n",
      "Word embeddings matrix shape: (71367, 50)\n"
     ]
    }
   ],
   "source": [
    "# new vocabulary and embeddings matrix\n",
    "print('Vocabulary size: %d' % len(model_text8.wv.vocab))\n",
    "print('Word embeddings matrix shape: %s' % str(model_text8.wv.vectors.shape))"
   ]
  },
  {
   "cell_type": "markdown",
   "metadata": {},
   "source": [
    "## Similarities"
   ]
  },
  {
   "cell_type": "code",
   "execution_count": 14,
   "metadata": {
    "ExecuteTime": {
     "end_time": "2018-03-13T15:43:35.780940Z",
     "start_time": "2018-03-13T15:43:35.777639Z"
    }
   },
   "outputs": [
    {
     "name": "stdout",
     "output_type": "stream",
     "text": [
      "0.8665441498040105\n",
      "0.11857192086328366\n"
     ]
    }
   ],
   "source": [
    "# get cosine similarity between words\n",
    "print(model_text8.wv.similarity('cat' , 'dog'))\n",
    "print(model_text8.wv.similarity('cat' , 'winter'))"
   ]
  },
  {
   "cell_type": "code",
   "execution_count": 15,
   "metadata": {
    "ExecuteTime": {
     "end_time": "2018-03-13T15:43:36.943927Z",
     "start_time": "2018-03-13T15:43:36.902177Z"
    }
   },
   "outputs": [
    {
     "name": "stderr",
     "output_type": "stream",
     "text": [
      "2018-03-13 21:13:36,903 : INFO : precomputing L2-norms of word weight vectors\n"
     ]
    },
    {
     "data": {
      "text/plain": [
       "[('winter', 0.9104300737380981),\n",
       " ('spring', 0.8743746876716614),\n",
       " ('autumn', 0.8470879197120667),\n",
       " ('olympics', 0.7619882822036743),\n",
       " ('afternoon', 0.7474640011787415)]"
      ]
     },
     "execution_count": 15,
     "metadata": {},
     "output_type": "execute_result"
    }
   ],
   "source": [
    "# find the top-n most similar words\n",
    "model_text8.wv.similar_by_word('summer', topn=5)"
   ]
  },
  {
   "cell_type": "code",
   "execution_count": 16,
   "metadata": {
    "ExecuteTime": {
     "end_time": "2018-03-13T15:43:38.377031Z",
     "start_time": "2018-03-13T15:43:38.366267Z"
    }
   },
   "outputs": [
    {
     "data": {
      "text/plain": [
       "[('summer', 1.0000001192092896),\n",
       " ('winter', 0.9104300737380981),\n",
       " ('spring', 0.8743746876716614),\n",
       " ('autumn', 0.8470878005027771),\n",
       " ('olympics', 0.7619882822036743),\n",
       " ('afternoon', 0.7474640011787415)]"
      ]
     },
     "execution_count": 16,
     "metadata": {},
     "output_type": "execute_result"
    }
   ],
   "source": [
    "# find the top-n most similar words by vector.\n",
    "model_text8.wv.similar_by_vector(model_text8.wv['summer'], topn=6)"
   ]
  },
  {
   "cell_type": "markdown",
   "metadata": {},
   "source": [
    "<a id='exercise1'></a>\n",
    "### Exercise 1: (5-10 mins)\n",
    "Recollect the famous example - `king:queen :: man:?`\n",
    "\n",
    "`norm_vec(man) + norm_vec(queen) - norm_vec(king) = ?`\n",
    "\n",
    "Write a general function to find `wordX` in the relation `wordA:wordB :: wordC:wordX`, using the APIs introduced upto this point. Assume all words exist in the vocabulary."
   ]
  },
  {
   "cell_type": "markdown",
   "metadata": {},
   "source": [
    "[Solution 1](#solution1)"
   ]
  },
  {
   "cell_type": "markdown",
   "metadata": {},
   "source": [
    "### Evaluating Word Anologies Task\n",
    "Word2vec training is an unsupervised task, there’s no good way to objectively evaluate the result. Evaluation depends on your end application.\n",
    "\n",
    "Google have released their testing set of about 20,000 syntactic and semantic test examples, following the “A is to B as C is to D” task: https://raw.githubusercontent.com/RaRe-Technologies/gensim/develop/gensim/test/test_data/questions-words.txt.\n",
    "\n",
    "Same technique can be used to evaluate the quality of word embeddings."
   ]
  },
  {
   "cell_type": "code",
   "execution_count": 17,
   "metadata": {
    "ExecuteTime": {
     "end_time": "2018-03-13T15:43:52.325563Z",
     "start_time": "2018-03-13T15:43:52.310065Z"
    }
   },
   "outputs": [],
   "source": [
    "def print_accuracy(model, questions_file):\n",
    "    print('Evaluating...\\n')\n",
    "    # function to calculate accuracy on the word anology task\n",
    "    acc = model.wv.accuracy(questions_file)\n",
    "\n",
    "    sem_correct = sum((len(acc[i]['correct']) for i in range(5)))\n",
    "    sem_total = sum((len(acc[i]['correct']) + len(acc[i]['incorrect'])) for i in range(5))\n",
    "    sem_acc = 100*float(sem_correct)/sem_total\n",
    "    print('\\nSemantic: {:d}/{:d}, Accuracy: {:.2f}%'.format(sem_correct, sem_total, sem_acc))\n",
    "    \n",
    "    syn_correct = sum((len(acc[i]['correct']) for i in range(5, len(acc)-1)))\n",
    "    syn_total = sum((len(acc[i]['correct']) + len(acc[i]['incorrect'])) for i in range(5,len(acc)-1))\n",
    "    syn_acc = 100*float(syn_correct)/syn_total\n",
    "    print('Syntactic: {:d}/{:d}, Accuracy: {:.2f}%\\n'.format(syn_correct, syn_total, syn_acc))\n",
    "    return (sem_acc, syn_acc)"
   ]
  },
  {
   "cell_type": "code",
   "execution_count": 18,
   "metadata": {
    "ExecuteTime": {
     "end_time": "2018-03-13T15:44:29.261412Z",
     "start_time": "2018-03-13T15:43:53.083214Z"
    }
   },
   "outputs": [
    {
     "name": "stdout",
     "output_type": "stream",
     "text": [
      "Evaluating...\n",
      "\n"
     ]
    },
    {
     "name": "stderr",
     "output_type": "stream",
     "text": [
      "2018-03-13 21:13:54,698 : INFO : capital-common-countries: 23.3% (118/506)\n",
      "2018-03-13 21:13:58,996 : INFO : capital-world: 15.1% (219/1452)\n",
      "2018-03-13 21:13:59,791 : INFO : currency: 8.2% (22/268)\n",
      "2018-03-13 21:14:04,314 : INFO : city-in-state: 7.4% (117/1571)\n",
      "2018-03-13 21:14:05,239 : INFO : family: 63.7% (195/306)\n",
      "2018-03-13 21:14:07,469 : INFO : gram1-adjective-to-adverb: 8.6% (65/756)\n",
      "2018-03-13 21:14:08,385 : INFO : gram2-opposite: 13.7% (42/306)\n",
      "2018-03-13 21:14:12,072 : INFO : gram3-comparative: 49.2% (620/1260)\n",
      "2018-03-13 21:14:13,543 : INFO : gram4-superlative: 26.9% (136/506)\n",
      "2018-03-13 21:14:16,426 : INFO : gram5-present-participle: 21.4% (212/992)\n",
      "2018-03-13 21:14:20,289 : INFO : gram6-nationality-adjective: 39.5% (541/1371)\n",
      "2018-03-13 21:14:24,148 : INFO : gram7-past-tense: 19.7% (262/1332)\n",
      "2018-03-13 21:14:27,352 : INFO : gram8-plural: 33.6% (333/992)\n",
      "2018-03-13 21:14:29,226 : INFO : gram9-plural-verbs: 24.8% (161/650)\n",
      "2018-03-13 21:14:29,252 : INFO : total: 24.8% (3043/12268)\n"
     ]
    },
    {
     "name": "stdout",
     "output_type": "stream",
     "text": [
      "\n",
      "Semantic: 671/4103, Accuracy: 16.35%\n",
      "Syntactic: 2372/8165, Accuracy: 29.05%\n",
      "\n",
      "(16.353887399463808, 29.050826699326393)\n"
     ]
    }
   ],
   "source": [
    "print(print_accuracy(model_text8, 'data/questions-words.txt'))"
   ]
  },
  {
   "cell_type": "markdown",
   "metadata": {},
   "source": [
    "<a id='exercise2'></a>\n",
    "### Exercise 2: (10 mins)\n",
    "\n",
    "Write a function to find the odd one out from 4 given words.\n",
    "\n",
    "E.g.: `input`: 'summer', 'winter', 'spring', 'cold'\n",
    "`output`: 'cold'\n",
    "\n",
    "Assume all words exist in the vocabulary.\n",
    "\n",
    "Hint:\n",
    "You could possibly make use of `model_text8.wv.cosine_similarities`. Look at it's documentation."
   ]
  },
  {
   "cell_type": "markdown",
   "metadata": {},
   "source": [
    "[Solution 2](#solution2)"
   ]
  },
  {
   "cell_type": "markdown",
   "metadata": {},
   "source": [
    "## Saving/Loading model\n",
    "You can store/load models using the standard gensim methods, which uses pickle internally, optionally mmap‘ing the model’s internal large NumPy matrices into virtual memory directly from disk files, for inter-process memory sharing."
   ]
  },
  {
   "cell_type": "code",
   "execution_count": 26,
   "metadata": {
    "ExecuteTime": {
     "end_time": "2018-03-13T15:44:58.029258Z",
     "start_time": "2018-03-13T15:44:57.700644Z"
    }
   },
   "outputs": [
    {
     "name": "stderr",
     "output_type": "stream",
     "text": [
      "2018-03-13 21:14:57,703 : INFO : saving Word2Vec object under saves/model_text8.gensim, separately None\n",
      "2018-03-13 21:14:57,704 : INFO : not storing attribute vectors_norm\n",
      "2018-03-13 21:14:57,705 : INFO : not storing attribute cum_table\n",
      "2018-03-13 21:14:58,025 : INFO : saved saves/model_text8.gensim\n"
     ]
    }
   ],
   "source": [
    "model_text8.save('saves/model_text8.gensim')"
   ]
  },
  {
   "cell_type": "code",
   "execution_count": 27,
   "metadata": {
    "ExecuteTime": {
     "end_time": "2018-03-13T15:44:59.373955Z",
     "start_time": "2018-03-13T15:44:58.914471Z"
    }
   },
   "outputs": [
    {
     "name": "stderr",
     "output_type": "stream",
     "text": [
      "2018-03-13 21:14:58,915 : INFO : loading Word2Vec object from saves/model_text8.gensim\n",
      "2018-03-13 21:14:59,248 : INFO : loading wv recursively from saves/model_text8.gensim.wv.* with mmap=None\n",
      "2018-03-13 21:14:59,249 : INFO : setting ignored attribute vectors_norm to None\n",
      "2018-03-13 21:14:59,250 : INFO : loading vocabulary recursively from saves/model_text8.gensim.vocabulary.* with mmap=None\n",
      "2018-03-13 21:14:59,250 : INFO : loading trainables recursively from saves/model_text8.gensim.trainables.* with mmap=None\n",
      "2018-03-13 21:14:59,251 : INFO : setting ignored attribute cum_table to None\n",
      "2018-03-13 21:14:59,251 : INFO : loaded saves/model_text8.gensim\n"
     ]
    }
   ],
   "source": [
    "loaded_model = Word2Vec.load('saves/model_text8.gensim')"
   ]
  },
  {
   "cell_type": "markdown",
   "metadata": {},
   "source": [
    "## Gensim-data\n",
    "Contains free datsets and models relevant to unsupervised text analysis. Link to the [repo](https://github.com/RaRe-Technologies/gensim-data).\n",
    "\n",
    "All those steps in just two lines!!"
   ]
  },
  {
   "cell_type": "code",
   "execution_count": 28,
   "metadata": {
    "ExecuteTime": {
     "end_time": "2018-03-13T15:45:01.399852Z",
     "start_time": "2018-03-13T15:45:01.395014Z"
    }
   },
   "outputs": [],
   "source": [
    "import gensim.downloader as api\n",
    "from gensim.models import Word2Vec"
   ]
  },
  {
   "cell_type": "code",
   "execution_count": null,
   "metadata": {
    "ExecuteTime": {
     "end_time": "2018-03-13T15:45:15.792417Z",
     "start_time": "2018-03-13T15:45:11.040006Z"
    }
   },
   "outputs": [],
   "source": [
    "# Do not run, will take time to download and trin model. Code here is for showing example.\n",
    "text8_corpus = api.load('text8') \n",
    "w2v_model = Word2Vec(text8_corpus)  # train word2vec model on text8 corpus\n",
    "print(w2v_model.similarity('tree', 'leaf'))  # sanity check"
   ]
  },
  {
   "cell_type": "code",
   "execution_count": 30,
   "metadata": {
    "ExecuteTime": {
     "end_time": "2018-03-13T15:45:22.898372Z",
     "start_time": "2018-03-13T15:45:22.458559Z"
    }
   },
   "outputs": [],
   "source": [
    "data = api.info()"
   ]
  },
  {
   "cell_type": "code",
   "execution_count": 31,
   "metadata": {
    "ExecuteTime": {
     "end_time": "2018-03-13T15:45:23.031150Z",
     "start_time": "2018-03-13T15:45:23.025815Z"
    }
   },
   "outputs": [
    {
     "data": {
      "text/plain": [
       "dict_keys(['semeval-2016-2017-task3-subtaskBC', 'semeval-2016-2017-task3-subtaskA-unannotated', 'patent-2017', 'quora-duplicate-questions', 'wiki-english-20171001', 'text8', 'fake-news', '20-newsgroups', '__testing_matrix-synopsis', '__testing_multipart-matrix-synopsis'])"
      ]
     },
     "execution_count": 31,
     "metadata": {},
     "output_type": "execute_result"
    }
   ],
   "source": [
    "data['corpora'].keys()"
   ]
  },
  {
   "cell_type": "code",
   "execution_count": 32,
   "metadata": {
    "ExecuteTime": {
     "end_time": "2018-03-13T15:45:23.960699Z",
     "start_time": "2018-03-13T15:45:23.951816Z"
    }
   },
   "outputs": [
    {
     "data": {
      "text/plain": [
       "dict_keys(['conceptnet-numberbatch-17-06-300', 'word2vec-ruscorpora-300', 'word2vec-google-news-300', 'glove-wiki-gigaword-50', 'glove-wiki-gigaword-100', 'glove-wiki-gigaword-200', 'glove-wiki-gigaword-300', 'glove-twitter-25', 'glove-twitter-50', 'glove-twitter-100', 'glove-twitter-200', '__testing_word2vec-matrix-synopsis'])"
      ]
     },
     "execution_count": 32,
     "metadata": {},
     "output_type": "execute_result"
    }
   ],
   "source": [
    "data['models'].keys()"
   ]
  },
  {
   "cell_type": "markdown",
   "metadata": {},
   "source": [
    "## Task - Movie Genre prediction\n",
    "Common scenario in businesses - classify texts into one of many classes.\n",
    "\n",
    "How do you move from `word embeddings` to calculating embeddings for higher units of text, say, sentences, paragraphs or documents.\n",
    "\n",
    "**Task:** Classify movies based on their plots into one of the 6 genres (action, animation, comedy, fantasy, romance, sci-fi).\n",
    "\n",
    "**Dataset:** We will use MovieLens dataset linked with plots from OMDB.  Thanks to [Sujit Pal](http://sujitpal.blogspot.in/2016/04/predicting-movie-tags-from-plots-using.html) for this linking idea. The prepared csv is in this repository. If you wish to link the datasets yourself - see the code in the blog.\n",
    "\n",
    "We will compare the accuracy of 'no tuning'/out of the box runs of a few techniques. It is in no way an indication of their best peformance that can be achieved with proper tuning. The benefit of the comparison is to manage the expectations."
   ]
  },
  {
   "cell_type": "code",
   "execution_count": 33,
   "metadata": {
    "ExecuteTime": {
     "end_time": "2018-03-13T15:45:26.220179Z",
     "start_time": "2018-03-13T15:45:25.988397Z"
    }
   },
   "outputs": [
    {
     "name": "stderr",
     "output_type": "stream",
     "text": [
      "/encrypted/virtualenvironments/gensim_workshop_py3.6/lib/python3.6/site-packages/sklearn/cross_validation.py:41: DeprecationWarning: This module was deprecated in version 0.18 in favor of the model_selection module into which all the refactored classes and functions are moved. Also note that the interface of the new CV iterators are different from that of this module. This module will be removed in 0.20.\n",
      "  \"This module will be removed in 0.20.\", DeprecationWarning)\n"
     ]
    }
   ],
   "source": [
    "import operator\n",
    "from sklearn.pipeline import Pipeline\n",
    "from sklearn.svm import LinearSVC\n",
    "from sklearn.feature_extraction.text import CountVectorizer, TfidfVectorizer, TfidfTransformer\n",
    "from sklearn.cross_validation import cross_val_score, train_test_split\n",
    "from sklearn.metrics import confusion_matrix, accuracy_score\n",
    "import pandas as pd\n",
    "import matplotlib.pyplot as plt\n",
    "import nltk\n",
    "\n",
    "%matplotlib inline"
   ]
  },
  {
   "cell_type": "markdown",
   "metadata": {},
   "source": [
    "### Explore data"
   ]
  },
  {
   "cell_type": "code",
   "execution_count": 34,
   "metadata": {
    "ExecuteTime": {
     "end_time": "2018-03-13T15:45:27.841623Z",
     "start_time": "2018-03-13T15:45:27.814608Z"
    }
   },
   "outputs": [
    {
     "name": "stdout",
     "output_type": "stream",
     "text": [
      "Total number of words in the dataset: 171156\n"
     ]
    }
   ],
   "source": [
    "df = pd.read_csv('data/tagged_plots_movielens.csv')\n",
    "df = df.dropna()\n",
    "total_words = df['plot'].apply(lambda x: len(x.split(' '))).sum()\n",
    "print('Total number of words in the dataset: %d' % total_words)"
   ]
  },
  {
   "cell_type": "markdown",
   "metadata": {},
   "source": [
    "The dataset only contains **170k words**. It is quite small but makes sure we don't have to wait a long time for the code to complete."
   ]
  },
  {
   "cell_type": "code",
   "execution_count": 35,
   "metadata": {
    "ExecuteTime": {
     "end_time": "2018-03-13T15:45:29.121510Z",
     "start_time": "2018-03-13T15:45:29.116381Z"
    }
   },
   "outputs": [
    {
     "data": {
      "text/plain": [
       "Unnamed: 0    2427\n",
       "movieId       2427\n",
       "plot          2427\n",
       "tag           2427\n",
       "dtype: int64"
      ]
     },
     "execution_count": 35,
     "metadata": {},
     "output_type": "execute_result"
    }
   ],
   "source": [
    "df.count()"
   ]
  },
  {
   "cell_type": "code",
   "execution_count": 36,
   "metadata": {
    "ExecuteTime": {
     "end_time": "2018-03-13T15:45:30.060726Z",
     "start_time": "2018-03-13T15:45:29.912447Z"
    }
   },
   "outputs": [
    {
     "data": {
      "text/plain": [
       "<matplotlib.axes._subplots.AxesSubplot at 0x7f787d8a7eb8>"
      ]
     },
     "execution_count": 36,
     "metadata": {},
     "output_type": "execute_result"
    },
    {
     "data": {
      "image/png": "[encoded data removed]",
      "text/plain": [
       "<Figure size 432x288 with 1 Axes>"
      ]
     },
     "metadata": {},
     "output_type": "display_data"
    }
   ],
   "source": [
    "df.tag.value_counts().plot(kind=\"bar\", rot=0)"
   ]
  },
  {
   "cell_type": "code",
   "execution_count": 37,
   "metadata": {
    "ExecuteTime": {
     "end_time": "2018-03-13T15:45:30.981955Z",
     "start_time": "2018-03-13T15:45:30.976493Z"
    }
   },
   "outputs": [
    {
     "data": {
      "text/plain": [
       "0.32138442521631644"
      ]
     },
     "execution_count": 37,
     "metadata": {},
     "output_type": "execute_result"
    }
   ],
   "source": [
    "float(df.tag.value_counts()['comedy']) / df.tag.value_counts().sum() "
   ]
  },
  {
   "cell_type": "markdown",
   "metadata": {},
   "source": [
    "Data has a skewed distribution among the classes. A dumb classifier that always predicts 'comedy' achieves an accuracy of **32%**."
   ]
  },
  {
   "cell_type": "code",
   "execution_count": 38,
   "metadata": {
    "ExecuteTime": {
     "end_time": "2018-03-13T15:45:32.236340Z",
     "start_time": "2018-03-13T15:45:32.224584Z"
    }
   },
   "outputs": [
    {
     "data": {
      "text/html": [
       "<div>\n",
       "<style scoped>\n",
       "    .dataframe tbody tr th:only-of-type {\n",
       "        vertical-align: middle;\n",
       "    }\n",
       "\n",
       "    .dataframe tbody tr th {\n",
       "        vertical-align: top;\n",
       "    }\n",
       "\n",
       "    .dataframe thead th {\n",
       "        text-align: right;\n",
       "    }\n",
       "</style>\n",
       "<table border=\"1\" class=\"dataframe\">\n",
       "  <thead>\n",
       "    <tr style=\"text-align: right;\">\n",
       "      <th></th>\n",
       "      <th>Unnamed: 0</th>\n",
       "      <th>movieId</th>\n",
       "      <th>plot</th>\n",
       "      <th>tag</th>\n",
       "    </tr>\n",
       "  </thead>\n",
       "  <tbody>\n",
       "    <tr>\n",
       "      <th>2221</th>\n",
       "      <td>2221</td>\n",
       "      <td>115149</td>\n",
       "      <td>An ex-hitman comes out of retirement to track ...</td>\n",
       "      <td>action</td>\n",
       "    </tr>\n",
       "    <tr>\n",
       "      <th>1106</th>\n",
       "      <td>1106</td>\n",
       "      <td>27369</td>\n",
       "      <td>From the hit series \"Daria\" comes her first mo...</td>\n",
       "      <td>animation</td>\n",
       "    </tr>\n",
       "    <tr>\n",
       "      <th>1286</th>\n",
       "      <td>1286</td>\n",
       "      <td>48082</td>\n",
       "      <td>Following the death of his father in Mexico, S...</td>\n",
       "      <td>fantasy</td>\n",
       "    </tr>\n",
       "    <tr>\n",
       "      <th>1567</th>\n",
       "      <td>1567</td>\n",
       "      <td>69451</td>\n",
       "      <td>A young woman in a post-apocolyptic world rebe...</td>\n",
       "      <td>sci-fi</td>\n",
       "    </tr>\n",
       "    <tr>\n",
       "      <th>677</th>\n",
       "      <td>677</td>\n",
       "      <td>4246</td>\n",
       "      <td>Bridget Jones is an average woman struggling a...</td>\n",
       "      <td>romance</td>\n",
       "    </tr>\n",
       "    <tr>\n",
       "      <th>1696</th>\n",
       "      <td>1696</td>\n",
       "      <td>77951</td>\n",
       "      <td>A Lutheran church outside of Germany. Those cl...</td>\n",
       "      <td>romance</td>\n",
       "    </tr>\n",
       "    <tr>\n",
       "      <th>383</th>\n",
       "      <td>383</td>\n",
       "      <td>2137</td>\n",
       "      <td>Based on the beloved children's novel by E.B. ...</td>\n",
       "      <td>animation</td>\n",
       "    </tr>\n",
       "    <tr>\n",
       "      <th>1887</th>\n",
       "      <td>1887</td>\n",
       "      <td>91500</td>\n",
       "      <td>In a dystopian future, the totalitarian nation...</td>\n",
       "      <td>action</td>\n",
       "    </tr>\n",
       "    <tr>\n",
       "      <th>1714</th>\n",
       "      <td>1714</td>\n",
       "      <td>79139</td>\n",
       "      <td>Balthazar Blake (Nicolas Cage) is a master sor...</td>\n",
       "      <td>action</td>\n",
       "    </tr>\n",
       "    <tr>\n",
       "      <th>1576</th>\n",
       "      <td>1576</td>\n",
       "      <td>69722</td>\n",
       "      <td>When his mother sends Jack off with money to b...</td>\n",
       "      <td>comedy</td>\n",
       "    </tr>\n",
       "    <tr>\n",
       "      <th>80</th>\n",
       "      <td>80</td>\n",
       "      <td>413</td>\n",
       "      <td>Three band members hoping for a big break head...</td>\n",
       "      <td>comedy</td>\n",
       "    </tr>\n",
       "    <tr>\n",
       "      <th>1152</th>\n",
       "      <td>1152</td>\n",
       "      <td>31687</td>\n",
       "      <td>A heffalump is heard trumpeting in the hundred...</td>\n",
       "      <td>animation</td>\n",
       "    </tr>\n",
       "    <tr>\n",
       "      <th>1628</th>\n",
       "      <td>1628</td>\n",
       "      <td>72483</td>\n",
       "      <td>Natalie has it all: yearbook editor, scholarsh...</td>\n",
       "      <td>romance</td>\n",
       "    </tr>\n",
       "    <tr>\n",
       "      <th>910</th>\n",
       "      <td>910</td>\n",
       "      <td>6764</td>\n",
       "      <td>A tough aspiring chef is hired to bring home a...</td>\n",
       "      <td>action</td>\n",
       "    </tr>\n",
       "    <tr>\n",
       "      <th>2049</th>\n",
       "      <td>2049</td>\n",
       "      <td>102477</td>\n",
       "      <td>In a mythical kingdom, the mighty Imperial Kni...</td>\n",
       "      <td>animation</td>\n",
       "    </tr>\n",
       "    <tr>\n",
       "      <th>1202</th>\n",
       "      <td>1202</td>\n",
       "      <td>37380</td>\n",
       "      <td>Something has gone wrong at a remote scientifi...</td>\n",
       "      <td>sci-fi</td>\n",
       "    </tr>\n",
       "    <tr>\n",
       "      <th>1370</th>\n",
       "      <td>1370</td>\n",
       "      <td>54229</td>\n",
       "      <td>With the help of government-issued pamphlets, ...</td>\n",
       "      <td>animation</td>\n",
       "    </tr>\n",
       "    <tr>\n",
       "      <th>1462</th>\n",
       "      <td>1462</td>\n",
       "      <td>60937</td>\n",
       "      <td>Centuries ago, the evil Emperor Han was cursed...</td>\n",
       "      <td>action</td>\n",
       "    </tr>\n",
       "    <tr>\n",
       "      <th>1319</th>\n",
       "      <td>1319</td>\n",
       "      <td>50189</td>\n",
       "      <td>When Erik Stifler gets a free pass to do whate...</td>\n",
       "      <td>comedy</td>\n",
       "    </tr>\n",
       "    <tr>\n",
       "      <th>960</th>\n",
       "      <td>960</td>\n",
       "      <td>7228</td>\n",
       "      <td>Jack Deebs is a cartoonist who is due to be re...</td>\n",
       "      <td>animation</td>\n",
       "    </tr>\n",
       "  </tbody>\n",
       "</table>\n",
       "</div>"
      ],
      "text/plain": [
       "      Unnamed: 0  movieId                                               plot  \\\n",
       "2221        2221   115149  An ex-hitman comes out of retirement to track ...   \n",
       "1106        1106    27369  From the hit series \"Daria\" comes her first mo...   \n",
       "1286        1286    48082  Following the death of his father in Mexico, S...   \n",
       "1567        1567    69451  A young woman in a post-apocolyptic world rebe...   \n",
       "677          677     4246  Bridget Jones is an average woman struggling a...   \n",
       "1696        1696    77951  A Lutheran church outside of Germany. Those cl...   \n",
       "383          383     2137  Based on the beloved children's novel by E.B. ...   \n",
       "1887        1887    91500  In a dystopian future, the totalitarian nation...   \n",
       "1714        1714    79139  Balthazar Blake (Nicolas Cage) is a master sor...   \n",
       "1576        1576    69722  When his mother sends Jack off with money to b...   \n",
       "80            80      413  Three band members hoping for a big break head...   \n",
       "1152        1152    31687  A heffalump is heard trumpeting in the hundred...   \n",
       "1628        1628    72483  Natalie has it all: yearbook editor, scholarsh...   \n",
       "910          910     6764  A tough aspiring chef is hired to bring home a...   \n",
       "2049        2049   102477  In a mythical kingdom, the mighty Imperial Kni...   \n",
       "1202        1202    37380  Something has gone wrong at a remote scientifi...   \n",
       "1370        1370    54229  With the help of government-issued pamphlets, ...   \n",
       "1462        1462    60937  Centuries ago, the evil Emperor Han was cursed...   \n",
       "1319        1319    50189  When Erik Stifler gets a free pass to do whate...   \n",
       "960          960     7228  Jack Deebs is a cartoonist who is due to be re...   \n",
       "\n",
       "            tag  \n",
       "2221     action  \n",
       "1106  animation  \n",
       "1286    fantasy  \n",
       "1567     sci-fi  \n",
       "677     romance  \n",
       "1696    romance  \n",
       "383   animation  \n",
       "1887     action  \n",
       "1714     action  \n",
       "1576     comedy  \n",
       "80       comedy  \n",
       "1152  animation  \n",
       "1628    romance  \n",
       "910      action  \n",
       "2049  animation  \n",
       "1202     sci-fi  \n",
       "1370  animation  \n",
       "1462     action  \n",
       "1319     comedy  \n",
       "960   animation  "
      ]
     },
     "execution_count": 38,
     "metadata": {},
     "output_type": "execute_result"
    }
   ],
   "source": [
    "df.sample(20)"
   ]
  },
  {
   "cell_type": "code",
   "execution_count": 39,
   "metadata": {
    "ExecuteTime": {
     "end_time": "2018-03-13T15:45:33.466763Z",
     "start_time": "2018-03-13T15:45:33.453135Z"
    }
   },
   "outputs": [],
   "source": [
    "def print_plot(index):\n",
    "    example = df[df.index == index][['plot', 'tag']].values[0]\n",
    "    if len(example) > 0:\n",
    "        print(example[0])\n",
    "        print('Genre:', example[1])"
   ]
  },
  {
   "cell_type": "code",
   "execution_count": 40,
   "metadata": {
    "ExecuteTime": {
     "end_time": "2018-03-13T15:45:34.151527Z",
     "start_time": "2018-03-13T15:45:34.139367Z"
    }
   },
   "outputs": [
    {
     "name": "stdout",
     "output_type": "stream",
     "text": [
      "A little boy named Andy loves to be in his room, playing with his toys, especially his doll named \"Woody\". But, what do the toys do when Andy is not with them, they come to life. Woody believes that he has life (as a toy) good. However, he must worry about Andy's family moving, and what Woody does not know is about Andy's birthday party. Woody does not realize that Andy's mother gave him an action figure known as Buzz Lightyear, who does not believe that he is a toy, and quickly becomes Andy's new favorite toy. Woody, who is now consumed with jealousy, tries to get rid of Buzz. Then, both Woody and Buzz are now lost. They must find a way to get back to Andy before he moves without them, but they will have to pass through a ruthless toy killer, Sid Phillips.\n",
      "Genre: animation\n"
     ]
    }
   ],
   "source": [
    "print_plot(0)"
   ]
  },
  {
   "cell_type": "code",
   "execution_count": 41,
   "metadata": {
    "ExecuteTime": {
     "end_time": "2018-03-13T15:45:34.921344Z",
     "start_time": "2018-03-13T15:45:34.909937Z"
    }
   },
   "outputs": [
    {
     "name": "stdout",
     "output_type": "stream",
     "text": [
      "When two kids find and play a magical board game, they release a man trapped for decades in it and a host of dangers that can only be stopped by finishing the game.\n",
      "Genre: fantasy\n"
     ]
    }
   ],
   "source": [
    "print_plot(1)"
   ]
  },
  {
   "cell_type": "code",
   "execution_count": 42,
   "metadata": {
    "ExecuteTime": {
     "end_time": "2018-03-13T15:45:38.906514Z",
     "start_time": "2018-03-13T15:45:38.900378Z"
    }
   },
   "outputs": [],
   "source": [
    "train_data, test_data = train_test_split(df, test_size=0.1, random_state=42)"
   ]
  },
  {
   "cell_type": "code",
   "execution_count": 43,
   "metadata": {
    "ExecuteTime": {
     "end_time": "2018-03-13T15:45:40.312793Z",
     "start_time": "2018-03-13T15:45:40.307269Z"
    }
   },
   "outputs": [
    {
     "name": "stdout",
     "output_type": "stream",
     "text": [
      "Number of training examples: 2184\n",
      "Number of tesing examples: 243\n"
     ]
    }
   ],
   "source": [
    "print('Number of training examples: %d' % len(train_data))\n",
    "print('Number of tesing examples: %d' % len(test_data))"
   ]
  },
  {
   "cell_type": "code",
   "execution_count": 44,
   "metadata": {
    "ExecuteTime": {
     "end_time": "2018-03-13T15:45:41.072048Z",
     "start_time": "2018-03-13T15:45:40.882294Z"
    }
   },
   "outputs": [
    {
     "data": {
      "image/png": "[encoded data removed]",
      "text/plain": [
       "<Figure size 432x288 with 1 Axes>"
      ]
     },
     "metadata": {},
     "output_type": "display_data"
    }
   ],
   "source": [
    "test_data.tag.value_counts().plot(kind=\"bar\", rot=0)\n",
    "my_tags = ['sci-fi' , 'action', 'comedy', 'fantasy', 'animation', 'romance']"
   ]
  },
  {
   "cell_type": "markdown",
   "metadata": {},
   "source": [
    "### Model Evaluation"
   ]
  },
  {
   "cell_type": "code",
   "execution_count": 45,
   "metadata": {
    "ExecuteTime": {
     "end_time": "2018-03-13T15:45:43.000447Z",
     "start_time": "2018-03-13T15:45:42.989860Z"
    }
   },
   "outputs": [],
   "source": [
    "def plot_confusion_matrix(cm, title='Confusion matrix', cmap=plt.cm.Blues):\n",
    "    plt.imshow(cm, interpolation='nearest', cmap=cmap)\n",
    "    plt.title(title)\n",
    "    plt.colorbar()\n",
    "    tick_marks = np.arange(len(my_tags))\n",
    "    target_names = my_tags\n",
    "    plt.xticks(tick_marks, target_names, rotation=45)\n",
    "    plt.yticks(tick_marks, target_names)\n",
    "    plt.tight_layout()\n",
    "    plt.ylabel('True label')\n",
    "    plt.xlabel('Predicted label')"
   ]
  },
  {
   "cell_type": "code",
   "execution_count": 46,
   "metadata": {
    "ExecuteTime": {
     "end_time": "2018-03-13T15:45:43.536177Z",
     "start_time": "2018-03-13T15:45:43.518056Z"
    }
   },
   "outputs": [],
   "source": [
    "def evaluate_prediction(predictions, target, title=\"Confusion matrix\"):\n",
    "    print('accuracy %s' % accuracy_score(target, predictions))\n",
    "    cm = confusion_matrix(target, predictions)\n",
    "    print('confusion matrix\\n %s' % cm)\n",
    "    print('(row=expected, col=predicted)')\n",
    "    \n",
    "    cm_normalized = cm.astype('float') / cm.sum(axis=1)[:, np.newaxis]\n",
    "    plot_confusion_matrix(cm_normalized, title + ' Normalized')"
   ]
  },
  {
   "cell_type": "markdown",
   "metadata": {
    "ExecuteTime": {
     "end_time": "2018-03-13T08:20:27.541210Z",
     "start_time": "2018-03-13T08:20:27.536076Z"
    }
   },
   "source": [
    "### Tokenize text"
   ]
  },
  {
   "cell_type": "code",
   "execution_count": 47,
   "metadata": {
    "ExecuteTime": {
     "end_time": "2018-03-13T15:45:45.094480Z",
     "start_time": "2018-03-13T15:45:45.089298Z"
    }
   },
   "outputs": [],
   "source": [
    "def custom_tokenize_text(text):\n",
    "    tokens = []\n",
    "    for sent in nltk.sent_tokenize(text, language='english'):\n",
    "        for word in nltk.word_tokenize(sent, language='english'):\n",
    "            if len(word) < 2:\n",
    "                continue\n",
    "            tokens.append(word)\n",
    "    return tokens"
   ]
  },
  {
   "cell_type": "markdown",
   "metadata": {},
   "source": [
    "### Prepare data"
   ]
  },
  {
   "cell_type": "code",
   "execution_count": 48,
   "metadata": {
    "ExecuteTime": {
     "end_time": "2018-03-13T15:45:47.441316Z",
     "start_time": "2018-03-13T15:45:46.225170Z"
    }
   },
   "outputs": [],
   "source": [
    "# prepare training data\n",
    "X_train = []\n",
    "y_train = []\n",
    "for plot, tag in train_data[['plot', 'tag']].values:\n",
    "    X_train.append(custom_tokenize_text(plot))\n",
    "    y_train.append(tag)\n",
    "X_train, y_train = np.array(X_train), np.array(y_train)"
   ]
  },
  {
   "cell_type": "code",
   "execution_count": 49,
   "metadata": {
    "ExecuteTime": {
     "end_time": "2018-03-13T15:45:48.141571Z",
     "start_time": "2018-03-13T15:45:48.131884Z"
    }
   },
   "outputs": [
    {
     "name": "stdout",
     "output_type": "stream",
     "text": [
      "2184 2184\n",
      "comedy\n",
      "['Turkish', 'and', 'his', 'close', 'friend/accomplice', 'Tommy', 'get', 'pulled', 'into', 'the', 'world', 'of', 'match', 'fixing', 'by', 'the', 'notorious', 'Brick', 'Top', 'Things', 'get', 'complicated', 'when', 'the', 'boxer', 'they', 'had', 'lined', 'up', 'gets', 'badly', 'beaten', 'by', 'Pitt', \"'pikey\", 'slang', 'for', 'an', 'Irish', 'Gypsy', 'who', 'comes', 'into', 'the', 'equation', 'after', 'Turkish', 'an', 'unlicensed', 'boxing', 'promoter', 'wants', 'to', 'buy', 'caravan', 'off', 'the', 'Irish', 'Gypsies', 'They', 'then', 'try', 'to', 'convince', 'Pitt', 'not', 'only', 'to', 'fight', 'for', 'them', 'but', 'to', 'lose', 'for', 'them', 'too', 'Whilst', 'all', 'this', 'is', 'going', 'on', 'huge', 'diamond', 'heist', 'takes', 'place', 'and', 'fistful', 'of', 'motley', 'characters', 'enter', 'the', 'story', 'including', \"'Cousin\", 'Avi', \"'Boris\", 'The', 'Blade', \"'Franky\", 'Four', 'Fingers', 'and', \"'Bullet\", 'Tooth', 'Tony', 'Things', 'go', 'from', 'bad', 'to', 'worse', 'as', 'it', 'all', 'becomes', 'about', 'the', 'money', 'the', 'guns', 'and', 'the', 'damned', 'dog']\n"
     ]
    }
   ],
   "source": [
    "print(len(X_train), len(y_train))\n",
    "print(y_train[0])\n",
    "print(X_train[0])"
   ]
  },
  {
   "cell_type": "code",
   "execution_count": 50,
   "metadata": {
    "ExecuteTime": {
     "end_time": "2018-03-13T15:45:49.664581Z",
     "start_time": "2018-03-13T15:45:49.492271Z"
    }
   },
   "outputs": [],
   "source": [
    "# prepare test data\n",
    "X_test = []\n",
    "y_test = []\n",
    "for plot, tag in test_data[['plot', 'tag']].values:\n",
    "    X_test.append(custom_tokenize_text(plot))\n",
    "    y_test.append(tag)\n",
    "X_test, y_test = np.array(X_test), np.array(y_test)"
   ]
  },
  {
   "cell_type": "code",
   "execution_count": 51,
   "metadata": {
    "ExecuteTime": {
     "end_time": "2018-03-13T15:45:50.354360Z",
     "start_time": "2018-03-13T15:45:50.344618Z"
    }
   },
   "outputs": [
    {
     "data": {
      "text/plain": [
       "(243, 243)"
      ]
     },
     "execution_count": 51,
     "metadata": {},
     "output_type": "execute_result"
    }
   ],
   "source": [
    "len(X_test), len(y_test)"
   ]
  },
  {
   "cell_type": "markdown",
   "metadata": {},
   "source": [
    "## Technique 1: Bag-of-Words(BoW) + Linear SVM"
   ]
  },
  {
   "cell_type": "markdown",
   "metadata": {},
   "source": [
    "### CountVectorizer"
   ]
  },
  {
   "cell_type": "code",
   "execution_count": 52,
   "metadata": {
    "ExecuteTime": {
     "end_time": "2018-03-13T15:45:53.139947Z",
     "start_time": "2018-03-13T15:45:53.106911Z"
    }
   },
   "outputs": [
    {
     "name": "stdout",
     "output_type": "stream",
     "text": [
      "[('brown', 0), ('dog', 1), ('fox', 2), ('jumped', 3), ('lazy', 4), ('over', 5), ('quick', 6), ('the', 7)]\n",
      "(1, 8)\n",
      "<class 'scipy.sparse.csr.csr_matrix'>\n",
      "[[1 1 1 1 1 1 1 2]]\n"
     ]
    }
   ],
   "source": [
    "from sklearn.feature_extraction.text import CountVectorizer\n",
    "# list of text documents\n",
    "text = [\"The quick brown fox jumped over the lazy dog.\"]\n",
    "# create the transform\n",
    "vectorizer = CountVectorizer()\n",
    "# tokenize and build vocab\n",
    "vectorizer.fit(text)\n",
    "# summarize\n",
    "print(sorted(vectorizer.vocabulary_.items(), key=operator.itemgetter(1)))\n",
    "# encode document\n",
    "vector = vectorizer.transform(text)\n",
    "# summarize encoded vector\n",
    "print(vector.shape)\n",
    "print(type(vector))\n",
    "print(vector.toarray())"
   ]
  },
  {
   "cell_type": "code",
   "execution_count": 53,
   "metadata": {
    "ExecuteTime": {
     "end_time": "2018-03-13T15:45:57.214121Z",
     "start_time": "2018-03-13T15:45:57.207117Z"
    }
   },
   "outputs": [],
   "source": [
    "bow_svc = Pipeline([(\"count_vectorizer\", CountVectorizer(analyzer=lambda x: x)), (\"linear_svc\", LinearSVC())])"
   ]
  },
  {
   "cell_type": "markdown",
   "metadata": {},
   "source": [
    "### Train classifier - Word Counts feature + Linear SVC"
   ]
  },
  {
   "cell_type": "code",
   "execution_count": 54,
   "metadata": {
    "ExecuteTime": {
     "end_time": "2018-03-13T15:45:59.947922Z",
     "start_time": "2018-03-13T15:45:59.739783Z"
    }
   },
   "outputs": [
    {
     "name": "stdout",
     "output_type": "stream",
     "text": [
      "CPU times: user 202 ms, sys: 0 ns, total: 202 ms\n",
      "Wall time: 201 ms\n"
     ]
    },
    {
     "data": {
      "text/plain": [
       "Pipeline(memory=None,\n",
       "     steps=[('count_vectorizer', CountVectorizer(analyzer=<function <lambda> at 0x7f787d7a29d8>, binary=False,\n",
       "        decode_error='strict', dtype=<class 'numpy.int64'>,\n",
       "        encoding='utf-8', input='content', lowercase=True, max_df=1.0,\n",
       "        max_features=None, min_df=1, ngram_range=(1, 1), prepro...ax_iter=1000,\n",
       "     multi_class='ovr', penalty='l2', random_state=None, tol=0.0001,\n",
       "     verbose=0))])"
      ]
     },
     "execution_count": 54,
     "metadata": {},
     "output_type": "execute_result"
    }
   ],
   "source": [
    "%%time\n",
    "bow_svc.fit(X_train, y_train)"
   ]
  },
  {
   "cell_type": "markdown",
   "metadata": {},
   "source": [
    "### Get predictions"
   ]
  },
  {
   "cell_type": "code",
   "execution_count": 55,
   "metadata": {
    "ExecuteTime": {
     "end_time": "2018-03-13T15:46:02.668636Z",
     "start_time": "2018-03-13T15:46:02.654609Z"
    }
   },
   "outputs": [],
   "source": [
    "y_pred_bow_svc = bow_svc.predict(X_test)"
   ]
  },
  {
   "cell_type": "code",
   "execution_count": 56,
   "metadata": {
    "ExecuteTime": {
     "end_time": "2018-03-13T15:46:03.336712Z",
     "start_time": "2018-03-13T15:46:03.168292Z"
    }
   },
   "outputs": [
    {
     "name": "stdout",
     "output_type": "stream",
     "text": [
      "accuracy 0.45267489711934156\n",
      "confusion matrix\n",
      " [[18  3 12  0  5  4]\n",
      " [ 3  9 13  2  2  2]\n",
      " [11  7 53  0 15  0]\n",
      " [ 3  1  4  3  3  2]\n",
      " [ 4  1 16  1 10  3]\n",
      " [ 7  2  5  1  1 17]]\n",
      "(row=expected, col=predicted)\n"
     ]
    },
    {
     "data": {
      "image/png": "[encoded data removed]",
      "text/plain": [
       "<Figure size 432x288 with 2 Axes>"
      ]
     },
     "metadata": {},
     "output_type": "display_data"
    }
   ],
   "source": [
    "evaluate_prediction(y_pred_bow_svc, y_test)"
   ]
  },
  {
   "cell_type": "markdown",
   "metadata": {},
   "source": [
    "Not bad - Bag of Words + Linear SVC shows more than 12-14% increase in accuracy compared to a classifier than always predicts comedy."
   ]
  },
  {
   "cell_type": "markdown",
   "metadata": {},
   "source": [
    "The next two techniques require a well trained word embeddings model. We use 'word2vec-google-news-300' (see description below).\n",
    "\n",
    "\n",
    "Vocabulary size: 3 million words.\n",
    "\n",
    "**Warning:** ~2 mins to load, takes 4 GB of RAM.\n",
    "\n",
    "In case this is a problem, you could also use 'glove-wiki-gigaword-50' (smaller in size, faster to load)."
   ]
  },
  {
   "cell_type": "code",
   "execution_count": 57,
   "metadata": {
    "ExecuteTime": {
     "end_time": "2018-03-13T15:46:06.068245Z",
     "start_time": "2018-03-13T15:46:05.614070Z"
    }
   },
   "outputs": [
    {
     "data": {
      "text/plain": [
       "{'base_dataset': 'Google News (about 100 billion words)',\n",
       " 'checksum': 'a5e5354d40acb95f9ec66d5977d140ef',\n",
       " 'description': \"Pre-trained vectors trained on a part of the Google News dataset (about 100 billion words). The model contains 300-dimensional vectors for 3 million words and phrases. The phrases were obtained using a simple data-driven approach described in 'Distributed Representations of Words and Phrases and their Compositionality' (https://code.google.com/archive/p/word2vec/).\",\n",
       " 'file_name': 'word2vec-google-news-300.gz',\n",
       " 'file_size': 1743563840,\n",
       " 'license': 'not found',\n",
       " 'num_records': 3000000,\n",
       " 'parameters': {'dimension': 300},\n",
       " 'parts': 1,\n",
       " 'read_more': ['https://code.google.com/archive/p/word2vec/',\n",
       "  'https://arxiv.org/abs/1301.3781',\n",
       "  'https://arxiv.org/abs/1310.4546',\n",
       "  'https://www.microsoft.com/en-us/research/publication/linguistic-regularities-in-continuous-space-word-representations/?from=http%3A%2F%2Fresearch.microsoft.com%2Fpubs%2F189726%2Frvecs.pdf'],\n",
       " 'reader_code': 'https://github.com/RaRe-Technologies/gensim-data/releases/download/word2vec-google-news-300/__init__.py'}"
      ]
     },
     "execution_count": 57,
     "metadata": {},
     "output_type": "execute_result"
    }
   ],
   "source": [
    "api.info()['models']['word2vec-google-news-300']"
   ]
  },
  {
   "cell_type": "code",
   "execution_count": 58,
   "metadata": {
    "ExecuteTime": {
     "end_time": "2018-03-13T15:46:07.080648Z",
     "start_time": "2018-03-13T15:46:06.704833Z"
    }
   },
   "outputs": [
    {
     "data": {
      "text/plain": [
       "{'base_dataset': 'Wikipedia 2014 + Gigaword 5 (6B tokens, uncased)',\n",
       " 'checksum': 'c289bc5d7f2f02c6dc9f2f9b67641813',\n",
       " 'description': 'Pre-trained vectors based on Wikipedia 2014 + Gigaword, 5.6B tokens, 400K vocab, uncased (https://nlp.stanford.edu/projects/glove/).',\n",
       " 'file_name': 'glove-wiki-gigaword-50.gz',\n",
       " 'file_size': 69182535,\n",
       " 'license': 'http://opendatacommons.org/licenses/pddl/',\n",
       " 'num_records': 400000,\n",
       " 'parameters': {'dimension': 50},\n",
       " 'parts': 1,\n",
       " 'preprocessing': 'Converted to w2v format with `python -m gensim.scripts.glove2word2vec -i <fname> -o glove-wiki-gigaword-50.txt`.',\n",
       " 'read_more': ['https://nlp.stanford.edu/projects/glove/',\n",
       "  'https://nlp.stanford.edu/pubs/glove.pdf'],\n",
       " 'reader_code': 'https://github.com/RaRe-Technologies/gensim-data/releases/download/glove-wiki-gigaword-50/__init__.py'}"
      ]
     },
     "execution_count": 58,
     "metadata": {},
     "output_type": "execute_result"
    }
   ],
   "source": [
    "api.info()['models']['glove-wiki-gigaword-50']"
   ]
  },
  {
   "cell_type": "code",
   "execution_count": 59,
   "metadata": {
    "ExecuteTime": {
     "end_time": "2018-03-13T15:47:53.929142Z",
     "start_time": "2018-03-13T15:46:13.010927Z"
    }
   },
   "outputs": [
    {
     "name": "stderr",
     "output_type": "stream",
     "text": [
      "2018-03-13 21:16:13,612 : INFO : loading projection weights from /home/cva/gensim-data/word2vec-google-news-300/word2vec-google-news-300.gz\n",
      "2018-03-13 21:17:53,692 : INFO : loaded (3000000, 300) matrix from /home/cva/gensim-data/word2vec-google-news-300/word2vec-google-news-300.gz\n"
     ]
    },
    {
     "name": "stdout",
     "output_type": "stream",
     "text": [
      "CPU times: user 1min 31s, sys: 3.76 s, total: 1min 35s\n",
      "Wall time: 1min 40s\n"
     ]
    }
   ],
   "source": [
    "%%time\n",
    "w2v_model = api.load('word2vec-google-news-300')"
   ]
  },
  {
   "cell_type": "code",
   "execution_count": 60,
   "metadata": {
    "ExecuteTime": {
     "end_time": "2018-03-13T16:24:15.709907Z",
     "start_time": "2018-03-13T16:23:55.000100Z"
    }
   },
   "outputs": [
    {
     "name": "stderr",
     "output_type": "stream",
     "text": [
      "2018-03-13 21:53:55,008 : INFO : precomputing L2-norms of word weight vectors\n"
     ]
    }
   ],
   "source": [
    "w2v_model.init_sims(replace=True)"
   ]
  },
  {
   "cell_type": "markdown",
   "metadata": {},
   "source": [
    "## Technique 2: Average word embeddings + Linear SVM"
   ]
  },
  {
   "cell_type": "code",
   "execution_count": 61,
   "metadata": {
    "ExecuteTime": {
     "end_time": "2018-03-13T16:24:20.529962Z",
     "start_time": "2018-03-13T16:24:20.506746Z"
    }
   },
   "outputs": [],
   "source": [
    "class MeanEmbeddingVectorizer(object):\n",
    "    def __init__(self, word2vec):\n",
    "        self.word2vec = word2vec\n",
    "        self.dim = word2vec.vector_size\n",
    "    \n",
    "    def fit(self, X, y):\n",
    "        return self \n",
    "\n",
    "    def transform(self, X):\n",
    "        return np.array([\n",
    "            np.mean([self.word2vec[w] for w in words if w in self.word2vec] \n",
    "                    or [np.zeros(self.dim)], axis=0)\n",
    "            for words in X\n",
    "        ])"
   ]
  },
  {
   "cell_type": "code",
   "execution_count": 62,
   "metadata": {
    "ExecuteTime": {
     "end_time": "2018-03-13T16:24:21.698866Z",
     "start_time": "2018-03-13T16:24:21.691811Z"
    }
   },
   "outputs": [],
   "source": [
    "avg_wv_svc = Pipeline([(\"mean_embedding_vectorizer\", MeanEmbeddingVectorizer(w2v_model)), (\"linear_svc\", LinearSVC())])"
   ]
  },
  {
   "cell_type": "code",
   "execution_count": 63,
   "metadata": {
    "ExecuteTime": {
     "end_time": "2018-03-13T16:24:23.411359Z",
     "start_time": "2018-03-13T16:24:22.255542Z"
    }
   },
   "outputs": [
    {
     "data": {
      "text/plain": [
       "Pipeline(memory=None,\n",
       "     steps=[('mean_embedding_vectorizer', <__main__.MeanEmbeddingVectorizer object at 0x7f7786cf5e48>), ('linear_svc', LinearSVC(C=1.0, class_weight=None, dual=True, fit_intercept=True,\n",
       "     intercept_scaling=1, loss='squared_hinge', max_iter=1000,\n",
       "     multi_class='ovr', penalty='l2', random_state=None, tol=0.0001,\n",
       "     verbose=0))])"
      ]
     },
     "execution_count": 63,
     "metadata": {},
     "output_type": "execute_result"
    }
   ],
   "source": [
    "avg_wv_svc.fit(X_train, y_train)"
   ]
  },
  {
   "cell_type": "code",
   "execution_count": 64,
   "metadata": {
    "ExecuteTime": {
     "end_time": "2018-03-13T16:24:24.502825Z",
     "start_time": "2018-03-13T16:24:24.380149Z"
    }
   },
   "outputs": [],
   "source": [
    "y_pred_avg_wv_svc = avg_wv_svc.predict(X_test)"
   ]
  },
  {
   "cell_type": "code",
   "execution_count": 65,
   "metadata": {
    "ExecuteTime": {
     "end_time": "2018-03-13T16:24:25.779042Z",
     "start_time": "2018-03-13T16:24:25.329858Z"
    }
   },
   "outputs": [
    {
     "name": "stdout",
     "output_type": "stream",
     "text": [
      "accuracy 0.5802469135802469\n",
      "confusion matrix\n",
      " [[25  2 12  0  1  2]\n",
      " [ 2  8 13  1  3  4]\n",
      " [ 5  0 75  0  4  2]\n",
      " [ 3  2  5  2  2  2]\n",
      " [ 2  0 22  0  9  2]\n",
      " [ 4  1  6  0  0 22]]\n",
      "(row=expected, col=predicted)\n"
     ]
    },
    {
     "data": {
      "image/png": "[encoded data removed]",
      "text/plain": [
       "<Figure size 432x288 with 2 Axes>"
      ]
     },
     "metadata": {},
     "output_type": "display_data"
    }
   ],
   "source": [
    "evaluate_prediction(y_pred_avg_wv_svc, y_test)"
   ]
  },
  {
   "cell_type": "markdown",
   "metadata": {},
   "source": [
    "## Technique 3: IT-IDF weighted word embeddings + Linear SVC"
   ]
  },
  {
   "cell_type": "markdown",
   "metadata": {},
   "source": [
    "### TF-IDF\n",
    "Measures how important a term is to a document.\n",
    "\n",
    "TF(t) = term frequency = (Number of times term t appears in a document) / (Total number of terms in the document).\n",
    "\n",
    "IDF(t) = inverse document frequency = log_e(Total number of documents / Number of documents with term t in it)."
   ]
  },
  {
   "cell_type": "code",
   "execution_count": 66,
   "metadata": {
    "ExecuteTime": {
     "end_time": "2018-03-13T16:24:30.010350Z",
     "start_time": "2018-03-13T16:24:29.915206Z"
    }
   },
   "outputs": [
    {
     "name": "stdout",
     "output_type": "stream",
     "text": [
      "[('are', 0), ('cats', 1), ('creepy', 2), ('love', 3), ('milk', 4)]\n",
      "[1.69314718 1.         1.69314718 1.28768207 1.69314718]\n",
      "(3, 5)\n",
      "[[0.         0.42544054 0.         0.54783215 0.72033345]\n",
      " [0.65249088 0.38537163 0.65249088 0.         0.        ]\n",
      " [0.         0.61335554 0.         0.78980693 0.        ]]\n"
     ]
    }
   ],
   "source": [
    "# list of text documents\n",
    "text = [\"Cats love milk.\", \"Cats are creepy\", \"I love cats.\"]\n",
    "# create the transform\n",
    "vectorizer = TfidfVectorizer()\n",
    "# tokenize and build vocab\n",
    "vectorizer.fit(text)\n",
    "# summarize\n",
    "print(sorted(vectorizer.vocabulary_.items(), key=operator.itemgetter(1)))\n",
    "# idfs\n",
    "print(vectorizer.idf_)\n",
    "# encode document\n",
    "vector = vectorizer.transform(text)\n",
    "# summarize encoded vector\n",
    "print(vector.shape)\n",
    "print(vector.toarray())"
   ]
  },
  {
   "cell_type": "code",
   "execution_count": 67,
   "metadata": {
    "ExecuteTime": {
     "end_time": "2018-03-13T16:24:31.504857Z",
     "start_time": "2018-03-13T16:24:31.488420Z"
    }
   },
   "outputs": [],
   "source": [
    "class TfidfEmbeddingVectorizer(object):\n",
    "    def __init__(self, word2vec):\n",
    "        self.word2vec = word2vec\n",
    "        self.word2weight = None\n",
    "        self.dim = word2vec.vector_size\n",
    "        \n",
    "    def fit(self, X, y):\n",
    "        tfidf = TfidfVectorizer(analyzer=lambda x: x)\n",
    "        tfidf.fit(X)\n",
    "        # if a word was never seen - it must be at least as infrequent\n",
    "        # as any of the known words - so the default idf is the max of \n",
    "        # known idf's\n",
    "        max_idf = max(tfidf.idf_)\n",
    "        self.word2weight = defaultdict(\n",
    "            lambda: max_idf, \n",
    "            [(w, tfidf.idf_[i]) for w, i in tfidf.vocabulary_.items()])\n",
    "        return self\n",
    "    \n",
    "    def transform(self, X):\n",
    "        return np.array([\n",
    "                np.mean([self.word2vec[w] * self.word2weight[w]\n",
    "                         for w in words if w in self.word2vec] or\n",
    "                        [np.zeros(self.dim)], axis=0)\n",
    "                for words in X\n",
    "            ])"
   ]
  },
  {
   "cell_type": "code",
   "execution_count": 68,
   "metadata": {
    "ExecuteTime": {
     "end_time": "2018-03-13T16:24:32.441070Z",
     "start_time": "2018-03-13T16:24:32.433821Z"
    }
   },
   "outputs": [],
   "source": [
    "tfidf_wv_svc = Pipeline([(\"tfidf_embedding_vectorizer\", TfidfEmbeddingVectorizer(w2v_model)), (\"linear_svc\", LinearSVC())])"
   ]
  },
  {
   "cell_type": "code",
   "execution_count": 69,
   "metadata": {
    "ExecuteTime": {
     "end_time": "2018-03-13T16:24:36.859466Z",
     "start_time": "2018-03-13T16:24:32.915215Z"
    }
   },
   "outputs": [
    {
     "data": {
      "text/plain": [
       "Pipeline(memory=None,\n",
       "     steps=[('tfidf_embedding_vectorizer', <__main__.TfidfEmbeddingVectorizer object at 0x7f7786c6a0b8>), ('linear_svc', LinearSVC(C=1.0, class_weight=None, dual=True, fit_intercept=True,\n",
       "     intercept_scaling=1, loss='squared_hinge', max_iter=1000,\n",
       "     multi_class='ovr', penalty='l2', random_state=None, tol=0.0001,\n",
       "     verbose=0))])"
      ]
     },
     "execution_count": 69,
     "metadata": {},
     "output_type": "execute_result"
    }
   ],
   "source": [
    "tfidf_wv_svc.fit(X_train, y_train)"
   ]
  },
  {
   "cell_type": "code",
   "execution_count": 70,
   "metadata": {
    "ExecuteTime": {
     "end_time": "2018-03-13T16:24:37.814573Z",
     "start_time": "2018-03-13T16:24:37.712349Z"
    }
   },
   "outputs": [],
   "source": [
    "y_pred_tfidf_wv_svc = tfidf_wv_svc.predict(X_test)"
   ]
  },
  {
   "cell_type": "code",
   "execution_count": 71,
   "metadata": {
    "ExecuteTime": {
     "end_time": "2018-03-13T16:24:38.539750Z",
     "start_time": "2018-03-13T16:24:38.365979Z"
    }
   },
   "outputs": [
    {
     "name": "stdout",
     "output_type": "stream",
     "text": [
      "accuracy 0.5761316872427984\n",
      "confusion matrix\n",
      " [[30  1 10  0  0  1]\n",
      " [ 4 10  8  2  4  3]\n",
      " [ 2  3 63  1 12  5]\n",
      " [ 5  2  2  4  1  2]\n",
      " [ 3  0 17  0 13  2]\n",
      " [ 6  0  5  0  2 20]]\n",
      "(row=expected, col=predicted)\n"
     ]
    },
    {
     "data": {
      "image/png": "[encoded data removed]",
      "text/plain": [
       "<Figure size 432x288 with 2 Axes>"
      ]
     },
     "metadata": {},
     "output_type": "display_data"
    }
   ],
   "source": [
    "evaluate_prediction(y_pred_tfidf_wv_svc, y_test)"
   ]
  },
  {
   "cell_type": "markdown",
   "metadata": {},
   "source": [
    "We saw 3 techniques to classify texts. The results here do not indicate the best achievable performance using these techniques. Here are some potential ways to increase the performance of these techniques:\n",
    "1. Stemming/Stop word removal.\n",
    "2. Using some other classifier (instead of linear SVC).\n",
    "3. Tuning the classifier (ofcourse!)."
   ]
  },
  {
   "cell_type": "markdown",
   "metadata": {},
   "source": [
    "## Are average word embeddings any good?\n",
    ">The prevailing view is that it lacks the ability to capture semantics of word sequences and is virtually useless for most purposes, unless combined with heavy machinery.\n",
    "\n",
    "While classification using simple word embeddings averaging may not be best model, it does provide a **decent baseline** on most tasks.\n",
    "\n",
    "There are several papers that challenge the above quoted view and point out the significant boost in accuracy (performing competitive to state-of-art) with small modifications to average word embeddings. These discussions are out of the scope this workshop. Below are a few link to some of the papers:\n",
    "- [\"In Defense of Word Embedding for Generic Text Representation\"](https://www.cs.tau.ac.il/~wolf/papers/qagg.pdf)\n",
    "- [\"All-but-the-Top: Simple and Effective Postprocessing for Word Representations\"](https://arxiv.org/pdf/1702.01417.pdf)\n",
    "- [\"Deep Unordered Composition Rivals Syntactic Methods for Text Classification\"](https://cs.umd.edu/~miyyer/pubs/2015_acl_dan.pdf)\n",
    "- [\"A Simple But Tough-To-Beat Baseline For Sentence Embeddings\"](https://openreview.net/pdf?id=SyK00v5xx)\n"
   ]
  },
  {
   "cell_type": "markdown",
   "metadata": {},
   "source": [
    "## References\n",
    "A lot of the code used in this notebook as been picked up directly/modified from various other tutorials/blogs/notebooks. Thanks to all of you guys to help speed up the creation of this notebook.\n",
    "- https://github.com/RaRe-Technologies/movie-plots-by-genre/blob/master/Document%20classification%20with%20word%20embeddings%20tutorial.ipynb - Lev Konstantinovskiy.\n",
    "- http://sujitpal.blogspot.in/2016/04/predicting-movie-tags-from-plots-using.html - Sujit Pal.\n",
    "- http://nadbordrozd.github.io/blog/2016/05/20/text-classification-with-word2vec/ - Nadbor Drozd.\n",
    "- https://machinelearningmastery.com/prepare-text-data-machine-learning-scikit-learn/ - Jason Brownlee."
   ]
  },
  {
   "cell_type": "code",
   "execution_count": null,
   "metadata": {},
   "outputs": [],
   "source": []
  },
  {
   "cell_type": "code",
   "execution_count": null,
   "metadata": {},
   "outputs": [],
   "source": []
  },
  {
   "cell_type": "code",
   "execution_count": null,
   "metadata": {},
   "outputs": [],
   "source": []
  },
  {
   "cell_type": "code",
   "execution_count": null,
   "metadata": {},
   "outputs": [],
   "source": []
  },
  {
   "cell_type": "markdown",
   "metadata": {},
   "source": [
    "# Appendix"
   ]
  },
  {
   "cell_type": "markdown",
   "metadata": {},
   "source": [
    "<a id='solution1'></a>\n",
    "### Solution to Exercise1"
   ]
  },
  {
   "cell_type": "code",
   "execution_count": 20,
   "metadata": {
    "ExecuteTime": {
     "end_time": "2018-03-13T15:44:44.865891Z",
     "start_time": "2018-03-13T15:44:44.862261Z"
    }
   },
   "outputs": [],
   "source": [
    "def find_anology(model, wordA, wordB, wordC):\n",
    "    resultant_vector = model.wv.word_vec(wordB, use_norm=True) + model.wv.word_vec(wordC, use_norm=True) - model.wv.word_vec(wordA, use_norm=True)\n",
    "    return model.wv.similar_by_vector(resultant_vector, topn=5)"
   ]
  },
  {
   "cell_type": "code",
   "execution_count": 21,
   "metadata": {
    "ExecuteTime": {
     "end_time": "2018-03-13T15:44:46.942426Z",
     "start_time": "2018-03-13T15:44:46.925365Z"
    }
   },
   "outputs": [
    {
     "data": {
      "text/plain": [
       "[('man', 0.8471537828445435),\n",
       " ('woman', 0.7785832285881042),\n",
       " ('girl', 0.751091718673706),\n",
       " ('cow', 0.6999955177307129),\n",
       " ('lady', 0.677079975605011)]"
      ]
     },
     "execution_count": 21,
     "metadata": {},
     "output_type": "execute_result"
    }
   ],
   "source": [
    "find_anology(model_text8, 'king', 'man', 'queen')"
   ]
  },
  {
   "cell_type": "markdown",
   "metadata": {},
   "source": [
    "Are you surprised by the results? Why is 'woman' not the closest but it's rather 'man'. The explanation for this is a little out of scope of this tutorial. Have a look at this [video](https://www.coursera.org/learn/language-processing/lecture/lpSIA/word-analogies-without-magic-king-man-woman-queen) in case you are interested. "
   ]
  },
  {
   "cell_type": "code",
   "execution_count": 22,
   "metadata": {
    "ExecuteTime": {
     "end_time": "2018-03-13T15:44:48.806230Z",
     "start_time": "2018-03-13T15:44:48.797030Z"
    }
   },
   "outputs": [
    {
     "data": {
      "text/plain": [
       "[('woman', 0.7785832285881042),\n",
       " ('girl', 0.751091718673706),\n",
       " ('cow', 0.6999955177307129)]"
      ]
     },
     "execution_count": 22,
     "metadata": {},
     "output_type": "execute_result"
    }
   ],
   "source": [
    "# a general `Gensim` API for the same purpose as exercise 1\n",
    "model_text8.wv.most_similar(positive=['man', 'queen'], negative=['king'], topn=3)"
   ]
  },
  {
   "cell_type": "markdown",
   "metadata": {},
   "source": [
    "[Back to Exercise 1](#exercise1)"
   ]
  },
  {
   "cell_type": "markdown",
   "metadata": {},
   "source": [
    "<a id='solution2'></a>\n",
    "### Solution to Exercise2"
   ]
  },
  {
   "cell_type": "code",
   "execution_count": 23,
   "metadata": {
    "ExecuteTime": {
     "end_time": "2018-03-13T15:44:51.164126Z",
     "start_time": "2018-03-13T15:44:51.159529Z"
    }
   },
   "outputs": [],
   "source": [
    "def oddword(words_list):\n",
    "    words_norm_vectors = np.array([model_text8.wv.word_vec(word, use_norm=True) for word in words_list])\n",
    "    vectors_mean = np.sum(words_norm_vectors, axis=0) / float(len(words_list))\n",
    "    odd_word_index = np.argsort(model_text8.wv.cosine_similarities(vectors_mean, words_norm_vectors))[0]\n",
    "    return words_list[odd_word_index]"
   ]
  },
  {
   "cell_type": "code",
   "execution_count": 24,
   "metadata": {
    "ExecuteTime": {
     "end_time": "2018-03-13T15:44:51.747562Z",
     "start_time": "2018-03-13T15:44:51.736356Z"
    }
   },
   "outputs": [
    {
     "data": {
      "text/plain": [
       "'cold'"
      ]
     },
     "execution_count": 24,
     "metadata": {},
     "output_type": "execute_result"
    }
   ],
   "source": [
    "oddword(['summer', 'winter', 'spring', 'cold'])"
   ]
  },
  {
   "cell_type": "code",
   "execution_count": 25,
   "metadata": {
    "ExecuteTime": {
     "end_time": "2018-03-13T15:44:53.095943Z",
     "start_time": "2018-03-13T15:44:53.085980Z"
    }
   },
   "outputs": [
    {
     "data": {
      "text/plain": [
       "'cold'"
      ]
     },
     "execution_count": 25,
     "metadata": {},
     "output_type": "execute_result"
    }
   ],
   "source": [
    "# a general `Gensim` API for the same purpose as exercise 2\n",
    "model_text8.wv.doesnt_match(['summer', 'winter', 'spring', 'cold'])"
   ]
  },
  {
   "cell_type": "markdown",
   "metadata": {},
   "source": [
    "[Back to Exercise 2](#exercise2)"
   ]
  },
  {
   "cell_type": "code",
   "execution_count": null,
   "metadata": {},
   "outputs": [],
   "source": []
  }
 ],
 "metadata": {
  "kernelspec": {
   "display_name": "Python 2",
   "language": "python",
   "name": "python2"
  },
  "language_info": {
   "codemirror_mode": {
    "name": "ipython",
    "version": 3
   },
   "file_extension": ".py",
   "mimetype": "text/x-python",
   "name": "python",
   "nbconvert_exporter": "python",
   "pygments_lexer": "ipython3",
   "version": "3.6.3"
  }
 },
 "nbformat": 4,
 "nbformat_minor": 2
}
