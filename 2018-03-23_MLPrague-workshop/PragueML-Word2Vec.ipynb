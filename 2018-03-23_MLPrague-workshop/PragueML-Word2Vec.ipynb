{
 "cells": [
  {
   "cell_type": "markdown",
   "metadata": {},
   "source": [
    "# ML Prague - Word Embeddings 1: Word2Vec & Application\n",
    "Objectives of this notebook:\n",
    "1. Demonstrate training/utilization of a `Word2Vec` model using `Gensim`.\n",
    "2. Familiarization with `Gensim` APIs.\n",
    "3. Application of word embeddings on a supervised text classification task."
   ]
  },
  {
   "cell_type": "markdown",
   "metadata": {},
   "source": [
    "### Requirements:\n",
    "- Python3.5\n",
    "- gensim\n",
    "- pandas\n",
    "- matplotlib\n",
    "- sklearn"
   ]
  },
  {
   "cell_type": "code",
   "execution_count": 1,
   "metadata": {
    "ExecuteTime": {
     "end_time": "2018-03-16T14:09:21.036289Z",
     "start_time": "2018-03-16T14:09:20.672714Z"
    }
   },
   "outputs": [],
   "source": [
    "# imports\n",
    "\n",
    "from __future__ import print_function\n",
    "import logging\n",
    "import gensim\n",
    "from gensim.models import Word2Vec\n",
    "from gensim.models.word2vec import Text8Corpus\n",
    "from gensim.parsing import preprocess_string\n",
    "from gensim.parsing.preprocessing import strip_punctuation, strip_numeric, strip_multiple_whitespaces, strip_short\n",
    "import gensim.downloader as api\n",
    "import numpy as np\n",
    "from collections import defaultdict\n",
    "import multiprocessing\n",
    "from smart_open import smart_open"
   ]
  },
  {
   "cell_type": "code",
   "execution_count": 2,
   "metadata": {
    "ExecuteTime": {
     "end_time": "2018-03-16T14:09:21.641442Z",
     "start_time": "2018-03-16T14:09:21.612484Z"
    }
   },
   "outputs": [
    {
     "data": {
      "text/plain": [
       "1"
      ]
     },
     "execution_count": 2,
     "metadata": {},
     "output_type": "execute_result"
    }
   ],
   "source": [
    "# ensure FAST_VERSION > -1 - would be painfully slow to train models otherwise.\n",
    "# A good BLAS library is recommended to make use of heavy low level optimisations.\n",
    "gensim.models.word2vec.FAST_VERSION"
   ]
  },
  {
   "cell_type": "code",
   "execution_count": 3,
   "metadata": {
    "ExecuteTime": {
     "end_time": "2018-03-16T14:09:22.288964Z",
     "start_time": "2018-03-16T14:09:22.280824Z"
    }
   },
   "outputs": [],
   "source": [
    "logging.basicConfig(format='%(asctime)s : %(levelname)s : %(message)s', level=logging.INFO)"
   ]
  },
  {
   "cell_type": "markdown",
   "metadata": {
    "ExecuteTime": {
     "end_time": "2018-03-11T14:35:02.829190Z",
     "start_time": "2018-03-11T14:35:02.826128Z"
    }
   },
   "source": [
    "## Training a `Word2Vec` model\n",
    "Train a Word2Vec model on `text8`."
   ]
  },
  {
   "cell_type": "markdown",
   "metadata": {},
   "source": [
    "### Input to model\n",
    "> Keeping the input as a Python built-in list is convenient, but can use up a lot of RAM when the input is large.\n",
    "> Gensim only requires that the input must provide sentences sequentially, when iterated over. No need to keep everything in RAM: we can provide one sentence, process it, forget it, load another sentence…\n",
    "\n",
    "The input to `Word2Vec` can be simply a list of lists of tokens, but for larger corpora, it is better to give it an iterable that streams the sentences directly from disk/network."
   ]
  },
  {
   "cell_type": "code",
   "execution_count": 4,
   "metadata": {
    "ExecuteTime": {
     "end_time": "2018-03-16T14:09:24.693171Z",
     "start_time": "2018-03-16T14:09:24.247760Z"
    }
   },
   "outputs": [],
   "source": [
    "# a memory-friendly iterator\n",
    "# text8_corpus = Text8Corpus('./data/text8')\n",
    "text8_corpus = api.load(\"text8\")"
   ]
  },
  {
   "cell_type": "code",
   "execution_count": 5,
   "metadata": {
    "ExecuteTime": {
     "end_time": "2018-03-16T14:10:17.041620Z",
     "start_time": "2018-03-16T14:09:25.937867Z"
    },
    "scrolled": true
   },
   "outputs": [
    {
     "name": "stderr",
     "output_type": "stream",
     "text": [
      "2018-03-16 19:39:25,939 : WARNING : consider setting layer size to a multiple of 4 for greater performance\n",
      "2018-03-16 19:39:25,940 : INFO : collecting all words and their counts\n",
      "2018-03-16 19:39:25,942 : INFO : PROGRESS: at sentence #0, processed 0 words, keeping 0 word types\n",
      "2018-03-16 19:39:29,810 : INFO : collected 253854 word types from a corpus of 17005207 raw words and 1701 sentences\n",
      "2018-03-16 19:39:29,810 : INFO : Loading a fresh vocabulary\n",
      "2018-03-16 19:39:30,025 : INFO : min_count=5 retains 71290 unique words (28% of original 253854, drops 182564)\n",
      "2018-03-16 19:39:30,025 : INFO : min_count=5 leaves 16718844 word corpus (98% of original 17005207, drops 286363)\n",
      "2018-03-16 19:39:30,164 : INFO : deleting the raw counts dictionary of 253854 items\n",
      "2018-03-16 19:39:30,176 : INFO : sample=0.001 downsamples 38 most-common words\n",
      "2018-03-16 19:39:30,177 : INFO : downsampling leaves estimated 12506280 word corpus (74.8% of prior 16718844)\n",
      "2018-03-16 19:39:30,367 : INFO : estimated required memory for 71290 words and 50 dimensions: 64161000 bytes\n",
      "2018-03-16 19:39:30,367 : INFO : resetting layer weights\n",
      "2018-03-16 19:39:30,853 : INFO : training model with 8 workers on 71290 vocabulary and 50 features, using sg=0 hs=0 sample=0.001 negative=5 window=5\n",
      "2018-03-16 19:39:31,862 : INFO : EPOCH 1 - PROGRESS: at 10.82% examples, 1334158 words/s, in_qsize 0, out_qsize 0\n",
      "2018-03-16 19:39:32,864 : INFO : EPOCH 1 - PROGRESS: at 21.93% examples, 1360456 words/s, in_qsize 0, out_qsize 0\n",
      "2018-03-16 19:39:33,867 : INFO : EPOCH 1 - PROGRESS: at 32.92% examples, 1369351 words/s, in_qsize 0, out_qsize 0\n",
      "2018-03-16 19:39:34,868 : INFO : EPOCH 1 - PROGRESS: at 43.92% examples, 1372013 words/s, in_qsize 0, out_qsize 0\n",
      "2018-03-16 19:39:35,871 : INFO : EPOCH 1 - PROGRESS: at 54.91% examples, 1373419 words/s, in_qsize 0, out_qsize 0\n",
      "2018-03-16 19:39:36,880 : INFO : EPOCH 1 - PROGRESS: at 65.90% examples, 1371991 words/s, in_qsize 0, out_qsize 0\n",
      "2018-03-16 19:39:37,883 : INFO : EPOCH 1 - PROGRESS: at 76.95% examples, 1371600 words/s, in_qsize 0, out_qsize 0\n",
      "2018-03-16 19:39:38,886 : INFO : EPOCH 1 - PROGRESS: at 87.89% examples, 1370114 words/s, in_qsize 0, out_qsize 0\n",
      "2018-03-16 19:39:39,887 : INFO : EPOCH 1 - PROGRESS: at 98.82% examples, 1368874 words/s, in_qsize 0, out_qsize 0\n",
      "2018-03-16 19:39:39,986 : INFO : worker thread finished; awaiting finish of 7 more threads\n",
      "2018-03-16 19:39:39,988 : INFO : worker thread finished; awaiting finish of 6 more threads\n",
      "2018-03-16 19:39:39,989 : INFO : worker thread finished; awaiting finish of 5 more threads\n",
      "2018-03-16 19:39:39,990 : INFO : worker thread finished; awaiting finish of 4 more threads\n",
      "2018-03-16 19:39:39,991 : INFO : worker thread finished; awaiting finish of 3 more threads\n",
      "2018-03-16 19:39:39,993 : INFO : worker thread finished; awaiting finish of 2 more threads\n",
      "2018-03-16 19:39:39,994 : INFO : worker thread finished; awaiting finish of 1 more threads\n",
      "2018-03-16 19:39:39,996 : INFO : worker thread finished; awaiting finish of 0 more threads\n",
      "2018-03-16 19:39:39,996 : INFO : EPOCH - 1 : training on 17005207 raw words (12508319 effective words) took 9.1s, 1368495 effective words/s\n",
      "2018-03-16 19:39:40,999 : INFO : EPOCH 2 - PROGRESS: at 11.05% examples, 1369738 words/s, in_qsize 0, out_qsize 0\n",
      "2018-03-16 19:39:42,004 : INFO : EPOCH 2 - PROGRESS: at 22.05% examples, 1369447 words/s, in_qsize 0, out_qsize 0\n",
      "2018-03-16 19:39:43,004 : INFO : EPOCH 2 - PROGRESS: at 33.22% examples, 1384231 words/s, in_qsize 0, out_qsize 0\n",
      "2018-03-16 19:39:44,005 : INFO : EPOCH 2 - PROGRESS: at 43.92% examples, 1373884 words/s, in_qsize 0, out_qsize 0\n",
      "2018-03-16 19:39:45,013 : INFO : EPOCH 2 - PROGRESS: at 54.85% examples, 1371864 words/s, in_qsize 0, out_qsize 0\n",
      "2018-03-16 19:39:46,015 : INFO : EPOCH 2 - PROGRESS: at 65.73% examples, 1370150 words/s, in_qsize 0, out_qsize 0\n",
      "2018-03-16 19:39:47,019 : INFO : EPOCH 2 - PROGRESS: at 76.84% examples, 1370839 words/s, in_qsize 0, out_qsize 0\n",
      "2018-03-16 19:39:48,020 : INFO : EPOCH 2 - PROGRESS: at 87.54% examples, 1365836 words/s, in_qsize 0, out_qsize 0\n",
      "2018-03-16 19:39:49,025 : INFO : EPOCH 2 - PROGRESS: at 98.71% examples, 1367799 words/s, in_qsize 0, out_qsize 0\n",
      "2018-03-16 19:39:49,139 : INFO : worker thread finished; awaiting finish of 7 more threads\n",
      "2018-03-16 19:39:49,141 : INFO : worker thread finished; awaiting finish of 6 more threads\n",
      "2018-03-16 19:39:49,142 : INFO : worker thread finished; awaiting finish of 5 more threads\n",
      "2018-03-16 19:39:49,143 : INFO : worker thread finished; awaiting finish of 4 more threads\n",
      "2018-03-16 19:39:49,143 : INFO : worker thread finished; awaiting finish of 3 more threads\n",
      "2018-03-16 19:39:49,144 : INFO : worker thread finished; awaiting finish of 2 more threads\n",
      "2018-03-16 19:39:49,148 : INFO : worker thread finished; awaiting finish of 1 more threads\n",
      "2018-03-16 19:39:49,152 : INFO : worker thread finished; awaiting finish of 0 more threads\n",
      "2018-03-16 19:39:49,152 : INFO : EPOCH - 2 : training on 17005207 raw words (12506772 effective words) took 9.2s, 1366355 effective words/s\n",
      "2018-03-16 19:39:50,156 : INFO : EPOCH 3 - PROGRESS: at 10.99% examples, 1361826 words/s, in_qsize 0, out_qsize 0\n",
      "2018-03-16 19:39:51,157 : INFO : EPOCH 3 - PROGRESS: at 22.05% examples, 1371183 words/s, in_qsize 0, out_qsize 0\n",
      "2018-03-16 19:39:52,159 : INFO : EPOCH 3 - PROGRESS: at 32.63% examples, 1359454 words/s, in_qsize 0, out_qsize 0\n",
      "2018-03-16 19:39:53,162 : INFO : EPOCH 3 - PROGRESS: at 43.50% examples, 1360406 words/s, in_qsize 0, out_qsize 0\n",
      "2018-03-16 19:39:54,163 : INFO : EPOCH 3 - PROGRESS: at 54.32% examples, 1360324 words/s, in_qsize 0, out_qsize 0\n",
      "2018-03-16 19:39:55,166 : INFO : EPOCH 3 - PROGRESS: at 64.49% examples, 1345250 words/s, in_qsize 0, out_qsize 0\n",
      "2018-03-16 19:39:56,169 : INFO : EPOCH 3 - PROGRESS: at 74.72% examples, 1335886 words/s, in_qsize 0, out_qsize 0\n",
      "2018-03-16 19:39:57,174 : INFO : EPOCH 3 - PROGRESS: at 85.24% examples, 1330283 words/s, in_qsize 0, out_qsize 0\n",
      "2018-03-16 19:39:58,175 : INFO : EPOCH 3 - PROGRESS: at 95.59% examples, 1325825 words/s, in_qsize 0, out_qsize 0\n",
      "2018-03-16 19:39:58,589 : INFO : worker thread finished; awaiting finish of 7 more threads\n",
      "2018-03-16 19:39:58,593 : INFO : worker thread finished; awaiting finish of 6 more threads\n",
      "2018-03-16 19:39:58,594 : INFO : worker thread finished; awaiting finish of 5 more threads\n",
      "2018-03-16 19:39:58,594 : INFO : worker thread finished; awaiting finish of 4 more threads\n",
      "2018-03-16 19:39:58,595 : INFO : worker thread finished; awaiting finish of 3 more threads\n",
      "2018-03-16 19:39:58,597 : INFO : worker thread finished; awaiting finish of 2 more threads\n",
      "2018-03-16 19:39:58,600 : INFO : worker thread finished; awaiting finish of 1 more threads\n",
      "2018-03-16 19:39:58,602 : INFO : worker thread finished; awaiting finish of 0 more threads\n",
      "2018-03-16 19:39:58,602 : INFO : EPOCH - 3 : training on 17005207 raw words (12505788 effective words) took 9.4s, 1323662 effective words/s\n",
      "2018-03-16 19:39:59,608 : INFO : EPOCH 4 - PROGRESS: at 10.82% examples, 1338333 words/s, in_qsize 0, out_qsize 0\n",
      "2018-03-16 19:40:00,611 : INFO : EPOCH 4 - PROGRESS: at 21.75% examples, 1351000 words/s, in_qsize 0, out_qsize 0\n",
      "2018-03-16 19:40:01,615 : INFO : EPOCH 4 - PROGRESS: at 32.16% examples, 1337593 words/s, in_qsize 0, out_qsize 0\n",
      "2018-03-16 19:40:02,617 : INFO : EPOCH 4 - PROGRESS: at 42.97% examples, 1342968 words/s, in_qsize 0, out_qsize 0\n",
      "2018-03-16 19:40:03,617 : INFO : EPOCH 4 - PROGRESS: at 53.85% examples, 1347195 words/s, in_qsize 1, out_qsize 0\n",
      "2018-03-16 19:40:04,618 : INFO : EPOCH 4 - PROGRESS: at 64.73% examples, 1349869 words/s, in_qsize 0, out_qsize 0\n",
      "2018-03-16 19:40:05,622 : INFO : EPOCH 4 - PROGRESS: at 75.78% examples, 1352993 words/s, in_qsize 0, out_qsize 0\n",
      "2018-03-16 19:40:06,624 : INFO : EPOCH 4 - PROGRESS: at 86.60% examples, 1351535 words/s, in_qsize 0, out_qsize 0\n",
      "2018-03-16 19:40:07,628 : INFO : EPOCH 4 - PROGRESS: at 97.53% examples, 1351890 words/s, in_qsize 0, out_qsize 0\n",
      "2018-03-16 19:40:07,843 : INFO : worker thread finished; awaiting finish of 7 more threads\n",
      "2018-03-16 19:40:07,846 : INFO : worker thread finished; awaiting finish of 6 more threads\n",
      "2018-03-16 19:40:07,847 : INFO : worker thread finished; awaiting finish of 5 more threads\n"
     ]
    },
    {
     "name": "stderr",
     "output_type": "stream",
     "text": [
      "2018-03-16 19:40:07,848 : INFO : worker thread finished; awaiting finish of 4 more threads\n",
      "2018-03-16 19:40:07,848 : INFO : worker thread finished; awaiting finish of 3 more threads\n",
      "2018-03-16 19:40:07,849 : INFO : worker thread finished; awaiting finish of 2 more threads\n",
      "2018-03-16 19:40:07,853 : INFO : worker thread finished; awaiting finish of 1 more threads\n",
      "2018-03-16 19:40:07,855 : INFO : worker thread finished; awaiting finish of 0 more threads\n",
      "2018-03-16 19:40:07,855 : INFO : EPOCH - 4 : training on 17005207 raw words (12505202 effective words) took 9.3s, 1351868 effective words/s\n",
      "2018-03-16 19:40:08,862 : INFO : EPOCH 5 - PROGRESS: at 10.93% examples, 1350861 words/s, in_qsize 0, out_qsize 0\n",
      "2018-03-16 19:40:09,862 : INFO : EPOCH 5 - PROGRESS: at 21.75% examples, 1351375 words/s, in_qsize 0, out_qsize 0\n",
      "2018-03-16 19:40:10,867 : INFO : EPOCH 5 - PROGRESS: at 32.63% examples, 1357540 words/s, in_qsize 0, out_qsize 0\n",
      "2018-03-16 19:40:11,871 : INFO : EPOCH 5 - PROGRESS: at 43.62% examples, 1362042 words/s, in_qsize 0, out_qsize 0\n",
      "2018-03-16 19:40:12,875 : INFO : EPOCH 5 - PROGRESS: at 54.61% examples, 1365470 words/s, in_qsize 0, out_qsize 0\n",
      "2018-03-16 19:40:13,876 : INFO : EPOCH 5 - PROGRESS: at 65.43% examples, 1363295 words/s, in_qsize 0, out_qsize 0\n",
      "2018-03-16 19:40:14,879 : INFO : EPOCH 5 - PROGRESS: at 76.54% examples, 1365592 words/s, in_qsize 0, out_qsize 0\n",
      "2018-03-16 19:40:15,884 : INFO : EPOCH 5 - PROGRESS: at 87.65% examples, 1366694 words/s, in_qsize 0, out_qsize 0\n",
      "2018-03-16 19:40:16,887 : INFO : EPOCH 5 - PROGRESS: at 98.59% examples, 1365463 words/s, in_qsize 0, out_qsize 0\n",
      "2018-03-16 19:40:17,022 : INFO : worker thread finished; awaiting finish of 7 more threads\n",
      "2018-03-16 19:40:17,026 : INFO : worker thread finished; awaiting finish of 6 more threads\n",
      "2018-03-16 19:40:17,027 : INFO : worker thread finished; awaiting finish of 5 more threads\n",
      "2018-03-16 19:40:17,028 : INFO : worker thread finished; awaiting finish of 4 more threads\n",
      "2018-03-16 19:40:17,028 : INFO : worker thread finished; awaiting finish of 3 more threads\n",
      "2018-03-16 19:40:17,029 : INFO : worker thread finished; awaiting finish of 2 more threads\n",
      "2018-03-16 19:40:17,033 : INFO : worker thread finished; awaiting finish of 1 more threads\n",
      "2018-03-16 19:40:17,038 : INFO : worker thread finished; awaiting finish of 0 more threads\n",
      "2018-03-16 19:40:17,039 : INFO : EPOCH - 5 : training on 17005207 raw words (12504458 effective words) took 9.2s, 1362030 effective words/s\n",
      "2018-03-16 19:40:17,039 : INFO : training on a 85026035 raw words (62530539 effective words) took 46.2s, 1353890 effective words/s\n"
     ]
    },
    {
     "name": "stdout",
     "output_type": "stream",
     "text": [
      "CPU times: user 2min 18s, sys: 554 ms, total: 2min 18s\n",
      "Wall time: 51.1 s\n"
     ]
    }
   ],
   "source": [
    "%%time\n",
    "# train a `Word2Vec` model on text8 corpus\n",
    "model_text8 = Word2Vec(text8_corpus, size=50, iter=5, workers=multiprocessing.cpu_count())"
   ]
  },
  {
   "cell_type": "code",
   "execution_count": 6,
   "metadata": {
    "ExecuteTime": {
     "end_time": "2018-03-16T14:10:23.081757Z",
     "start_time": "2018-03-16T14:10:23.078878Z"
    }
   },
   "outputs": [
    {
     "name": "stdout",
     "output_type": "stream",
     "text": [
      "Vocabulary size: 71290\n",
      "Word embeddings matrix shape: (71290, 50)\n"
     ]
    }
   ],
   "source": [
    "print('Vocabulary size: %d' % len(model_text8.wv.vocab))\n",
    "print('Word embeddings matrix shape: %s' % str(model_text8.wv.vectors.shape))"
   ]
  },
  {
   "cell_type": "code",
   "execution_count": 7,
   "metadata": {
    "ExecuteTime": {
     "end_time": "2018-03-16T14:10:25.469844Z",
     "start_time": "2018-03-16T14:10:25.461737Z"
    }
   },
   "outputs": [
    {
     "name": "stdout",
     "output_type": "stream",
     "text": [
      "(50,)\n",
      "[-0.7363253  -0.7698319  -2.161234    1.8797802   1.8838582  -0.61061037\n",
      " -0.5383405  -2.133828   -0.68833065 -0.10650415 -0.24838784  1.5571764\n",
      " -0.8427832  -0.02156999  0.7700771  -2.1056738  -0.9743759   0.7191005\n",
      "  0.20312783  0.37702537  2.2272766  -1.5752097   1.9310025   1.2130426\n",
      " -0.877288   -1.7829348   0.77611804  0.26973087  0.10641273  1.1630018\n",
      "  0.62264276 -0.1852066  -3.1199906  -1.0965742   0.9005597  -1.5732603\n",
      " -1.0926528   0.4082306   1.1780012  -1.0390066   0.08202986 -0.19231902\n",
      " -0.6978721   1.6477512  -0.08070126 -2.411931    0.15882789 -1.6322138\n",
      "  1.3808848  -0.949999  ]\n",
      "[-0.7363253  -0.7698319  -2.161234    1.8797802   1.8838582  -0.61061037\n",
      " -0.5383405  -2.133828   -0.68833065 -0.10650415 -0.24838784  1.5571764\n",
      " -0.8427832  -0.02156999  0.7700771  -2.1056738  -0.9743759   0.7191005\n",
      "  0.20312783  0.37702537  2.2272766  -1.5752097   1.9310025   1.2130426\n",
      " -0.877288   -1.7829348   0.77611804  0.26973087  0.10641273  1.1630018\n",
      "  0.62264276 -0.1852066  -3.1199906  -1.0965742   0.9005597  -1.5732603\n",
      " -1.0926528   0.4082306   1.1780012  -1.0390066   0.08202986 -0.19231902\n",
      " -0.6978721   1.6477512  -0.08070126 -2.411931    0.15882789 -1.6322138\n",
      "  1.3808848  -0.949999  ]\n"
     ]
    }
   ],
   "source": [
    "# get a word's vector\n",
    "print(model_text8.wv['cat'].shape)\n",
    "print(model_text8.wv['cat'])\n",
    "print(model_text8.wv.word_vec('cat', use_norm=False))"
   ]
  },
  {
   "cell_type": "code",
   "execution_count": 8,
   "metadata": {
    "ExecuteTime": {
     "end_time": "2018-03-16T14:10:27.049620Z",
     "start_time": "2018-03-16T14:10:27.026882Z"
    }
   },
   "outputs": [
    {
     "name": "stderr",
     "output_type": "stream",
     "text": [
      "2018-03-16 19:40:27,027 : INFO : precomputing L2-norms of word weight vectors\n"
     ]
    },
    {
     "name": "stdout",
     "output_type": "stream",
     "text": [
      "[-0.08225468 -0.08599769 -0.24143077  0.20998967  0.21044523 -0.06821109\n",
      " -0.06013785 -0.23836927 -0.0768932  -0.01189755 -0.02774733  0.1739517\n",
      " -0.09414706 -0.00240958  0.08602508 -0.23522417 -0.10884723  0.08033049\n",
      "  0.02269135  0.04211739  0.24880838 -0.1759662   0.2157117   0.13550863\n",
      " -0.09800157 -0.1991711   0.08669991  0.03013155  0.01188733  0.12991858\n",
      "  0.06955523 -0.02068937 -0.34853318 -0.12249797  0.10060125 -0.17574842\n",
      " -0.12205991  0.04560332  0.13159415 -0.11606711  0.00916353 -0.0214839\n",
      " -0.07795908  0.18406978 -0.00901511 -0.2694361   0.01774262 -0.18233411\n",
      "  0.15425822 -0.1061241 ]\n"
     ]
    }
   ],
   "source": [
    "# get a word's normalized vector\n",
    "model_text8.wv.init_sims()\n",
    "print(model_text8.wv.word_vec('cat', use_norm=True))"
   ]
  },
  {
   "cell_type": "markdown",
   "metadata": {},
   "source": [
    "## Online training\n",
    "Continue training on more corpus/data. The new corpus can have new vocabulary words."
   ]
  },
  {
   "cell_type": "code",
   "execution_count": 9,
   "metadata": {
    "ExecuteTime": {
     "end_time": "2018-03-16T14:10:46.538942Z",
     "start_time": "2018-03-16T14:10:46.518307Z"
    }
   },
   "outputs": [],
   "source": [
    "# Gensim only requires that the input must provide sentences sequentially, when iterated over.\n",
    "# yield one sentence (list of utf8 words) after another.\n",
    "class MySentences(object):\n",
    "    def __init__(self, filename):\n",
    "        self._fname = filename\n",
    "\n",
    "    def __iter__(self):\n",
    "        for line in smart_open(self._fname, 'rb'):\n",
    "            cleaned_words = [word for word in preprocess_string(line.decode('utf-8'))]\n",
    "            if cleaned_words:\n",
    "                yield cleaned_words"
   ]
  },
  {
   "cell_type": "code",
   "execution_count": 10,
   "metadata": {
    "ExecuteTime": {
     "end_time": "2018-03-16T14:10:47.902866Z",
     "start_time": "2018-03-16T14:10:47.900428Z"
    }
   },
   "outputs": [],
   "source": [
    "new_sentences = MySentences('data/article-about-rare-words.txt')"
   ]
  },
  {
   "cell_type": "code",
   "execution_count": 11,
   "metadata": {
    "ExecuteTime": {
     "end_time": "2018-03-16T14:10:58.694395Z",
     "start_time": "2018-03-16T14:10:58.530473Z"
    }
   },
   "outputs": [
    {
     "name": "stderr",
     "output_type": "stream",
     "text": [
      "2018-03-16 19:40:58,531 : INFO : collecting all words and their counts\n",
      "2018-03-16 19:40:58,533 : INFO : PROGRESS: at sentence #0, processed 0 words, keeping 0 word types\n",
      "2018-03-16 19:40:58,541 : INFO : collected 235 word types from a corpus of 324 raw words and 45 sentences\n",
      "2018-03-16 19:40:58,541 : INFO : Updating model with new vocabulary\n",
      "2018-03-16 19:40:58,542 : INFO : New added 235 unique words (50% of original 470) and increased the count of 235 pre-existing words (50% of original 470)\n",
      "2018-03-16 19:40:58,546 : INFO : deleting the raw counts dictionary of 235 items\n",
      "2018-03-16 19:40:58,547 : INFO : sample=0.001 downsamples 470 most-common words\n",
      "2018-03-16 19:40:58,548 : INFO : downsampling leaves estimated 448 word corpus (138.5% of prior 324)\n",
      "2018-03-16 19:40:58,682 : INFO : estimated required memory for 470 words and 50 dimensions: 423000 bytes\n",
      "2018-03-16 19:40:58,683 : INFO : updating layer weights\n"
     ]
    }
   ],
   "source": [
    "# update vocabulary with new words (if any)\n",
    "model_text8.build_vocab(new_sentences, update=True, min_count=1)"
   ]
  },
  {
   "cell_type": "code",
   "execution_count": 12,
   "metadata": {
    "ExecuteTime": {
     "end_time": "2018-03-16T14:10:59.426853Z",
     "start_time": "2018-03-16T14:10:59.345394Z"
    }
   },
   "outputs": [
    {
     "name": "stderr",
     "output_type": "stream",
     "text": [
      "/encrypted/virtualenvironments/gensim_workshop_py3.5/lib/python3.5/site-packages/ipykernel_launcher.py:2: DeprecationWarning: Call to deprecated `iter` (Attribute will be removed in 4.0.0, use self.epochs instead).\n",
      "  \n",
      "2018-03-16 19:40:59,363 : WARNING : Effective 'alpha' higher than previous training cycles\n",
      "2018-03-16 19:40:59,364 : INFO : training model with 8 workers on 71407 vocabulary and 50 features, using sg=0 hs=0 sample=0.001 negative=5 window=5\n",
      "2018-03-16 19:40:59,372 : INFO : worker thread finished; awaiting finish of 7 more threads\n",
      "2018-03-16 19:40:59,372 : INFO : worker thread finished; awaiting finish of 6 more threads\n",
      "2018-03-16 19:40:59,373 : INFO : worker thread finished; awaiting finish of 5 more threads\n",
      "2018-03-16 19:40:59,373 : INFO : worker thread finished; awaiting finish of 4 more threads\n",
      "2018-03-16 19:40:59,374 : INFO : worker thread finished; awaiting finish of 3 more threads\n",
      "2018-03-16 19:40:59,374 : INFO : worker thread finished; awaiting finish of 2 more threads\n",
      "2018-03-16 19:40:59,375 : INFO : worker thread finished; awaiting finish of 1 more threads\n",
      "2018-03-16 19:40:59,376 : INFO : worker thread finished; awaiting finish of 0 more threads\n",
      "2018-03-16 19:40:59,376 : INFO : EPOCH - 1 : training on 324 raw words (240 effective words) took 0.0s, 26822 effective words/s\n",
      "2018-03-16 19:40:59,385 : INFO : worker thread finished; awaiting finish of 7 more threads\n",
      "2018-03-16 19:40:59,385 : INFO : worker thread finished; awaiting finish of 6 more threads\n",
      "2018-03-16 19:40:59,386 : INFO : worker thread finished; awaiting finish of 5 more threads\n",
      "2018-03-16 19:40:59,386 : INFO : worker thread finished; awaiting finish of 4 more threads\n",
      "2018-03-16 19:40:59,387 : INFO : worker thread finished; awaiting finish of 3 more threads\n",
      "2018-03-16 19:40:59,387 : INFO : worker thread finished; awaiting finish of 2 more threads\n",
      "2018-03-16 19:40:59,387 : INFO : worker thread finished; awaiting finish of 1 more threads\n",
      "2018-03-16 19:40:59,388 : INFO : worker thread finished; awaiting finish of 0 more threads\n",
      "2018-03-16 19:40:59,388 : INFO : EPOCH - 2 : training on 324 raw words (235 effective words) took 0.0s, 27324 effective words/s\n",
      "2018-03-16 19:40:59,395 : INFO : worker thread finished; awaiting finish of 7 more threads\n",
      "2018-03-16 19:40:59,396 : INFO : worker thread finished; awaiting finish of 6 more threads\n",
      "2018-03-16 19:40:59,396 : INFO : worker thread finished; awaiting finish of 5 more threads\n",
      "2018-03-16 19:40:59,396 : INFO : worker thread finished; awaiting finish of 4 more threads\n",
      "2018-03-16 19:40:59,397 : INFO : worker thread finished; awaiting finish of 3 more threads\n",
      "2018-03-16 19:40:59,397 : INFO : worker thread finished; awaiting finish of 2 more threads\n",
      "2018-03-16 19:40:59,398 : INFO : worker thread finished; awaiting finish of 1 more threads\n",
      "2018-03-16 19:40:59,398 : INFO : worker thread finished; awaiting finish of 0 more threads\n",
      "2018-03-16 19:40:59,398 : INFO : EPOCH - 3 : training on 324 raw words (224 effective words) took 0.0s, 29238 effective words/s\n",
      "2018-03-16 19:40:59,406 : INFO : worker thread finished; awaiting finish of 7 more threads\n",
      "2018-03-16 19:40:59,407 : INFO : worker thread finished; awaiting finish of 6 more threads\n",
      "2018-03-16 19:40:59,407 : INFO : worker thread finished; awaiting finish of 5 more threads\n",
      "2018-03-16 19:40:59,408 : INFO : worker thread finished; awaiting finish of 4 more threads\n",
      "2018-03-16 19:40:59,409 : INFO : worker thread finished; awaiting finish of 3 more threads\n",
      "2018-03-16 19:40:59,410 : INFO : worker thread finished; awaiting finish of 2 more threads\n",
      "2018-03-16 19:40:59,410 : INFO : worker thread finished; awaiting finish of 1 more threads\n",
      "2018-03-16 19:40:59,411 : INFO : worker thread finished; awaiting finish of 0 more threads\n",
      "2018-03-16 19:40:59,411 : INFO : EPOCH - 4 : training on 324 raw words (217 effective words) took 0.0s, 20168 effective words/s\n",
      "2018-03-16 19:40:59,419 : INFO : worker thread finished; awaiting finish of 7 more threads\n",
      "2018-03-16 19:40:59,420 : INFO : worker thread finished; awaiting finish of 6 more threads\n",
      "2018-03-16 19:40:59,420 : INFO : worker thread finished; awaiting finish of 5 more threads\n",
      "2018-03-16 19:40:59,421 : INFO : worker thread finished; awaiting finish of 4 more threads\n",
      "2018-03-16 19:40:59,421 : INFO : worker thread finished; awaiting finish of 3 more threads\n",
      "2018-03-16 19:40:59,422 : INFO : worker thread finished; awaiting finish of 2 more threads\n",
      "2018-03-16 19:40:59,422 : INFO : worker thread finished; awaiting finish of 1 more threads\n",
      "2018-03-16 19:40:59,423 : INFO : worker thread finished; awaiting finish of 0 more threads\n",
      "2018-03-16 19:40:59,423 : INFO : EPOCH - 5 : training on 324 raw words (224 effective words) took 0.0s, 25559 effective words/s\n",
      "2018-03-16 19:40:59,423 : INFO : training on a 1620 raw words (1140 effective words) took 0.1s, 19477 effective words/s\n",
      "2018-03-16 19:40:59,424 : WARNING : under 10 jobs per worker: consider setting a smaller `batch_words' for smoother alpha decay\n"
     ]
    },
    {
     "data": {
      "text/plain": [
       "(1140, 1620)"
      ]
     },
     "execution_count": 12,
     "metadata": {},
     "output_type": "execute_result"
    }
   ],
   "source": [
    "# train on new corpus\n",
    "model_text8.train(new_sentences, total_examples=len(list(new_sentences)), epochs=model_text8.iter)"
   ]
  },
  {
   "cell_type": "code",
   "execution_count": 13,
   "metadata": {
    "ExecuteTime": {
     "end_time": "2018-03-16T14:11:01.853328Z",
     "start_time": "2018-03-16T14:11:01.843613Z"
    }
   },
   "outputs": [
    {
     "name": "stdout",
     "output_type": "stream",
     "text": [
      "Vocabulary size: 71407\n",
      "Word embeddings matrix shape: (71407, 50)\n"
     ]
    }
   ],
   "source": [
    "# new vocabulary and embeddings matrix\n",
    "print('Vocabulary size: %d' % len(model_text8.wv.vocab))\n",
    "print('Word embeddings matrix shape: %s' % str(model_text8.wv.vectors.shape))"
   ]
  },
  {
   "cell_type": "markdown",
   "metadata": {},
   "source": [
    "## Similarities"
   ]
  },
  {
   "cell_type": "code",
   "execution_count": 14,
   "metadata": {
    "ExecuteTime": {
     "end_time": "2018-03-16T14:11:05.948624Z",
     "start_time": "2018-03-16T14:11:05.945257Z"
    }
   },
   "outputs": [
    {
     "name": "stdout",
     "output_type": "stream",
     "text": [
      "0.8995061681005658\n",
      "0.11923350931124507\n"
     ]
    }
   ],
   "source": [
    "# get cosine similarity between words\n",
    "print(model_text8.wv.similarity('cat' , 'dog'))\n",
    "print(model_text8.wv.similarity('cat' , 'winter'))"
   ]
  },
  {
   "cell_type": "code",
   "execution_count": 15,
   "metadata": {
    "ExecuteTime": {
     "end_time": "2018-03-16T14:11:08.041253Z",
     "start_time": "2018-03-16T14:11:08.010036Z"
    }
   },
   "outputs": [
    {
     "name": "stderr",
     "output_type": "stream",
     "text": [
      "2018-03-16 19:41:08,010 : INFO : precomputing L2-norms of word weight vectors\n"
     ]
    },
    {
     "data": {
      "text/plain": [
       "[('winter', 0.9126574397087097),\n",
       " ('spring', 0.843368411064148),\n",
       " ('autumn', 0.8384506702423096),\n",
       " ('olympics', 0.8212403655052185),\n",
       " ('afternoon', 0.7511119246482849)]"
      ]
     },
     "execution_count": 15,
     "metadata": {},
     "output_type": "execute_result"
    }
   ],
   "source": [
    "# find the top-n most similar words\n",
    "model_text8.wv.similar_by_word('summer', topn=5)"
   ]
  },
  {
   "cell_type": "code",
   "execution_count": 16,
   "metadata": {
    "ExecuteTime": {
     "end_time": "2018-03-16T14:11:10.356223Z",
     "start_time": "2018-03-16T14:11:10.340129Z"
    }
   },
   "outputs": [
    {
     "data": {
      "text/plain": [
       "[('summer', 1.0),\n",
       " ('winter', 0.9126574397087097),\n",
       " ('spring', 0.843368411064148),\n",
       " ('autumn', 0.8384506702423096),\n",
       " ('olympics', 0.8212403655052185),\n",
       " ('afternoon', 0.7511119246482849)]"
      ]
     },
     "execution_count": 16,
     "metadata": {},
     "output_type": "execute_result"
    }
   ],
   "source": [
    "# find the top-n most similar words by vector.\n",
    "model_text8.wv.similar_by_vector(model_text8.wv['summer'], topn=6)"
   ]
  },
  {
   "cell_type": "markdown",
   "metadata": {},
   "source": [
    "<a id='exercise1'></a>\n",
    "### Exercise 1: (5-10 mins)\n",
    "Recollect the famous example - `king:queen :: man:?`\n",
    "\n",
    "`norm_vec(man) + norm_vec(queen) - norm_vec(king) = ?`\n",
    "\n",
    "Write a general function to find `wordX` in the relation `wordA:wordB :: wordC:wordX`, using the APIs introduced upto this point. Assume all words exist in the vocabulary."
   ]
  },
  {
   "cell_type": "code",
   "execution_count": 17,
   "metadata": {
    "ExecuteTime": {
     "end_time": "2018-03-16T14:11:21.865771Z",
     "start_time": "2018-03-16T14:11:21.858776Z"
    }
   },
   "outputs": [],
   "source": [
    "def find_anology(model, wordA, wordB, wordC):\n",
    "    # complete this function\n",
    "    pass"
   ]
  },
  {
   "cell_type": "markdown",
   "metadata": {},
   "source": [
    "[Solution 1](#solution1)"
   ]
  },
  {
   "cell_type": "markdown",
   "metadata": {},
   "source": [
    "### Evaluating Word Anologies Task\n",
    "Word2vec training is an unsupervised task, there’s no good way to objectively evaluate the result. Evaluation depends on your end application.\n",
    "\n",
    "Google have released their testing set of about 20,000 syntactic and semantic test examples, following the “A is to B as C is to D” task: https://raw.githubusercontent.com/RaRe-Technologies/gensim/develop/gensim/test/test_data/questions-words.txt.\n",
    "\n",
    "Same technique can be used to evaluate the quality of word embeddings."
   ]
  },
  {
   "cell_type": "code",
   "execution_count": 21,
   "metadata": {
    "ExecuteTime": {
     "end_time": "2018-03-16T14:11:40.344592Z",
     "start_time": "2018-03-16T14:11:40.339743Z"
    }
   },
   "outputs": [
    {
     "name": "stderr",
     "output_type": "stream",
     "text": [
      "2018-03-16 19:41:40,342 : INFO : adding document #0 to Dictionary(0 unique tokens: [])\n",
      "2018-03-16 19:41:40,342 : INFO : built Dictionary(12 unique tokens: ['user', 'time', 'interface', 'eps', 'graph']...) from 9 documents (total 29 corpus positions)\n"
     ]
    }
   ],
   "source": [
    "from gensim.test.utils import datapath"
   ]
  },
  {
   "cell_type": "code",
   "execution_count": 22,
   "metadata": {
    "ExecuteTime": {
     "end_time": "2018-03-16T14:11:41.610305Z",
     "start_time": "2018-03-16T14:11:41.571490Z"
    }
   },
   "outputs": [],
   "source": [
    "def print_accuracy(model):\n",
    "    print('Evaluating...\\n')\n",
    "    # function to calculate accuracy on the word anology task\n",
    "    path = datapath(\"questions-words.txt\")\n",
    "    acc = model.wv.accuracy(path)\n",
    "\n",
    "    sem_correct = sum((len(acc[i]['correct']) for i in range(5)))\n",
    "    sem_total = sum((len(acc[i]['correct']) + len(acc[i]['incorrect'])) for i in range(5))\n",
    "    sem_acc = 100*float(sem_correct)/sem_total\n",
    "    print('\\nSemantic: {:d}/{:d}, Accuracy: {:.2f}%'.format(sem_correct, sem_total, sem_acc))\n",
    "    \n",
    "    syn_correct = sum((len(acc[i]['correct']) for i in range(5, len(acc)-1)))\n",
    "    syn_total = sum((len(acc[i]['correct']) + len(acc[i]['incorrect'])) for i in range(5,len(acc)-1))\n",
    "    syn_acc = 100*float(syn_correct)/syn_total\n",
    "    print('Syntactic: {:d}/{:d}, Accuracy: {:.2f}%\\n'.format(syn_correct, syn_total, syn_acc))\n",
    "    return (sem_acc, syn_acc)"
   ]
  },
  {
   "cell_type": "code",
   "execution_count": 23,
   "metadata": {
    "ExecuteTime": {
     "end_time": "2018-03-16T14:12:21.279278Z",
     "start_time": "2018-03-16T14:11:44.620693Z"
    }
   },
   "outputs": [
    {
     "name": "stdout",
     "output_type": "stream",
     "text": [
      "Evaluating...\n",
      "\n"
     ]
    },
    {
     "name": "stderr",
     "output_type": "stream",
     "text": [
      "2018-03-16 19:41:46,484 : INFO : capital-common-countries: 23.3% (118/506)\n",
      "2018-03-16 19:41:50,825 : INFO : capital-world: 13.9% (202/1452)\n",
      "2018-03-16 19:41:51,700 : INFO : currency: 6.7% (18/268)\n",
      "2018-03-16 19:41:56,084 : INFO : city-in-state: 6.9% (109/1571)\n",
      "2018-03-16 19:41:56,992 : INFO : family: 71.2% (218/306)\n",
      "2018-03-16 19:41:59,453 : INFO : gram1-adjective-to-adverb: 8.9% (67/756)\n",
      "2018-03-16 19:42:00,561 : INFO : gram2-opposite: 11.1% (34/306)\n",
      "2018-03-16 19:42:04,144 : INFO : gram3-comparative: 54.5% (687/1260)\n",
      "2018-03-16 19:42:05,606 : INFO : gram4-superlative: 27.3% (138/506)\n",
      "2018-03-16 19:42:08,817 : INFO : gram5-present-participle: 22.9% (227/992)\n",
      "2018-03-16 19:42:12,663 : INFO : gram6-nationality-adjective: 40.3% (553/1371)\n",
      "2018-03-16 19:42:16,501 : INFO : gram7-past-tense: 19.4% (258/1332)\n",
      "2018-03-16 19:42:19,351 : INFO : gram8-plural: 33.2% (329/992)\n",
      "2018-03-16 19:42:21,242 : INFO : gram9-plural-verbs: 25.2% (164/650)\n",
      "2018-03-16 19:42:21,269 : INFO : total: 25.4% (3122/12268)\n"
     ]
    },
    {
     "name": "stdout",
     "output_type": "stream",
     "text": [
      "\n",
      "Semantic: 665/4103, Accuracy: 16.21%\n",
      "Syntactic: 2457/8165, Accuracy: 30.09%\n",
      "\n",
      "(16.20765293687546, 30.09185548071035)\n"
     ]
    }
   ],
   "source": [
    "print(print_accuracy(model_text8))"
   ]
  },
  {
   "cell_type": "markdown",
   "metadata": {},
   "source": [
    "<a id='exercise2'></a>\n",
    "### Exercise 2: (10 mins)\n",
    "\n",
    "Write a function to find the odd one out from 4 given words.\n",
    "\n",
    "E.g.: `input`: 'summer', 'winter', 'spring', 'cold'\n",
    "`output`: 'cold'\n",
    "\n",
    "Assume all words exist in the vocabulary.\n",
    "\n",
    "Hint:\n",
    "You could possibly make use of `model_text8.wv.cosine_similarities`. Look at its documentation."
   ]
  },
  {
   "cell_type": "code",
   "execution_count": 24,
   "metadata": {
    "ExecuteTime": {
     "end_time": "2018-03-16T14:12:27.919863Z",
     "start_time": "2018-03-16T14:12:27.917529Z"
    }
   },
   "outputs": [],
   "source": [
    "def oddword(words_list):\n",
    "    # complete code\n",
    "    pass"
   ]
  },
  {
   "cell_type": "markdown",
   "metadata": {},
   "source": [
    "[Solution 2](#solution2)"
   ]
  },
  {
   "cell_type": "markdown",
   "metadata": {},
   "source": [
    "## Saving/Loading model\n",
    "You can store/load models using the standard gensim methods, which uses pickle internally, optionally mmap‘ing the model’s internal large NumPy matrices into virtual memory directly from disk files, for inter-process memory sharing."
   ]
  },
  {
   "cell_type": "code",
   "execution_count": 28,
   "metadata": {
    "ExecuteTime": {
     "end_time": "2018-03-16T14:12:37.809757Z",
     "start_time": "2018-03-16T14:12:37.449229Z"
    }
   },
   "outputs": [
    {
     "name": "stderr",
     "output_type": "stream",
     "text": [
      "2018-03-16 19:42:37,450 : INFO : saving Word2Vec object under saves/model_text8.gensim, separately None\n",
      "2018-03-16 19:42:37,451 : INFO : not storing attribute vectors_norm\n",
      "2018-03-16 19:42:37,453 : INFO : not storing attribute cum_table\n",
      "2018-03-16 19:42:37,806 : INFO : saved saves/model_text8.gensim\n"
     ]
    }
   ],
   "source": [
    "model_text8.save('model_text8.gensim')"
   ]
  },
  {
   "cell_type": "code",
   "execution_count": 29,
   "metadata": {
    "ExecuteTime": {
     "end_time": "2018-03-16T14:12:43.496101Z",
     "start_time": "2018-03-16T14:12:43.055764Z"
    }
   },
   "outputs": [
    {
     "name": "stderr",
     "output_type": "stream",
     "text": [
      "2018-03-16 19:42:43,058 : INFO : loading Word2Vec object from saves/model_text8.gensim\n",
      "2018-03-16 19:42:43,356 : INFO : loading vocabulary recursively from saves/model_text8.gensim.vocabulary.* with mmap=None\n",
      "2018-03-16 19:42:43,358 : INFO : loading trainables recursively from saves/model_text8.gensim.trainables.* with mmap=None\n",
      "2018-03-16 19:42:43,359 : INFO : loading wv recursively from saves/model_text8.gensim.wv.* with mmap=None\n",
      "2018-03-16 19:42:43,360 : INFO : setting ignored attribute vectors_norm to None\n",
      "2018-03-16 19:42:43,361 : INFO : setting ignored attribute cum_table to None\n",
      "2018-03-16 19:42:43,362 : INFO : loaded saves/model_text8.gensim\n"
     ]
    }
   ],
   "source": [
    "loaded_model = Word2Vec.load('model_text8.gensim')"
   ]
  },
  {
   "cell_type": "markdown",
   "metadata": {},
   "source": [
    "## Gensim-data\n",
    "Contains free datsets and models relevant to unsupervised text analysis. Link to the [repo](https://github.com/RaRe-Technologies/gensim-data).\n",
    "\n",
    "All those steps in just two lines!!"
   ]
  },
  {
   "cell_type": "code",
   "execution_count": null,
   "metadata": {
    "ExecuteTime": {
     "end_time": "2018-03-13T15:45:15.792417Z",
     "start_time": "2018-03-13T15:45:11.040006Z"
    }
   },
   "outputs": [],
   "source": [
    "# Do not run, will take time to download and trin model. Code here is for showing example.\n",
    "text8_corpus = api.load('text8') \n",
    "w2v_model = Word2Vec(text8_corpus)  # train word2vec model on text8 corpus\n",
    "print(w2v_model.similarity('tree', 'leaf'))  # sanity check"
   ]
  },
  {
   "cell_type": "code",
   "execution_count": 30,
   "metadata": {
    "ExecuteTime": {
     "end_time": "2018-03-16T14:12:47.297882Z",
     "start_time": "2018-03-16T14:12:46.610232Z"
    }
   },
   "outputs": [],
   "source": [
    "data = api.info()"
   ]
  },
  {
   "cell_type": "code",
   "execution_count": 31,
   "metadata": {
    "ExecuteTime": {
     "end_time": "2018-03-16T14:12:47.303181Z",
     "start_time": "2018-03-16T14:12:47.299329Z"
    }
   },
   "outputs": [
    {
     "data": {
      "text/plain": [
       "dict_keys(['patent-2017', '__testing_multipart-matrix-synopsis', 'fake-news', 'text8', 'wiki-english-20171001', 'semeval-2016-2017-task3-subtaskBC', 'quora-duplicate-questions', '__testing_matrix-synopsis', 'semeval-2016-2017-task3-subtaskA-unannotated', '20-newsgroups'])"
      ]
     },
     "execution_count": 31,
     "metadata": {},
     "output_type": "execute_result"
    }
   ],
   "source": [
    "data['corpora'].keys()"
   ]
  },
  {
   "cell_type": "code",
   "execution_count": 32,
   "metadata": {
    "ExecuteTime": {
     "end_time": "2018-03-16T14:12:48.085679Z",
     "start_time": "2018-03-16T14:12:48.079737Z"
    }
   },
   "outputs": [
    {
     "data": {
      "text/plain": [
       "dict_keys(['fasttext-wiki-news-subwords-300', 'glove-wiki-gigaword-300', 'glove-twitter-25', 'glove-wiki-gigaword-200', 'word2vec-ruscorpora-300', 'glove-twitter-100', 'glove-twitter-50', 'glove-wiki-gigaword-50', 'conceptnet-numberbatch-17-06-300', 'glove-twitter-200', 'word2vec-google-news-300', '__testing_word2vec-matrix-synopsis', 'glove-wiki-gigaword-100'])"
      ]
     },
     "execution_count": 32,
     "metadata": {},
     "output_type": "execute_result"
    }
   ],
   "source": [
    "data['models'].keys()"
   ]
  },
  {
   "cell_type": "markdown",
   "metadata": {},
   "source": [
    "## Task - Movie Genre prediction\n",
    "Common scenario in businesses - classify texts into one of many classes.\n",
    "\n",
    "How do you move from `word embeddings` to calculating embeddings for higher units of text, say, sentences, paragraphs or documents.\n",
    "\n",
    "**Task:** Classify movies based on their plots into one of the 6 genres (action, animation, comedy, fantasy, romance, sci-fi).\n",
    "\n",
    "**Dataset:** We will use MovieLens dataset linked with plots from OMDB.  Thanks to [Sujit Pal](http://sujitpal.blogspot.in/2016/04/predicting-movie-tags-from-plots-using.html) for this linking idea. The prepared csv is in this repository. If you wish to link the datasets yourself - see the code in the blog.\n",
    "\n",
    "We will compare the accuracy of 'no tuning'/out of the box runs of a few techniques. It is in no way an indication of their best peformance that can be achieved with proper tuning. The benefit of the comparison is to manage the expectations."
   ]
  },
  {
   "cell_type": "code",
   "execution_count": 33,
   "metadata": {
    "ExecuteTime": {
     "end_time": "2018-03-16T14:12:53.827855Z",
     "start_time": "2018-03-16T14:12:53.488542Z"
    }
   },
   "outputs": [
    {
     "name": "stderr",
     "output_type": "stream",
     "text": [
      "/encrypted/virtualenvironments/gensim_workshop_py3.5/lib/python3.5/site-packages/sklearn/cross_validation.py:41: DeprecationWarning: This module was deprecated in version 0.18 in favor of the model_selection module into which all the refactored classes and functions are moved. Also note that the interface of the new CV iterators are different from that of this module. This module will be removed in 0.20.\n",
      "  \"This module will be removed in 0.20.\", DeprecationWarning)\n"
     ]
    }
   ],
   "source": [
    "import operator\n",
    "from sklearn.pipeline import Pipeline\n",
    "from sklearn.svm import LinearSVC\n",
    "from sklearn.feature_extraction.text import CountVectorizer, TfidfVectorizer, TfidfTransformer\n",
    "from sklearn.cross_validation import cross_val_score, train_test_split\n",
    "from sklearn.metrics import confusion_matrix, accuracy_score\n",
    "import pandas as pd\n",
    "import matplotlib.pyplot as plt\n",
    "\n",
    "%matplotlib inline"
   ]
  },
  {
   "cell_type": "markdown",
   "metadata": {},
   "source": [
    "### Explore data"
   ]
  },
  {
   "cell_type": "code",
   "execution_count": 34,
   "metadata": {
    "ExecuteTime": {
     "end_time": "2018-03-16T14:12:54.679466Z",
     "start_time": "2018-03-16T14:12:54.654387Z"
    }
   },
   "outputs": [
    {
     "name": "stdout",
     "output_type": "stream",
     "text": [
      "Total number of words in the dataset: 171156\n"
     ]
    }
   ],
   "source": [
    "df = pd.read_csv('data/tagged_plots_movielens.csv')\n",
    "df = df.dropna()\n",
    "total_words = df['plot'].apply(lambda x: len(x.split(' '))).sum()\n",
    "print('Total number of words in the dataset: %d' % total_words)"
   ]
  },
  {
   "cell_type": "markdown",
   "metadata": {},
   "source": [
    "The dataset only contains **170k words**. It is quite small but makes sure we don't have to wait a long time for the code to complete."
   ]
  },
  {
   "cell_type": "code",
   "execution_count": 35,
   "metadata": {
    "ExecuteTime": {
     "end_time": "2018-03-16T14:12:56.110473Z",
     "start_time": "2018-03-16T14:12:56.104664Z"
    }
   },
   "outputs": [
    {
     "data": {
      "text/plain": [
       "Unnamed: 0    2427\n",
       "movieId       2427\n",
       "plot          2427\n",
       "tag           2427\n",
       "dtype: int64"
      ]
     },
     "execution_count": 35,
     "metadata": {},
     "output_type": "execute_result"
    }
   ],
   "source": [
    "df.count()"
   ]
  },
  {
   "cell_type": "code",
   "execution_count": 36,
   "metadata": {
    "ExecuteTime": {
     "end_time": "2018-03-16T14:12:56.661811Z",
     "start_time": "2018-03-16T14:12:56.500532Z"
    }
   },
   "outputs": [
    {
     "data": {
      "text/plain": [
       "<matplotlib.axes._subplots.AxesSubplot at 0x7f1bb1137b38>"
      ]
     },
     "execution_count": 36,
     "metadata": {},
     "output_type": "execute_result"
    },
    {
     "data": {
      "image/png": "[encoded data removed]",
      "text/plain": [
       "<Figure size 432x288 with 1 Axes>"
      ]
     },
     "metadata": {},
     "output_type": "display_data"
    }
   ],
   "source": [
    "df.tag.value_counts().plot(kind=\"bar\", rot=0)"
   ]
  },
  {
   "cell_type": "code",
   "execution_count": 37,
   "metadata": {
    "ExecuteTime": {
     "end_time": "2018-03-16T14:12:57.169018Z",
     "start_time": "2018-03-16T14:12:57.156514Z"
    }
   },
   "outputs": [
    {
     "data": {
      "text/plain": [
       "0.32138442521631644"
      ]
     },
     "execution_count": 37,
     "metadata": {},
     "output_type": "execute_result"
    }
   ],
   "source": [
    "float(df.tag.value_counts()['comedy']) / df.tag.value_counts().sum() "
   ]
  },
  {
   "cell_type": "markdown",
   "metadata": {},
   "source": [
    "Data has a skewed distribution among the classes. A dumb classifier that always predicts 'comedy' achieves an accuracy of **32%**."
   ]
  },
  {
   "cell_type": "code",
   "execution_count": 38,
   "metadata": {
    "ExecuteTime": {
     "end_time": "2018-03-16T14:12:58.698111Z",
     "start_time": "2018-03-16T14:12:58.686425Z"
    }
   },
   "outputs": [
    {
     "data": {
      "text/html": [
       "<div>\n",
       "<style scoped>\n",
       "    .dataframe tbody tr th:only-of-type {\n",
       "        vertical-align: middle;\n",
       "    }\n",
       "\n",
       "    .dataframe tbody tr th {\n",
       "        vertical-align: top;\n",
       "    }\n",
       "\n",
       "    .dataframe thead th {\n",
       "        text-align: right;\n",
       "    }\n",
       "</style>\n",
       "<table border=\"1\" class=\"dataframe\">\n",
       "  <thead>\n",
       "    <tr style=\"text-align: right;\">\n",
       "      <th></th>\n",
       "      <th>Unnamed: 0</th>\n",
       "      <th>movieId</th>\n",
       "      <th>plot</th>\n",
       "      <th>tag</th>\n",
       "    </tr>\n",
       "  </thead>\n",
       "  <tbody>\n",
       "    <tr>\n",
       "      <th>1250</th>\n",
       "      <td>1250</td>\n",
       "      <td>44555</td>\n",
       "      <td>In 1984 East Berlin, an agent of the secret po...</td>\n",
       "      <td>romance</td>\n",
       "    </tr>\n",
       "    <tr>\n",
       "      <th>228</th>\n",
       "      <td>228</td>\n",
       "      <td>1240</td>\n",
       "      <td>A cyborg is sent from the future on a deadly m...</td>\n",
       "      <td>sci-fi</td>\n",
       "    </tr>\n",
       "    <tr>\n",
       "      <th>1569</th>\n",
       "      <td>1569</td>\n",
       "      <td>69469</td>\n",
       "      <td>Nothing in the world can make Garfield get inv...</td>\n",
       "      <td>animation</td>\n",
       "    </tr>\n",
       "    <tr>\n",
       "      <th>1671</th>\n",
       "      <td>1671</td>\n",
       "      <td>74795</td>\n",
       "      <td>Discovering covert and faulty intelligence cau...</td>\n",
       "      <td>action</td>\n",
       "    </tr>\n",
       "    <tr>\n",
       "      <th>635</th>\n",
       "      <td>635</td>\n",
       "      <td>3937</td>\n",
       "      <td>In the near future, a police officer specializ...</td>\n",
       "      <td>action</td>\n",
       "    </tr>\n",
       "    <tr>\n",
       "      <th>2107</th>\n",
       "      <td>2107</td>\n",
       "      <td>106696</td>\n",
       "      <td>When the newly crowned Queen Elsa accidentally...</td>\n",
       "      <td>animation</td>\n",
       "    </tr>\n",
       "    <tr>\n",
       "      <th>1283</th>\n",
       "      <td>1283</td>\n",
       "      <td>47937</td>\n",
       "      <td>During a team-building retreat in the mountain...</td>\n",
       "      <td>comedy</td>\n",
       "    </tr>\n",
       "    <tr>\n",
       "      <th>297</th>\n",
       "      <td>297</td>\n",
       "      <td>1605</td>\n",
       "      <td>Emily has always been the rich brat who tries ...</td>\n",
       "      <td>romance</td>\n",
       "    </tr>\n",
       "    <tr>\n",
       "      <th>1461</th>\n",
       "      <td>1461</td>\n",
       "      <td>60818</td>\n",
       "      <td>It's Hogswatch (equivalent to Christmas) on th...</td>\n",
       "      <td>fantasy</td>\n",
       "    </tr>\n",
       "    <tr>\n",
       "      <th>2360</th>\n",
       "      <td>2360</td>\n",
       "      <td>132961</td>\n",
       "      <td>In Victorian England, the independent and head...</td>\n",
       "      <td>romance</td>\n",
       "    </tr>\n",
       "    <tr>\n",
       "      <th>1044</th>\n",
       "      <td>1044</td>\n",
       "      <td>8808</td>\n",
       "      <td>Princess Mia has just turned 21 and is suppose...</td>\n",
       "      <td>romance</td>\n",
       "    </tr>\n",
       "    <tr>\n",
       "      <th>141</th>\n",
       "      <td>141</td>\n",
       "      <td>785</td>\n",
       "      <td>Roy Munson was raised to be the best bowler in...</td>\n",
       "      <td>comedy</td>\n",
       "    </tr>\n",
       "    <tr>\n",
       "      <th>2401</th>\n",
       "      <td>2401</td>\n",
       "      <td>136844</td>\n",
       "      <td>A mafia leader's brother is captured in a shoo...</td>\n",
       "      <td>action</td>\n",
       "    </tr>\n",
       "    <tr>\n",
       "      <th>1381</th>\n",
       "      <td>1381</td>\n",
       "      <td>55250</td>\n",
       "      <td>Joe Kingman is a huge football star. He's got ...</td>\n",
       "      <td>comedy</td>\n",
       "    </tr>\n",
       "    <tr>\n",
       "      <th>450</th>\n",
       "      <td>450</td>\n",
       "      <td>2478</td>\n",
       "      <td>Three actors accept an invitation to a Mexican...</td>\n",
       "      <td>comedy</td>\n",
       "    </tr>\n",
       "    <tr>\n",
       "      <th>97</th>\n",
       "      <td>97</td>\n",
       "      <td>514</td>\n",
       "      <td>A cat burglar is forced to take a bickering, d...</td>\n",
       "      <td>comedy</td>\n",
       "    </tr>\n",
       "    <tr>\n",
       "      <th>1136</th>\n",
       "      <td>1136</td>\n",
       "      <td>30793</td>\n",
       "      <td>When Willy Wonka decides to let five children ...</td>\n",
       "      <td>fantasy</td>\n",
       "    </tr>\n",
       "    <tr>\n",
       "      <th>314</th>\n",
       "      <td>314</td>\n",
       "      <td>1732</td>\n",
       "      <td>When \"The Dude\" Lebowski is mistaken for a mil...</td>\n",
       "      <td>comedy</td>\n",
       "    </tr>\n",
       "    <tr>\n",
       "      <th>750</th>\n",
       "      <td>750</td>\n",
       "      <td>4966</td>\n",
       "      <td>When Scott Carey begins to shrink because of e...</td>\n",
       "      <td>sci-fi</td>\n",
       "    </tr>\n",
       "    <tr>\n",
       "      <th>2209</th>\n",
       "      <td>2209</td>\n",
       "      <td>114180</td>\n",
       "      <td>Thomas is deposited in a community of boys aft...</td>\n",
       "      <td>action</td>\n",
       "    </tr>\n",
       "  </tbody>\n",
       "</table>\n",
       "</div>"
      ],
      "text/plain": [
       "      Unnamed: 0  movieId                                               plot  \\\n",
       "1250        1250    44555  In 1984 East Berlin, an agent of the secret po...   \n",
       "228          228     1240  A cyborg is sent from the future on a deadly m...   \n",
       "1569        1569    69469  Nothing in the world can make Garfield get inv...   \n",
       "1671        1671    74795  Discovering covert and faulty intelligence cau...   \n",
       "635          635     3937  In the near future, a police officer specializ...   \n",
       "2107        2107   106696  When the newly crowned Queen Elsa accidentally...   \n",
       "1283        1283    47937  During a team-building retreat in the mountain...   \n",
       "297          297     1605  Emily has always been the rich brat who tries ...   \n",
       "1461        1461    60818  It's Hogswatch (equivalent to Christmas) on th...   \n",
       "2360        2360   132961  In Victorian England, the independent and head...   \n",
       "1044        1044     8808  Princess Mia has just turned 21 and is suppose...   \n",
       "141          141      785  Roy Munson was raised to be the best bowler in...   \n",
       "2401        2401   136844  A mafia leader's brother is captured in a shoo...   \n",
       "1381        1381    55250  Joe Kingman is a huge football star. He's got ...   \n",
       "450          450     2478  Three actors accept an invitation to a Mexican...   \n",
       "97            97      514  A cat burglar is forced to take a bickering, d...   \n",
       "1136        1136    30793  When Willy Wonka decides to let five children ...   \n",
       "314          314     1732  When \"The Dude\" Lebowski is mistaken for a mil...   \n",
       "750          750     4966  When Scott Carey begins to shrink because of e...   \n",
       "2209        2209   114180  Thomas is deposited in a community of boys aft...   \n",
       "\n",
       "            tag  \n",
       "1250    romance  \n",
       "228      sci-fi  \n",
       "1569  animation  \n",
       "1671     action  \n",
       "635      action  \n",
       "2107  animation  \n",
       "1283     comedy  \n",
       "297     romance  \n",
       "1461    fantasy  \n",
       "2360    romance  \n",
       "1044    romance  \n",
       "141      comedy  \n",
       "2401     action  \n",
       "1381     comedy  \n",
       "450      comedy  \n",
       "97       comedy  \n",
       "1136    fantasy  \n",
       "314      comedy  \n",
       "750      sci-fi  \n",
       "2209     action  "
      ]
     },
     "execution_count": 38,
     "metadata": {},
     "output_type": "execute_result"
    }
   ],
   "source": [
    "df.sample(20)"
   ]
  },
  {
   "cell_type": "code",
   "execution_count": 39,
   "metadata": {
    "ExecuteTime": {
     "end_time": "2018-03-16T14:12:59.463744Z",
     "start_time": "2018-03-16T14:12:59.459710Z"
    }
   },
   "outputs": [],
   "source": [
    "def print_plot(index):\n",
    "    example = df[df.index == index][['plot', 'tag']].values[0]\n",
    "    if len(example) > 0:\n",
    "        print(example[0])\n",
    "        print('Genre:', example[1])"
   ]
  },
  {
   "cell_type": "code",
   "execution_count": 40,
   "metadata": {
    "ExecuteTime": {
     "end_time": "2018-03-16T14:13:00.159571Z",
     "start_time": "2018-03-16T14:13:00.147953Z"
    }
   },
   "outputs": [
    {
     "name": "stdout",
     "output_type": "stream",
     "text": [
      "A little boy named Andy loves to be in his room, playing with his toys, especially his doll named \"Woody\". But, what do the toys do when Andy is not with them, they come to life. Woody believes that he has life (as a toy) good. However, he must worry about Andy's family moving, and what Woody does not know is about Andy's birthday party. Woody does not realize that Andy's mother gave him an action figure known as Buzz Lightyear, who does not believe that he is a toy, and quickly becomes Andy's new favorite toy. Woody, who is now consumed with jealousy, tries to get rid of Buzz. Then, both Woody and Buzz are now lost. They must find a way to get back to Andy before he moves without them, but they will have to pass through a ruthless toy killer, Sid Phillips.\n",
      "Genre: animation\n"
     ]
    }
   ],
   "source": [
    "print_plot(0)"
   ]
  },
  {
   "cell_type": "code",
   "execution_count": 41,
   "metadata": {
    "ExecuteTime": {
     "end_time": "2018-03-16T14:13:00.828746Z",
     "start_time": "2018-03-16T14:13:00.815434Z"
    }
   },
   "outputs": [
    {
     "name": "stdout",
     "output_type": "stream",
     "text": [
      "When two kids find and play a magical board game, they release a man trapped for decades in it and a host of dangers that can only be stopped by finishing the game.\n",
      "Genre: fantasy\n"
     ]
    }
   ],
   "source": [
    "print_plot(1)"
   ]
  },
  {
   "cell_type": "code",
   "execution_count": 42,
   "metadata": {
    "ExecuteTime": {
     "end_time": "2018-03-16T14:13:01.560352Z",
     "start_time": "2018-03-16T14:13:01.551220Z"
    }
   },
   "outputs": [],
   "source": [
    "train_data, test_data = train_test_split(df, test_size=0.1, random_state=42)"
   ]
  },
  {
   "cell_type": "code",
   "execution_count": 43,
   "metadata": {
    "ExecuteTime": {
     "end_time": "2018-03-16T14:13:02.218404Z",
     "start_time": "2018-03-16T14:13:02.209880Z"
    }
   },
   "outputs": [
    {
     "name": "stdout",
     "output_type": "stream",
     "text": [
      "Number of training examples: 2184\n",
      "Number of tesing examples: 243\n"
     ]
    }
   ],
   "source": [
    "print('Number of training examples: %d' % len(train_data))\n",
    "print('Number of tesing examples: %d' % len(test_data))"
   ]
  },
  {
   "cell_type": "code",
   "execution_count": 44,
   "metadata": {
    "ExecuteTime": {
     "end_time": "2018-03-16T14:13:03.059594Z",
     "start_time": "2018-03-16T14:13:02.923103Z"
    }
   },
   "outputs": [
    {
     "data": {
      "image/png": "[encoded data removed]",
      "text/plain": [
       "<Figure size 432x288 with 1 Axes>"
      ]
     },
     "metadata": {},
     "output_type": "display_data"
    }
   ],
   "source": [
    "test_data.tag.value_counts().plot(kind=\"bar\", rot=0)\n",
    "my_tags = ['sci-fi' , 'action', 'comedy', 'fantasy', 'animation', 'romance']"
   ]
  },
  {
   "cell_type": "markdown",
   "metadata": {},
   "source": [
    "### Model Evaluation"
   ]
  },
  {
   "cell_type": "code",
   "execution_count": 45,
   "metadata": {
    "ExecuteTime": {
     "end_time": "2018-03-16T14:13:04.003155Z",
     "start_time": "2018-03-16T14:13:03.994368Z"
    }
   },
   "outputs": [],
   "source": [
    "def plot_confusion_matrix(cm, title='Confusion matrix', cmap=plt.cm.Blues):\n",
    "    plt.imshow(cm, interpolation='nearest', cmap=cmap)\n",
    "    plt.title(title)\n",
    "    plt.colorbar()\n",
    "    tick_marks = np.arange(len(my_tags))\n",
    "    target_names = my_tags\n",
    "    plt.xticks(tick_marks, target_names, rotation=45)\n",
    "    plt.yticks(tick_marks, target_names)\n",
    "    plt.tight_layout()\n",
    "    plt.ylabel('True label')\n",
    "    plt.xlabel('Predicted label')"
   ]
  },
  {
   "cell_type": "code",
   "execution_count": 46,
   "metadata": {
    "ExecuteTime": {
     "end_time": "2018-03-16T14:13:04.419929Z",
     "start_time": "2018-03-16T14:13:04.402168Z"
    }
   },
   "outputs": [],
   "source": [
    "def evaluate_prediction(predictions, target, title=\"Confusion matrix\"):\n",
    "    print('accuracy %s' % accuracy_score(target, predictions))\n",
    "    cm = confusion_matrix(target, predictions)\n",
    "    print('confusion matrix\\n %s' % cm)\n",
    "    print('(row=expected, col=predicted)')\n",
    "    \n",
    "    cm_normalized = cm.astype('float') / cm.sum(axis=1)[:, np.newaxis]\n",
    "    plot_confusion_matrix(cm_normalized, title + ' Normalized')"
   ]
  },
  {
   "cell_type": "markdown",
   "metadata": {
    "ExecuteTime": {
     "end_time": "2018-03-13T08:20:27.541210Z",
     "start_time": "2018-03-13T08:20:27.536076Z"
    }
   },
   "source": [
    "### Tokenize text"
   ]
  },
  {
   "cell_type": "code",
   "execution_count": 47,
   "metadata": {
    "ExecuteTime": {
     "end_time": "2018-03-16T14:13:05.455692Z",
     "start_time": "2018-03-16T14:13:05.451794Z"
    }
   },
   "outputs": [],
   "source": [
    "def custom_tokenize_text(text):\n",
    "    filters = [strip_punctuation, strip_numeric, strip_multiple_whitespaces, strip_short]\n",
    "    cleaned_words = [word for word in preprocess_string(text, filters=filters)]\n",
    "    if cleaned_words:\n",
    "        return cleaned_words"
   ]
  },
  {
   "cell_type": "markdown",
   "metadata": {},
   "source": [
    "### Prepare data"
   ]
  },
  {
   "cell_type": "code",
   "execution_count": 48,
   "metadata": {
    "ExecuteTime": {
     "end_time": "2018-03-16T14:13:07.755761Z",
     "start_time": "2018-03-16T14:13:07.549567Z"
    }
   },
   "outputs": [],
   "source": [
    "# prepare training data\n",
    "X_train = []\n",
    "y_train = []\n",
    "for plot, tag in train_data[['plot', 'tag']].values:\n",
    "    X_train.append(custom_tokenize_text(plot))\n",
    "    y_train.append(tag)\n",
    "X_train, y_train = np.array(X_train), np.array(y_train)"
   ]
  },
  {
   "cell_type": "code",
   "execution_count": 49,
   "metadata": {
    "ExecuteTime": {
     "end_time": "2018-03-16T14:13:09.284813Z",
     "start_time": "2018-03-16T14:13:09.280944Z"
    }
   },
   "outputs": [
    {
     "name": "stdout",
     "output_type": "stream",
     "text": [
      "2184 2184\n",
      "comedy\n",
      "['Turkish', 'and', 'his', 'close', 'friend', 'accomplice', 'Tommy', 'get', 'pulled', 'into', 'the', 'world', 'match', 'fixing', 'the', 'notorious', 'Brick', 'Top', 'Things', 'get', 'complicated', 'when', 'the', 'boxer', 'they', 'had', 'lined', 'gets', 'badly', 'beaten', 'Pitt', 'pikey', 'slang', 'for', 'Irish', 'Gypsy', 'who', 'comes', 'into', 'the', 'equation', 'after', 'Turkish', 'unlicensed', 'boxing', 'promoter', 'wants', 'buy', 'caravan', 'off', 'the', 'Irish', 'Gypsies', 'They', 'then', 'try', 'convince', 'Pitt', 'not', 'only', 'fight', 'for', 'them', 'but', 'lose', 'for', 'them', 'too', 'Whilst', 'all', 'this', 'going', 'huge', 'diamond', 'heist', 'takes', 'place', 'and', 'fistful', 'motley', 'characters', 'enter', 'the', 'story', 'including', 'Cousin', 'Avi', 'Boris', 'The', 'Blade', 'Franky', 'Four', 'Fingers', 'and', 'Bullet', 'Tooth', 'Tony', 'Things', 'from', 'bad', 'worse', 'all', 'becomes', 'about', 'the', 'money', 'the', 'guns', 'and', 'the', 'damned', 'dog']\n"
     ]
    }
   ],
   "source": [
    "print(len(X_train), len(y_train))\n",
    "print(y_train[0])\n",
    "print(X_train[0])"
   ]
  },
  {
   "cell_type": "code",
   "execution_count": 50,
   "metadata": {
    "ExecuteTime": {
     "end_time": "2018-03-16T14:13:23.658256Z",
     "start_time": "2018-03-16T14:13:23.608166Z"
    }
   },
   "outputs": [],
   "source": [
    "# prepare test data\n",
    "X_test = []\n",
    "y_test = []\n",
    "for plot, tag in test_data[['plot', 'tag']].values:\n",
    "    X_test.append(custom_tokenize_text(plot))\n",
    "    y_test.append(tag)\n",
    "X_test, y_test = np.array(X_test), np.array(y_test)"
   ]
  },
  {
   "cell_type": "code",
   "execution_count": 51,
   "metadata": {
    "ExecuteTime": {
     "end_time": "2018-03-16T14:13:24.452567Z",
     "start_time": "2018-03-16T14:13:24.449268Z"
    }
   },
   "outputs": [
    {
     "data": {
      "text/plain": [
       "(243, 243)"
      ]
     },
     "execution_count": 51,
     "metadata": {},
     "output_type": "execute_result"
    }
   ],
   "source": [
    "len(X_test), len(y_test)"
   ]
  },
  {
   "cell_type": "markdown",
   "metadata": {},
   "source": [
    "## Technique 1: Bag-of-Words(BoW) + Linear SVM"
   ]
  },
  {
   "cell_type": "markdown",
   "metadata": {},
   "source": [
    "### CountVectorizer"
   ]
  },
  {
   "cell_type": "code",
   "execution_count": 52,
   "metadata": {
    "ExecuteTime": {
     "end_time": "2018-03-16T14:13:26.497707Z",
     "start_time": "2018-03-16T14:13:26.487790Z"
    }
   },
   "outputs": [
    {
     "name": "stdout",
     "output_type": "stream",
     "text": [
      "[('brown', 0), ('dog', 1), ('fox', 2), ('jumped', 3), ('lazy', 4), ('over', 5), ('quick', 6), ('the', 7)]\n",
      "(1, 8)\n",
      "<class 'scipy.sparse.csr.csr_matrix'>\n",
      "[[1 1 1 1 1 1 1 2]]\n"
     ]
    }
   ],
   "source": [
    "from sklearn.feature_extraction.text import CountVectorizer\n",
    "# list of text documents\n",
    "text = [\"The quick brown fox jumped over the lazy dog.\"]\n",
    "# create the transform\n",
    "vectorizer = CountVectorizer()\n",
    "# tokenize and build vocab\n",
    "vectorizer.fit(text)\n",
    "# summarize\n",
    "print(sorted(vectorizer.vocabulary_.items(), key=operator.itemgetter(1)))\n",
    "# encode document\n",
    "vector = vectorizer.transform(text)\n",
    "# summarize encoded vector\n",
    "print(vector.shape)\n",
    "print(type(vector))\n",
    "print(vector.toarray())"
   ]
  },
  {
   "cell_type": "code",
   "execution_count": 53,
   "metadata": {
    "ExecuteTime": {
     "end_time": "2018-03-16T14:13:27.040532Z",
     "start_time": "2018-03-16T14:13:27.032937Z"
    }
   },
   "outputs": [],
   "source": [
    "bow_svc = Pipeline([(\"count_vectorizer\", CountVectorizer(analyzer=lambda x: x)), (\"linear_svc\", LinearSVC())])"
   ]
  },
  {
   "cell_type": "markdown",
   "metadata": {},
   "source": [
    "### Train classifier - Word Counts feature + Linear SVC"
   ]
  },
  {
   "cell_type": "code",
   "execution_count": 54,
   "metadata": {
    "ExecuteTime": {
     "end_time": "2018-03-16T14:13:28.578779Z",
     "start_time": "2018-03-16T14:13:28.405844Z"
    }
   },
   "outputs": [
    {
     "name": "stdout",
     "output_type": "stream",
     "text": [
      "CPU times: user 169 ms, sys: 627 µs, total: 170 ms\n",
      "Wall time: 169 ms\n"
     ]
    },
    {
     "data": {
      "text/plain": [
       "Pipeline(memory=None,\n",
       "     steps=[('count_vectorizer', CountVectorizer(analyzer=<function <lambda> at 0x7f1bb100bd90>, binary=False,\n",
       "        decode_error='strict', dtype=<class 'numpy.int64'>,\n",
       "        encoding='utf-8', input='content', lowercase=True, max_df=1.0,\n",
       "        max_features=None, min_df=1, ngram_range=(1, 1), prepro...ax_iter=1000,\n",
       "     multi_class='ovr', penalty='l2', random_state=None, tol=0.0001,\n",
       "     verbose=0))])"
      ]
     },
     "execution_count": 54,
     "metadata": {},
     "output_type": "execute_result"
    }
   ],
   "source": [
    "%%time\n",
    "bow_svc.fit(X_train, y_train)"
   ]
  },
  {
   "cell_type": "markdown",
   "metadata": {},
   "source": [
    "### Get predictions"
   ]
  },
  {
   "cell_type": "code",
   "execution_count": 55,
   "metadata": {
    "ExecuteTime": {
     "end_time": "2018-03-16T14:13:29.631361Z",
     "start_time": "2018-03-16T14:13:29.605648Z"
    }
   },
   "outputs": [],
   "source": [
    "y_pred_bow_svc = bow_svc.predict(X_test)"
   ]
  },
  {
   "cell_type": "code",
   "execution_count": 56,
   "metadata": {
    "ExecuteTime": {
     "end_time": "2018-03-16T14:13:30.434880Z",
     "start_time": "2018-03-16T14:13:30.262451Z"
    }
   },
   "outputs": [
    {
     "name": "stdout",
     "output_type": "stream",
     "text": [
      "accuracy 0.45267489711934156\n",
      "confusion matrix\n",
      " [[20  2 13  1  4  2]\n",
      " [ 5  9 12  2  2  1]\n",
      " [ 8  8 52  1 16  1]\n",
      " [ 2  2  4  4  1  3]\n",
      " [ 3  1 19  1  9  2]\n",
      " [ 5  3  7  1  1 16]]\n",
      "(row=expected, col=predicted)\n"
     ]
    },
    {
     "data": {
      "image/png": "[encoded data removed]",
      "text/plain": [
       "<Figure size 432x288 with 2 Axes>"
      ]
     },
     "metadata": {},
     "output_type": "display_data"
    }
   ],
   "source": [
    "evaluate_prediction(y_pred_bow_svc, y_test)"
   ]
  },
  {
   "cell_type": "markdown",
   "metadata": {},
   "source": [
    "Not bad - Bag of Words + Linear SVC shows more than 12-14% increase in accuracy compared to a classifier than always predicts comedy."
   ]
  },
  {
   "cell_type": "markdown",
   "metadata": {},
   "source": [
    "The next two techniques require a well trained word embeddings model. We use 'word2vec-google-news-300' (see description below).\n",
    "\n",
    "\n",
    "Vocabulary size: 3 million words.\n",
    "\n",
    "**Warning:** ~2 mins to load, takes 4 GB of RAM.\n",
    "\n",
    "In case this is a problem, you could also use 'glove-wiki-gigaword-50' (smaller in size, faster to load)."
   ]
  },
  {
   "cell_type": "code",
   "execution_count": 57,
   "metadata": {
    "ExecuteTime": {
     "end_time": "2018-03-16T14:13:44.420427Z",
     "start_time": "2018-03-16T14:13:43.993742Z"
    }
   },
   "outputs": [
    {
     "data": {
      "text/plain": [
       "{'base_dataset': 'Google News (about 100 billion words)',\n",
       " 'checksum': 'a5e5354d40acb95f9ec66d5977d140ef',\n",
       " 'description': \"Pre-trained vectors trained on a part of the Google News dataset (about 100 billion words). The model contains 300-dimensional vectors for 3 million words and phrases. The phrases were obtained using a simple data-driven approach described in 'Distributed Representations of Words and Phrases and their Compositionality' (https://code.google.com/archive/p/word2vec/).\",\n",
       " 'file_name': 'word2vec-google-news-300.gz',\n",
       " 'file_size': 1743563840,\n",
       " 'license': 'not found',\n",
       " 'num_records': 3000000,\n",
       " 'parameters': {'dimension': 300},\n",
       " 'parts': 1,\n",
       " 'read_more': ['https://code.google.com/archive/p/word2vec/',\n",
       "  'https://arxiv.org/abs/1301.3781',\n",
       "  'https://arxiv.org/abs/1310.4546',\n",
       "  'https://www.microsoft.com/en-us/research/publication/linguistic-regularities-in-continuous-space-word-representations/?from=http%3A%2F%2Fresearch.microsoft.com%2Fpubs%2F189726%2Frvecs.pdf'],\n",
       " 'reader_code': 'https://github.com/RaRe-Technologies/gensim-data/releases/download/word2vec-google-news-300/__init__.py'}"
      ]
     },
     "execution_count": 57,
     "metadata": {},
     "output_type": "execute_result"
    }
   ],
   "source": [
    "api.info()['models']['word2vec-google-news-300']"
   ]
  },
  {
   "cell_type": "code",
   "execution_count": 58,
   "metadata": {
    "ExecuteTime": {
     "end_time": "2018-03-16T14:13:45.367007Z",
     "start_time": "2018-03-16T14:13:45.007503Z"
    }
   },
   "outputs": [
    {
     "data": {
      "text/plain": [
       "{'base_dataset': 'Wikipedia 2014 + Gigaword 5 (6B tokens, uncased)',\n",
       " 'checksum': 'c289bc5d7f2f02c6dc9f2f9b67641813',\n",
       " 'description': 'Pre-trained vectors based on Wikipedia 2014 + Gigaword, 5.6B tokens, 400K vocab, uncased (https://nlp.stanford.edu/projects/glove/).',\n",
       " 'file_name': 'glove-wiki-gigaword-50.gz',\n",
       " 'file_size': 69182535,\n",
       " 'license': 'http://opendatacommons.org/licenses/pddl/',\n",
       " 'num_records': 400000,\n",
       " 'parameters': {'dimension': 50},\n",
       " 'parts': 1,\n",
       " 'preprocessing': 'Converted to w2v format with `python -m gensim.scripts.glove2word2vec -i <fname> -o glove-wiki-gigaword-50.txt`.',\n",
       " 'read_more': ['https://nlp.stanford.edu/projects/glove/',\n",
       "  'https://nlp.stanford.edu/pubs/glove.pdf'],\n",
       " 'reader_code': 'https://github.com/RaRe-Technologies/gensim-data/releases/download/glove-wiki-gigaword-50/__init__.py'}"
      ]
     },
     "execution_count": 58,
     "metadata": {},
     "output_type": "execute_result"
    }
   ],
   "source": [
    "api.info()['models']['glove-wiki-gigaword-50']"
   ]
  },
  {
   "cell_type": "code",
   "execution_count": 59,
   "metadata": {
    "ExecuteTime": {
     "end_time": "2018-03-16T14:15:11.396029Z",
     "start_time": "2018-03-16T14:13:45.984015Z"
    }
   },
   "outputs": [
    {
     "name": "stderr",
     "output_type": "stream",
     "text": [
      "2018-03-16 19:43:46,339 : INFO : loading projection weights from /home/cva/gensim-data/word2vec-google-news-300/word2vec-google-news-300.gz\n",
      "2018-03-16 19:45:11,393 : INFO : loaded (3000000, 300) matrix from /home/cva/gensim-data/word2vec-google-news-300/word2vec-google-news-300.gz\n"
     ]
    },
    {
     "name": "stdout",
     "output_type": "stream",
     "text": [
      "CPU times: user 1min 23s, sys: 1.9 s, total: 1min 25s\n",
      "Wall time: 1min 25s\n"
     ]
    }
   ],
   "source": [
    "%%time\n",
    "w2v_model = api.load('word2vec-google-news-300')"
   ]
  },
  {
   "cell_type": "code",
   "execution_count": 60,
   "metadata": {
    "ExecuteTime": {
     "end_time": "2018-03-16T14:15:34.947449Z",
     "start_time": "2018-03-16T14:15:15.561077Z"
    }
   },
   "outputs": [
    {
     "name": "stderr",
     "output_type": "stream",
     "text": [
      "2018-03-16 19:45:15,566 : INFO : precomputing L2-norms of word weight vectors\n"
     ]
    },
    {
     "name": "stdout",
     "output_type": "stream",
     "text": [
      "CPU times: user 19.4 s, sys: 0 ns, total: 19.4 s\n",
      "Wall time: 19.4 s\n"
     ]
    }
   ],
   "source": [
    "%%time\n",
    "w2v_model.init_sims(replace=True)"
   ]
  },
  {
   "cell_type": "markdown",
   "metadata": {},
   "source": [
    "## Technique 2: Average word embeddings + Linear SVM"
   ]
  },
  {
   "cell_type": "code",
   "execution_count": 61,
   "metadata": {
    "ExecuteTime": {
     "end_time": "2018-03-16T14:15:37.023682Z",
     "start_time": "2018-03-16T14:15:37.016020Z"
    }
   },
   "outputs": [],
   "source": [
    "class MeanEmbeddingVectorizer(object):\n",
    "    def __init__(self, word2vec):\n",
    "        self.word2vec = word2vec\n",
    "        self.dim = word2vec.vector_size\n",
    "    \n",
    "    def fit(self, X, y):\n",
    "        return self \n",
    "\n",
    "    def transform(self, X):\n",
    "        return np.array([\n",
    "            np.mean([self.word2vec[w] for w in words if w in self.word2vec] \n",
    "                    or [np.zeros(self.dim)], axis=0)\n",
    "            for words in X\n",
    "        ])"
   ]
  },
  {
   "cell_type": "code",
   "execution_count": 62,
   "metadata": {
    "ExecuteTime": {
     "end_time": "2018-03-16T14:15:37.811005Z",
     "start_time": "2018-03-16T14:15:37.808220Z"
    }
   },
   "outputs": [],
   "source": [
    "avg_wv_svc = Pipeline([(\"mean_embedding_vectorizer\", MeanEmbeddingVectorizer(w2v_model)), (\"linear_svc\", LinearSVC())])"
   ]
  },
  {
   "cell_type": "code",
   "execution_count": 63,
   "metadata": {
    "ExecuteTime": {
     "end_time": "2018-03-16T14:15:39.163627Z",
     "start_time": "2018-03-16T14:15:38.558168Z"
    }
   },
   "outputs": [
    {
     "data": {
      "text/plain": [
       "Pipeline(memory=None,\n",
       "     steps=[('mean_embedding_vectorizer', <__main__.MeanEmbeddingVectorizer object at 0x7f1abe977b00>), ('linear_svc', LinearSVC(C=1.0, class_weight=None, dual=True, fit_intercept=True,\n",
       "     intercept_scaling=1, loss='squared_hinge', max_iter=1000,\n",
       "     multi_class='ovr', penalty='l2', random_state=None, tol=0.0001,\n",
       "     verbose=0))])"
      ]
     },
     "execution_count": 63,
     "metadata": {},
     "output_type": "execute_result"
    }
   ],
   "source": [
    "avg_wv_svc.fit(X_train, y_train)"
   ]
  },
  {
   "cell_type": "code",
   "execution_count": 64,
   "metadata": {
    "ExecuteTime": {
     "end_time": "2018-03-16T14:15:40.048974Z",
     "start_time": "2018-03-16T14:15:39.987157Z"
    }
   },
   "outputs": [],
   "source": [
    "y_pred_avg_wv_svc = avg_wv_svc.predict(X_test)"
   ]
  },
  {
   "cell_type": "code",
   "execution_count": 65,
   "metadata": {
    "ExecuteTime": {
     "end_time": "2018-03-16T14:15:40.739983Z",
     "start_time": "2018-03-16T14:15:40.561694Z"
    }
   },
   "outputs": [
    {
     "name": "stdout",
     "output_type": "stream",
     "text": [
      "accuracy 0.6049382716049383\n",
      "confusion matrix\n",
      " [[26  2 11  0  1  2]\n",
      " [ 2 10 12  1  2  4]\n",
      " [ 3  0 77  0  4  2]\n",
      " [ 3  1  5  3  2  2]\n",
      " [ 2  0 21  1  9  2]\n",
      " [ 5  0  6  0  0 22]]\n",
      "(row=expected, col=predicted)\n"
     ]
    },
    {
     "data": {
      "image/png": "[encoded data removed]",
      "text/plain": [
       "<Figure size 432x288 with 2 Axes>"
      ]
     },
     "metadata": {},
     "output_type": "display_data"
    }
   ],
   "source": [
    "evaluate_prediction(y_pred_avg_wv_svc, y_test)"
   ]
  },
  {
   "cell_type": "markdown",
   "metadata": {},
   "source": [
    "We saw 2 techniques to classify texts. The results here do not indicate the best achievable performance using these techniques. Potential ways to increase the performance of these techniques is by using some other supervised classifier (instead of linear SVC) and ofcourse tuning the classifier."
   ]
  },
  {
   "cell_type": "markdown",
   "metadata": {},
   "source": [
    "## Are average word embeddings any good?\n",
    ">The prevailing view is that it lacks the ability to capture semantics of word sequences and is virtually useless for most purposes, unless combined with heavy machinery.\n",
    "\n",
    "While classification using simple word embeddings averaging may not be best model, it does provide a **decent baseline** on most tasks.\n",
    "\n",
    "There are several papers that challenge the above quoted view and point out the significant boost in accuracy (performing competitive to state-of-art) with small modifications to average word embeddings. These discussions are out of the scope this workshop. Below are a few link to some of the papers:\n",
    "- [\"In Defense of Word Embedding for Generic Text Representation\"](https://www.cs.tau.ac.il/~wolf/papers/qagg.pdf)\n",
    "- [\"All-but-the-Top: Simple and Effective Postprocessing for Word Representations\"](https://arxiv.org/pdf/1702.01417.pdf)\n",
    "- [\"Deep Unordered Composition Rivals Syntactic Methods for Text Classification\"](https://cs.umd.edu/~miyyer/pubs/2015_acl_dan.pdf)\n",
    "- [\"A Simple But Tough-To-Beat Baseline For Sentence Embeddings\"](https://openreview.net/pdf?id=SyK00v5xx)\n"
   ]
  },
  {
   "cell_type": "markdown",
   "metadata": {},
   "source": [
    "## References\n",
    "A lot of the code used in this notebook as been picked up directly/modified from various other tutorials/blogs/notebooks. Thanks to all of you guys to help speed up the creation of this notebook.\n",
    "- https://github.com/RaRe-Technologies/movie-plots-by-genre/blob/master/Document%20classification%20with%20word%20embeddings%20tutorial.ipynb - Lev Konstantinovskiy.\n",
    "- http://sujitpal.blogspot.in/2016/04/predicting-movie-tags-from-plots-using.html - Sujit Pal.\n",
    "- http://nadbordrozd.github.io/blog/2016/05/20/text-classification-with-word2vec/ - Nadbor Drozd.\n",
    "- https://machinelearningmastery.com/prepare-text-data-machine-learning-scikit-learn/ - Jason Brownlee."
   ]
  },
  {
   "cell_type": "code",
   "execution_count": null,
   "metadata": {},
   "outputs": [],
   "source": []
  },
  {
   "cell_type": "code",
   "execution_count": null,
   "metadata": {},
   "outputs": [],
   "source": []
  },
  {
   "cell_type": "code",
   "execution_count": null,
   "metadata": {},
   "outputs": [],
   "source": []
  },
  {
   "cell_type": "markdown",
   "metadata": {},
   "source": [
    "# Appendix"
   ]
  },
  {
   "cell_type": "markdown",
   "metadata": {},
   "source": [
    "<a id='solution1'></a>\n",
    "### Solution to Exercise1"
   ]
  },
  {
   "cell_type": "code",
   "execution_count": 18,
   "metadata": {
    "ExecuteTime": {
     "end_time": "2018-03-16T14:11:28.445532Z",
     "start_time": "2018-03-16T14:11:28.438720Z"
    }
   },
   "outputs": [],
   "source": [
    "def find_anology(model, wordA, wordB, wordC):\n",
    "    resultant_vector = model.wv.word_vec(wordB, use_norm=True) + model.wv.word_vec(wordC, use_norm=True) - model.wv.word_vec(wordA, use_norm=True)\n",
    "    return model.wv.similar_by_vector(resultant_vector, topn=5)"
   ]
  },
  {
   "cell_type": "code",
   "execution_count": 19,
   "metadata": {
    "ExecuteTime": {
     "end_time": "2018-03-16T14:11:29.326635Z",
     "start_time": "2018-03-16T14:11:29.318483Z"
    }
   },
   "outputs": [
    {
     "data": {
      "text/plain": [
       "[('man', 0.873001754283905),\n",
       " ('woman', 0.8238713145256042),\n",
       " ('girl', 0.751043438911438),\n",
       " ('lady', 0.7102423310279846),\n",
       " ('beauty', 0.650436282157898)]"
      ]
     },
     "execution_count": 19,
     "metadata": {},
     "output_type": "execute_result"
    }
   ],
   "source": [
    "find_anology(model_text8, 'king', 'man', 'queen')"
   ]
  },
  {
   "cell_type": "markdown",
   "metadata": {},
   "source": [
    "Are you surprised by the results? Why is 'woman' not the closest but it's rather 'man'. The explanation for this is a little out of scope of this tutorial. Have a look at this [video](https://www.coursera.org/learn/language-processing/lecture/lpSIA/word-analogies-without-magic-king-man-woman-queen) in case you are interested. "
   ]
  },
  {
   "cell_type": "code",
   "execution_count": 20,
   "metadata": {
    "ExecuteTime": {
     "end_time": "2018-03-16T14:11:33.531966Z",
     "start_time": "2018-03-16T14:11:33.524738Z"
    }
   },
   "outputs": [
    {
     "data": {
      "text/plain": [
       "[('woman', 0.8238714337348938),\n",
       " ('girl', 0.751043438911438),\n",
       " ('lady', 0.7102423310279846)]"
      ]
     },
     "execution_count": 20,
     "metadata": {},
     "output_type": "execute_result"
    }
   ],
   "source": [
    "# a general `Gensim` API for the same purpose as exercise 1\n",
    "model_text8.wv.most_similar(positive=['man', 'queen'], negative=['king'], topn=3)"
   ]
  },
  {
   "cell_type": "markdown",
   "metadata": {},
   "source": [
    "[Back to Exercise 1](#exercise1)"
   ]
  },
  {
   "cell_type": "markdown",
   "metadata": {},
   "source": [
    "<a id='solution2'></a>\n",
    "### Solution to Exercise2"
   ]
  },
  {
   "cell_type": "code",
   "execution_count": 25,
   "metadata": {
    "ExecuteTime": {
     "end_time": "2018-03-16T14:12:31.463082Z",
     "start_time": "2018-03-16T14:12:31.456350Z"
    }
   },
   "outputs": [],
   "source": [
    "def oddword(words_list):\n",
    "    words_norm_vectors = np.array([model_text8.wv.word_vec(word, use_norm=True) for word in words_list])\n",
    "    vectors_mean = np.sum(words_norm_vectors, axis=0) / float(len(words_list))\n",
    "    odd_word_index = np.argsort(model_text8.wv.cosine_similarities(vectors_mean, words_norm_vectors))[0]\n",
    "    return words_list[odd_word_index]"
   ]
  },
  {
   "cell_type": "code",
   "execution_count": 26,
   "metadata": {
    "ExecuteTime": {
     "end_time": "2018-03-16T14:12:31.770633Z",
     "start_time": "2018-03-16T14:12:31.765064Z"
    }
   },
   "outputs": [
    {
     "data": {
      "text/plain": [
       "'cold'"
      ]
     },
     "execution_count": 26,
     "metadata": {},
     "output_type": "execute_result"
    }
   ],
   "source": [
    "oddword(['summer', 'winter', 'spring', 'cold'])"
   ]
  },
  {
   "cell_type": "code",
   "execution_count": 27,
   "metadata": {
    "ExecuteTime": {
     "end_time": "2018-03-16T14:12:32.174150Z",
     "start_time": "2018-03-16T14:12:32.167586Z"
    }
   },
   "outputs": [
    {
     "data": {
      "text/plain": [
       "'cold'"
      ]
     },
     "execution_count": 27,
     "metadata": {},
     "output_type": "execute_result"
    }
   ],
   "source": [
    "# a general `Gensim` API for the same purpose as exercise 2\n",
    "model_text8.wv.doesnt_match(['summer', 'winter', 'spring', 'cold'])"
   ]
  },
  {
   "cell_type": "markdown",
   "metadata": {},
   "source": [
    "[Back to Exercise 2](#exercise2)"
   ]
  },
  {
   "cell_type": "code",
   "execution_count": null,
   "metadata": {},
   "outputs": [],
   "source": []
  }
 ],
 "metadata": {
  "kernelspec": {
   "display_name": "Python 2",
   "language": "python",
   "name": "python2"
  },
  "language_info": {
   "codemirror_mode": {
    "name": "ipython",
    "version": 3
   },
   "file_extension": ".py",
   "mimetype": "text/x-python",
   "name": "python",
   "nbconvert_exporter": "python",
   "pygments_lexer": "ipython3",
   "version": "3.5.2"
  }
 },
 "nbformat": 4,
 "nbformat_minor": 2
}
