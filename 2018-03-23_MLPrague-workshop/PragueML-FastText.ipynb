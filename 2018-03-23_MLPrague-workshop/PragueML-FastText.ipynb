{
 "cells": [
  {
   "cell_type": "markdown",
   "metadata": {},
   "source": [
    "# ML Prague - Word Embeddings 2 : FastText & Application\n",
    "Continuation of [Word2Vec notebook](https://github.com/RaRe-Technologies/talks/blob/master/2018-03-23_MLPrague-workshop/PragueML-Word2Vec.ipynb).\n",
    "\n",
    "Objectives of this notebook:\n",
    "\n",
    "- Demonstrate training/utilization of a `FastText` model using Gensim.\n",
    "- Application of `FastText` word embeddings on a supervised text classification task."
   ]
  },
  {
   "cell_type": "markdown",
   "metadata": {},
   "source": [
    "### Requirements:\n",
    "- Python3.5\n",
    "- gensim\n",
    "- pandas\n",
    "- matplotlib\n",
    "- sklearn"
   ]
  },
  {
   "cell_type": "code",
   "execution_count": 1,
   "metadata": {
    "ExecuteTime": {
     "end_time": "2018-03-13T14:38:43.836655Z",
     "start_time": "2018-03-13T14:38:43.421334Z"
    }
   },
   "outputs": [],
   "source": [
    "# imports\n",
    "\n",
    "from __future__ import print_function\n",
    "import logging\n",
    "import gensim\n",
    "from gensim.models import FastText, KeyedVectors\n",
    "from gensim.models.word2vec import Text8Corpus\n",
    "from gensim.parsing import preprocess_string\n",
    "from gensim.parsing.preprocessing import strip_punctuation, strip_numeric, strip_multiple_whitespaces, strip_short\n",
    "import gensim.downloader as api\n",
    "import numpy as np\n",
    "from collections import defaultdict\n",
    "import multiprocessing\n",
    "from smart_open import smart_open"
   ]
  },
  {
   "cell_type": "code",
   "execution_count": 2,
   "metadata": {
    "ExecuteTime": {
     "end_time": "2018-03-13T14:38:45.187455Z",
     "start_time": "2018-03-13T14:38:45.161282Z"
    }
   },
   "outputs": [
    {
     "data": {
      "text/plain": [
       "1"
      ]
     },
     "execution_count": 2,
     "metadata": {},
     "output_type": "execute_result"
    }
   ],
   "source": [
    "# ensure FAST_VERSION > -1 - would be painfully slow to train models otherwise.\n",
    "# A good BLAS library is recommended to make use of heavy low level optimisations.\n",
    "gensim.models.fasttext.FAST_VERSION"
   ]
  },
  {
   "cell_type": "code",
   "execution_count": 3,
   "metadata": {
    "ExecuteTime": {
     "end_time": "2018-03-13T14:38:46.346039Z",
     "start_time": "2018-03-13T14:38:46.338792Z"
    }
   },
   "outputs": [],
   "source": [
    "logging.basicConfig(format='%(asctime)s : %(levelname)s : %(message)s', level=logging.INFO)"
   ]
  },
  {
   "cell_type": "markdown",
   "metadata": {},
   "source": [
    "## Training a `FastText` model\n",
    "Train a `FastText` model on `text8`."
   ]
  },
  {
   "cell_type": "code",
   "execution_count": 4,
   "metadata": {
    "ExecuteTime": {
     "end_time": "2018-03-13T14:38:48.333119Z",
     "start_time": "2018-03-13T14:38:48.330199Z"
    }
   },
   "outputs": [],
   "source": [
    "# a memory-friendly iterator\n",
    "# text8_corpus = Text8Corpus('./data/text8')\n",
    "text8_corpus = api.load(\"text8\")"
   ]
  },
  {
   "cell_type": "code",
   "execution_count": 5,
   "metadata": {
    "ExecuteTime": {
     "end_time": "2018-03-13T14:42:09.626669Z",
     "start_time": "2018-03-13T14:38:54.383818Z"
    },
    "scrolled": true
   },
   "outputs": [
    {
     "name": "stderr",
     "output_type": "stream",
     "text": [
      "2018-03-16 22:37:27,818 : WARNING : consider setting layer size to a multiple of 4 for greater performance\n",
      "2018-03-16 22:37:27,821 : INFO : collecting all words and their counts\n",
      "2018-03-16 22:37:27,829 : INFO : PROGRESS: at sentence #0, processed 0 words, keeping 0 word types\n",
      "2018-03-16 22:37:32,589 : INFO : collected 253854 word types from a corpus of 17005207 raw words and 1701 sentences\n",
      "2018-03-16 22:37:32,589 : INFO : Loading a fresh vocabulary\n",
      "2018-03-16 22:37:32,850 : INFO : min_count=5 retains 71290 unique words (28% of original 253854, drops 182564)\n",
      "2018-03-16 22:37:32,851 : INFO : min_count=5 leaves 16718844 word corpus (98% of original 17005207, drops 286363)\n",
      "2018-03-16 22:37:33,021 : INFO : deleting the raw counts dictionary of 253854 items\n",
      "2018-03-16 22:37:33,038 : INFO : sample=0.001 downsamples 38 most-common words\n",
      "2018-03-16 22:37:33,039 : INFO : downsampling leaves estimated 12506280 word corpus (74.8% of prior 16718844)\n",
      "2018-03-16 22:37:38,524 : INFO : estimated required memory for 71290 words, 306868 buckets and 50 dimensions: 142481400 bytes\n",
      "2018-03-16 22:37:38,536 : INFO : resetting layer weights\n",
      "2018-03-16 22:37:40,447 : INFO : Total number of ngrams is 306868\n",
      "2018-03-16 22:37:41,843 : INFO : training model with 8 workers on 71290 vocabulary and 50 features, using sg=0 hs=0 sample=0.001 negative=5 window=5\n",
      "2018-03-16 22:37:42,888 : INFO : EPOCH 1 - PROGRESS: at 1.70% examples, 206504 words/s, in_qsize 0, out_qsize 0\n",
      "2018-03-16 22:37:43,923 : INFO : EPOCH 1 - PROGRESS: at 3.82% examples, 230393 words/s, in_qsize 0, out_qsize 0\n",
      "2018-03-16 22:37:44,938 : INFO : EPOCH 1 - PROGRESS: at 5.88% examples, 236843 words/s, in_qsize 0, out_qsize 0\n",
      "2018-03-16 22:37:45,965 : INFO : EPOCH 1 - PROGRESS: at 7.94% examples, 239318 words/s, in_qsize 0, out_qsize 0\n",
      "2018-03-16 22:37:46,987 : INFO : EPOCH 1 - PROGRESS: at 9.94% examples, 239885 words/s, in_qsize 0, out_qsize 0\n",
      "2018-03-16 22:37:47,989 : INFO : EPOCH 1 - PROGRESS: at 11.82% examples, 238819 words/s, in_qsize 0, out_qsize 0\n",
      "2018-03-16 22:37:49,027 : INFO : EPOCH 1 - PROGRESS: at 13.76% examples, 238183 words/s, in_qsize 0, out_qsize 1\n",
      "2018-03-16 22:37:50,069 : INFO : EPOCH 1 - PROGRESS: at 15.76% examples, 238171 words/s, in_qsize 0, out_qsize 1\n",
      "2018-03-16 22:37:51,119 : INFO : EPOCH 1 - PROGRESS: at 17.75% examples, 238297 words/s, in_qsize 0, out_qsize 0\n",
      "2018-03-16 22:37:52,139 : INFO : EPOCH 1 - PROGRESS: at 19.87% examples, 240208 words/s, in_qsize 0, out_qsize 0\n",
      "2018-03-16 22:37:53,144 : INFO : EPOCH 1 - PROGRESS: at 21.87% examples, 241132 words/s, in_qsize 0, out_qsize 1\n",
      "2018-03-16 22:37:54,159 : INFO : EPOCH 1 - PROGRESS: at 23.87% examples, 241912 words/s, in_qsize 0, out_qsize 0\n",
      "2018-03-16 22:37:55,202 : INFO : EPOCH 1 - PROGRESS: at 25.87% examples, 241821 words/s, in_qsize 0, out_qsize 0\n",
      "2018-03-16 22:37:56,205 : INFO : EPOCH 1 - PROGRESS: at 27.81% examples, 242025 words/s, in_qsize 0, out_qsize 0\n",
      "2018-03-16 22:37:57,234 : INFO : EPOCH 1 - PROGRESS: at 29.81% examples, 242358 words/s, in_qsize 0, out_qsize 0\n",
      "2018-03-16 22:37:58,238 : INFO : EPOCH 1 - PROGRESS: at 31.80% examples, 242885 words/s, in_qsize 0, out_qsize 0\n",
      "2018-03-16 22:37:59,260 : INFO : EPOCH 1 - PROGRESS: at 33.86% examples, 243626 words/s, in_qsize 0, out_qsize 0\n",
      "2018-03-16 22:38:00,290 : INFO : EPOCH 1 - PROGRESS: at 35.92% examples, 244139 words/s, in_qsize 0, out_qsize 0\n",
      "2018-03-16 22:38:01,319 : INFO : EPOCH 1 - PROGRESS: at 37.80% examples, 243359 words/s, in_qsize 0, out_qsize 0\n",
      "2018-03-16 22:38:02,331 : INFO : EPOCH 1 - PROGRESS: at 39.68% examples, 242815 words/s, in_qsize 0, out_qsize 0\n",
      "2018-03-16 22:38:03,366 : INFO : EPOCH 1 - PROGRESS: at 41.80% examples, 243451 words/s, in_qsize 0, out_qsize 0\n",
      "2018-03-16 22:38:04,372 : INFO : EPOCH 1 - PROGRESS: at 43.50% examples, 242076 words/s, in_qsize 0, out_qsize 0\n",
      "2018-03-16 22:38:05,405 : INFO : EPOCH 1 - PROGRESS: at 45.50% examples, 242149 words/s, in_qsize 0, out_qsize 0\n",
      "2018-03-16 22:38:06,425 : INFO : EPOCH 1 - PROGRESS: at 47.50% examples, 242327 words/s, in_qsize 0, out_qsize 0\n",
      "2018-03-16 22:38:07,444 : INFO : EPOCH 1 - PROGRESS: at 49.32% examples, 241626 words/s, in_qsize 0, out_qsize 0\n",
      "2018-03-16 22:38:08,484 : INFO : EPOCH 1 - PROGRESS: at 51.44% examples, 242158 words/s, in_qsize 0, out_qsize 0\n",
      "2018-03-16 22:38:09,491 : INFO : EPOCH 1 - PROGRESS: at 53.32% examples, 241898 words/s, in_qsize 0, out_qsize 0\n",
      "2018-03-16 22:38:10,527 : INFO : EPOCH 1 - PROGRESS: at 55.32% examples, 241944 words/s, in_qsize 0, out_qsize 0\n",
      "2018-03-16 22:38:11,565 : INFO : EPOCH 1 - PROGRESS: at 57.50% examples, 242648 words/s, in_qsize 0, out_qsize 0\n",
      "2018-03-16 22:38:12,593 : INFO : EPOCH 1 - PROGRESS: at 59.44% examples, 242480 words/s, in_qsize 0, out_qsize 0\n",
      "2018-03-16 22:38:13,614 : INFO : EPOCH 1 - PROGRESS: at 61.55% examples, 243055 words/s, in_qsize 0, out_qsize 0\n",
      "2018-03-16 22:38:14,627 : INFO : EPOCH 1 - PROGRESS: at 63.55% examples, 243186 words/s, in_qsize 0, out_qsize 0\n",
      "2018-03-16 22:38:15,663 : INFO : EPOCH 1 - PROGRESS: at 65.67% examples, 243529 words/s, in_qsize 0, out_qsize 0\n",
      "2018-03-16 22:38:16,666 : INFO : EPOCH 1 - PROGRESS: at 67.72% examples, 243935 words/s, in_qsize 0, out_qsize 0\n",
      "2018-03-16 22:38:17,685 : INFO : EPOCH 1 - PROGRESS: at 69.78% examples, 244199 words/s, in_qsize 0, out_qsize 0\n",
      "2018-03-16 22:38:18,713 : INFO : EPOCH 1 - PROGRESS: at 71.84% examples, 244402 words/s, in_qsize 0, out_qsize 1\n",
      "2018-03-16 22:38:19,716 : INFO : EPOCH 1 - PROGRESS: at 73.96% examples, 244996 words/s, in_qsize 0, out_qsize 0\n",
      "2018-03-16 22:38:20,730 : INFO : EPOCH 1 - PROGRESS: at 76.25% examples, 245669 words/s, in_qsize 0, out_qsize 0\n",
      "2018-03-16 22:38:21,740 : INFO : EPOCH 1 - PROGRESS: at 78.37% examples, 245936 words/s, in_qsize 0, out_qsize 0\n",
      "2018-03-16 22:38:22,796 : INFO : EPOCH 1 - PROGRESS: at 80.25% examples, 245300 words/s, in_qsize 0, out_qsize 0\n",
      "2018-03-16 22:38:23,813 : INFO : EPOCH 1 - PROGRESS: at 82.25% examples, 245288 words/s, in_qsize 0, out_qsize 0\n",
      "2018-03-16 22:38:24,846 : INFO : EPOCH 1 - PROGRESS: at 84.19% examples, 245063 words/s, in_qsize 0, out_qsize 0\n",
      "2018-03-16 22:38:25,908 : INFO : EPOCH 1 - PROGRESS: at 86.24% examples, 244981 words/s, in_qsize 0, out_qsize 1\n",
      "2018-03-16 22:38:26,925 : INFO : EPOCH 1 - PROGRESS: at 88.24% examples, 244994 words/s, in_qsize 0, out_qsize 0\n",
      "2018-03-16 22:38:27,994 : INFO : EPOCH 1 - PROGRESS: at 90.06% examples, 244316 words/s, in_qsize 0, out_qsize 0\n",
      "2018-03-16 22:38:29,009 : INFO : EPOCH 1 - PROGRESS: at 92.00% examples, 244107 words/s, in_qsize 0, out_qsize 0\n",
      "2018-03-16 22:38:30,037 : INFO : EPOCH 1 - PROGRESS: at 94.00% examples, 244049 words/s, in_qsize 0, out_qsize 0\n",
      "2018-03-16 22:38:31,074 : INFO : EPOCH 1 - PROGRESS: at 95.88% examples, 243719 words/s, in_qsize 0, out_qsize 1\n",
      "2018-03-16 22:38:32,086 : INFO : EPOCH 1 - PROGRESS: at 98.00% examples, 243989 words/s, in_qsize 0, out_qsize 0\n",
      "2018-03-16 22:38:33,096 : INFO : EPOCH 1 - PROGRESS: at 99.76% examples, 243519 words/s, in_qsize 9, out_qsize 1\n",
      "2018-03-16 22:38:33,122 : INFO : worker thread finished; awaiting finish of 7 more threads\n",
      "2018-03-16 22:38:33,122 : INFO : worker thread finished; awaiting finish of 6 more threads\n",
      "2018-03-16 22:38:33,123 : INFO : worker thread finished; awaiting finish of 5 more threads\n",
      "2018-03-16 22:38:33,123 : INFO : worker thread finished; awaiting finish of 4 more threads\n",
      "2018-03-16 22:38:33,124 : INFO : worker thread finished; awaiting finish of 3 more threads\n",
      "2018-03-16 22:38:33,137 : INFO : worker thread finished; awaiting finish of 2 more threads\n",
      "2018-03-16 22:38:33,159 : INFO : worker thread finished; awaiting finish of 1 more threads\n",
      "2018-03-16 22:38:33,167 : INFO : worker thread finished; awaiting finish of 0 more threads\n",
      "2018-03-16 22:38:33,167 : INFO : EPOCH - 1 : training on 17005207 raw words (12506356 effective words) took 51.3s, 243693 effective words/s\n",
      "2018-03-16 22:38:34,183 : INFO : EPOCH 2 - PROGRESS: at 1.82% examples, 227026 words/s, in_qsize 0, out_qsize 0\n",
      "2018-03-16 22:38:35,192 : INFO : EPOCH 2 - PROGRESS: at 3.59% examples, 222746 words/s, in_qsize 0, out_qsize 0\n",
      "2018-03-16 22:38:36,212 : INFO : EPOCH 2 - PROGRESS: at 5.64% examples, 231364 words/s, in_qsize 0, out_qsize 1\n"
     ]
    },
    {
     "name": "stderr",
     "output_type": "stream",
     "text": [
      "2018-03-16 22:38:37,241 : INFO : EPOCH 2 - PROGRESS: at 7.64% examples, 233046 words/s, in_qsize 0, out_qsize 0\n",
      "2018-03-16 22:38:38,257 : INFO : EPOCH 2 - PROGRESS: at 9.52% examples, 232498 words/s, in_qsize 0, out_qsize 0\n",
      "2018-03-16 22:38:39,276 : INFO : EPOCH 2 - PROGRESS: at 11.58% examples, 235324 words/s, in_qsize 0, out_qsize 0\n",
      "2018-03-16 22:38:40,295 : INFO : EPOCH 2 - PROGRESS: at 13.58% examples, 236904 words/s, in_qsize 0, out_qsize 0\n",
      "2018-03-16 22:38:41,301 : INFO : EPOCH 2 - PROGRESS: at 15.29% examples, 233610 words/s, in_qsize 0, out_qsize 0\n",
      "2018-03-16 22:38:42,349 : INFO : EPOCH 2 - PROGRESS: at 17.23% examples, 233463 words/s, in_qsize 0, out_qsize 0\n",
      "2018-03-16 22:38:43,352 : INFO : EPOCH 2 - PROGRESS: at 19.28% examples, 235729 words/s, in_qsize 0, out_qsize 0\n",
      "2018-03-16 22:38:44,365 : INFO : EPOCH 2 - PROGRESS: at 21.34% examples, 237439 words/s, in_qsize 0, out_qsize 0\n",
      "2018-03-16 22:38:45,372 : INFO : EPOCH 2 - PROGRESS: at 23.28% examples, 237955 words/s, in_qsize 0, out_qsize 0\n",
      "2018-03-16 22:38:46,375 : INFO : EPOCH 2 - PROGRESS: at 25.22% examples, 238292 words/s, in_qsize 0, out_qsize 0\n",
      "2018-03-16 22:38:47,404 : INFO : EPOCH 2 - PROGRESS: at 27.10% examples, 237810 words/s, in_qsize 0, out_qsize 1\n",
      "2018-03-16 22:38:48,412 : INFO : EPOCH 2 - PROGRESS: at 29.16% examples, 239171 words/s, in_qsize 0, out_qsize 1\n",
      "2018-03-16 22:38:49,424 : INFO : EPOCH 2 - PROGRESS: at 31.10% examples, 239450 words/s, in_qsize 0, out_qsize 0\n",
      "2018-03-16 22:38:50,455 : INFO : EPOCH 2 - PROGRESS: at 33.04% examples, 239394 words/s, in_qsize 0, out_qsize 0\n",
      "2018-03-16 22:38:51,472 : INFO : EPOCH 2 - PROGRESS: at 34.92% examples, 239103 words/s, in_qsize 0, out_qsize 0\n",
      "2018-03-16 22:38:52,506 : INFO : EPOCH 2 - PROGRESS: at 36.80% examples, 238578 words/s, in_qsize 0, out_qsize 0\n",
      "2018-03-16 22:38:53,512 : INFO : EPOCH 2 - PROGRESS: at 38.68% examples, 238300 words/s, in_qsize 0, out_qsize 0\n",
      "2018-03-16 22:38:54,566 : INFO : EPOCH 2 - PROGRESS: at 40.68% examples, 238274 words/s, in_qsize 0, out_qsize 0\n",
      "2018-03-16 22:38:55,568 : INFO : EPOCH 2 - PROGRESS: at 42.56% examples, 238222 words/s, in_qsize 0, out_qsize 0\n",
      "2018-03-16 22:38:56,576 : INFO : EPOCH 2 - PROGRESS: at 44.50% examples, 238329 words/s, in_qsize 0, out_qsize 0\n",
      "2018-03-16 22:38:57,589 : INFO : EPOCH 2 - PROGRESS: at 46.50% examples, 238747 words/s, in_qsize 0, out_qsize 0\n",
      "2018-03-16 22:38:58,630 : INFO : EPOCH 2 - PROGRESS: at 48.50% examples, 238839 words/s, in_qsize 0, out_qsize 0\n",
      "2018-03-16 22:38:59,671 : INFO : EPOCH 2 - PROGRESS: at 50.56% examples, 239244 words/s, in_qsize 0, out_qsize 1\n",
      "2018-03-16 22:39:00,702 : INFO : EPOCH 2 - PROGRESS: at 52.56% examples, 239334 words/s, in_qsize 0, out_qsize 0\n",
      "2018-03-16 22:39:01,741 : INFO : EPOCH 2 - PROGRESS: at 54.67% examples, 240009 words/s, in_qsize 0, out_qsize 1\n",
      "2018-03-16 22:39:02,758 : INFO : EPOCH 2 - PROGRESS: at 56.79% examples, 240741 words/s, in_qsize 0, out_qsize 0\n",
      "2018-03-16 22:39:03,762 : INFO : EPOCH 2 - PROGRESS: at 58.85% examples, 241285 words/s, in_qsize 0, out_qsize 0\n",
      "2018-03-16 22:39:04,808 : INFO : EPOCH 2 - PROGRESS: at 60.96% examples, 241736 words/s, in_qsize 0, out_qsize 0\n",
      "2018-03-16 22:39:05,860 : INFO : EPOCH 2 - PROGRESS: at 63.14% examples, 242268 words/s, in_qsize 0, out_qsize 0\n",
      "2018-03-16 22:39:06,900 : INFO : EPOCH 2 - PROGRESS: at 65.26% examples, 242652 words/s, in_qsize 0, out_qsize 0\n",
      "2018-03-16 22:39:07,927 : INFO : EPOCH 2 - PROGRESS: at 67.37% examples, 243115 words/s, in_qsize 0, out_qsize 0\n",
      "2018-03-16 22:39:08,941 : INFO : EPOCH 2 - PROGRESS: at 69.43% examples, 243461 words/s, in_qsize 0, out_qsize 1\n",
      "2018-03-16 22:39:09,976 : INFO : EPOCH 2 - PROGRESS: at 71.43% examples, 243475 words/s, in_qsize 0, out_qsize 0\n",
      "2018-03-16 22:39:10,985 : INFO : EPOCH 2 - PROGRESS: at 73.37% examples, 243430 words/s, in_qsize 0, out_qsize 0\n",
      "2018-03-16 22:39:12,005 : INFO : EPOCH 2 - PROGRESS: at 75.43% examples, 243466 words/s, in_qsize 0, out_qsize 0\n",
      "2018-03-16 22:39:13,014 : INFO : EPOCH 2 - PROGRESS: at 77.37% examples, 243164 words/s, in_qsize 0, out_qsize 0\n",
      "2018-03-16 22:39:14,035 : INFO : EPOCH 2 - PROGRESS: at 79.42% examples, 243342 words/s, in_qsize 0, out_qsize 0\n",
      "2018-03-16 22:39:15,046 : INFO : EPOCH 2 - PROGRESS: at 81.48% examples, 243586 words/s, in_qsize 0, out_qsize 0\n",
      "2018-03-16 22:39:16,071 : INFO : EPOCH 2 - PROGRESS: at 83.36% examples, 243249 words/s, in_qsize 0, out_qsize 1\n",
      "2018-03-16 22:39:17,085 : INFO : EPOCH 2 - PROGRESS: at 85.42% examples, 243474 words/s, in_qsize 0, out_qsize 0\n",
      "2018-03-16 22:39:18,115 : INFO : EPOCH 2 - PROGRESS: at 87.48% examples, 243615 words/s, in_qsize 0, out_qsize 0\n",
      "2018-03-16 22:39:19,115 : INFO : EPOCH 2 - PROGRESS: at 89.54% examples, 243960 words/s, in_qsize 0, out_qsize 0\n",
      "2018-03-16 22:39:20,115 : INFO : EPOCH 2 - PROGRESS: at 91.48% examples, 243876 words/s, in_qsize 0, out_qsize 0\n",
      "2018-03-16 22:39:21,160 : INFO : EPOCH 2 - PROGRESS: at 93.47% examples, 243739 words/s, in_qsize 0, out_qsize 0\n",
      "2018-03-16 22:39:22,183 : INFO : EPOCH 2 - PROGRESS: at 95.47% examples, 243752 words/s, in_qsize 0, out_qsize 0\n",
      "2018-03-16 22:39:23,197 : INFO : EPOCH 2 - PROGRESS: at 97.30% examples, 243317 words/s, in_qsize 0, out_qsize 0\n",
      "2018-03-16 22:39:24,231 : INFO : EPOCH 2 - PROGRESS: at 99.24% examples, 243111 words/s, in_qsize 0, out_qsize 1\n",
      "2018-03-16 22:39:24,516 : INFO : worker thread finished; awaiting finish of 7 more threads\n",
      "2018-03-16 22:39:24,540 : INFO : worker thread finished; awaiting finish of 6 more threads\n",
      "2018-03-16 22:39:24,541 : INFO : worker thread finished; awaiting finish of 5 more threads\n",
      "2018-03-16 22:39:24,542 : INFO : worker thread finished; awaiting finish of 4 more threads\n",
      "2018-03-16 22:39:24,543 : INFO : worker thread finished; awaiting finish of 3 more threads\n",
      "2018-03-16 22:39:24,552 : INFO : worker thread finished; awaiting finish of 2 more threads\n",
      "2018-03-16 22:39:24,588 : INFO : worker thread finished; awaiting finish of 1 more threads\n",
      "2018-03-16 22:39:24,604 : INFO : worker thread finished; awaiting finish of 0 more threads\n",
      "2018-03-16 22:39:24,604 : INFO : EPOCH - 2 : training on 17005207 raw words (12507405 effective words) took 51.4s, 243174 effective words/s\n",
      "2018-03-16 22:39:25,635 : INFO : EPOCH 3 - PROGRESS: at 1.82% examples, 223459 words/s, in_qsize 0, out_qsize 0\n",
      "2018-03-16 22:39:26,641 : INFO : EPOCH 3 - PROGRESS: at 3.70% examples, 228199 words/s, in_qsize 0, out_qsize 0\n",
      "2018-03-16 22:39:27,649 : INFO : EPOCH 3 - PROGRESS: at 5.76% examples, 236123 words/s, in_qsize 0, out_qsize 0\n",
      "2018-03-16 22:39:28,658 : INFO : EPOCH 3 - PROGRESS: at 7.64% examples, 234206 words/s, in_qsize 0, out_qsize 0\n",
      "2018-03-16 22:39:29,693 : INFO : EPOCH 3 - PROGRESS: at 9.70% examples, 236807 words/s, in_qsize 0, out_qsize 0\n",
      "2018-03-16 22:39:30,716 : INFO : EPOCH 3 - PROGRESS: at 11.76% examples, 238924 words/s, in_qsize 0, out_qsize 0\n",
      "2018-03-16 22:39:31,738 : INFO : EPOCH 3 - PROGRESS: at 13.87% examples, 241977 words/s, in_qsize 0, out_qsize 0\n",
      "2018-03-16 22:39:32,744 : INFO : EPOCH 3 - PROGRESS: at 15.81% examples, 241637 words/s, in_qsize 0, out_qsize 0\n",
      "2018-03-16 22:39:33,761 : INFO : EPOCH 3 - PROGRESS: at 17.87% examples, 242979 words/s, in_qsize 0, out_qsize 0\n",
      "2018-03-16 22:39:34,788 : INFO : EPOCH 3 - PROGRESS: at 19.99% examples, 244336 words/s, in_qsize 0, out_qsize 0\n",
      "2018-03-16 22:39:35,806 : INFO : EPOCH 3 - PROGRESS: at 21.99% examples, 244538 words/s, in_qsize 0, out_qsize 0\n",
      "2018-03-16 22:39:36,820 : INFO : EPOCH 3 - PROGRESS: at 23.81% examples, 243243 words/s, in_qsize 0, out_qsize 1\n",
      "2018-03-16 22:39:37,825 : INFO : EPOCH 3 - PROGRESS: at 25.81% examples, 243750 words/s, in_qsize 0, out_qsize 0\n",
      "2018-03-16 22:39:38,845 : INFO : EPOCH 3 - PROGRESS: at 27.87% examples, 244554 words/s, in_qsize 0, out_qsize 0\n",
      "2018-03-16 22:39:39,900 : INFO : EPOCH 3 - PROGRESS: at 29.81% examples, 243820 words/s, in_qsize 0, out_qsize 0\n",
      "2018-03-16 22:39:40,947 : INFO : EPOCH 3 - PROGRESS: at 31.86% examples, 244079 words/s, in_qsize 0, out_qsize 1\n",
      "2018-03-16 22:39:41,999 : INFO : EPOCH 3 - PROGRESS: at 33.86% examples, 243879 words/s, in_qsize 0, out_qsize 0\n",
      "2018-03-16 22:39:43,025 : INFO : EPOCH 3 - PROGRESS: at 35.86% examples, 244021 words/s, in_qsize 0, out_qsize 0\n"
     ]
    },
    {
     "name": "stderr",
     "output_type": "stream",
     "text": [
      "2018-03-16 22:39:44,060 : INFO : EPOCH 3 - PROGRESS: at 37.86% examples, 243942 words/s, in_qsize 0, out_qsize 0\n",
      "2018-03-16 22:39:45,087 : INFO : EPOCH 3 - PROGRESS: at 39.92% examples, 244280 words/s, in_qsize 0, out_qsize 0\n",
      "2018-03-16 22:39:46,099 : INFO : EPOCH 3 - PROGRESS: at 41.86% examples, 244098 words/s, in_qsize 0, out_qsize 0\n",
      "2018-03-16 22:39:47,124 : INFO : EPOCH 3 - PROGRESS: at 43.74% examples, 243461 words/s, in_qsize 0, out_qsize 0\n",
      "2018-03-16 22:39:48,142 : INFO : EPOCH 3 - PROGRESS: at 45.56% examples, 242681 words/s, in_qsize 0, out_qsize 0\n",
      "2018-03-16 22:39:49,151 : INFO : EPOCH 3 - PROGRESS: at 47.44% examples, 242337 words/s, in_qsize 0, out_qsize 0\n",
      "2018-03-16 22:39:50,215 : INFO : EPOCH 3 - PROGRESS: at 49.21% examples, 240941 words/s, in_qsize 0, out_qsize 1\n",
      "2018-03-16 22:39:51,225 : INFO : EPOCH 3 - PROGRESS: at 51.09% examples, 240637 words/s, in_qsize 0, out_qsize 0\n",
      "2018-03-16 22:39:52,230 : INFO : EPOCH 3 - PROGRESS: at 53.09% examples, 240996 words/s, in_qsize 0, out_qsize 0\n",
      "2018-03-16 22:39:53,231 : INFO : EPOCH 3 - PROGRESS: at 54.97% examples, 240832 words/s, in_qsize 0, out_qsize 0\n",
      "2018-03-16 22:39:54,246 : INFO : EPOCH 3 - PROGRESS: at 56.91% examples, 240788 words/s, in_qsize 0, out_qsize 0\n",
      "2018-03-16 22:39:55,246 : INFO : EPOCH 3 - PROGRESS: at 58.85% examples, 240858 words/s, in_qsize 0, out_qsize 0\n",
      "2018-03-16 22:39:56,262 : INFO : EPOCH 3 - PROGRESS: at 60.67% examples, 240394 words/s, in_qsize 0, out_qsize 0\n",
      "2018-03-16 22:39:57,265 : INFO : EPOCH 3 - PROGRESS: at 62.67% examples, 240653 words/s, in_qsize 0, out_qsize 0\n",
      "2018-03-16 22:39:58,271 : INFO : EPOCH 3 - PROGRESS: at 64.49% examples, 240242 words/s, in_qsize 0, out_qsize 0\n",
      "2018-03-16 22:39:59,292 : INFO : EPOCH 3 - PROGRESS: at 66.31% examples, 239743 words/s, in_qsize 0, out_qsize 0\n",
      "2018-03-16 22:40:00,303 : INFO : EPOCH 3 - PROGRESS: at 68.14% examples, 239381 words/s, in_qsize 0, out_qsize 0\n",
      "2018-03-16 22:40:01,303 : INFO : EPOCH 3 - PROGRESS: at 70.14% examples, 239661 words/s, in_qsize 0, out_qsize 0\n",
      "2018-03-16 22:40:02,319 : INFO : EPOCH 3 - PROGRESS: at 71.96% examples, 239269 words/s, in_qsize 0, out_qsize 0\n",
      "2018-03-16 22:40:03,322 : INFO : EPOCH 3 - PROGRESS: at 73.96% examples, 239602 words/s, in_qsize 0, out_qsize 0\n",
      "2018-03-16 22:40:04,367 : INFO : EPOCH 3 - PROGRESS: at 76.13% examples, 239872 words/s, in_qsize 0, out_qsize 0\n",
      "2018-03-16 22:40:05,374 : INFO : EPOCH 3 - PROGRESS: at 78.25% examples, 240283 words/s, in_qsize 0, out_qsize 0\n",
      "2018-03-16 22:40:06,391 : INFO : EPOCH 3 - PROGRESS: at 80.19% examples, 240206 words/s, in_qsize 0, out_qsize 0\n",
      "2018-03-16 22:40:07,423 : INFO : EPOCH 3 - PROGRESS: at 81.95% examples, 239553 words/s, in_qsize 0, out_qsize 0\n",
      "2018-03-16 22:40:08,459 : INFO : EPOCH 3 - PROGRESS: at 83.72% examples, 238933 words/s, in_qsize 0, out_qsize 0\n",
      "2018-03-16 22:40:09,468 : INFO : EPOCH 3 - PROGRESS: at 85.71% examples, 239120 words/s, in_qsize 0, out_qsize 0\n",
      "2018-03-16 22:40:10,480 : INFO : EPOCH 3 - PROGRESS: at 87.54% examples, 238787 words/s, in_qsize 0, out_qsize 0\n",
      "2018-03-16 22:40:11,486 : INFO : EPOCH 3 - PROGRESS: at 89.30% examples, 238400 words/s, in_qsize 0, out_qsize 1\n",
      "2018-03-16 22:40:12,497 : INFO : EPOCH 3 - PROGRESS: at 91.01% examples, 237814 words/s, in_qsize 0, out_qsize 0\n",
      "2018-03-16 22:40:13,509 : INFO : EPOCH 3 - PROGRESS: at 92.77% examples, 237355 words/s, in_qsize 0, out_qsize 0\n",
      "2018-03-16 22:40:14,541 : INFO : EPOCH 3 - PROGRESS: at 94.53% examples, 236829 words/s, in_qsize 0, out_qsize 0\n",
      "2018-03-16 22:40:15,547 : INFO : EPOCH 3 - PROGRESS: at 96.47% examples, 236913 words/s, in_qsize 0, out_qsize 0\n",
      "2018-03-16 22:40:16,562 : INFO : EPOCH 3 - PROGRESS: at 98.53% examples, 237165 words/s, in_qsize 0, out_qsize 0\n",
      "2018-03-16 22:40:17,222 : INFO : worker thread finished; awaiting finish of 7 more threads\n",
      "2018-03-16 22:40:17,223 : INFO : worker thread finished; awaiting finish of 6 more threads\n",
      "2018-03-16 22:40:17,223 : INFO : worker thread finished; awaiting finish of 5 more threads\n",
      "2018-03-16 22:40:17,224 : INFO : worker thread finished; awaiting finish of 4 more threads\n",
      "2018-03-16 22:40:17,224 : INFO : worker thread finished; awaiting finish of 3 more threads\n",
      "2018-03-16 22:40:17,225 : INFO : worker thread finished; awaiting finish of 2 more threads\n",
      "2018-03-16 22:40:17,254 : INFO : worker thread finished; awaiting finish of 1 more threads\n",
      "2018-03-16 22:40:17,264 : INFO : worker thread finished; awaiting finish of 0 more threads\n",
      "2018-03-16 22:40:17,265 : INFO : EPOCH - 3 : training on 17005207 raw words (12504840 effective words) took 52.7s, 237474 effective words/s\n",
      "2018-03-16 22:40:18,285 : INFO : EPOCH 4 - PROGRESS: at 1.82% examples, 225665 words/s, in_qsize 0, out_qsize 0\n",
      "2018-03-16 22:40:19,323 : INFO : EPOCH 4 - PROGRESS: at 3.76% examples, 229327 words/s, in_qsize 0, out_qsize 0\n",
      "2018-03-16 22:40:20,345 : INFO : EPOCH 4 - PROGRESS: at 5.82% examples, 235483 words/s, in_qsize 0, out_qsize 0\n",
      "2018-03-16 22:40:21,364 : INFO : EPOCH 4 - PROGRESS: at 7.76% examples, 235030 words/s, in_qsize 0, out_qsize 0\n",
      "2018-03-16 22:40:22,373 : INFO : EPOCH 4 - PROGRESS: at 9.70% examples, 235751 words/s, in_qsize 0, out_qsize 0\n",
      "2018-03-16 22:40:23,433 : INFO : EPOCH 4 - PROGRESS: at 11.58% examples, 233042 words/s, in_qsize 0, out_qsize 1\n",
      "2018-03-16 22:40:24,449 : INFO : EPOCH 4 - PROGRESS: at 13.64% examples, 236047 words/s, in_qsize 0, out_qsize 0\n",
      "2018-03-16 22:40:25,469 : INFO : EPOCH 4 - PROGRESS: at 15.46% examples, 234330 words/s, in_qsize 0, out_qsize 0\n",
      "2018-03-16 22:40:26,492 : INFO : EPOCH 4 - PROGRESS: at 17.34% examples, 233892 words/s, in_qsize 0, out_qsize 0\n",
      "2018-03-16 22:40:27,526 : INFO : EPOCH 4 - PROGRESS: at 19.28% examples, 233943 words/s, in_qsize 0, out_qsize 0\n",
      "2018-03-16 22:40:28,528 : INFO : EPOCH 4 - PROGRESS: at 21.11% examples, 233377 words/s, in_qsize 0, out_qsize 1\n",
      "2018-03-16 22:40:29,536 : INFO : EPOCH 4 - PROGRESS: at 22.99% examples, 233534 words/s, in_qsize 0, out_qsize 0\n",
      "2018-03-16 22:40:30,546 : INFO : EPOCH 4 - PROGRESS: at 24.93% examples, 234114 words/s, in_qsize 0, out_qsize 0\n",
      "2018-03-16 22:40:31,559 : INFO : EPOCH 4 - PROGRESS: at 26.81% examples, 234240 words/s, in_qsize 0, out_qsize 0\n",
      "2018-03-16 22:40:32,588 : INFO : EPOCH 4 - PROGRESS: at 28.87% examples, 235519 words/s, in_qsize 0, out_qsize 0\n",
      "2018-03-16 22:40:33,615 : INFO : EPOCH 4 - PROGRESS: at 30.63% examples, 234424 words/s, in_qsize 0, out_qsize 0\n",
      "2018-03-16 22:40:34,632 : INFO : EPOCH 4 - PROGRESS: at 32.45% examples, 233965 words/s, in_qsize 0, out_qsize 1\n",
      "2018-03-16 22:40:35,637 : INFO : EPOCH 4 - PROGRESS: at 34.27% examples, 233726 words/s, in_qsize 0, out_qsize 0\n",
      "2018-03-16 22:40:36,642 : INFO : EPOCH 4 - PROGRESS: at 36.16% examples, 233891 words/s, in_qsize 0, out_qsize 0\n",
      "2018-03-16 22:40:37,673 : INFO : EPOCH 4 - PROGRESS: at 38.15% examples, 234307 words/s, in_qsize 0, out_qsize 1\n",
      "2018-03-16 22:40:38,675 : INFO : EPOCH 4 - PROGRESS: at 40.15% examples, 235045 words/s, in_qsize 0, out_qsize 0\n",
      "2018-03-16 22:40:39,682 : INFO : EPOCH 4 - PROGRESS: at 42.09% examples, 235356 words/s, in_qsize 0, out_qsize 1\n",
      "2018-03-16 22:40:40,703 : INFO : EPOCH 4 - PROGRESS: at 44.03% examples, 235461 words/s, in_qsize 0, out_qsize 0\n",
      "2018-03-16 22:40:41,749 : INFO : EPOCH 4 - PROGRESS: at 45.97% examples, 235385 words/s, in_qsize 0, out_qsize 0\n",
      "2018-03-16 22:40:42,754 : INFO : EPOCH 4 - PROGRESS: at 48.03% examples, 236262 words/s, in_qsize 0, out_qsize 0\n",
      "2018-03-16 22:40:43,754 : INFO : EPOCH 4 - PROGRESS: at 50.03% examples, 236841 words/s, in_qsize 0, out_qsize 0\n",
      "2018-03-16 22:40:44,774 : INFO : EPOCH 4 - PROGRESS: at 52.15% examples, 237651 words/s, in_qsize 0, out_qsize 0\n",
      "2018-03-16 22:40:45,785 : INFO : EPOCH 4 - PROGRESS: at 54.09% examples, 237858 words/s, in_qsize 0, out_qsize 0\n",
      "2018-03-16 22:40:46,829 : INFO : EPOCH 4 - PROGRESS: at 55.97% examples, 237486 words/s, in_qsize 0, out_qsize 0\n",
      "2018-03-16 22:40:47,853 : INFO : EPOCH 4 - PROGRESS: at 58.14% examples, 238402 words/s, in_qsize 0, out_qsize 0\n",
      "2018-03-16 22:40:48,866 : INFO : EPOCH 4 - PROGRESS: at 60.20% examples, 238953 words/s, in_qsize 0, out_qsize 0\n",
      "2018-03-16 22:40:49,918 : INFO : EPOCH 4 - PROGRESS: at 62.20% examples, 238907 words/s, in_qsize 0, out_qsize 1\n"
     ]
    },
    {
     "name": "stderr",
     "output_type": "stream",
     "text": [
      "2018-03-16 22:40:50,926 : INFO : EPOCH 4 - PROGRESS: at 64.20% examples, 239212 words/s, in_qsize 0, out_qsize 0\n",
      "2018-03-16 22:40:51,932 : INFO : EPOCH 4 - PROGRESS: at 66.37% examples, 240101 words/s, in_qsize 0, out_qsize 0\n",
      "2018-03-16 22:40:52,974 : INFO : EPOCH 4 - PROGRESS: at 68.49% examples, 240550 words/s, in_qsize 0, out_qsize 1\n",
      "2018-03-16 22:40:53,989 : INFO : EPOCH 4 - PROGRESS: at 70.61% examples, 241138 words/s, in_qsize 0, out_qsize 1\n",
      "2018-03-16 22:40:55,009 : INFO : EPOCH 4 - PROGRESS: at 72.60% examples, 241265 words/s, in_qsize 0, out_qsize 0\n",
      "2018-03-16 22:40:56,025 : INFO : EPOCH 4 - PROGRESS: at 74.72% examples, 241800 words/s, in_qsize 0, out_qsize 0\n",
      "2018-03-16 22:40:57,049 : INFO : EPOCH 4 - PROGRESS: at 76.84% examples, 241883 words/s, in_qsize 0, out_qsize 0\n",
      "2018-03-16 22:40:58,072 : INFO : EPOCH 4 - PROGRESS: at 78.84% examples, 241869 words/s, in_qsize 0, out_qsize 0\n",
      "2018-03-16 22:40:59,101 : INFO : EPOCH 4 - PROGRESS: at 80.83% examples, 241873 words/s, in_qsize 0, out_qsize 1\n",
      "2018-03-16 22:41:00,119 : INFO : EPOCH 4 - PROGRESS: at 82.77% examples, 241733 words/s, in_qsize 0, out_qsize 0\n",
      "2018-03-16 22:41:01,138 : INFO : EPOCH 4 - PROGRESS: at 84.66% examples, 241503 words/s, in_qsize 0, out_qsize 0\n",
      "2018-03-16 22:41:02,152 : INFO : EPOCH 4 - PROGRESS: at 86.65% examples, 241635 words/s, in_qsize 0, out_qsize 0\n",
      "2018-03-16 22:41:03,196 : INFO : EPOCH 4 - PROGRESS: at 88.59% examples, 241419 words/s, in_qsize 0, out_qsize 1\n",
      "2018-03-16 22:41:04,223 : INFO : EPOCH 4 - PROGRESS: at 90.59% examples, 241500 words/s, in_qsize 0, out_qsize 0\n",
      "2018-03-16 22:41:05,250 : INFO : EPOCH 4 - PROGRESS: at 92.71% examples, 241754 words/s, in_qsize 0, out_qsize 0\n",
      "2018-03-16 22:41:06,256 : INFO : EPOCH 4 - PROGRESS: at 94.42% examples, 241111 words/s, in_qsize 0, out_qsize 0\n",
      "2018-03-16 22:41:07,271 : INFO : EPOCH 4 - PROGRESS: at 96.18% examples, 240652 words/s, in_qsize 0, out_qsize 0\n",
      "2018-03-16 22:41:08,307 : INFO : EPOCH 4 - PROGRESS: at 98.12% examples, 240441 words/s, in_qsize 0, out_qsize 0\n",
      "2018-03-16 22:41:09,335 : INFO : EPOCH 4 - PROGRESS: at 99.76% examples, 239677 words/s, in_qsize 3, out_qsize 6\n",
      "2018-03-16 22:41:09,350 : INFO : worker thread finished; awaiting finish of 7 more threads\n",
      "2018-03-16 22:41:09,350 : INFO : worker thread finished; awaiting finish of 6 more threads\n",
      "2018-03-16 22:41:09,351 : INFO : worker thread finished; awaiting finish of 5 more threads\n",
      "2018-03-16 22:41:09,352 : INFO : worker thread finished; awaiting finish of 4 more threads\n",
      "2018-03-16 22:41:09,353 : INFO : worker thread finished; awaiting finish of 3 more threads\n",
      "2018-03-16 22:41:09,357 : INFO : worker thread finished; awaiting finish of 2 more threads\n",
      "2018-03-16 22:41:09,385 : INFO : worker thread finished; awaiting finish of 1 more threads\n",
      "2018-03-16 22:41:09,403 : INFO : worker thread finished; awaiting finish of 0 more threads\n",
      "2018-03-16 22:41:09,403 : INFO : EPOCH - 4 : training on 17005207 raw words (12505522 effective words) took 52.1s, 239866 effective words/s\n",
      "2018-03-16 22:41:10,473 : INFO : EPOCH 5 - PROGRESS: at 1.29% examples, 153046 words/s, in_qsize 0, out_qsize 0\n",
      "2018-03-16 22:41:11,480 : INFO : EPOCH 5 - PROGRESS: at 2.94% examples, 178568 words/s, in_qsize 0, out_qsize 1\n",
      "2018-03-16 22:41:12,515 : INFO : EPOCH 5 - PROGRESS: at 4.88% examples, 196234 words/s, in_qsize 0, out_qsize 0\n",
      "2018-03-16 22:41:13,524 : INFO : EPOCH 5 - PROGRESS: at 6.70% examples, 201852 words/s, in_qsize 0, out_qsize 0\n",
      "2018-03-16 22:41:14,539 : INFO : EPOCH 5 - PROGRESS: at 8.52% examples, 205964 words/s, in_qsize 0, out_qsize 0\n",
      "2018-03-16 22:41:15,589 : INFO : EPOCH 5 - PROGRESS: at 10.58% examples, 212384 words/s, in_qsize 0, out_qsize 1\n",
      "2018-03-16 22:41:16,593 : INFO : EPOCH 5 - PROGRESS: at 12.64% examples, 218371 words/s, in_qsize 0, out_qsize 0\n",
      "2018-03-16 22:41:17,621 : INFO : EPOCH 5 - PROGRESS: at 14.58% examples, 220491 words/s, in_qsize 0, out_qsize 0\n",
      "2018-03-16 22:41:18,622 : INFO : EPOCH 5 - PROGRESS: at 16.46% examples, 222069 words/s, in_qsize 0, out_qsize 0\n",
      "2018-03-16 22:41:19,643 : INFO : EPOCH 5 - PROGRESS: at 18.46% examples, 224440 words/s, in_qsize 0, out_qsize 0\n",
      "2018-03-16 22:41:20,678 : INFO : EPOCH 5 - PROGRESS: at 20.52% examples, 226558 words/s, in_qsize 0, out_qsize 0\n",
      "2018-03-16 22:41:21,710 : INFO : EPOCH 5 - PROGRESS: at 22.63% examples, 229177 words/s, in_qsize 0, out_qsize 1\n",
      "2018-03-16 22:41:22,742 : INFO : EPOCH 5 - PROGRESS: at 24.63% examples, 230382 words/s, in_qsize 0, out_qsize 0\n",
      "2018-03-16 22:41:23,770 : INFO : EPOCH 5 - PROGRESS: at 26.63% examples, 231467 words/s, in_qsize 0, out_qsize 0\n",
      "2018-03-16 22:41:24,835 : INFO : EPOCH 5 - PROGRESS: at 28.69% examples, 232393 words/s, in_qsize 0, out_qsize 0\n",
      "2018-03-16 22:41:25,848 : INFO : EPOCH 5 - PROGRESS: at 30.75% examples, 233966 words/s, in_qsize 0, out_qsize 0\n",
      "2018-03-16 22:41:26,890 : INFO : EPOCH 5 - PROGRESS: at 32.75% examples, 234509 words/s, in_qsize 0, out_qsize 0\n",
      "2018-03-16 22:41:27,899 : INFO : EPOCH 5 - PROGRESS: at 34.80% examples, 235768 words/s, in_qsize 0, out_qsize 0\n",
      "2018-03-16 22:41:28,917 : INFO : EPOCH 5 - PROGRESS: at 36.74% examples, 236019 words/s, in_qsize 0, out_qsize 0\n",
      "2018-03-16 22:41:29,953 : INFO : EPOCH 5 - PROGRESS: at 38.62% examples, 235543 words/s, in_qsize 0, out_qsize 0\n",
      "2018-03-16 22:41:30,966 : INFO : EPOCH 5 - PROGRESS: at 40.62% examples, 236093 words/s, in_qsize 0, out_qsize 0\n",
      "2018-03-16 22:41:31,989 : INFO : EPOCH 5 - PROGRESS: at 42.33% examples, 234906 words/s, in_qsize 0, out_qsize 1\n",
      "2018-03-16 22:41:32,989 : INFO : EPOCH 5 - PROGRESS: at 44.09% examples, 234308 words/s, in_qsize 0, out_qsize 1\n",
      "2018-03-16 22:41:34,005 : INFO : EPOCH 5 - PROGRESS: at 45.97% examples, 234263 words/s, in_qsize 0, out_qsize 1\n",
      "2018-03-16 22:41:35,045 : INFO : EPOCH 5 - PROGRESS: at 47.85% examples, 233987 words/s, in_qsize 0, out_qsize 0\n",
      "2018-03-16 22:41:36,079 : INFO : EPOCH 5 - PROGRESS: at 49.74% examples, 233769 words/s, in_qsize 0, out_qsize 0\n",
      "2018-03-16 22:41:37,101 : INFO : EPOCH 5 - PROGRESS: at 51.79% examples, 234448 words/s, in_qsize 0, out_qsize 0\n",
      "2018-03-16 22:41:38,130 : INFO : EPOCH 5 - PROGRESS: at 53.67% examples, 234291 words/s, in_qsize 0, out_qsize 0\n",
      "2018-03-16 22:41:39,173 : INFO : EPOCH 5 - PROGRESS: at 55.61% examples, 234328 words/s, in_qsize 0, out_qsize 1\n",
      "2018-03-16 22:41:40,179 : INFO : EPOCH 5 - PROGRESS: at 57.50% examples, 234285 words/s, in_qsize 0, out_qsize 0\n",
      "2018-03-16 22:41:41,205 : INFO : EPOCH 5 - PROGRESS: at 59.44% examples, 234401 words/s, in_qsize 0, out_qsize 0\n",
      "2018-03-16 22:41:42,222 : INFO : EPOCH 5 - PROGRESS: at 61.38% examples, 234567 words/s, in_qsize 0, out_qsize 0\n",
      "2018-03-16 22:41:43,236 : INFO : EPOCH 5 - PROGRESS: at 63.14% examples, 234067 words/s, in_qsize 0, out_qsize 0\n",
      "2018-03-16 22:41:44,269 : INFO : EPOCH 5 - PROGRESS: at 65.02% examples, 233849 words/s, in_qsize 0, out_qsize 0\n",
      "2018-03-16 22:41:45,286 : INFO : EPOCH 5 - PROGRESS: at 67.08% examples, 234416 words/s, in_qsize 0, out_qsize 0\n",
      "2018-03-16 22:41:46,301 : INFO : EPOCH 5 - PROGRESS: at 69.02% examples, 234601 words/s, in_qsize 0, out_qsize 0\n",
      "2018-03-16 22:41:47,320 : INFO : EPOCH 5 - PROGRESS: at 70.96% examples, 234732 words/s, in_qsize 0, out_qsize 0\n",
      "2018-03-16 22:41:48,328 : INFO : EPOCH 5 - PROGRESS: at 72.90% examples, 234910 words/s, in_qsize 0, out_qsize 0\n",
      "2018-03-16 22:41:49,368 : INFO : EPOCH 5 - PROGRESS: at 74.72% examples, 234502 words/s, in_qsize 0, out_qsize 0\n",
      "2018-03-16 22:41:50,405 : INFO : EPOCH 5 - PROGRESS: at 76.72% examples, 234358 words/s, in_qsize 0, out_qsize 0\n",
      "2018-03-16 22:41:51,414 : INFO : EPOCH 5 - PROGRESS: at 78.89% examples, 235109 words/s, in_qsize 0, out_qsize 0\n",
      "2018-03-16 22:41:52,441 : INFO : EPOCH 5 - PROGRESS: at 80.83% examples, 235114 words/s, in_qsize 0, out_qsize 0\n",
      "2018-03-16 22:41:53,442 : INFO : EPOCH 5 - PROGRESS: at 82.95% examples, 235735 words/s, in_qsize 0, out_qsize 0\n",
      "2018-03-16 22:41:54,477 : INFO : EPOCH 5 - PROGRESS: at 84.95% examples, 235885 words/s, in_qsize 0, out_qsize 0\n",
      "2018-03-16 22:41:55,505 : INFO : EPOCH 5 - PROGRESS: at 87.13% examples, 236523 words/s, in_qsize 0, out_qsize 0\n",
      "2018-03-16 22:41:56,540 : INFO : EPOCH 5 - PROGRESS: at 89.07% examples, 236508 words/s, in_qsize 0, out_qsize 0\n"
     ]
    },
    {
     "name": "stderr",
     "output_type": "stream",
     "text": [
      "2018-03-16 22:41:57,554 : INFO : EPOCH 5 - PROGRESS: at 90.89% examples, 236264 words/s, in_qsize 0, out_qsize 0\n",
      "2018-03-16 22:41:58,576 : INFO : EPOCH 5 - PROGRESS: at 92.95% examples, 236533 words/s, in_qsize 0, out_qsize 0\n",
      "2018-03-16 22:41:59,599 : INFO : EPOCH 5 - PROGRESS: at 94.89% examples, 236515 words/s, in_qsize 0, out_qsize 0\n",
      "2018-03-16 22:42:00,600 : INFO : EPOCH 5 - PROGRESS: at 96.94% examples, 236906 words/s, in_qsize 0, out_qsize 0\n",
      "2018-03-16 22:42:01,663 : INFO : EPOCH 5 - PROGRESS: at 98.82% examples, 236538 words/s, in_qsize 0, out_qsize 1\n",
      "2018-03-16 22:42:02,205 : INFO : worker thread finished; awaiting finish of 7 more threads\n",
      "2018-03-16 22:42:02,206 : INFO : worker thread finished; awaiting finish of 6 more threads\n",
      "2018-03-16 22:42:02,207 : INFO : worker thread finished; awaiting finish of 5 more threads\n",
      "2018-03-16 22:42:02,207 : INFO : worker thread finished; awaiting finish of 4 more threads\n",
      "2018-03-16 22:42:02,208 : INFO : worker thread finished; awaiting finish of 3 more threads\n",
      "2018-03-16 22:42:02,224 : INFO : worker thread finished; awaiting finish of 2 more threads\n",
      "2018-03-16 22:42:02,243 : INFO : worker thread finished; awaiting finish of 1 more threads\n",
      "2018-03-16 22:42:02,247 : INFO : worker thread finished; awaiting finish of 0 more threads\n",
      "2018-03-16 22:42:02,247 : INFO : EPOCH - 5 : training on 17005207 raw words (12506778 effective words) took 52.8s, 236685 effective words/s\n",
      "2018-03-16 22:42:02,248 : INFO : training on a 85026035 raw words (62530901 effective words) took 260.4s, 240130 effective words/s\n"
     ]
    },
    {
     "name": "stdout",
     "output_type": "stream",
     "text": [
      "CPU times: user 12min 49s, sys: 2.2 s, total: 12min 52s\n",
      "Wall time: 4min 37s\n"
     ]
    }
   ],
   "source": [
    "%%time\n",
    "# train a `FasText` model on text8 corpus\n",
    "model_text8 = FastText(text8_corpus, size=50, iter=5, workers=multiprocessing.cpu_count())"
   ]
  },
  {
   "cell_type": "code",
   "execution_count": 6,
   "metadata": {
    "ExecuteTime": {
     "end_time": "2018-03-13T14:42:52.941043Z",
     "start_time": "2018-03-13T14:42:52.935211Z"
    }
   },
   "outputs": [
    {
     "name": "stdout",
     "output_type": "stream",
     "text": [
      "Vocabulary size: 71290\n",
      "Number of character ngram vectors: 306868\n",
      "Word embeddings matrix (enriched with sub-word information) shape: (71290, 50)\n",
      "Word embeddings matrix shape: (71290, 50)\n",
      "Character ngrams embeddings matrix shape: (306868, 50)\n"
     ]
    }
   ],
   "source": [
    "print('Vocabulary size: %d' % len(model_text8.wv.vocab))\n",
    "print('Number of character ngram vectors: %d' % model_text8.wv.num_ngram_vectors)\n",
    "print('Word embeddings matrix (enriched with sub-word information) shape: %s' % str(model_text8.wv.vectors.shape))\n",
    "print('Word embeddings matrix shape: %s' % str(model_text8.wv.vectors_vocab.shape))\n",
    "print('Character ngrams embeddings matrix shape: %s' % str(model_text8.wv.vectors_ngrams.shape))"
   ]
  },
  {
   "cell_type": "code",
   "execution_count": 7,
   "metadata": {
    "ExecuteTime": {
     "end_time": "2018-03-13T14:42:57.684729Z",
     "start_time": "2018-03-13T14:42:57.678715Z"
    }
   },
   "outputs": [
    {
     "name": "stdout",
     "output_type": "stream",
     "text": [
      "(50,)\n",
      "[-0.45819575  5.5885515   3.6387331  -3.3519166  -1.3491356  -0.26799038\n",
      " -1.7153485  -0.77152413 -2.057514   -1.6463739   0.5929006   2.0102293\n",
      "  0.35175705 -2.4528325   5.561379    2.4404454   0.453492    2.3228037\n",
      " -3.475931   -1.4994929   3.940188   -4.0734563  -0.7827139  -1.8895215\n",
      "  0.38036972 -2.2531722   1.1310539   3.4459815   2.7096388  -1.214768\n",
      "  6.256368    2.71237    -0.92691433 -2.6782024   2.5726168   2.1241095\n",
      " -0.04021253  2.513042   -2.4969246  -2.256464   -2.042563   -0.29919767\n",
      " -0.09588774  3.452844    2.0974185  -1.8114233  -0.788692   -1.9928592\n",
      " -1.2659899  -0.99849504]\n",
      "[-0.45819575  5.5885515   3.6387331  -3.3519166  -1.3491356  -0.26799038\n",
      " -1.7153485  -0.77152413 -2.057514   -1.6463739   0.5929006   2.0102293\n",
      "  0.35175705 -2.4528325   5.561379    2.4404454   0.453492    2.3228037\n",
      " -3.475931   -1.4994929   3.940188   -4.0734563  -0.7827139  -1.8895215\n",
      "  0.38036972 -2.2531722   1.1310539   3.4459815   2.7096388  -1.214768\n",
      "  6.256368    2.71237    -0.92691433 -2.6782024   2.5726168   2.1241095\n",
      " -0.04021253  2.513042   -2.4969246  -2.256464   -2.042563   -0.29919767\n",
      " -0.09588774  3.452844    2.0974185  -1.8114233  -0.788692   -1.9928592\n",
      " -1.2659899  -0.99849504]\n"
     ]
    }
   ],
   "source": [
    "# get an in-vocab word's vector\n",
    "print(model_text8.wv['cat'].shape)\n",
    "print(model_text8.wv['cat'])\n",
    "print(model_text8.wv.word_vec('cat', use_norm=False))"
   ]
  },
  {
   "cell_type": "code",
   "execution_count": 8,
   "metadata": {
    "ExecuteTime": {
     "end_time": "2018-03-13T14:43:03.657353Z",
     "start_time": "2018-03-13T14:43:03.649136Z"
    }
   },
   "outputs": [
    {
     "data": {
      "text/plain": [
       "array([ 0.7291348 ,  3.5356193 ,  1.7518605 , -2.9246378 , -0.40738115,\n",
       "        0.27420315, -0.8440845 , -1.1732155 , -0.17970103, -0.5608066 ,\n",
       "        0.5388903 ,  0.2755141 ,  0.30588463, -1.0315245 ,  3.615388  ,\n",
       "        1.2090447 ,  0.65171933,  1.0481347 , -2.4673462 , -0.01653223,\n",
       "        2.2225122 , -2.4749672 , -0.55831814, -0.9899566 , -0.02005004,\n",
       "       -1.335601  ,  1.1808366 ,  1.9432597 ,  1.1437207 , -0.80937105,\n",
       "        3.404318  ,  2.0563555 ,  0.2363719 , -1.1152228 ,  2.3207738 ,\n",
       "        1.3688016 , -0.08992601,  1.518004  , -2.1027546 , -0.7068008 ,\n",
       "       -1.7800468 , -1.7185248 ,  0.9618279 ,  1.5343028 ,  1.3573704 ,\n",
       "       -0.26615846, -1.0803212 , -1.1425296 , -1.8604358 , -1.6131473 ],\n",
       "      dtype=float32)"
      ]
     },
     "execution_count": 8,
     "metadata": {},
     "output_type": "execute_result"
    }
   ],
   "source": [
    "# get vector for an out-of-vocabulary word\n",
    "model_text8.wv['catdog']"
   ]
  },
  {
   "cell_type": "code",
   "execution_count": 9,
   "metadata": {},
   "outputs": [
    {
     "name": "stderr",
     "output_type": "stream",
     "text": [
      "2018-03-16 22:42:05,504 : INFO : precomputing L2-norms of word weight vectors\n",
      "2018-03-16 22:42:05,525 : INFO : precomputing L2-norms of ngram weight vectors\n"
     ]
    },
    {
     "data": {
      "text/plain": [
       "[('grub', 0.7429043650627136),\n",
       " ('hotdog', 0.740623950958252),\n",
       " ('og', 0.7290818095207214),\n",
       " ('cat', 0.7260093688964844),\n",
       " ('vegeta', 0.718673586845398),\n",
       " ('shrub', 0.7120037078857422),\n",
       " ('carnivora', 0.7106377482414246),\n",
       " ('skoda', 0.708187460899353),\n",
       " ('garb', 0.7072864770889282),\n",
       " ('cuyo', 0.707156777381897)]"
      ]
     },
     "execution_count": 9,
     "metadata": {},
     "output_type": "execute_result"
    }
   ],
   "source": [
    "model_text8.wv.most_similar('catdog')"
   ]
  },
  {
   "cell_type": "code",
   "execution_count": 10,
   "metadata": {
    "ExecuteTime": {
     "end_time": "2018-03-13T14:43:05.666632Z",
     "start_time": "2018-03-13T14:43:05.247497Z"
    }
   },
   "outputs": [
    {
     "data": {
      "text/plain": [
       "[('midsummer', 0.9483070373535156),\n",
       " ('winter', 0.8741732239723206),\n",
       " ('summertime', 0.8664563298225403),\n",
       " ('summerson', 0.8463586568832397),\n",
       " ('midwinter', 0.8360216021537781),\n",
       " ('winterthur', 0.8331443071365356),\n",
       " ('winterson', 0.8170243501663208),\n",
       " ('kummer', 0.8122742772102356),\n",
       " ('wintertime', 0.8121621012687683),\n",
       " ('fimbulwinter', 0.8051884770393372)]"
      ]
     },
     "execution_count": 10,
     "metadata": {},
     "output_type": "execute_result"
    }
   ],
   "source": [
    "# find the top-n most similar words\n",
    "# Compare the differences with `Word2Vec` model\n",
    "# [(u'winter', 0.8970272541046143),\n",
    "#  (u'spring', 0.8612320423126221),\n",
    "#  (u'autumn', 0.8402277827262878),\n",
    "#  (u'olympics', 0.7919313907623291),\n",
    "#  (u'nights', 0.7284520268440247)]\n",
    "model_text8.wv.most_similar('summer')"
   ]
  },
  {
   "cell_type": "markdown",
   "metadata": {},
   "source": [
    "**Online training** (on new corpus), **Saving/Loading** and other APIs are exactly the same as those for `Word2Vec` (Look at notebook for [part 1](https://github.com/RaRe-Technologies/talks/blob/master/2018-03-23_MLPrague-workshop/PragueML-Word2Vec.ipynb))."
   ]
  },
  {
   "cell_type": "markdown",
   "metadata": {},
   "source": [
    "## Comparison with `Word2Vec` embeddings\n",
    "Due to lack of time, it is not possible to train/run the comparisons between `Word2Vec` and `FastText` word embeddings. Let us look at a blog which neatly summarizes the differences between the `Word2Vec` and `FastText` embeddings.\n",
    "\n",
    "Link --\n",
    "https://rare-technologies.com/fasttext-and-gensim-word-embeddings/"
   ]
  },
  {
   "cell_type": "markdown",
   "metadata": {},
   "source": [
    "## Task - Movie Genre prediction\n",
    "Look at [notebook for previous part](https://github.com/RaRe-Technologies/talks/blob/master/2018-03-23_MLPrague-workshop/PragueML-Word2Vec.ipynb) description of task and dataset details."
   ]
  },
  {
   "cell_type": "code",
   "execution_count": 11,
   "metadata": {
    "ExecuteTime": {
     "end_time": "2018-03-13T14:46:54.830219Z",
     "start_time": "2018-03-13T14:46:54.623707Z"
    }
   },
   "outputs": [
    {
     "name": "stderr",
     "output_type": "stream",
     "text": [
      "/home/ivan/.virtualenvs/p3-check/lib/python3.5/site-packages/sklearn/cross_validation.py:41: DeprecationWarning: This module was deprecated in version 0.18 in favor of the model_selection module into which all the refactored classes and functions are moved. Also note that the interface of the new CV iterators are different from that of this module. This module will be removed in 0.20.\n",
      "  \"This module will be removed in 0.20.\", DeprecationWarning)\n"
     ]
    }
   ],
   "source": [
    "import operator\n",
    "from sklearn.pipeline import Pipeline\n",
    "from sklearn.svm import LinearSVC\n",
    "from sklearn.feature_extraction.text import CountVectorizer, TfidfVectorizer, TfidfTransformer\n",
    "from sklearn.cross_validation import cross_val_score, train_test_split\n",
    "from sklearn.metrics import confusion_matrix, accuracy_score\n",
    "import pandas as pd\n",
    "import matplotlib.pyplot as plt\n",
    "\n",
    "%matplotlib inline"
   ]
  },
  {
   "cell_type": "code",
   "execution_count": 12,
   "metadata": {
    "ExecuteTime": {
     "end_time": "2018-03-13T14:46:57.581521Z",
     "start_time": "2018-03-13T14:46:57.549843Z"
    }
   },
   "outputs": [
    {
     "name": "stdout",
     "output_type": "stream",
     "text": [
      "Total number of words in the dataset: 171156\n"
     ]
    }
   ],
   "source": [
    "df = pd.read_csv('data/tagged_plots_movielens.csv')\n",
    "df = df.dropna()\n",
    "total_words = df['plot'].apply(lambda x: len(x.split(' '))).sum()\n",
    "print('Total number of words in the dataset: %d' % total_words)"
   ]
  },
  {
   "cell_type": "code",
   "execution_count": 13,
   "metadata": {
    "ExecuteTime": {
     "end_time": "2018-03-13T14:47:10.922804Z",
     "start_time": "2018-03-13T14:47:10.790791Z"
    }
   },
   "outputs": [
    {
     "data": {
      "image/png": "[encoded data removed]",
      "text/plain": [
       "<Figure size 432x288 with 1 Axes>"
      ]
     },
     "metadata": {},
     "output_type": "display_data"
    }
   ],
   "source": [
    "df.tag.value_counts().plot(kind=\"bar\", rot=0)\n",
    "my_tags = ['sci-fi' , 'action', 'comedy', 'fantasy', 'animation', 'romance']"
   ]
  },
  {
   "cell_type": "code",
   "execution_count": 14,
   "metadata": {
    "ExecuteTime": {
     "end_time": "2018-03-13T14:47:12.270471Z",
     "start_time": "2018-03-13T14:47:12.260939Z"
    }
   },
   "outputs": [
    {
     "data": {
      "text/plain": [
       "0.32138442521631644"
      ]
     },
     "execution_count": 14,
     "metadata": {},
     "output_type": "execute_result"
    }
   ],
   "source": [
    "float(df.tag.value_counts()['comedy']) / df.tag.value_counts().sum() "
   ]
  },
  {
   "cell_type": "code",
   "execution_count": 15,
   "metadata": {
    "ExecuteTime": {
     "end_time": "2018-03-13T14:47:13.196485Z",
     "start_time": "2018-03-13T14:47:13.182451Z"
    }
   },
   "outputs": [],
   "source": [
    "train_data, test_data = train_test_split(df, test_size=0.1, random_state=42)"
   ]
  },
  {
   "cell_type": "code",
   "execution_count": 16,
   "metadata": {
    "ExecuteTime": {
     "end_time": "2018-03-13T14:47:13.848682Z",
     "start_time": "2018-03-13T14:47:13.838315Z"
    }
   },
   "outputs": [
    {
     "name": "stdout",
     "output_type": "stream",
     "text": [
      "Number of training examples: 2184\n",
      "Number of tesing examples: 243\n"
     ]
    }
   ],
   "source": [
    "print('Number of training examples: %d' % len(train_data))\n",
    "print('Number of tesing examples: %d' % len(test_data))"
   ]
  },
  {
   "cell_type": "markdown",
   "metadata": {},
   "source": [
    "### Model Evaluation"
   ]
  },
  {
   "cell_type": "code",
   "execution_count": 17,
   "metadata": {
    "ExecuteTime": {
     "end_time": "2018-03-13T14:47:15.196320Z",
     "start_time": "2018-03-13T14:47:15.175515Z"
    }
   },
   "outputs": [],
   "source": [
    "def plot_confusion_matrix(cm, title='Confusion matrix', cmap=plt.cm.Blues):\n",
    "    plt.imshow(cm, interpolation='nearest', cmap=cmap)\n",
    "    plt.title(title)\n",
    "    plt.colorbar()\n",
    "    tick_marks = np.arange(len(my_tags))\n",
    "    target_names = my_tags\n",
    "    plt.xticks(tick_marks, target_names, rotation=45)\n",
    "    plt.yticks(tick_marks, target_names)\n",
    "    plt.tight_layout()\n",
    "    plt.ylabel('True label')\n",
    "    plt.xlabel('Predicted label')"
   ]
  },
  {
   "cell_type": "code",
   "execution_count": 18,
   "metadata": {
    "ExecuteTime": {
     "end_time": "2018-03-13T14:47:15.481405Z",
     "start_time": "2018-03-13T14:47:15.467978Z"
    }
   },
   "outputs": [],
   "source": [
    "def evaluate_prediction(predictions, target, title=\"Confusion matrix\"):\n",
    "    print('accuracy %s' % accuracy_score(target, predictions))\n",
    "    cm = confusion_matrix(target, predictions)\n",
    "    print('confusion matrix\\n %s' % cm)\n",
    "    print('(row=expected, col=predicted)')\n",
    "    \n",
    "    cm_normalized = cm.astype('float') / cm.sum(axis=1)[:, np.newaxis]\n",
    "    plot_confusion_matrix(cm_normalized, title + ' Normalized')"
   ]
  },
  {
   "cell_type": "markdown",
   "metadata": {},
   "source": [
    "### Tokenize text"
   ]
  },
  {
   "cell_type": "code",
   "execution_count": 19,
   "metadata": {
    "ExecuteTime": {
     "end_time": "2018-03-13T14:47:16.760511Z",
     "start_time": "2018-03-13T14:47:16.747836Z"
    }
   },
   "outputs": [],
   "source": [
    "def custom_tokenize_text(text):\n",
    "    filters = [strip_punctuation, strip_numeric, strip_multiple_whitespaces, strip_short]\n",
    "    cleaned_words = [word for word in preprocess_string(text, filters=filters)]\n",
    "    if cleaned_words:\n",
    "        return cleaned_words"
   ]
  },
  {
   "cell_type": "markdown",
   "metadata": {},
   "source": [
    "### Prepare data"
   ]
  },
  {
   "cell_type": "code",
   "execution_count": 20,
   "metadata": {
    "ExecuteTime": {
     "end_time": "2018-03-13T14:47:19.076294Z",
     "start_time": "2018-03-13T14:47:17.897439Z"
    }
   },
   "outputs": [
    {
     "name": "stdout",
     "output_type": "stream",
     "text": [
      "2184 2184\n",
      "comedy\n",
      "['Turkish', 'and', 'his', 'close', 'friend', 'accomplice', 'Tommy', 'get', 'pulled', 'into', 'the', 'world', 'match', 'fixing', 'the', 'notorious', 'Brick', 'Top', 'Things', 'get', 'complicated', 'when', 'the', 'boxer', 'they', 'had', 'lined', 'gets', 'badly', 'beaten', 'Pitt', 'pikey', 'slang', 'for', 'Irish', 'Gypsy', 'who', 'comes', 'into', 'the', 'equation', 'after', 'Turkish', 'unlicensed', 'boxing', 'promoter', 'wants', 'buy', 'caravan', 'off', 'the', 'Irish', 'Gypsies', 'They', 'then', 'try', 'convince', 'Pitt', 'not', 'only', 'fight', 'for', 'them', 'but', 'lose', 'for', 'them', 'too', 'Whilst', 'all', 'this', 'going', 'huge', 'diamond', 'heist', 'takes', 'place', 'and', 'fistful', 'motley', 'characters', 'enter', 'the', 'story', 'including', 'Cousin', 'Avi', 'Boris', 'The', 'Blade', 'Franky', 'Four', 'Fingers', 'and', 'Bullet', 'Tooth', 'Tony', 'Things', 'from', 'bad', 'worse', 'all', 'becomes', 'about', 'the', 'money', 'the', 'guns', 'and', 'the', 'damned', 'dog']\n"
     ]
    }
   ],
   "source": [
    "# prepare training data\n",
    "X_train = []\n",
    "y_train = []\n",
    "for plot, tag in train_data[['plot', 'tag']].values:\n",
    "    X_train.append(custom_tokenize_text(plot))\n",
    "    y_train.append(tag)\n",
    "X_train, y_train = np.array(X_train), np.array(y_train)\n",
    "print(len(X_train), len(y_train))\n",
    "print(y_train[0])\n",
    "print(X_train[0])"
   ]
  },
  {
   "cell_type": "code",
   "execution_count": 21,
   "metadata": {
    "ExecuteTime": {
     "end_time": "2018-03-13T14:47:21.763569Z",
     "start_time": "2018-03-13T14:47:21.618209Z"
    }
   },
   "outputs": [
    {
     "name": "stdout",
     "output_type": "stream",
     "text": [
      "243 243\n"
     ]
    }
   ],
   "source": [
    "# prepare test data\n",
    "X_test = []\n",
    "y_test = []\n",
    "for plot, tag in test_data[['plot', 'tag']].values:\n",
    "    X_test.append(custom_tokenize_text(plot))\n",
    "    y_test.append(tag)\n",
    "X_test, y_test = np.array(X_test), np.array(y_test)\n",
    "print(len(X_test), len(y_test))"
   ]
  },
  {
   "cell_type": "markdown",
   "metadata": {},
   "source": [
    "## Technique 1: Bag-of-CharNGrams + Linear SVM"
   ]
  },
  {
   "cell_type": "markdown",
   "metadata": {},
   "source": [
    "### CountVectorizer - character ngram features"
   ]
  },
  {
   "cell_type": "code",
   "execution_count": 22,
   "metadata": {
    "ExecuteTime": {
     "end_time": "2018-03-13T14:47:24.012517Z",
     "start_time": "2018-03-13T14:47:23.950254Z"
    }
   },
   "outputs": [
    {
     "name": "stdout",
     "output_type": "stream",
     "text": [
      "[(' br', 0), ('he ', 1), ('over ', 2), ('over t', 3), ('own', 4), ('own ', 5), ('own f', 6), ('own fo', 7), ('ox ', 8), ('ox j', 9), ('ox ju', 10), ('ox jum', 11), ('ped', 12), ('ped ', 13), ('ped o', 14), ('ped ov', 15), ('qui', 16), ('quic', 17), ('the', 18), ('the ', 19)]\n",
      "(1, 20)\n",
      "<class 'scipy.sparse.csr.csr_matrix'>\n",
      "[[1 2 1 1 1 1 1 1 1 1 1 1 1 1 1 1 1 1 2 2]]\n"
     ]
    }
   ],
   "source": [
    "from sklearn.feature_extraction.text import CountVectorizer\n",
    "# list of text documents\n",
    "text = [\"The quick brown fox jumped over the lazy dog.\"]\n",
    "# create the transform\n",
    "vectorizer = CountVectorizer(analyzer=\"char\", ngram_range=([3,6]), max_features=20)\n",
    "# tokenize and build vocab\n",
    "vectorizer.fit(text)\n",
    "# summarize\n",
    "print(sorted(vectorizer.vocabulary_.items(), key=operator.itemgetter(1)))\n",
    "# encode document\n",
    "vector = vectorizer.transform(text)\n",
    "# summarize encoded vector\n",
    "print(vector.shape)\n",
    "print(type(vector))\n",
    "print(vector.toarray())"
   ]
  },
  {
   "cell_type": "code",
   "execution_count": 23,
   "metadata": {
    "ExecuteTime": {
     "end_time": "2018-03-13T14:47:35.805454Z",
     "start_time": "2018-03-13T14:47:35.800777Z"
    }
   },
   "outputs": [],
   "source": [
    "ngrams_counts_svc = Pipeline([(\"count_ngrams_vectorizer\", CountVectorizer(analyzer=\"char\", ngram_range=([3,6]), max_features=10000)), (\"linear_svc\", LinearSVC())])"
   ]
  },
  {
   "cell_type": "code",
   "execution_count": 24,
   "metadata": {
    "ExecuteTime": {
     "end_time": "2018-03-13T14:47:37.192350Z",
     "start_time": "2018-03-13T14:47:37.181901Z"
    }
   },
   "outputs": [],
   "source": [
    "# CountVectorizer expects a list of strings and not a list of list of tokens.\n",
    "X_train_ngrams = [' '.join(tokens) for tokens in X_train]\n",
    "X_test_ngrams = [' '.join(tokens) for tokens in X_test]"
   ]
  },
  {
   "cell_type": "code",
   "execution_count": 25,
   "metadata": {
    "ExecuteTime": {
     "end_time": "2018-03-13T14:47:44.174954Z",
     "start_time": "2018-03-13T14:47:40.093973Z"
    }
   },
   "outputs": [
    {
     "name": "stdout",
     "output_type": "stream",
     "text": [
      "CPU times: user 4.83 s, sys: 64.1 ms, total: 4.89 s\n",
      "Wall time: 4.89 s\n"
     ]
    },
    {
     "data": {
      "text/plain": [
       "Pipeline(memory=None,\n",
       "     steps=[('count_ngrams_vectorizer', CountVectorizer(analyzer='char', binary=False, decode_error='strict',\n",
       "        dtype=<class 'numpy.int64'>, encoding='utf-8', input='content',\n",
       "        lowercase=True, max_df=1.0, max_features=10000, min_df=1,\n",
       "        ngram_range=[3, 6], preprocessor=None, stop_words...ax_iter=1000,\n",
       "     multi_class='ovr', penalty='l2', random_state=None, tol=0.0001,\n",
       "     verbose=0))])"
      ]
     },
     "execution_count": 25,
     "metadata": {},
     "output_type": "execute_result"
    }
   ],
   "source": [
    "%%time\n",
    "# fit the classifier\n",
    "ngrams_counts_svc.fit(X_train_ngrams, y_train)"
   ]
  },
  {
   "cell_type": "code",
   "execution_count": 26,
   "metadata": {
    "ExecuteTime": {
     "end_time": "2018-03-13T14:47:52.552181Z",
     "start_time": "2018-03-13T14:47:52.344306Z"
    }
   },
   "outputs": [],
   "source": [
    "# get predictions on test data\n",
    "y_pred_ngrams_counts_svc = ngrams_counts_svc.predict(X_test_ngrams)"
   ]
  },
  {
   "cell_type": "code",
   "execution_count": 27,
   "metadata": {
    "ExecuteTime": {
     "end_time": "2018-03-13T14:47:55.956577Z",
     "start_time": "2018-03-13T14:47:55.793647Z"
    }
   },
   "outputs": [
    {
     "name": "stdout",
     "output_type": "stream",
     "text": [
      "accuracy 0.4156378600823045\n",
      "confusion matrix\n",
      " [[16  4 11  2  6  3]\n",
      " [ 9  4 11  5  1  1]\n",
      " [10  7 49  3 15  2]\n",
      " [ 2  4  3  2  2  3]\n",
      " [ 4  0 17  0 14  0]\n",
      " [ 6  3  4  3  1 16]]\n",
      "(row=expected, col=predicted)\n"
     ]
    },
    {
     "data": {
      "image/png": "[encoded data removed]",
      "text/plain": [
       "<Figure size 432x288 with 2 Axes>"
      ]
     },
     "metadata": {},
     "output_type": "display_data"
    }
   ],
   "source": [
    "# plot results from test data evaluation\n",
    "evaluate_prediction(y_pred_ngrams_counts_svc, y_test)"
   ]
  },
  {
   "cell_type": "markdown",
   "metadata": {},
   "source": [
    "Load pre-trained FastText vectors. We will be using 'wiki-news-300d-1M-subword.vec': 1 million word vectors trained with subword infomation on Wikipedia 2017, UMBC webbase corpus and statmt.org news dataset (16B tokens). Can be downloaded from this link - https://fasttext.cc/docs/en/english-vectors.html.\n",
    "\n",
    "Warning: loading can take upto 3-4 mins."
   ]
  },
  {
   "cell_type": "code",
   "execution_count": 28,
   "metadata": {},
   "outputs": [],
   "source": [
    "path = api.load(\"fasttext-wiki-news-subwords-300\", return_path=True)"
   ]
  },
  {
   "cell_type": "code",
   "execution_count": 29,
   "metadata": {},
   "outputs": [
    {
     "name": "stderr",
     "output_type": "stream",
     "text": [
      "2018-03-16 22:42:12,432 : INFO : loading projection weights from /home/ivan/gensim-data/fasttext-wiki-news-subwords-300/fasttext-wiki-news-subwords-300.gz\n",
      "2018-03-16 22:44:15,963 : INFO : loaded (500000, 300) matrix from /home/ivan/gensim-data/fasttext-wiki-news-subwords-300/fasttext-wiki-news-subwords-300.gz\n"
     ]
    },
    {
     "name": "stdout",
     "output_type": "stream",
     "text": [
      "CPU times: user 2min 2s, sys: 1.03 s, total: 2min 3s\n",
      "Wall time: 2min 3s\n"
     ]
    }
   ],
   "source": [
    "%%time\n",
    "model_pretrained_ft = KeyedVectors.load_word2vec_format(path, limit=500000)"
   ]
  },
  {
   "cell_type": "markdown",
   "metadata": {},
   "source": [
    "The code below has been lazily copy-pasted from [previous part's notebook](https://github.com/RaRe-Technologies/talks/blob/master/2018-03-23_MLPrague-workshop/PragueML-Word2Vec.ipynb) and only changes the word embeddings model passed to the vectorizers."
   ]
  },
  {
   "cell_type": "markdown",
   "metadata": {
    "ExecuteTime": {
     "end_time": "2018-03-13T09:06:40.411577Z",
     "start_time": "2018-03-13T09:06:40.398672Z"
    }
   },
   "source": [
    "## Technique 2: Average word embeddings (FastText) + Linear SVM"
   ]
  },
  {
   "cell_type": "code",
   "execution_count": 30,
   "metadata": {
    "ExecuteTime": {
     "end_time": "2018-03-13T14:50:47.438087Z",
     "start_time": "2018-03-13T14:50:47.430838Z"
    }
   },
   "outputs": [],
   "source": [
    "class MeanEmbeddingVectorizer(object):\n",
    "    def __init__(self, word2vec):\n",
    "        self.word2vec = word2vec\n",
    "        self.dim = word2vec.vector_size\n",
    "    \n",
    "    def fit(self, X, y):\n",
    "        return self \n",
    "\n",
    "    def transform(self, X):\n",
    "        return np.array([\n",
    "            np.mean([self.word2vec[w] for w in words if w in self.word2vec] \n",
    "                    or [np.zeros(self.dim)], axis=0)\n",
    "            for words in X\n",
    "        ])"
   ]
  },
  {
   "cell_type": "code",
   "execution_count": 31,
   "metadata": {
    "ExecuteTime": {
     "end_time": "2018-03-13T14:50:48.259014Z",
     "start_time": "2018-03-13T14:50:48.253709Z"
    }
   },
   "outputs": [],
   "source": [
    "avg_ft_svc = Pipeline([(\"mean_embedding_vectorizer\", MeanEmbeddingVectorizer(model_pretrained_ft)), (\"linear_svc\", LinearSVC())])"
   ]
  },
  {
   "cell_type": "code",
   "execution_count": 32,
   "metadata": {
    "ExecuteTime": {
     "end_time": "2018-03-13T14:50:49.937718Z",
     "start_time": "2018-03-13T14:50:49.149337Z"
    }
   },
   "outputs": [
    {
     "data": {
      "text/plain": [
       "Pipeline(memory=None,\n",
       "     steps=[('mean_embedding_vectorizer', <__main__.MeanEmbeddingVectorizer object at 0x7f03a65b7dd8>), ('linear_svc', LinearSVC(C=1.0, class_weight=None, dual=True, fit_intercept=True,\n",
       "     intercept_scaling=1, loss='squared_hinge', max_iter=1000,\n",
       "     multi_class='ovr', penalty='l2', random_state=None, tol=0.0001,\n",
       "     verbose=0))])"
      ]
     },
     "execution_count": 32,
     "metadata": {},
     "output_type": "execute_result"
    }
   ],
   "source": [
    "avg_ft_svc.fit(X_train, y_train)"
   ]
  },
  {
   "cell_type": "code",
   "execution_count": 33,
   "metadata": {
    "ExecuteTime": {
     "end_time": "2018-03-13T14:50:55.149599Z",
     "start_time": "2018-03-13T14:50:55.098363Z"
    }
   },
   "outputs": [],
   "source": [
    "y_pred_avg_ft_svc = avg_ft_svc.predict(X_test)"
   ]
  },
  {
   "cell_type": "code",
   "execution_count": 34,
   "metadata": {
    "ExecuteTime": {
     "end_time": "2018-03-13T14:50:56.190768Z",
     "start_time": "2018-03-13T14:50:56.027948Z"
    }
   },
   "outputs": [
    {
     "name": "stdout",
     "output_type": "stream",
     "text": [
      "accuracy 0.5761316872427984\n",
      "confusion matrix\n",
      " [[30  0 10  0  0  2]\n",
      " [ 2  6 14  2  3  4]\n",
      " [ 4  1 72  0  8  1]\n",
      " [ 3  0  8  3  1  1]\n",
      " [ 0  2 21  0  9  3]\n",
      " [ 5  1  7  0  0 20]]\n",
      "(row=expected, col=predicted)\n"
     ]
    },
    {
     "data": {
      "image/png": "[encoded data removed]",
      "text/plain": [
       "<Figure size 432x288 with 2 Axes>"
      ]
     },
     "metadata": {},
     "output_type": "display_data"
    }
   ],
   "source": [
    "evaluate_prediction(y_pred_avg_ft_svc, y_test)"
   ]
  },
  {
   "cell_type": "markdown",
   "metadata": {},
   "source": [
    "We saw a few techniques to get started with text classification using different word embeddings. The goal of this tutorial was to show the APIs so you can start using word embeddings and related techniques on your own data/task. The [previous notebook](https://github.com/RaRe-Technologies/talks/blob/master/2018-03-23_MLPrague-workshop/PragueML-Word2Vec.ipynb) also provided a few links to papers discussing various modifications to average word embeddings to tap into their true potential for NLP tasks."
   ]
  },
  {
   "cell_type": "markdown",
   "metadata": {},
   "source": [
    "## References\n",
    "A lot of the code used in this notebook as been picked up directly/modified from various other tutorials/blogs/notebooks. Thanks to all of you guys to help speed up the creation of this notebook.\n",
    "- https://github.com/RaRe-Technologies/movie-plots-by-genre/blob/master/Document%20classification%20with%20word%20embeddings%20tutorial.ipynb - Lev Konstantinovskiy.\n",
    "- http://sujitpal.blogspot.in/2016/04/predicting-movie-tags-from-plots-using.html - Sujit Pal.\n",
    "- http://nadbordrozd.github.io/blog/2016/05/20/text-classification-with-word2vec/ - Nadbor Drozd.\n",
    "- https://machinelearningmastery.com/prepare-text-data-machine-learning-scikit-learn/ - Jason Brownlee."
   ]
  }
 ],
 "metadata": {
  "kernelspec": {
   "display_name": "Python 3",
   "language": "python",
   "name": "python3"
  },
  "language_info": {
   "codemirror_mode": {
    "name": "ipython",
    "version": 3
   },
   "file_extension": ".py",
   "mimetype": "text/x-python",
   "name": "python",
   "nbconvert_exporter": "python",
   "pygments_lexer": "ipython3",
   "version": "3.5.2"
  }
 },
 "nbformat": 4,
 "nbformat_minor": 2
}
