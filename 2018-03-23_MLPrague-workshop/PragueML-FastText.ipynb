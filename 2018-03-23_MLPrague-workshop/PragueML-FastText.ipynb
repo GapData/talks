{
 "cells": [
  {
   "cell_type": "markdown",
   "metadata": {},
   "source": [
    "# ML Prague - Word Embeddings 2 : FastText & Application\n",
    "Continuation of [Word2Vec notebook](link to notebook).\n",
    "\n",
    "Objectives of this notebook:\n",
    "\n",
    "- Demonstrate training/utilization of a `FastText` model using Gensim.\n",
    "- Application of `FastText` word embeddings on a supervised text classification task."
   ]
  },
  {
   "cell_type": "markdown",
   "metadata": {},
   "source": [
    "### Requirements:\n",
    "- Python2.7\n",
    "- gensim\n",
    "- nltk\n",
    "- pandas\n",
    "- matplotlib\n",
    "- sklearn"
   ]
  },
  {
   "cell_type": "code",
   "execution_count": 1,
   "metadata": {
    "ExecuteTime": {
     "end_time": "2018-03-13T14:38:43.836655Z",
     "start_time": "2018-03-13T14:38:43.421334Z"
    }
   },
   "outputs": [],
   "source": [
    "from __future__ import print_function\n",
    "import logging\n",
    "import gensim\n",
    "from gensim.models import FastText, KeyedVectors\n",
    "from gensim.models.word2vec import Text8Corpus\n",
    "import gensim.downloader as api\n",
    "import numpy as np\n",
    "from collections import defaultdict\n",
    "from nltk.tokenize import word_tokenize\n",
    "import multiprocessing"
   ]
  },
  {
   "cell_type": "code",
   "execution_count": 2,
   "metadata": {
    "ExecuteTime": {
     "end_time": "2018-03-13T14:38:45.187455Z",
     "start_time": "2018-03-13T14:38:45.161282Z"
    }
   },
   "outputs": [
    {
     "data": {
      "text/plain": [
       "1"
      ]
     },
     "execution_count": 2,
     "metadata": {},
     "output_type": "execute_result"
    }
   ],
   "source": [
    "# ensure FAST_VERSION > 0 - would be painfully slow to train models otherwise.\n",
    "gensim.models.fasttext.FAST_VERSION"
   ]
  },
  {
   "cell_type": "code",
   "execution_count": 3,
   "metadata": {
    "ExecuteTime": {
     "end_time": "2018-03-13T14:38:46.346039Z",
     "start_time": "2018-03-13T14:38:46.338792Z"
    }
   },
   "outputs": [],
   "source": [
    "logging.basicConfig(format='%(asctime)s : %(levelname)s : %(message)s', level=logging.INFO)"
   ]
  },
  {
   "cell_type": "markdown",
   "metadata": {},
   "source": [
    "## Training a `FastText` model\n",
    "Train a `FastText` model on `text8`."
   ]
  },
  {
   "cell_type": "code",
   "execution_count": 4,
   "metadata": {
    "ExecuteTime": {
     "end_time": "2018-03-13T14:38:48.333119Z",
     "start_time": "2018-03-13T14:38:48.330199Z"
    }
   },
   "outputs": [],
   "source": [
    "# a memory-friendly iterator\n",
    "text8_corpus = Text8Corpus('data/text8')"
   ]
  },
  {
   "cell_type": "code",
   "execution_count": 5,
   "metadata": {
    "ExecuteTime": {
     "end_time": "2018-03-13T14:42:09.626669Z",
     "start_time": "2018-03-13T14:38:54.383818Z"
    },
    "scrolled": true
   },
   "outputs": [
    {
     "name": "stderr",
     "output_type": "stream",
     "text": [
      "2018-03-13 20:08:54,385 : WARNING : consider setting layer size to a multiple of 4 for greater performance\n",
      "2018-03-13 20:08:54,386 : INFO : collecting all words and their counts\n",
      "2018-03-13 20:08:54,680 : INFO : PROGRESS: at sentence #0, processed 0 words, keeping 0 word types\n",
      "2018-03-13 20:08:58,927 : INFO : collected 253854 word types from a corpus of 17005207 raw words and 1701 sentences\n",
      "2018-03-13 20:08:58,928 : INFO : Loading a fresh vocabulary\n",
      "2018-03-13 20:08:59,148 : INFO : min_count=5 retains 71290 unique words (28% of original 253854, drops 182564)\n",
      "2018-03-13 20:08:59,150 : INFO : min_count=5 leaves 16718844 word corpus (98% of original 17005207, drops 286363)\n",
      "2018-03-13 20:08:59,274 : INFO : deleting the raw counts dictionary of 253854 items\n",
      "2018-03-13 20:08:59,301 : INFO : sample=0.001 downsamples 38 most-common words\n",
      "2018-03-13 20:08:59,303 : INFO : downsampling leaves estimated 12506280 word corpus (74.8% of prior 16718844)\n",
      "2018-03-13 20:09:02,982 : INFO : estimated required memory for 71290 words, 306868 buckets and 50 dimensions: 142481400 bytes\n",
      "2018-03-13 20:09:02,988 : INFO : resetting layer weights\n",
      "2018-03-13 20:09:04,493 : INFO : Total number of ngrams is 306868\n",
      "2018-03-13 20:09:05,464 : INFO : training model with 8 workers on 71290 vocabulary and 50 features, using sg=0 hs=0 sample=0.001 negative=5 window=5\n",
      "2018-03-13 20:09:06,549 : INFO : EPOCH 1 - PROGRESS: at 2.59% examples, 309828 words/s, in_qsize 11, out_qsize 3\n",
      "2018-03-13 20:09:07,559 : INFO : EPOCH 1 - PROGRESS: at 5.53% examples, 329678 words/s, in_qsize 13, out_qsize 2\n",
      "2018-03-13 20:09:08,574 : INFO : EPOCH 1 - PROGRESS: at 8.52% examples, 340762 words/s, in_qsize 12, out_qsize 2\n",
      "2018-03-13 20:09:09,583 : INFO : EPOCH 1 - PROGRESS: at 11.35% examples, 341918 words/s, in_qsize 12, out_qsize 2\n",
      "2018-03-13 20:09:10,599 : INFO : EPOCH 1 - PROGRESS: at 14.29% examples, 346021 words/s, in_qsize 15, out_qsize 0\n",
      "2018-03-13 20:09:11,608 : INFO : EPOCH 1 - PROGRESS: at 17.17% examples, 347784 words/s, in_qsize 15, out_qsize 1\n",
      "2018-03-13 20:09:12,675 : INFO : EPOCH 1 - PROGRESS: at 20.11% examples, 348125 words/s, in_qsize 15, out_qsize 2\n",
      "2018-03-13 20:09:13,730 : INFO : EPOCH 1 - PROGRESS: at 23.05% examples, 348419 words/s, in_qsize 15, out_qsize 3\n",
      "2018-03-13 20:09:14,750 : INFO : EPOCH 1 - PROGRESS: at 25.93% examples, 349364 words/s, in_qsize 14, out_qsize 0\n",
      "2018-03-13 20:09:15,739 : INFO : EPOCH 1 - PROGRESS: at 28.69% examples, 349138 words/s, in_qsize 13, out_qsize 1\n",
      "2018-03-13 20:09:16,766 : INFO : EPOCH 1 - PROGRESS: at 31.45% examples, 348411 words/s, in_qsize 15, out_qsize 1\n",
      "2018-03-13 20:09:17,824 : INFO : EPOCH 1 - PROGRESS: at 34.27% examples, 347587 words/s, in_qsize 15, out_qsize 2\n",
      "2018-03-13 20:09:18,872 : INFO : EPOCH 1 - PROGRESS: at 37.27% examples, 348930 words/s, in_qsize 12, out_qsize 0\n",
      "2018-03-13 20:09:19,868 : INFO : EPOCH 1 - PROGRESS: at 40.09% examples, 348953 words/s, in_qsize 15, out_qsize 2\n",
      "2018-03-13 20:09:20,954 : INFO : EPOCH 1 - PROGRESS: at 42.92% examples, 347434 words/s, in_qsize 12, out_qsize 3\n",
      "2018-03-13 20:09:22,034 : INFO : EPOCH 1 - PROGRESS: at 45.97% examples, 347865 words/s, in_qsize 14, out_qsize 1\n",
      "2018-03-13 20:09:23,086 : INFO : EPOCH 1 - PROGRESS: at 48.91% examples, 348090 words/s, in_qsize 13, out_qsize 1\n",
      "2018-03-13 20:09:24,086 : INFO : EPOCH 1 - PROGRESS: at 51.79% examples, 348753 words/s, in_qsize 16, out_qsize 0\n",
      "2018-03-13 20:09:25,169 : INFO : EPOCH 1 - PROGRESS: at 54.67% examples, 348175 words/s, in_qsize 15, out_qsize 3\n",
      "2018-03-13 20:09:26,172 : INFO : EPOCH 1 - PROGRESS: at 57.61% examples, 349014 words/s, in_qsize 10, out_qsize 3\n",
      "2018-03-13 20:09:27,222 : INFO : EPOCH 1 - PROGRESS: at 60.38% examples, 348363 words/s, in_qsize 13, out_qsize 3\n",
      "2018-03-13 20:09:28,227 : INFO : EPOCH 1 - PROGRESS: at 63.32% examples, 348906 words/s, in_qsize 15, out_qsize 0\n",
      "2018-03-13 20:09:29,233 : INFO : EPOCH 1 - PROGRESS: at 66.26% examples, 349624 words/s, in_qsize 12, out_qsize 1\n",
      "2018-03-13 20:09:30,237 : INFO : EPOCH 1 - PROGRESS: at 69.08% examples, 349768 words/s, in_qsize 15, out_qsize 0\n",
      "2018-03-13 20:09:31,262 : INFO : EPOCH 1 - PROGRESS: at 71.96% examples, 349863 words/s, in_qsize 16, out_qsize 0\n",
      "2018-03-13 20:09:32,294 : INFO : EPOCH 1 - PROGRESS: at 74.96% examples, 350368 words/s, in_qsize 16, out_qsize 3\n",
      "2018-03-13 20:09:33,325 : INFO : EPOCH 1 - PROGRESS: at 78.01% examples, 350605 words/s, in_qsize 14, out_qsize 2\n",
      "2018-03-13 20:09:34,382 : INFO : EPOCH 1 - PROGRESS: at 81.07% examples, 350939 words/s, in_qsize 16, out_qsize 1\n",
      "2018-03-13 20:09:35,416 : INFO : EPOCH 1 - PROGRESS: at 83.77% examples, 350475 words/s, in_qsize 12, out_qsize 5\n",
      "2018-03-13 20:09:36,430 : INFO : EPOCH 1 - PROGRESS: at 86.89% examples, 351182 words/s, in_qsize 16, out_qsize 0\n",
      "2018-03-13 20:09:37,514 : INFO : EPOCH 1 - PROGRESS: at 89.83% examples, 351045 words/s, in_qsize 15, out_qsize 1\n",
      "2018-03-13 20:09:38,500 : INFO : EPOCH 1 - PROGRESS: at 92.71% examples, 351188 words/s, in_qsize 12, out_qsize 3\n",
      "2018-03-13 20:09:39,509 : INFO : EPOCH 1 - PROGRESS: at 95.71% examples, 351778 words/s, in_qsize 15, out_qsize 0\n",
      "2018-03-13 20:09:40,566 : INFO : EPOCH 1 - PROGRESS: at 98.71% examples, 351738 words/s, in_qsize 16, out_qsize 2\n",
      "2018-03-13 20:09:40,838 : INFO : worker thread finished; awaiting finish of 7 more threads\n",
      "2018-03-13 20:09:40,896 : INFO : worker thread finished; awaiting finish of 6 more threads\n",
      "2018-03-13 20:09:40,897 : INFO : worker thread finished; awaiting finish of 5 more threads\n",
      "2018-03-13 20:09:40,899 : INFO : worker thread finished; awaiting finish of 4 more threads\n",
      "2018-03-13 20:09:40,910 : INFO : worker thread finished; awaiting finish of 3 more threads\n",
      "2018-03-13 20:09:40,930 : INFO : worker thread finished; awaiting finish of 2 more threads\n",
      "2018-03-13 20:09:40,932 : INFO : worker thread finished; awaiting finish of 1 more threads\n",
      "2018-03-13 20:09:40,953 : INFO : worker thread finished; awaiting finish of 0 more threads\n",
      "2018-03-13 20:09:40,955 : INFO : EPOCH - 1 : training on 17005207 raw words (12506112 effective words) took 35.5s, 352413 effective words/s\n",
      "2018-03-13 20:09:41,972 : INFO : EPOCH 2 - PROGRESS: at 2.59% examples, 322270 words/s, in_qsize 11, out_qsize 0\n",
      "2018-03-13 20:09:43,000 : INFO : EPOCH 2 - PROGRESS: at 5.17% examples, 318765 words/s, in_qsize 14, out_qsize 6\n",
      "2018-03-13 20:09:44,003 : INFO : EPOCH 2 - PROGRESS: at 8.47% examples, 345105 words/s, in_qsize 13, out_qsize 0\n",
      "2018-03-13 20:09:45,012 : INFO : EPOCH 2 - PROGRESS: at 11.23% examples, 343529 words/s, in_qsize 16, out_qsize 0\n",
      "2018-03-13 20:09:46,069 : INFO : EPOCH 2 - PROGRESS: at 14.11% examples, 343290 words/s, in_qsize 16, out_qsize 3\n",
      "2018-03-13 20:09:47,070 : INFO : EPOCH 2 - PROGRESS: at 17.11% examples, 348081 words/s, in_qsize 15, out_qsize 0\n",
      "2018-03-13 20:09:48,123 : INFO : EPOCH 2 - PROGRESS: at 19.99% examples, 347222 words/s, in_qsize 15, out_qsize 0\n",
      "2018-03-13 20:09:49,161 : INFO : EPOCH 2 - PROGRESS: at 22.75% examples, 346599 words/s, in_qsize 15, out_qsize 0\n",
      "2018-03-13 20:09:50,188 : INFO : EPOCH 2 - PROGRESS: at 25.16% examples, 340704 words/s, in_qsize 10, out_qsize 3\n",
      "2018-03-13 20:09:51,201 : INFO : EPOCH 2 - PROGRESS: at 27.81% examples, 339260 words/s, in_qsize 14, out_qsize 2\n",
      "2018-03-13 20:09:52,209 : INFO : EPOCH 2 - PROGRESS: at 30.57% examples, 339969 words/s, in_qsize 15, out_qsize 0\n",
      "2018-03-13 20:09:53,233 : INFO : EPOCH 2 - PROGRESS: at 33.22% examples, 338896 words/s, in_qsize 13, out_qsize 3\n",
      "2018-03-13 20:09:54,254 : INFO : EPOCH 2 - PROGRESS: at 36.04% examples, 340230 words/s, in_qsize 15, out_qsize 1\n",
      "2018-03-13 20:09:55,292 : INFO : EPOCH 2 - PROGRESS: at 38.92% examples, 340359 words/s, in_qsize 12, out_qsize 3\n",
      "2018-03-13 20:09:56,289 : INFO : EPOCH 2 - PROGRESS: at 41.74% examples, 341233 words/s, in_qsize 15, out_qsize 0\n",
      "2018-03-13 20:09:57,313 : INFO : EPOCH 2 - PROGRESS: at 44.21% examples, 338903 words/s, in_qsize 15, out_qsize 0\n",
      "2018-03-13 20:09:58,317 : INFO : EPOCH 2 - PROGRESS: at 46.85% examples, 338446 words/s, in_qsize 12, out_qsize 0\n",
      "2018-03-13 20:09:59,396 : INFO : EPOCH 2 - PROGRESS: at 49.21% examples, 334675 words/s, in_qsize 13, out_qsize 4\n",
      "2018-03-13 20:10:00,395 : INFO : EPOCH 2 - PROGRESS: at 51.68% examples, 333344 words/s, in_qsize 15, out_qsize 0\n"
     ]
    },
    {
     "name": "stderr",
     "output_type": "stream",
     "text": [
      "2018-03-13 20:10:01,415 : INFO : EPOCH 2 - PROGRESS: at 54.26% examples, 332704 words/s, in_qsize 15, out_qsize 0\n",
      "2018-03-13 20:10:02,435 : INFO : EPOCH 2 - PROGRESS: at 56.79% examples, 331652 words/s, in_qsize 14, out_qsize 2\n",
      "2018-03-13 20:10:03,451 : INFO : EPOCH 2 - PROGRESS: at 59.44% examples, 331439 words/s, in_qsize 14, out_qsize 1\n",
      "2018-03-13 20:10:04,453 : INFO : EPOCH 2 - PROGRESS: at 62.08% examples, 331406 words/s, in_qsize 14, out_qsize 2\n",
      "2018-03-13 20:10:05,522 : INFO : EPOCH 2 - PROGRESS: at 64.73% examples, 330891 words/s, in_qsize 14, out_qsize 4\n",
      "2018-03-13 20:10:06,501 : INFO : EPOCH 2 - PROGRESS: at 67.61% examples, 331929 words/s, in_qsize 16, out_qsize 1\n",
      "2018-03-13 20:10:07,542 : INFO : EPOCH 2 - PROGRESS: at 70.49% examples, 332538 words/s, in_qsize 15, out_qsize 0\n",
      "2018-03-13 20:10:08,637 : INFO : EPOCH 2 - PROGRESS: at 73.31% examples, 332236 words/s, in_qsize 15, out_qsize 3\n",
      "2018-03-13 20:10:09,650 : INFO : EPOCH 2 - PROGRESS: at 76.43% examples, 333667 words/s, in_qsize 14, out_qsize 1\n",
      "2018-03-13 20:10:10,671 : INFO : EPOCH 2 - PROGRESS: at 79.37% examples, 334367 words/s, in_qsize 14, out_qsize 0\n",
      "2018-03-13 20:10:11,692 : INFO : EPOCH 2 - PROGRESS: at 82.19% examples, 334706 words/s, in_qsize 16, out_qsize 0\n",
      "2018-03-13 20:10:12,706 : INFO : EPOCH 2 - PROGRESS: at 84.95% examples, 334914 words/s, in_qsize 14, out_qsize 1\n",
      "2018-03-13 20:10:13,746 : INFO : EPOCH 2 - PROGRESS: at 88.07% examples, 336144 words/s, in_qsize 15, out_qsize 0\n",
      "2018-03-13 20:10:14,805 : INFO : EPOCH 2 - PROGRESS: at 91.01% examples, 336731 words/s, in_qsize 13, out_qsize 0\n",
      "2018-03-13 20:10:15,798 : INFO : EPOCH 2 - PROGRESS: at 93.59% examples, 336107 words/s, in_qsize 12, out_qsize 0\n",
      "2018-03-13 20:10:16,843 : INFO : EPOCH 2 - PROGRESS: at 96.36% examples, 336130 words/s, in_qsize 15, out_qsize 1\n",
      "2018-03-13 20:10:17,855 : INFO : EPOCH 2 - PROGRESS: at 99.18% examples, 336197 words/s, in_qsize 14, out_qsize 0\n",
      "2018-03-13 20:10:18,013 : INFO : worker thread finished; awaiting finish of 7 more threads\n",
      "2018-03-13 20:10:18,053 : INFO : worker thread finished; awaiting finish of 6 more threads\n",
      "2018-03-13 20:10:18,054 : INFO : worker thread finished; awaiting finish of 5 more threads\n",
      "2018-03-13 20:10:18,059 : INFO : worker thread finished; awaiting finish of 4 more threads\n",
      "2018-03-13 20:10:18,064 : INFO : worker thread finished; awaiting finish of 3 more threads\n",
      "2018-03-13 20:10:18,086 : INFO : worker thread finished; awaiting finish of 2 more threads\n",
      "2018-03-13 20:10:18,118 : INFO : worker thread finished; awaiting finish of 1 more threads\n",
      "2018-03-13 20:10:18,121 : INFO : worker thread finished; awaiting finish of 0 more threads\n",
      "2018-03-13 20:10:18,123 : INFO : EPOCH - 2 : training on 17005207 raw words (12506094 effective words) took 37.2s, 336500 effective words/s\n",
      "2018-03-13 20:10:19,162 : INFO : EPOCH 3 - PROGRESS: at 2.47% examples, 300228 words/s, in_qsize 16, out_qsize 0\n",
      "2018-03-13 20:10:20,203 : INFO : EPOCH 3 - PROGRESS: at 5.35% examples, 325028 words/s, in_qsize 15, out_qsize 5\n",
      "2018-03-13 20:10:21,207 : INFO : EPOCH 3 - PROGRESS: at 8.11% examples, 328820 words/s, in_qsize 12, out_qsize 6\n",
      "2018-03-13 20:10:22,233 : INFO : EPOCH 3 - PROGRESS: at 11.17% examples, 337341 words/s, in_qsize 15, out_qsize 0\n",
      "2018-03-13 20:10:23,256 : INFO : EPOCH 3 - PROGRESS: at 14.05% examples, 340601 words/s, in_qsize 15, out_qsize 0\n",
      "2018-03-13 20:10:24,280 : INFO : EPOCH 3 - PROGRESS: at 16.99% examples, 344256 words/s, in_qsize 11, out_qsize 0\n",
      "2018-03-13 20:10:25,291 : INFO : EPOCH 3 - PROGRESS: at 19.81% examples, 344932 words/s, in_qsize 14, out_qsize 1\n",
      "2018-03-13 20:10:26,295 : INFO : EPOCH 3 - PROGRESS: at 22.57% examples, 344528 words/s, in_qsize 15, out_qsize 5\n",
      "2018-03-13 20:10:27,355 : INFO : EPOCH 3 - PROGRESS: at 25.46% examples, 344314 words/s, in_qsize 10, out_qsize 3\n",
      "2018-03-13 20:10:28,415 : INFO : EPOCH 3 - PROGRESS: at 28.40% examples, 345032 words/s, in_qsize 12, out_qsize 3\n",
      "2018-03-13 20:10:29,476 : INFO : EPOCH 3 - PROGRESS: at 31.39% examples, 346261 words/s, in_qsize 13, out_qsize 2\n",
      "2018-03-13 20:10:30,492 : INFO : EPOCH 3 - PROGRESS: at 34.04% examples, 344873 words/s, in_qsize 15, out_qsize 0\n",
      "2018-03-13 20:10:31,508 : INFO : EPOCH 3 - PROGRESS: at 36.74% examples, 344265 words/s, in_qsize 15, out_qsize 2\n",
      "2018-03-13 20:10:32,535 : INFO : EPOCH 3 - PROGRESS: at 39.62% examples, 344683 words/s, in_qsize 15, out_qsize 0\n",
      "2018-03-13 20:10:33,535 : INFO : EPOCH 3 - PROGRESS: at 42.56% examples, 346316 words/s, in_qsize 15, out_qsize 0\n",
      "2018-03-13 20:10:34,604 : INFO : EPOCH 3 - PROGRESS: at 45.33% examples, 345451 words/s, in_qsize 15, out_qsize 2\n",
      "2018-03-13 20:10:35,643 : INFO : EPOCH 3 - PROGRESS: at 47.91% examples, 343663 words/s, in_qsize 13, out_qsize 6\n",
      "2018-03-13 20:10:36,663 : INFO : EPOCH 3 - PROGRESS: at 50.62% examples, 342463 words/s, in_qsize 16, out_qsize 2\n",
      "2018-03-13 20:10:37,664 : INFO : EPOCH 3 - PROGRESS: at 53.09% examples, 340815 words/s, in_qsize 14, out_qsize 2\n",
      "2018-03-13 20:10:38,681 : INFO : EPOCH 3 - PROGRESS: at 55.38% examples, 337970 words/s, in_qsize 13, out_qsize 3\n",
      "2018-03-13 20:10:39,730 : INFO : EPOCH 3 - PROGRESS: at 57.91% examples, 336597 words/s, in_qsize 11, out_qsize 1\n",
      "2018-03-13 20:10:40,780 : INFO : EPOCH 3 - PROGRESS: at 60.26% examples, 333657 words/s, in_qsize 14, out_qsize 3\n",
      "2018-03-13 20:10:41,820 : INFO : EPOCH 3 - PROGRESS: at 62.85% examples, 333107 words/s, in_qsize 14, out_qsize 3\n",
      "2018-03-13 20:10:42,838 : INFO : EPOCH 3 - PROGRESS: at 65.84% examples, 334124 words/s, in_qsize 16, out_qsize 0\n",
      "2018-03-13 20:10:43,874 : INFO : EPOCH 3 - PROGRESS: at 68.67% examples, 334501 words/s, in_qsize 14, out_qsize 1\n",
      "2018-03-13 20:10:44,907 : INFO : EPOCH 3 - PROGRESS: at 71.55% examples, 335092 words/s, in_qsize 13, out_qsize 3\n",
      "2018-03-13 20:10:45,953 : INFO : EPOCH 3 - PROGRESS: at 74.49% examples, 335802 words/s, in_qsize 15, out_qsize 1\n",
      "2018-03-13 20:10:46,960 : INFO : EPOCH 3 - PROGRESS: at 77.60% examples, 336990 words/s, in_qsize 14, out_qsize 0\n",
      "2018-03-13 20:10:48,035 : INFO : EPOCH 3 - PROGRESS: at 80.42% examples, 337282 words/s, in_qsize 13, out_qsize 4\n",
      "2018-03-13 20:10:49,003 : INFO : EPOCH 3 - PROGRESS: at 83.42% examples, 338164 words/s, in_qsize 15, out_qsize 0\n",
      "2018-03-13 20:10:50,024 : INFO : EPOCH 3 - PROGRESS: at 86.30% examples, 338640 words/s, in_qsize 11, out_qsize 0\n",
      "2018-03-13 20:10:51,032 : INFO : EPOCH 3 - PROGRESS: at 89.12% examples, 339020 words/s, in_qsize 15, out_qsize 0\n",
      "2018-03-13 20:10:52,064 : INFO : EPOCH 3 - PROGRESS: at 91.95% examples, 339033 words/s, in_qsize 14, out_qsize 1\n",
      "2018-03-13 20:10:53,078 : INFO : EPOCH 3 - PROGRESS: at 94.89% examples, 339632 words/s, in_qsize 13, out_qsize 2\n",
      "2018-03-13 20:10:54,093 : INFO : EPOCH 3 - PROGRESS: at 97.88% examples, 340411 words/s, in_qsize 12, out_qsize 0\n",
      "2018-03-13 20:10:54,730 : INFO : worker thread finished; awaiting finish of 7 more threads\n",
      "2018-03-13 20:10:54,732 : INFO : worker thread finished; awaiting finish of 6 more threads\n",
      "2018-03-13 20:10:54,747 : INFO : worker thread finished; awaiting finish of 5 more threads\n",
      "2018-03-13 20:10:54,749 : INFO : worker thread finished; awaiting finish of 4 more threads\n",
      "2018-03-13 20:10:54,755 : INFO : worker thread finished; awaiting finish of 3 more threads\n",
      "2018-03-13 20:10:54,761 : INFO : worker thread finished; awaiting finish of 2 more threads\n",
      "2018-03-13 20:10:54,762 : INFO : worker thread finished; awaiting finish of 1 more threads\n",
      "2018-03-13 20:10:54,773 : INFO : worker thread finished; awaiting finish of 0 more threads\n",
      "2018-03-13 20:10:54,774 : INFO : EPOCH - 3 : training on 17005207 raw words (12506770 effective words) took 36.6s, 341265 effective words/s\n",
      "2018-03-13 20:10:55,800 : INFO : EPOCH 4 - PROGRESS: at 2.53% examples, 311577 words/s, in_qsize 15, out_qsize 0\n",
      "2018-03-13 20:10:56,862 : INFO : EPOCH 4 - PROGRESS: at 5.47% examples, 327555 words/s, in_qsize 15, out_qsize 0\n",
      "2018-03-13 20:10:57,910 : INFO : EPOCH 4 - PROGRESS: at 8.17% examples, 324111 words/s, in_qsize 15, out_qsize 0\n",
      "2018-03-13 20:10:58,924 : INFO : EPOCH 4 - PROGRESS: at 10.99% examples, 329119 words/s, in_qsize 16, out_qsize 4\n",
      "2018-03-13 20:10:59,952 : INFO : EPOCH 4 - PROGRESS: at 13.93% examples, 334807 words/s, in_qsize 15, out_qsize 0\n"
     ]
    },
    {
     "name": "stderr",
     "output_type": "stream",
     "text": [
      "2018-03-13 20:11:00,962 : INFO : EPOCH 4 - PROGRESS: at 16.70% examples, 335712 words/s, in_qsize 15, out_qsize 0\n",
      "2018-03-13 20:11:02,018 : INFO : EPOCH 4 - PROGRESS: at 19.64% examples, 337470 words/s, in_qsize 14, out_qsize 1\n",
      "2018-03-13 20:11:03,025 : INFO : EPOCH 4 - PROGRESS: at 22.57% examples, 340963 words/s, in_qsize 15, out_qsize 0\n",
      "2018-03-13 20:11:04,042 : INFO : EPOCH 4 - PROGRESS: at 25.22% examples, 339704 words/s, in_qsize 15, out_qsize 3\n",
      "2018-03-13 20:11:05,045 : INFO : EPOCH 4 - PROGRESS: at 28.04% examples, 341439 words/s, in_qsize 15, out_qsize 3\n",
      "2018-03-13 20:11:06,044 : INFO : EPOCH 4 - PROGRESS: at 30.81% examples, 342118 words/s, in_qsize 15, out_qsize 0\n",
      "2018-03-13 20:11:07,044 : INFO : EPOCH 4 - PROGRESS: at 33.51% examples, 342165 words/s, in_qsize 14, out_qsize 1\n",
      "2018-03-13 20:11:08,110 : INFO : EPOCH 4 - PROGRESS: at 36.27% examples, 341092 words/s, in_qsize 14, out_qsize 2\n",
      "2018-03-13 20:11:09,158 : INFO : EPOCH 4 - PROGRESS: at 39.15% examples, 341621 words/s, in_qsize 13, out_qsize 3\n",
      "2018-03-13 20:11:10,202 : INFO : EPOCH 4 - PROGRESS: at 42.03% examples, 341639 words/s, in_qsize 16, out_qsize 1\n",
      "2018-03-13 20:11:11,206 : INFO : EPOCH 4 - PROGRESS: at 44.80% examples, 341892 words/s, in_qsize 14, out_qsize 2\n",
      "2018-03-13 20:11:12,221 : INFO : EPOCH 4 - PROGRESS: at 47.68% examples, 342709 words/s, in_qsize 15, out_qsize 0\n",
      "2018-03-13 20:11:13,279 : INFO : EPOCH 4 - PROGRESS: at 50.50% examples, 342420 words/s, in_qsize 13, out_qsize 3\n",
      "2018-03-13 20:11:14,334 : INFO : EPOCH 4 - PROGRESS: at 53.32% examples, 342751 words/s, in_qsize 16, out_qsize 4\n",
      "2018-03-13 20:11:15,289 : INFO : EPOCH 4 - PROGRESS: at 56.32% examples, 344448 words/s, in_qsize 16, out_qsize 0\n",
      "2018-03-13 20:11:16,295 : INFO : EPOCH 4 - PROGRESS: at 59.02% examples, 344062 words/s, in_qsize 15, out_qsize 1\n",
      "2018-03-13 20:11:17,300 : INFO : EPOCH 4 - PROGRESS: at 61.73% examples, 343797 words/s, in_qsize 16, out_qsize 2\n",
      "2018-03-13 20:11:18,354 : INFO : EPOCH 4 - PROGRESS: at 64.55% examples, 343674 words/s, in_qsize 14, out_qsize 4\n",
      "2018-03-13 20:11:19,357 : INFO : EPOCH 4 - PROGRESS: at 67.49% examples, 344360 words/s, in_qsize 12, out_qsize 1\n",
      "2018-03-13 20:11:20,375 : INFO : EPOCH 4 - PROGRESS: at 70.19% examples, 344137 words/s, in_qsize 13, out_qsize 1\n",
      "2018-03-13 20:11:21,379 : INFO : EPOCH 4 - PROGRESS: at 72.78% examples, 343236 words/s, in_qsize 16, out_qsize 3\n",
      "2018-03-13 20:11:22,393 : INFO : EPOCH 4 - PROGRESS: at 75.90% examples, 344552 words/s, in_qsize 9, out_qsize 0\n",
      "2018-03-13 20:11:23,394 : INFO : EPOCH 4 - PROGRESS: at 78.48% examples, 343575 words/s, in_qsize 15, out_qsize 1\n",
      "2018-03-13 20:11:24,390 : INFO : EPOCH 4 - PROGRESS: at 81.19% examples, 343216 words/s, in_qsize 11, out_qsize 4\n",
      "2018-03-13 20:11:25,407 : INFO : EPOCH 4 - PROGRESS: at 84.13% examples, 343813 words/s, in_qsize 13, out_qsize 0\n",
      "2018-03-13 20:11:26,423 : INFO : EPOCH 4 - PROGRESS: at 86.89% examples, 343634 words/s, in_qsize 10, out_qsize 0\n",
      "2018-03-13 20:11:27,465 : INFO : EPOCH 4 - PROGRESS: at 89.36% examples, 342231 words/s, in_qsize 15, out_qsize 8\n",
      "2018-03-13 20:11:28,532 : INFO : EPOCH 4 - PROGRESS: at 92.59% examples, 343282 words/s, in_qsize 15, out_qsize 3\n",
      "2018-03-13 20:11:29,550 : INFO : EPOCH 4 - PROGRESS: at 95.53% examples, 343779 words/s, in_qsize 14, out_qsize 2\n",
      "2018-03-13 20:11:30,624 : INFO : EPOCH 4 - PROGRESS: at 98.59% examples, 344003 words/s, in_qsize 14, out_qsize 1\n",
      "2018-03-13 20:11:30,906 : INFO : worker thread finished; awaiting finish of 7 more threads\n",
      "2018-03-13 20:11:30,975 : INFO : worker thread finished; awaiting finish of 6 more threads\n",
      "2018-03-13 20:11:30,976 : INFO : worker thread finished; awaiting finish of 5 more threads\n",
      "2018-03-13 20:11:30,978 : INFO : worker thread finished; awaiting finish of 4 more threads\n",
      "2018-03-13 20:11:31,012 : INFO : worker thread finished; awaiting finish of 3 more threads\n",
      "2018-03-13 20:11:31,022 : INFO : worker thread finished; awaiting finish of 2 more threads\n",
      "2018-03-13 20:11:31,029 : INFO : worker thread finished; awaiting finish of 1 more threads\n",
      "2018-03-13 20:11:31,034 : INFO : worker thread finished; awaiting finish of 0 more threads\n",
      "2018-03-13 20:11:31,036 : INFO : EPOCH - 4 : training on 17005207 raw words (12506687 effective words) took 36.3s, 344931 effective words/s\n",
      "2018-03-13 20:11:32,067 : INFO : EPOCH 5 - PROGRESS: at 2.35% examples, 294111 words/s, in_qsize 12, out_qsize 2\n",
      "2018-03-13 20:11:33,057 : INFO : EPOCH 5 - PROGRESS: at 5.17% examples, 320240 words/s, in_qsize 13, out_qsize 4\n",
      "2018-03-13 20:11:34,079 : INFO : EPOCH 5 - PROGRESS: at 8.00% examples, 328281 words/s, in_qsize 12, out_qsize 4\n",
      "2018-03-13 20:11:35,065 : INFO : EPOCH 5 - PROGRESS: at 10.82% examples, 333476 words/s, in_qsize 12, out_qsize 3\n",
      "2018-03-13 20:11:36,089 : INFO : EPOCH 5 - PROGRESS: at 13.52% examples, 333059 words/s, in_qsize 15, out_qsize 4\n",
      "2018-03-13 20:11:37,123 : INFO : EPOCH 5 - PROGRESS: at 16.52% examples, 337645 words/s, in_qsize 15, out_qsize 0\n",
      "2018-03-13 20:11:38,136 : INFO : EPOCH 5 - PROGRESS: at 19.40% examples, 340278 words/s, in_qsize 12, out_qsize 2\n",
      "2018-03-13 20:11:39,170 : INFO : EPOCH 5 - PROGRESS: at 22.22% examples, 341471 words/s, in_qsize 12, out_qsize 3\n",
      "2018-03-13 20:11:40,173 : INFO : EPOCH 5 - PROGRESS: at 25.16% examples, 343667 words/s, in_qsize 15, out_qsize 0\n",
      "2018-03-13 20:11:41,211 : INFO : EPOCH 5 - PROGRESS: at 27.87% examples, 342352 words/s, in_qsize 13, out_qsize 2\n",
      "2018-03-13 20:11:42,283 : INFO : EPOCH 5 - PROGRESS: at 30.45% examples, 340254 words/s, in_qsize 11, out_qsize 9\n",
      "2018-03-13 20:11:43,292 : INFO : EPOCH 5 - PROGRESS: at 33.51% examples, 342512 words/s, in_qsize 13, out_qsize 3\n",
      "2018-03-13 20:11:44,318 : INFO : EPOCH 5 - PROGRESS: at 36.33% examples, 342964 words/s, in_qsize 15, out_qsize 0\n",
      "2018-03-13 20:11:45,348 : INFO : EPOCH 5 - PROGRESS: at 39.04% examples, 342355 words/s, in_qsize 15, out_qsize 2\n",
      "2018-03-13 20:11:46,362 : INFO : EPOCH 5 - PROGRESS: at 41.86% examples, 342377 words/s, in_qsize 14, out_qsize 3\n",
      "2018-03-13 20:11:47,405 : INFO : EPOCH 5 - PROGRESS: at 44.68% examples, 342545 words/s, in_qsize 14, out_qsize 3\n",
      "2018-03-13 20:11:48,451 : INFO : EPOCH 5 - PROGRESS: at 47.56% examples, 343162 words/s, in_qsize 15, out_qsize 2\n",
      "2018-03-13 20:11:49,420 : INFO : EPOCH 5 - PROGRESS: at 50.44% examples, 344100 words/s, in_qsize 12, out_qsize 0\n",
      "2018-03-13 20:11:50,448 : INFO : EPOCH 5 - PROGRESS: at 53.26% examples, 344126 words/s, in_qsize 15, out_qsize 0\n",
      "2018-03-13 20:11:51,482 : INFO : EPOCH 5 - PROGRESS: at 55.91% examples, 343057 words/s, in_qsize 16, out_qsize 3\n",
      "2018-03-13 20:11:52,498 : INFO : EPOCH 5 - PROGRESS: at 58.67% examples, 342945 words/s, in_qsize 14, out_qsize 4\n",
      "2018-03-13 20:11:53,562 : INFO : EPOCH 5 - PROGRESS: at 61.55% examples, 342804 words/s, in_qsize 15, out_qsize 3\n",
      "2018-03-13 20:11:54,592 : INFO : EPOCH 5 - PROGRESS: at 64.37% examples, 342783 words/s, in_qsize 15, out_qsize 0\n",
      "2018-03-13 20:11:55,661 : INFO : EPOCH 5 - PROGRESS: at 67.31% examples, 342866 words/s, in_qsize 16, out_qsize 0\n",
      "2018-03-13 20:11:56,707 : INFO : EPOCH 5 - PROGRESS: at 70.31% examples, 343804 words/s, in_qsize 11, out_qsize 1\n",
      "2018-03-13 20:11:57,739 : INFO : EPOCH 5 - PROGRESS: at 73.02% examples, 343118 words/s, in_qsize 14, out_qsize 4\n",
      "2018-03-13 20:11:58,769 : INFO : EPOCH 5 - PROGRESS: at 75.96% examples, 343212 words/s, in_qsize 13, out_qsize 3\n",
      "2018-03-13 20:11:59,785 : INFO : EPOCH 5 - PROGRESS: at 78.89% examples, 343660 words/s, in_qsize 15, out_qsize 2\n",
      "2018-03-13 20:12:00,832 : INFO : EPOCH 5 - PROGRESS: at 81.78% examples, 343598 words/s, in_qsize 15, out_qsize 1\n",
      "2018-03-13 20:12:01,911 : INFO : EPOCH 5 - PROGRESS: at 84.77% examples, 343704 words/s, in_qsize 16, out_qsize 0\n",
      "2018-03-13 20:12:02,959 : INFO : EPOCH 5 - PROGRESS: at 87.65% examples, 343729 words/s, in_qsize 14, out_qsize 2\n",
      "2018-03-13 20:12:03,991 : INFO : EPOCH 5 - PROGRESS: at 90.48% examples, 343782 words/s, in_qsize 15, out_qsize 1\n",
      "2018-03-13 20:12:04,992 : INFO : EPOCH 5 - PROGRESS: at 93.36% examples, 344093 words/s, in_qsize 15, out_qsize 1\n",
      "2018-03-13 20:12:06,002 : INFO : EPOCH 5 - PROGRESS: at 96.18% examples, 344234 words/s, in_qsize 15, out_qsize 0\n",
      "2018-03-13 20:12:07,020 : INFO : EPOCH 5 - PROGRESS: at 99.06% examples, 344410 words/s, in_qsize 15, out_qsize 2\n"
     ]
    },
    {
     "name": "stderr",
     "output_type": "stream",
     "text": [
      "2018-03-13 20:12:07,188 : INFO : worker thread finished; awaiting finish of 7 more threads\n",
      "2018-03-13 20:12:07,190 : INFO : worker thread finished; awaiting finish of 6 more threads\n",
      "2018-03-13 20:12:07,216 : INFO : worker thread finished; awaiting finish of 5 more threads\n",
      "2018-03-13 20:12:07,243 : INFO : worker thread finished; awaiting finish of 4 more threads\n",
      "2018-03-13 20:12:07,258 : INFO : worker thread finished; awaiting finish of 3 more threads\n",
      "2018-03-13 20:12:07,261 : INFO : worker thread finished; awaiting finish of 2 more threads\n",
      "2018-03-13 20:12:07,265 : INFO : worker thread finished; awaiting finish of 1 more threads\n",
      "2018-03-13 20:12:07,266 : INFO : worker thread finished; awaiting finish of 0 more threads\n",
      "2018-03-13 20:12:07,268 : INFO : EPOCH - 5 : training on 17005207 raw words (12508261 effective words) took 36.2s, 345250 effective words/s\n",
      "2018-03-13 20:12:07,269 : INFO : training on a 85026035 raw words (62533924 effective words) took 181.8s, 343963 effective words/s\n"
     ]
    },
    {
     "name": "stdout",
     "output_type": "stream",
     "text": [
      "CPU times: user 10min 7s, sys: 1.76 s, total: 10min 9s\n",
      "Wall time: 3min 15s\n"
     ]
    }
   ],
   "source": [
    "%%time\n",
    "# train a `FasText` model on text8 corpus\n",
    "model_text8 = FastText(text8_corpus, size=50, iter=5, workers=multiprocessing.cpu_count())"
   ]
  },
  {
   "cell_type": "code",
   "execution_count": 7,
   "metadata": {
    "ExecuteTime": {
     "end_time": "2018-03-13T14:42:52.941043Z",
     "start_time": "2018-03-13T14:42:52.935211Z"
    }
   },
   "outputs": [
    {
     "name": "stdout",
     "output_type": "stream",
     "text": [
      "Vocabulary size: 71290\n",
      "Number of character ngram vectors: 306868\n",
      "Word embeddings matrix (enriched with sub-word information) shape: (71290, 50)\n",
      "Word embeddings matrix shape: (71290, 50)\n",
      "Character ngrams embeddings matrix shape: (306868, 50)\n"
     ]
    }
   ],
   "source": [
    "print('Vocabulary size: %d' % len(model_text8.wv.vocab))\n",
    "print('Number of character ngram vectors: %d' % model_text8.wv.num_ngram_vectors)\n",
    "print('Word embeddings matrix (enriched with sub-word information) shape: %s' % str(model_text8.wv.vectors.shape))\n",
    "print('Word embeddings matrix shape: %s' % str(model_text8.wv.vectors_vocab.shape))\n",
    "print('Character ngrams embeddings matrix shape: %s' % str(model_text8.wv.vectors_ngrams.shape))"
   ]
  },
  {
   "cell_type": "code",
   "execution_count": 8,
   "metadata": {
    "ExecuteTime": {
     "end_time": "2018-03-13T14:42:57.684729Z",
     "start_time": "2018-03-13T14:42:57.678715Z"
    }
   },
   "outputs": [
    {
     "name": "stdout",
     "output_type": "stream",
     "text": [
      "(50,)\n",
      "[-3.3728564  -2.3626606   0.8883807  -0.93577534  1.1305386   3.8417165\n",
      " -2.303852    0.61458296  2.9100652  -2.7021563  -1.1848421   1.807171\n",
      "  5.7318187   3.6439955  -0.39568374 -1.7806871  -1.3627951  -0.5934353\n",
      "  0.9225299   1.1082388  -1.2435281  -3.8938673  -2.4421897  -1.3872265\n",
      " -4.4136233   0.16658597  5.5750146   0.5138229   2.637207   -1.7460176\n",
      " -3.9729908  -1.4623331  -0.95789087 -5.095138   -1.1410615   1.0486772\n",
      "  3.6151621  -1.2623484  -2.8082855  -0.323383    2.3425333   1.0729635\n",
      " -2.6801593  -1.4691207   0.9242751   2.7219164  -2.484729   -0.04328042\n",
      "  0.77912676 -3.156662  ]\n",
      "[-3.3728564  -2.3626606   0.8883807  -0.93577534  1.1305386   3.8417165\n",
      " -2.303852    0.61458296  2.9100652  -2.7021563  -1.1848421   1.807171\n",
      "  5.7318187   3.6439955  -0.39568374 -1.7806871  -1.3627951  -0.5934353\n",
      "  0.9225299   1.1082388  -1.2435281  -3.8938673  -2.4421897  -1.3872265\n",
      " -4.4136233   0.16658597  5.5750146   0.5138229   2.637207   -1.7460176\n",
      " -3.9729908  -1.4623331  -0.95789087 -5.095138   -1.1410615   1.0486772\n",
      "  3.6151621  -1.2623484  -2.8082855  -0.323383    2.3425333   1.0729635\n",
      " -2.6801593  -1.4691207   0.9242751   2.7219164  -2.484729   -0.04328042\n",
      "  0.77912676 -3.156662  ]\n"
     ]
    }
   ],
   "source": [
    "# get an in-vocab word's vector\n",
    "print(model_text8.wv['cat'].shape)\n",
    "print(model_text8.wv['cat'])\n",
    "print(model_text8.wv.word_vec('cat', use_norm=False))"
   ]
  },
  {
   "cell_type": "code",
   "execution_count": 9,
   "metadata": {
    "ExecuteTime": {
     "end_time": "2018-03-13T14:43:03.657353Z",
     "start_time": "2018-03-13T14:43:03.649136Z"
    }
   },
   "outputs": [
    {
     "data": {
      "text/plain": [
       "array([-2.0842688 , -1.3333529 ,  0.04724349, -1.5894958 ,  0.49455482,\n",
       "        2.7000844 , -1.853276  ,  0.0585506 ,  2.3668623 , -2.2114565 ,\n",
       "       -1.3213389 ,  0.2269771 ,  3.1111052 ,  2.7025661 ,  0.21944642,\n",
       "       -1.3599906 , -0.98562336, -0.43018234,  0.61638683,  1.0780183 ,\n",
       "       -1.8141495 , -1.7740251 , -1.1478083 , -0.29766715, -2.8328052 ,\n",
       "       -0.00617344,  3.4595892 ,  0.03712574,  1.539484  , -0.6548884 ,\n",
       "       -1.3328445 , -0.8624628 ,  0.2938288 , -3.3418984 , -0.8351522 ,\n",
       "        0.42734987,  2.4499192 , -0.71086323, -2.667845  ,  0.6639075 ,\n",
       "        1.7801266 , -0.02018915, -0.3872054 ,  0.14013739,  0.0582303 ,\n",
       "        0.75149095, -1.2133569 , -0.6137609 ,  0.8443705 , -2.1139064 ],\n",
       "      dtype=float32)"
      ]
     },
     "execution_count": 9,
     "metadata": {},
     "output_type": "execute_result"
    }
   ],
   "source": [
    "# get vector for an out-of-vocabulary word\n",
    "model_text8.wv['catdog']"
   ]
  },
  {
   "cell_type": "code",
   "execution_count": 10,
   "metadata": {
    "ExecuteTime": {
     "end_time": "2018-03-13T14:43:05.666632Z",
     "start_time": "2018-03-13T14:43:05.247497Z"
    }
   },
   "outputs": [
    {
     "name": "stderr",
     "output_type": "stream",
     "text": [
      "2018-03-13 20:13:05,251 : INFO : precomputing L2-norms of word weight vectors\n",
      "2018-03-13 20:13:05,269 : INFO : precomputing L2-norms of ngram weight vectors\n"
     ]
    },
    {
     "data": {
      "text/plain": [
       "[(u'midsummer', 0.942550778388977),\n",
       " (u'winter', 0.8807545900344849),\n",
       " (u'summertime', 0.8525436520576477),\n",
       " (u'midwinter', 0.8469330072402954),\n",
       " (u'summerson', 0.8255391120910645),\n",
       " (u'fimbulwinter', 0.8054627180099487),\n",
       " (u'wintertime', 0.8035499453544617),\n",
       " (u'winterthur', 0.7999448776245117),\n",
       " (u'winterson', 0.7980581521987915),\n",
       " (u'nightline', 0.7975853681564331)]"
      ]
     },
     "execution_count": 10,
     "metadata": {},
     "output_type": "execute_result"
    }
   ],
   "source": [
    "# find the top-n most similar words\n",
    "# Compare the differences with `Word2Vec` model\n",
    "# [(u'winter', 0.8970272541046143),\n",
    "#  (u'spring', 0.8612320423126221),\n",
    "#  (u'autumn', 0.8402277827262878),\n",
    "#  (u'olympics', 0.7919313907623291),\n",
    "#  (u'nights', 0.7284520268440247)]\n",
    "model_text8.wv.most_similar('summer')"
   ]
  },
  {
   "cell_type": "markdown",
   "metadata": {},
   "source": [
    "**Online training** (on new corpus), **Saving/Loading** and other APIs are exactly the same as those for `Word2Vec` (Look at notebook for [part 1](add link here))."
   ]
  },
  {
   "cell_type": "markdown",
   "metadata": {},
   "source": [
    "## Comparison with `Word2Vec` embeddings\n",
    "Due to lack of time, it is not possible to train/run the comparisons between `Word2Vec` and `FastText` word embeddings. Let us look at a blog which neatly summarizes the differences between the `Word2Vec` and `FastText` embeddings.\n",
    "\n",
    "Link --\n",
    "https://rare-technologies.com/fasttext-and-gensim-word-embeddings/"
   ]
  },
  {
   "cell_type": "markdown",
   "metadata": {},
   "source": [
    "## Task - Movie Genre prediction\n",
    "Look at [notebook for previous part](add link here) description of task and dataset details."
   ]
  },
  {
   "cell_type": "code",
   "execution_count": 11,
   "metadata": {
    "ExecuteTime": {
     "end_time": "2018-03-13T14:46:54.830219Z",
     "start_time": "2018-03-13T14:46:54.623707Z"
    }
   },
   "outputs": [
    {
     "name": "stderr",
     "output_type": "stream",
     "text": [
      "/encrypted/virtualenvironments/gensim_workshop_py2.7/local/lib/python2.7/site-packages/sklearn/cross_validation.py:41: DeprecationWarning: This module was deprecated in version 0.18 in favor of the model_selection module into which all the refactored classes and functions are moved. Also note that the interface of the new CV iterators are different from that of this module. This module will be removed in 0.20.\n",
      "  \"This module will be removed in 0.20.\", DeprecationWarning)\n"
     ]
    }
   ],
   "source": [
    "import operator\n",
    "from sklearn.pipeline import Pipeline\n",
    "from sklearn.svm import LinearSVC\n",
    "from sklearn.feature_extraction.text import CountVectorizer, TfidfVectorizer, TfidfTransformer\n",
    "from sklearn.cross_validation import cross_val_score, train_test_split\n",
    "from sklearn.metrics import confusion_matrix, accuracy_score\n",
    "import pandas as pd\n",
    "import matplotlib.pyplot as plt\n",
    "import nltk\n",
    "\n",
    "%matplotlib inline"
   ]
  },
  {
   "cell_type": "code",
   "execution_count": 12,
   "metadata": {
    "ExecuteTime": {
     "end_time": "2018-03-13T14:46:57.581521Z",
     "start_time": "2018-03-13T14:46:57.549843Z"
    }
   },
   "outputs": [
    {
     "name": "stdout",
     "output_type": "stream",
     "text": [
      "Total number of words in the dataset: 171156\n"
     ]
    }
   ],
   "source": [
    "df = pd.read_csv('data/tagged_plots_movielens.csv')\n",
    "df = df.dropna()\n",
    "total_words = df['plot'].apply(lambda x: len(x.split(' '))).sum()\n",
    "print('Total number of words in the dataset: %d' % total_words)"
   ]
  },
  {
   "cell_type": "code",
   "execution_count": 13,
   "metadata": {
    "ExecuteTime": {
     "end_time": "2018-03-13T14:47:10.922804Z",
     "start_time": "2018-03-13T14:47:10.790791Z"
    }
   },
   "outputs": [
    {
     "data": {
      "image/png": "[encoded data removed]",
      "text/plain": [
       "<Figure size 432x288 with 1 Axes>"
      ]
     },
     "metadata": {},
     "output_type": "display_data"
    }
   ],
   "source": [
    "df.tag.value_counts().plot(kind=\"bar\", rot=0)\n",
    "my_tags = ['sci-fi' , 'action', 'comedy', 'fantasy', 'animation', 'romance']"
   ]
  },
  {
   "cell_type": "code",
   "execution_count": 14,
   "metadata": {
    "ExecuteTime": {
     "end_time": "2018-03-13T14:47:12.270471Z",
     "start_time": "2018-03-13T14:47:12.260939Z"
    }
   },
   "outputs": [
    {
     "data": {
      "text/plain": [
       "0.32138442521631644"
      ]
     },
     "execution_count": 14,
     "metadata": {},
     "output_type": "execute_result"
    }
   ],
   "source": [
    "float(df.tag.value_counts()['comedy']) / df.tag.value_counts().sum() "
   ]
  },
  {
   "cell_type": "code",
   "execution_count": 15,
   "metadata": {
    "ExecuteTime": {
     "end_time": "2018-03-13T14:47:13.196485Z",
     "start_time": "2018-03-13T14:47:13.182451Z"
    }
   },
   "outputs": [],
   "source": [
    "train_data, test_data = train_test_split(df, test_size=0.1, random_state=42)"
   ]
  },
  {
   "cell_type": "code",
   "execution_count": 16,
   "metadata": {
    "ExecuteTime": {
     "end_time": "2018-03-13T14:47:13.848682Z",
     "start_time": "2018-03-13T14:47:13.838315Z"
    }
   },
   "outputs": [
    {
     "name": "stdout",
     "output_type": "stream",
     "text": [
      "Number of training examples: 2184\n",
      "Number of tesing examples: 243\n"
     ]
    }
   ],
   "source": [
    "print('Number of training examples: %d' % len(train_data))\n",
    "print('Number of tesing examples: %d' % len(test_data))"
   ]
  },
  {
   "cell_type": "markdown",
   "metadata": {},
   "source": [
    "### Model Evaluation"
   ]
  },
  {
   "cell_type": "code",
   "execution_count": 17,
   "metadata": {
    "ExecuteTime": {
     "end_time": "2018-03-13T14:47:15.196320Z",
     "start_time": "2018-03-13T14:47:15.175515Z"
    }
   },
   "outputs": [],
   "source": [
    "def plot_confusion_matrix(cm, title='Confusion matrix', cmap=plt.cm.Blues):\n",
    "    plt.imshow(cm, interpolation='nearest', cmap=cmap)\n",
    "    plt.title(title)\n",
    "    plt.colorbar()\n",
    "    tick_marks = np.arange(len(my_tags))\n",
    "    target_names = my_tags\n",
    "    plt.xticks(tick_marks, target_names, rotation=45)\n",
    "    plt.yticks(tick_marks, target_names)\n",
    "    plt.tight_layout()\n",
    "    plt.ylabel('True label')\n",
    "    plt.xlabel('Predicted label')"
   ]
  },
  {
   "cell_type": "code",
   "execution_count": 18,
   "metadata": {
    "ExecuteTime": {
     "end_time": "2018-03-13T14:47:15.481405Z",
     "start_time": "2018-03-13T14:47:15.467978Z"
    }
   },
   "outputs": [],
   "source": [
    "def evaluate_prediction(predictions, target, title=\"Confusion matrix\"):\n",
    "    print('accuracy %s' % accuracy_score(target, predictions))\n",
    "    cm = confusion_matrix(target, predictions)\n",
    "    print('confusion matrix\\n %s' % cm)\n",
    "    print('(row=expected, col=predicted)')\n",
    "    \n",
    "    cm_normalized = cm.astype('float') / cm.sum(axis=1)[:, np.newaxis]\n",
    "    plot_confusion_matrix(cm_normalized, title + ' Normalized')"
   ]
  },
  {
   "cell_type": "markdown",
   "metadata": {},
   "source": [
    "### Tokenize text"
   ]
  },
  {
   "cell_type": "code",
   "execution_count": 19,
   "metadata": {
    "ExecuteTime": {
     "end_time": "2018-03-13T14:47:16.760511Z",
     "start_time": "2018-03-13T14:47:16.747836Z"
    }
   },
   "outputs": [],
   "source": [
    "def custom_tokenize_text(text):\n",
    "    tokens = []\n",
    "    for sent in nltk.sent_tokenize(text, language='english'):\n",
    "        for word in nltk.word_tokenize(sent, language='english'):\n",
    "            if len(word) < 2:\n",
    "                continue\n",
    "            tokens.append(word)\n",
    "    return tokens"
   ]
  },
  {
   "cell_type": "markdown",
   "metadata": {},
   "source": [
    "### Prepare data"
   ]
  },
  {
   "cell_type": "code",
   "execution_count": 20,
   "metadata": {
    "ExecuteTime": {
     "end_time": "2018-03-13T14:47:19.076294Z",
     "start_time": "2018-03-13T14:47:17.897439Z"
    }
   },
   "outputs": [
    {
     "name": "stdout",
     "output_type": "stream",
     "text": [
      "2184 2184\n",
      "comedy\n",
      "['Turkish', 'and', 'his', 'close', 'friend/accomplice', 'Tommy', 'get', 'pulled', 'into', 'the', 'world', 'of', 'match', 'fixing', 'by', 'the', 'notorious', 'Brick', 'Top', 'Things', 'get', 'complicated', 'when', 'the', 'boxer', 'they', 'had', 'lined', 'up', 'gets', 'badly', 'beaten', 'by', 'Pitt', \"'pikey\", 'slang', 'for', 'an', 'Irish', 'Gypsy', 'who', 'comes', 'into', 'the', 'equation', 'after', 'Turkish', 'an', 'unlicensed', 'boxing', 'promoter', 'wants', 'to', 'buy', 'caravan', 'off', 'the', 'Irish', 'Gypsies', 'They', 'then', 'try', 'to', 'convince', 'Pitt', 'not', 'only', 'to', 'fight', 'for', 'them', 'but', 'to', 'lose', 'for', 'them', 'too', 'Whilst', 'all', 'this', 'is', 'going', 'on', 'huge', 'diamond', 'heist', 'takes', 'place', 'and', 'fistful', 'of', 'motley', 'characters', 'enter', 'the', 'story', 'including', \"'Cousin\", 'Avi', \"'Boris\", 'The', 'Blade', \"'Franky\", 'Four', 'Fingers', 'and', \"'Bullet\", 'Tooth', 'Tony', 'Things', 'go', 'from', 'bad', 'to', 'worse', 'as', 'it', 'all', 'becomes', 'about', 'the', 'money', 'the', 'guns', 'and', 'the', 'damned', 'dog']\n"
     ]
    }
   ],
   "source": [
    "# prepare training data\n",
    "X_train = []\n",
    "y_train = []\n",
    "for plot, tag in train_data[['plot', 'tag']].values:\n",
    "    X_train.append(custom_tokenize_text(plot))\n",
    "    y_train.append(tag)\n",
    "X_train, y_train = np.array(X_train), np.array(y_train)\n",
    "print(len(X_train), len(y_train))\n",
    "print(y_train[0])\n",
    "print(X_train[0])"
   ]
  },
  {
   "cell_type": "code",
   "execution_count": 21,
   "metadata": {
    "ExecuteTime": {
     "end_time": "2018-03-13T14:47:21.763569Z",
     "start_time": "2018-03-13T14:47:21.618209Z"
    }
   },
   "outputs": [
    {
     "name": "stdout",
     "output_type": "stream",
     "text": [
      "243 243\n"
     ]
    }
   ],
   "source": [
    "# prepare test data\n",
    "X_test = []\n",
    "y_test = []\n",
    "for plot, tag in test_data[['plot', 'tag']].values:\n",
    "    X_test.append(custom_tokenize_text(plot))\n",
    "    y_test.append(tag)\n",
    "X_test, y_test = np.array(X_test), np.array(y_test)\n",
    "print(len(X_test), len(y_test))"
   ]
  },
  {
   "cell_type": "markdown",
   "metadata": {},
   "source": [
    "## Technique 1: Bag-of-CharNGrams + Linear SVM"
   ]
  },
  {
   "cell_type": "markdown",
   "metadata": {},
   "source": [
    "### CountVectorizer - character ngram features"
   ]
  },
  {
   "cell_type": "code",
   "execution_count": 22,
   "metadata": {
    "ExecuteTime": {
     "end_time": "2018-03-13T14:47:24.012517Z",
     "start_time": "2018-03-13T14:47:23.950254Z"
    }
   },
   "outputs": [
    {
     "name": "stdout",
     "output_type": "stream",
     "text": [
      "[(u' br', 0), (u'he ', 1), (u'over ', 2), (u'over t', 3), (u'own', 4), (u'own ', 5), (u'own f', 6), (u'own fo', 7), (u'ox ', 8), (u'ox j', 9), (u'ox ju', 10), (u'ox jum', 11), (u'ped', 12), (u'ped ', 13), (u'ped o', 14), (u'ped ov', 15), (u'qui', 16), (u'quic', 17), (u'the', 18), (u'the ', 19)]\n",
      "(1, 20)\n",
      "<class 'scipy.sparse.csr.csr_matrix'>\n",
      "[[1 2 1 1 1 1 1 1 1 1 1 1 1 1 1 1 1 1 2 2]]\n"
     ]
    }
   ],
   "source": [
    "from sklearn.feature_extraction.text import CountVectorizer\n",
    "# list of text documents\n",
    "text = [\"The quick brown fox jumped over the lazy dog.\"]\n",
    "# create the transform\n",
    "vectorizer = CountVectorizer(analyzer=\"char\", ngram_range=([3,6]), max_features=20)\n",
    "# tokenize and build vocab\n",
    "vectorizer.fit(text)\n",
    "# summarize\n",
    "print(sorted(vectorizer.vocabulary_.items(), key=operator.itemgetter(1)))\n",
    "# encode document\n",
    "vector = vectorizer.transform(text)\n",
    "# summarize encoded vector\n",
    "print(vector.shape)\n",
    "print(type(vector))\n",
    "print(vector.toarray())"
   ]
  },
  {
   "cell_type": "code",
   "execution_count": 23,
   "metadata": {
    "ExecuteTime": {
     "end_time": "2018-03-13T14:47:35.805454Z",
     "start_time": "2018-03-13T14:47:35.800777Z"
    }
   },
   "outputs": [],
   "source": [
    "ngrams_counts_svc = Pipeline([(\"count_ngrams_vectorizer\", CountVectorizer(analyzer=\"char\", ngram_range=([3,6]), max_features=10000)), (\"linear_svc\", LinearSVC())])"
   ]
  },
  {
   "cell_type": "code",
   "execution_count": 24,
   "metadata": {
    "ExecuteTime": {
     "end_time": "2018-03-13T14:47:37.192350Z",
     "start_time": "2018-03-13T14:47:37.181901Z"
    }
   },
   "outputs": [],
   "source": [
    "# CountVectorizer expects a list of strings and not a list of list of tokens.\n",
    "X_train_ngrams = [' '.join(tokens) for tokens in X_train]\n",
    "X_test_ngrams = [' '.join(tokens) for tokens in X_test]"
   ]
  },
  {
   "cell_type": "code",
   "execution_count": 25,
   "metadata": {
    "ExecuteTime": {
     "end_time": "2018-03-13T14:47:44.174954Z",
     "start_time": "2018-03-13T14:47:40.093973Z"
    }
   },
   "outputs": [
    {
     "name": "stdout",
     "output_type": "stream",
     "text": [
      "CPU times: user 3.97 s, sys: 48.2 ms, total: 4.02 s\n",
      "Wall time: 4.07 s\n"
     ]
    },
    {
     "data": {
      "text/plain": [
       "Pipeline(memory=None,\n",
       "     steps=[('count_ngrams_vectorizer', CountVectorizer(analyzer='char', binary=False, decode_error=u'strict',\n",
       "        dtype=<type 'numpy.int64'>, encoding=u'utf-8', input=u'content',\n",
       "        lowercase=True, max_df=1.0, max_features=10000, min_df=1,\n",
       "        ngram_range=[3, 6], preprocessor=None, stop_wor...ax_iter=1000,\n",
       "     multi_class='ovr', penalty='l2', random_state=None, tol=0.0001,\n",
       "     verbose=0))])"
      ]
     },
     "execution_count": 25,
     "metadata": {},
     "output_type": "execute_result"
    }
   ],
   "source": [
    "%%time\n",
    "# fit the classifier\n",
    "ngrams_counts_svc.fit(X_train_ngrams, y_train)"
   ]
  },
  {
   "cell_type": "code",
   "execution_count": 26,
   "metadata": {
    "ExecuteTime": {
     "end_time": "2018-03-13T14:47:52.552181Z",
     "start_time": "2018-03-13T14:47:52.344306Z"
    }
   },
   "outputs": [],
   "source": [
    "# get predictions on test data\n",
    "y_pred_ngrams_counts_svc = ngrams_counts_svc.predict(X_test_ngrams)"
   ]
  },
  {
   "cell_type": "code",
   "execution_count": 27,
   "metadata": {
    "ExecuteTime": {
     "end_time": "2018-03-13T14:47:55.956577Z",
     "start_time": "2018-03-13T14:47:55.793647Z"
    }
   },
   "outputs": [
    {
     "name": "stdout",
     "output_type": "stream",
     "text": [
      "accuracy 0.42386831275720166\n",
      "confusion matrix\n",
      " [[16  3  9  2 10  2]\n",
      " [ 3  9 11  2  1  5]\n",
      " [10  9 46  5 14  2]\n",
      " [ 2  2  2  4  3  3]\n",
      " [ 4  1 15  1 12  2]\n",
      " [ 5  3  5  3  1 16]]\n",
      "(row=expected, col=predicted)\n"
     ]
    },
    {
     "data": {
      "image/png": "[encoded data removed]",
      "text/plain": [
       "<Figure size 432x288 with 2 Axes>"
      ]
     },
     "metadata": {},
     "output_type": "display_data"
    }
   ],
   "source": [
    "# plot results from test data evaluation\n",
    "evaluate_prediction(y_pred_ngrams_counts_svc, y_test)"
   ]
  },
  {
   "cell_type": "markdown",
   "metadata": {},
   "source": [
    "Load pre-trained FastText vectors. We will be using 'wiki-news-300d-1M-subword.vec': 1 million word vectors trained with subword infomation on Wikipedia 2017, UMBC webbase corpus and statmt.org news dataset (16B tokens). Can be downloaded from this link - https://fasttext.cc/docs/en/english-vectors.html.\n",
    "\n",
    "Warning: loading can take upto 3-4 mins."
   ]
  },
  {
   "cell_type": "code",
   "execution_count": 28,
   "metadata": {
    "ExecuteTime": {
     "end_time": "2018-03-13T14:50:11.788211Z",
     "start_time": "2018-03-13T14:48:29.008151Z"
    }
   },
   "outputs": [
    {
     "name": "stderr",
     "output_type": "stream",
     "text": [
      "2018-03-13 20:18:29,016 : INFO : loading projection weights from data/wiki-news-300d-1M-subword.vec\n",
      "2018-03-13 20:20:11,783 : INFO : loaded (500000, 300) matrix from data/wiki-news-300d-1M-subword.vec\n"
     ]
    },
    {
     "name": "stdout",
     "output_type": "stream",
     "text": [
      "CPU times: user 1min 42s, sys: 709 ms, total: 1min 42s\n",
      "Wall time: 1min 42s\n"
     ]
    }
   ],
   "source": [
    "%%time\n",
    "model_pretrained_ft = KeyedVectors.load_word2vec_format('data/wiki-news-300d-1M-subword.vec', limit=500000)"
   ]
  },
  {
   "cell_type": "markdown",
   "metadata": {},
   "source": [
    "The code below has been lazily copy-pasted from [previous part's notebook](add link to notebook) and only changes the word embeddings model passed to the vectorizers."
   ]
  },
  {
   "cell_type": "markdown",
   "metadata": {
    "ExecuteTime": {
     "end_time": "2018-03-13T09:06:40.411577Z",
     "start_time": "2018-03-13T09:06:40.398672Z"
    }
   },
   "source": [
    "## Technique 2: Average word embeddings (FastText) + Linear SVM"
   ]
  },
  {
   "cell_type": "code",
   "execution_count": 29,
   "metadata": {
    "ExecuteTime": {
     "end_time": "2018-03-13T14:50:47.438087Z",
     "start_time": "2018-03-13T14:50:47.430838Z"
    }
   },
   "outputs": [],
   "source": [
    "class MeanEmbeddingVectorizer(object):\n",
    "    def __init__(self, word2vec):\n",
    "        self.word2vec = word2vec\n",
    "        self.dim = word2vec.vector_size\n",
    "    \n",
    "    def fit(self, X, y):\n",
    "        return self \n",
    "\n",
    "    def transform(self, X):\n",
    "        return np.array([\n",
    "            np.mean([self.word2vec[w] for w in words if w in self.word2vec] \n",
    "                    or [np.zeros(self.dim)], axis=0)\n",
    "            for words in X\n",
    "        ])"
   ]
  },
  {
   "cell_type": "code",
   "execution_count": 30,
   "metadata": {
    "ExecuteTime": {
     "end_time": "2018-03-13T14:50:48.259014Z",
     "start_time": "2018-03-13T14:50:48.253709Z"
    }
   },
   "outputs": [],
   "source": [
    "avg_ft_svc = Pipeline([(\"mean_embedding_vectorizer\", MeanEmbeddingVectorizer(model_pretrained_ft)), (\"linear_svc\", LinearSVC())])"
   ]
  },
  {
   "cell_type": "code",
   "execution_count": 31,
   "metadata": {
    "ExecuteTime": {
     "end_time": "2018-03-13T14:50:49.937718Z",
     "start_time": "2018-03-13T14:50:49.149337Z"
    }
   },
   "outputs": [
    {
     "data": {
      "text/plain": [
       "Pipeline(memory=None,\n",
       "     steps=[('mean_embedding_vectorizer', <__main__.MeanEmbeddingVectorizer object at 0x7fda0e5a53d0>), ('linear_svc', LinearSVC(C=1.0, class_weight=None, dual=True, fit_intercept=True,\n",
       "     intercept_scaling=1, loss='squared_hinge', max_iter=1000,\n",
       "     multi_class='ovr', penalty='l2', random_state=None, tol=0.0001,\n",
       "     verbose=0))])"
      ]
     },
     "execution_count": 31,
     "metadata": {},
     "output_type": "execute_result"
    }
   ],
   "source": [
    "avg_ft_svc.fit(X_train, y_train)"
   ]
  },
  {
   "cell_type": "code",
   "execution_count": 32,
   "metadata": {
    "ExecuteTime": {
     "end_time": "2018-03-13T14:50:55.149599Z",
     "start_time": "2018-03-13T14:50:55.098363Z"
    }
   },
   "outputs": [],
   "source": [
    "y_pred_avg_ft_svc = avg_ft_svc.predict(X_test)"
   ]
  },
  {
   "cell_type": "code",
   "execution_count": 33,
   "metadata": {
    "ExecuteTime": {
     "end_time": "2018-03-13T14:50:56.190768Z",
     "start_time": "2018-03-13T14:50:56.027948Z"
    }
   },
   "outputs": [
    {
     "name": "stdout",
     "output_type": "stream",
     "text": [
      "accuracy 0.5720164609053497\n",
      "confusion matrix\n",
      " [[27  0 12  0  1  2]\n",
      " [ 3  8 12  1  3  4]\n",
      " [ 4  1 74  0  6  1]\n",
      " [ 2  0  6  4  2  2]\n",
      " [ 0  1 24  0  8  2]\n",
      " [ 6  1  8  0  0 18]]\n",
      "(row=expected, col=predicted)\n"
     ]
    },
    {
     "data": {
      "image/png": "[encoded data removed]",
      "text/plain": [
       "<Figure size 432x288 with 2 Axes>"
      ]
     },
     "metadata": {},
     "output_type": "display_data"
    }
   ],
   "source": [
    "evaluate_prediction(y_pred_avg_ft_svc, y_test)"
   ]
  },
  {
   "cell_type": "markdown",
   "metadata": {},
   "source": [
    "## Technique 3: IT-IDF weighted word embeddings (FastText) + Linear SVC"
   ]
  },
  {
   "cell_type": "code",
   "execution_count": 34,
   "metadata": {
    "ExecuteTime": {
     "end_time": "2018-03-13T14:50:58.439276Z",
     "start_time": "2018-03-13T14:50:58.410422Z"
    }
   },
   "outputs": [],
   "source": [
    "class TfidfEmbeddingVectorizer(object):\n",
    "    def __init__(self, word2vec):\n",
    "        self.word2vec = word2vec\n",
    "        self.word2weight = None\n",
    "        self.dim = word2vec.vector_size\n",
    "        \n",
    "    def fit(self, X, y):\n",
    "        self.tfidf = TfidfVectorizer(analyzer=lambda x: x)\n",
    "        self.tfidf.fit(X)\n",
    "        tfidf = self.tfidf\n",
    "        # if a word was never seen - it must be at least as infrequent\n",
    "        # as any of the known words - so the default idf is the max of \n",
    "        # known idf's\n",
    "        max_idf = max(tfidf.idf_)\n",
    "        self.word2weight = defaultdict(\n",
    "            lambda: max_idf, \n",
    "            [(w, tfidf.idf_[i]) for w, i in tfidf.vocabulary_.items()])\n",
    "        return self\n",
    "    \n",
    "    def transform(self, X):\n",
    "        return np.array([\n",
    "                np.mean([self.word2vec[w] * self.word2weight[w]\n",
    "                         for w in words if w in self.word2vec] or\n",
    "                        [np.zeros(self.dim)], axis=0)\n",
    "                for words in X\n",
    "            ])"
   ]
  },
  {
   "cell_type": "code",
   "execution_count": 35,
   "metadata": {
    "ExecuteTime": {
     "end_time": "2018-03-13T14:50:59.585137Z",
     "start_time": "2018-03-13T14:50:59.580325Z"
    }
   },
   "outputs": [],
   "source": [
    "tfidf_ft_svc = Pipeline([(\"tfidf_embedding_vectorizer\", TfidfEmbeddingVectorizer(model_pretrained_ft)), (\"linear_svc\", LinearSVC())])"
   ]
  },
  {
   "cell_type": "code",
   "execution_count": 36,
   "metadata": {
    "ExecuteTime": {
     "end_time": "2018-03-13T14:51:04.953452Z",
     "start_time": "2018-03-13T14:51:00.398188Z"
    }
   },
   "outputs": [
    {
     "data": {
      "text/plain": [
       "Pipeline(memory=None,\n",
       "     steps=[('tfidf_embedding_vectorizer', <__main__.TfidfEmbeddingVectorizer object at 0x7fda0e4d62d0>), ('linear_svc', LinearSVC(C=1.0, class_weight=None, dual=True, fit_intercept=True,\n",
       "     intercept_scaling=1, loss='squared_hinge', max_iter=1000,\n",
       "     multi_class='ovr', penalty='l2', random_state=None, tol=0.0001,\n",
       "     verbose=0))])"
      ]
     },
     "execution_count": 36,
     "metadata": {},
     "output_type": "execute_result"
    }
   ],
   "source": [
    "tfidf_ft_svc.fit(X_train, y_train)"
   ]
  },
  {
   "cell_type": "code",
   "execution_count": 37,
   "metadata": {
    "ExecuteTime": {
     "end_time": "2018-03-13T14:51:06.577348Z",
     "start_time": "2018-03-13T14:51:06.489262Z"
    }
   },
   "outputs": [],
   "source": [
    "y_pred_tfidf_ft_svc = tfidf_ft_svc.predict(X_test)"
   ]
  },
  {
   "cell_type": "code",
   "execution_count": 38,
   "metadata": {
    "ExecuteTime": {
     "end_time": "2018-03-13T14:51:08.456988Z",
     "start_time": "2018-03-13T14:51:08.287495Z"
    }
   },
   "outputs": [
    {
     "name": "stdout",
     "output_type": "stream",
     "text": [
      "accuracy 0.5802469135802469\n",
      "confusion matrix\n",
      " [[27  1  8  1  2  3]\n",
      " [ 2 12  9  3  2  3]\n",
      " [ 4  1 65  0 15  1]\n",
      " [ 3  3  2  5  3  0]\n",
      " [ 2  1 15  2 14  1]\n",
      " [ 8  0  6  0  1 18]]\n",
      "(row=expected, col=predicted)\n"
     ]
    },
    {
     "data": {
      "image/png": "[encoded data removed]",
      "text/plain": [
       "<Figure size 432x288 with 2 Axes>"
      ]
     },
     "metadata": {},
     "output_type": "display_data"
    }
   ],
   "source": [
    "evaluate_prediction(y_pred_tfidf_ft_svc, y_test)"
   ]
  },
  {
   "cell_type": "markdown",
   "metadata": {},
   "source": [
    "We saw a few techniques to get started with text classification using different word embeddings. The goal of this tutorial was to show the APIs so you can start using word embeddings and related techniques on your own data/task. The [previous notebook](add link to notebook) also provided a few links to papers discussing various modifications to average word embeddings to tap into their true potential for NLP tasks."
   ]
  },
  {
   "cell_type": "markdown",
   "metadata": {},
   "source": [
    "## References\n",
    "A lot of the code used in this notebook as been picked up directly/modified from various other tutorials/blogs/notebooks. Thanks to all of you guys to help speed up the creation of this notebook.\n",
    "- https://github.com/RaRe-Technologies/movie-plots-by-genre/blob/master/Document%20classification%20with%20word%20embeddings%20tutorial.ipynb - Lev Konstantinovskiy.\n",
    "- http://sujitpal.blogspot.in/2016/04/predicting-movie-tags-from-plots-using.html - Sujit Pal.\n",
    "- http://nadbordrozd.github.io/blog/2016/05/20/text-classification-with-word2vec/ - Nadbor Drozd.\n",
    "- https://machinelearningmastery.com/prepare-text-data-machine-learning-scikit-learn/ - Jason Brownlee."
   ]
  },
  {
   "cell_type": "code",
   "execution_count": null,
   "metadata": {},
   "outputs": [],
   "source": []
  }
 ],
 "metadata": {
  "kernelspec": {
   "display_name": "Python 2",
   "language": "python",
   "name": "python2"
  },
  "language_info": {
   "codemirror_mode": {
    "name": "ipython",
    "version": 2
   },
   "file_extension": ".py",
   "mimetype": "text/x-python",
   "name": "python",
   "nbconvert_exporter": "python",
   "pygments_lexer": "ipython2",
   "version": "2.7.12"
  }
 },
 "nbformat": 4,
 "nbformat_minor": 2
}
