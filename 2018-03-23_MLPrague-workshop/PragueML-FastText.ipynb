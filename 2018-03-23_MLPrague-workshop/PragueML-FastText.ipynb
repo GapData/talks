{
 "cells": [
  {
   "cell_type": "markdown",
   "metadata": {},
   "source": [
    "# ML Prague - Word Embeddings 2 : FastText & Application\n",
    "Continuation of [Word2Vec notebook](https://github.com/RaRe-Technologies/talks/blob/master/2018-03-23_MLPrague-workshop/PragueML-Word2Vec.ipynb).\n",
    "\n",
    "Objectives of this notebook:\n",
    "\n",
    "- Demonstrate training/utilization of a `FastText` model using Gensim.\n",
    "- Application of `FastText` word embeddings on a supervised text classification task."
   ]
  },
  {
   "cell_type": "markdown",
   "metadata": {},
   "source": [
    "### Requirements:\n",
    "- Python3.5\n",
    "- gensim\n",
    "- pandas\n",
    "- matplotlib\n",
    "- sklearn"
   ]
  },
  {
   "cell_type": "code",
   "execution_count": 6,
   "metadata": {
    "ExecuteTime": {
     "end_time": "2018-03-13T14:38:43.836655Z",
     "start_time": "2018-03-13T14:38:43.421334Z"
    }
   },
   "outputs": [],
   "source": [
    "# imports\n",
    "\n",
    "from __future__ import print_function\n",
    "import logging\n",
    "import gensim\n",
    "from gensim.models import FastText\n",
    "from gensim.models.word2vec import Text8Corpus\n",
    "from gensim.parsing import preprocess_string\n",
    "from gensim.parsing.preprocessing import strip_punctuation, strip_numeric, strip_multiple_whitespaces, strip_short\n",
    "import gensim.downloader as api\n",
    "import numpy as np\n",
    "from collections import defaultdict\n",
    "import multiprocessing\n",
    "from smart_open import smart_open"
   ]
  },
  {
   "cell_type": "code",
   "execution_count": 2,
   "metadata": {
    "ExecuteTime": {
     "end_time": "2018-03-13T14:38:45.187455Z",
     "start_time": "2018-03-13T14:38:45.161282Z"
    }
   },
   "outputs": [
    {
     "data": {
      "text/plain": [
       "1"
      ]
     },
     "execution_count": 2,
     "metadata": {},
     "output_type": "execute_result"
    }
   ],
   "source": [
    "# ensure FAST_VERSION > 0 - would be painfully slow to train models otherwise.\n",
    "# You should have Cython installed in order to exploit multi core training (GIL,\n",
    "# protects access to Python objects, preventing multiple threads from executing \n",
    "# Python bytecodes at once.)\n",
    "# Also a good BLAS library is recommended to make use of heavy low level optimisations.\n",
    "gensim.models.fasttext.FAST_VERSION"
   ]
  },
  {
   "cell_type": "code",
   "execution_count": 3,
   "metadata": {
    "ExecuteTime": {
     "end_time": "2018-03-13T14:38:46.346039Z",
     "start_time": "2018-03-13T14:38:46.338792Z"
    }
   },
   "outputs": [],
   "source": [
    "logging.basicConfig(format='%(asctime)s : %(levelname)s : %(message)s', level=logging.INFO)"
   ]
  },
  {
   "cell_type": "markdown",
   "metadata": {},
   "source": [
    "## Training a `FastText` model\n",
    "Train a `FastText` model on `text8`."
   ]
  },
  {
   "cell_type": "code",
   "execution_count": 4,
   "metadata": {
    "ExecuteTime": {
     "end_time": "2018-03-13T14:38:48.333119Z",
     "start_time": "2018-03-13T14:38:48.330199Z"
    }
   },
   "outputs": [
    {
     "name": "stderr",
     "output_type": "stream",
     "text": [
      "2018-03-16 18:00:11,063 : INFO : Creating /home/shiva/gensim-data\n"
     ]
    },
    {
     "name": "stdout",
     "output_type": "stream",
     "text": [
      "[==================================================] 100.0% 31.6/31.6MB downloaded\n"
     ]
    },
    {
     "name": "stderr",
     "output_type": "stream",
     "text": [
      "2018-03-16 18:00:24,834 : INFO : text8 downloaded\n"
     ]
    }
   ],
   "source": [
    "# a memory-friendly iterator\n",
    "# text8_corpus = Text8Corpus('./data/text8')\n",
    "text8_corpus = api.load(\"text8\")"
   ]
  },
  {
   "cell_type": "code",
   "execution_count": 7,
   "metadata": {
    "ExecuteTime": {
     "end_time": "2018-03-13T14:42:09.626669Z",
     "start_time": "2018-03-13T14:38:54.383818Z"
    },
    "scrolled": true
   },
   "outputs": [
    {
     "name": "stderr",
     "output_type": "stream",
     "text": [
      "2018-03-16 18:01:58,986 : WARNING : consider setting layer size to a multiple of 4 for greater performance\n",
      "2018-03-16 18:01:58,987 : INFO : collecting all words and their counts\n",
      "2018-03-16 18:01:58,989 : INFO : PROGRESS: at sentence #0, processed 0 words, keeping 0 word types\n",
      "2018-03-16 18:02:02,347 : INFO : collected 253854 word types from a corpus of 17005207 raw words and 1701 sentences\n",
      "2018-03-16 18:02:02,347 : INFO : Loading a fresh vocabulary\n",
      "2018-03-16 18:02:02,567 : INFO : min_count=5 retains 71290 unique words (28% of original 253854, drops 182564)\n",
      "2018-03-16 18:02:02,568 : INFO : min_count=5 leaves 16718844 word corpus (98% of original 17005207, drops 286363)\n",
      "2018-03-16 18:02:02,690 : INFO : deleting the raw counts dictionary of 253854 items\n",
      "2018-03-16 18:02:02,701 : INFO : sample=0.001 downsamples 38 most-common words\n",
      "2018-03-16 18:02:02,702 : INFO : downsampling leaves estimated 12506280 word corpus (74.8% of prior 16718844)\n",
      "2018-03-16 18:02:06,896 : INFO : estimated required memory for 71290 words, 306868 buckets and 50 dimensions: 142481400 bytes\n",
      "2018-03-16 18:02:06,905 : INFO : resetting layer weights\n",
      "2018-03-16 18:02:08,239 : INFO : Total number of ngrams is 306868\n",
      "2018-03-16 18:02:09,155 : INFO : training model with 8 workers on 71290 vocabulary and 50 features, using sg=0 hs=0 sample=0.001 negative=5 window=5\n",
      "2018-03-16 18:02:10,176 : INFO : EPOCH 1 - PROGRESS: at 2.59% examples, 320423 words/s, in_qsize 0, out_qsize 0\n",
      "2018-03-16 18:02:11,193 : INFO : EPOCH 1 - PROGRESS: at 5.29% examples, 324726 words/s, in_qsize 0, out_qsize 0\n",
      "2018-03-16 18:02:12,196 : INFO : EPOCH 1 - PROGRESS: at 8.11% examples, 331731 words/s, in_qsize 0, out_qsize 0\n",
      "2018-03-16 18:02:13,212 : INFO : EPOCH 1 - PROGRESS: at 10.93% examples, 334588 words/s, in_qsize 0, out_qsize 0\n",
      "2018-03-16 18:02:14,227 : INFO : EPOCH 1 - PROGRESS: at 13.64% examples, 334464 words/s, in_qsize 0, out_qsize 0\n",
      "2018-03-16 18:02:15,233 : INFO : EPOCH 1 - PROGRESS: at 16.34% examples, 334480 words/s, in_qsize 0, out_qsize 0\n",
      "2018-03-16 18:02:16,239 : INFO : EPOCH 1 - PROGRESS: at 18.99% examples, 333714 words/s, in_qsize 0, out_qsize 0\n",
      "2018-03-16 18:02:17,256 : INFO : EPOCH 1 - PROGRESS: at 21.69% examples, 333687 words/s, in_qsize 0, out_qsize 0\n",
      "2018-03-16 18:02:18,259 : INFO : EPOCH 1 - PROGRESS: at 24.28% examples, 332902 words/s, in_qsize 0, out_qsize 0\n",
      "2018-03-16 18:02:19,273 : INFO : EPOCH 1 - PROGRESS: at 26.87% examples, 331715 words/s, in_qsize 0, out_qsize 0\n",
      "2018-03-16 18:02:20,278 : INFO : EPOCH 1 - PROGRESS: at 29.45% examples, 331207 words/s, in_qsize 0, out_qsize 0\n",
      "2018-03-16 18:02:21,297 : INFO : EPOCH 1 - PROGRESS: at 32.10% examples, 330999 words/s, in_qsize 0, out_qsize 0\n",
      "2018-03-16 18:02:22,307 : INFO : EPOCH 1 - PROGRESS: at 34.80% examples, 331618 words/s, in_qsize 0, out_qsize 0\n",
      "2018-03-16 18:02:23,329 : INFO : EPOCH 1 - PROGRESS: at 37.45% examples, 331185 words/s, in_qsize 0, out_qsize 0\n",
      "2018-03-16 18:02:24,348 : INFO : EPOCH 1 - PROGRESS: at 40.15% examples, 331294 words/s, in_qsize 0, out_qsize 0\n",
      "2018-03-16 18:02:25,363 : INFO : EPOCH 1 - PROGRESS: at 42.86% examples, 331579 words/s, in_qsize 0, out_qsize 0\n",
      "2018-03-16 18:02:26,370 : INFO : EPOCH 1 - PROGRESS: at 45.44% examples, 330996 words/s, in_qsize 0, out_qsize 0\n",
      "2018-03-16 18:02:27,370 : INFO : EPOCH 1 - PROGRESS: at 47.97% examples, 330259 words/s, in_qsize 0, out_qsize 0\n",
      "2018-03-16 18:02:28,382 : INFO : EPOCH 1 - PROGRESS: at 50.68% examples, 330601 words/s, in_qsize 0, out_qsize 0\n",
      "2018-03-16 18:02:29,393 : INFO : EPOCH 1 - PROGRESS: at 53.44% examples, 331193 words/s, in_qsize 0, out_qsize 0\n",
      "2018-03-16 18:02:30,397 : INFO : EPOCH 1 - PROGRESS: at 56.08% examples, 331279 words/s, in_qsize 0, out_qsize 0\n",
      "2018-03-16 18:02:31,419 : INFO : EPOCH 1 - PROGRESS: at 58.79% examples, 331217 words/s, in_qsize 0, out_qsize 0\n",
      "2018-03-16 18:02:32,440 : INFO : EPOCH 1 - PROGRESS: at 61.43% examples, 330999 words/s, in_qsize 0, out_qsize 0\n",
      "2018-03-16 18:02:33,453 : INFO : EPOCH 1 - PROGRESS: at 64.14% examples, 331140 words/s, in_qsize 0, out_qsize 0\n",
      "2018-03-16 18:02:34,466 : INFO : EPOCH 1 - PROGRESS: at 66.78% examples, 330967 words/s, in_qsize 0, out_qsize 0\n",
      "2018-03-16 18:02:35,471 : INFO : EPOCH 1 - PROGRESS: at 69.49% examples, 331243 words/s, in_qsize 0, out_qsize 0\n",
      "2018-03-16 18:02:36,485 : INFO : EPOCH 1 - PROGRESS: at 72.19% examples, 331383 words/s, in_qsize 0, out_qsize 0\n",
      "2018-03-16 18:02:37,493 : INFO : EPOCH 1 - PROGRESS: at 74.78% examples, 331080 words/s, in_qsize 0, out_qsize 0\n",
      "2018-03-16 18:02:38,502 : INFO : EPOCH 1 - PROGRESS: at 77.54% examples, 330902 words/s, in_qsize 0, out_qsize 0\n",
      "2018-03-16 18:02:39,508 : INFO : EPOCH 1 - PROGRESS: at 80.25% examples, 331021 words/s, in_qsize 0, out_qsize 0\n",
      "2018-03-16 18:02:40,522 : INFO : EPOCH 1 - PROGRESS: at 82.95% examples, 331040 words/s, in_qsize 0, out_qsize 0\n",
      "2018-03-16 18:02:41,535 : INFO : EPOCH 1 - PROGRESS: at 85.66% examples, 331193 words/s, in_qsize 0, out_qsize 0\n",
      "2018-03-16 18:02:42,539 : INFO : EPOCH 1 - PROGRESS: at 88.42% examples, 331582 words/s, in_qsize 0, out_qsize 0\n",
      "2018-03-16 18:02:43,573 : INFO : EPOCH 1 - PROGRESS: at 91.06% examples, 331248 words/s, in_qsize 0, out_qsize 0\n",
      "2018-03-16 18:02:44,590 : INFO : EPOCH 1 - PROGRESS: at 93.83% examples, 331362 words/s, in_qsize 0, out_qsize 0\n",
      "2018-03-16 18:02:45,597 : INFO : EPOCH 1 - PROGRESS: at 96.47% examples, 331299 words/s, in_qsize 0, out_qsize 0\n",
      "2018-03-16 18:02:46,609 : INFO : EPOCH 1 - PROGRESS: at 99.18% examples, 331293 words/s, in_qsize 0, out_qsize 0\n",
      "2018-03-16 18:02:46,858 : INFO : worker thread finished; awaiting finish of 7 more threads\n",
      "2018-03-16 18:02:46,870 : INFO : worker thread finished; awaiting finish of 6 more threads\n",
      "2018-03-16 18:02:46,871 : INFO : worker thread finished; awaiting finish of 5 more threads\n",
      "2018-03-16 18:02:46,871 : INFO : worker thread finished; awaiting finish of 4 more threads\n",
      "2018-03-16 18:02:46,872 : INFO : worker thread finished; awaiting finish of 3 more threads\n",
      "2018-03-16 18:02:46,872 : INFO : worker thread finished; awaiting finish of 2 more threads\n",
      "2018-03-16 18:02:46,888 : INFO : worker thread finished; awaiting finish of 1 more threads\n",
      "2018-03-16 18:02:46,892 : INFO : worker thread finished; awaiting finish of 0 more threads\n",
      "2018-03-16 18:02:46,892 : INFO : EPOCH - 1 : training on 17005207 raw words (12508319 effective words) took 37.7s, 331491 effective words/s\n",
      "2018-03-16 18:02:47,914 : INFO : EPOCH 2 - PROGRESS: at 2.53% examples, 312590 words/s, in_qsize 0, out_qsize 0\n",
      "2018-03-16 18:02:48,932 : INFO : EPOCH 2 - PROGRESS: at 5.23% examples, 321009 words/s, in_qsize 0, out_qsize 0\n",
      "2018-03-16 18:02:49,947 : INFO : EPOCH 2 - PROGRESS: at 7.94% examples, 322938 words/s, in_qsize 0, out_qsize 0\n",
      "2018-03-16 18:02:50,953 : INFO : EPOCH 2 - PROGRESS: at 10.64% examples, 325582 words/s, in_qsize 0, out_qsize 0\n",
      "2018-03-16 18:02:51,960 : INFO : EPOCH 2 - PROGRESS: at 13.40% examples, 328857 words/s, in_qsize 0, out_qsize 0\n",
      "2018-03-16 18:02:52,964 : INFO : EPOCH 2 - PROGRESS: at 16.11% examples, 330018 words/s, in_qsize 0, out_qsize 0\n",
      "2018-03-16 18:02:53,976 : INFO : EPOCH 2 - PROGRESS: at 18.81% examples, 330677 words/s, in_qsize 0, out_qsize 0\n",
      "2018-03-16 18:02:54,999 : INFO : EPOCH 2 - PROGRESS: at 21.46% examples, 329785 words/s, in_qsize 0, out_qsize 0\n",
      "2018-03-16 18:02:56,011 : INFO : EPOCH 2 - PROGRESS: at 24.04% examples, 329132 words/s, in_qsize 0, out_qsize 0\n",
      "2018-03-16 18:02:57,015 : INFO : EPOCH 2 - PROGRESS: at 26.69% examples, 329336 words/s, in_qsize 0, out_qsize 0\n",
      "2018-03-16 18:02:58,029 : INFO : EPOCH 2 - PROGRESS: at 29.34% examples, 329394 words/s, in_qsize 0, out_qsize 0\n",
      "2018-03-16 18:02:59,048 : INFO : EPOCH 2 - PROGRESS: at 31.92% examples, 328783 words/s, in_qsize 0, out_qsize 0\n",
      "2018-03-16 18:03:00,068 : INFO : EPOCH 2 - PROGRESS: at 34.57% examples, 328804 words/s, in_qsize 0, out_qsize 0\n",
      "2018-03-16 18:03:01,082 : INFO : EPOCH 2 - PROGRESS: at 37.27% examples, 329306 words/s, in_qsize 0, out_qsize 0\n",
      "2018-03-16 18:03:02,098 : INFO : EPOCH 2 - PROGRESS: at 40.04% examples, 330064 words/s, in_qsize 0, out_qsize 0\n",
      "2018-03-16 18:03:03,106 : INFO : EPOCH 2 - PROGRESS: at 42.68% examples, 330080 words/s, in_qsize 0, out_qsize 0\n"
     ]
    },
    {
     "name": "stderr",
     "output_type": "stream",
     "text": [
      "2018-03-16 18:03:04,107 : INFO : EPOCH 2 - PROGRESS: at 45.33% examples, 330145 words/s, in_qsize 0, out_qsize 0\n",
      "2018-03-16 18:03:05,115 : INFO : EPOCH 2 - PROGRESS: at 48.03% examples, 330541 words/s, in_qsize 0, out_qsize 0\n",
      "2018-03-16 18:03:06,135 : INFO : EPOCH 2 - PROGRESS: at 50.73% examples, 330719 words/s, in_qsize 0, out_qsize 0\n",
      "2018-03-16 18:03:07,142 : INFO : EPOCH 2 - PROGRESS: at 53.38% examples, 330614 words/s, in_qsize 0, out_qsize 0\n",
      "2018-03-16 18:03:08,148 : INFO : EPOCH 2 - PROGRESS: at 55.97% examples, 330330 words/s, in_qsize 0, out_qsize 0\n",
      "2018-03-16 18:03:09,156 : INFO : EPOCH 2 - PROGRESS: at 58.61% examples, 330214 words/s, in_qsize 0, out_qsize 0\n",
      "2018-03-16 18:03:10,162 : INFO : EPOCH 2 - PROGRESS: at 61.26% examples, 330262 words/s, in_qsize 0, out_qsize 0\n",
      "2018-03-16 18:03:11,164 : INFO : EPOCH 2 - PROGRESS: at 63.90% examples, 330292 words/s, in_qsize 0, out_qsize 0\n",
      "2018-03-16 18:03:12,167 : INFO : EPOCH 2 - PROGRESS: at 66.55% examples, 330253 words/s, in_qsize 0, out_qsize 0\n",
      "2018-03-16 18:03:13,180 : INFO : EPOCH 2 - PROGRESS: at 69.25% examples, 330466 words/s, in_qsize 0, out_qsize 0\n",
      "2018-03-16 18:03:14,192 : INFO : EPOCH 2 - PROGRESS: at 71.90% examples, 330356 words/s, in_qsize 0, out_qsize 0\n",
      "2018-03-16 18:03:15,194 : INFO : EPOCH 2 - PROGRESS: at 74.49% examples, 330175 words/s, in_qsize 0, out_qsize 0\n",
      "2018-03-16 18:03:16,197 : INFO : EPOCH 2 - PROGRESS: at 77.31% examples, 330366 words/s, in_qsize 0, out_qsize 0\n",
      "2018-03-16 18:03:17,212 : INFO : EPOCH 2 - PROGRESS: at 80.01% examples, 330391 words/s, in_qsize 0, out_qsize 0\n",
      "2018-03-16 18:03:18,232 : INFO : EPOCH 2 - PROGRESS: at 82.77% examples, 330597 words/s, in_qsize 0, out_qsize 0\n",
      "2018-03-16 18:03:19,250 : INFO : EPOCH 2 - PROGRESS: at 85.48% examples, 330668 words/s, in_qsize 0, out_qsize 0\n",
      "2018-03-16 18:03:20,265 : INFO : EPOCH 2 - PROGRESS: at 88.24% examples, 330970 words/s, in_qsize 0, out_qsize 0\n",
      "2018-03-16 18:03:21,275 : INFO : EPOCH 2 - PROGRESS: at 90.89% examples, 330910 words/s, in_qsize 0, out_qsize 0\n",
      "2018-03-16 18:03:22,278 : INFO : EPOCH 2 - PROGRESS: at 93.53% examples, 330767 words/s, in_qsize 0, out_qsize 0\n",
      "2018-03-16 18:03:23,294 : INFO : EPOCH 2 - PROGRESS: at 96.18% examples, 330632 words/s, in_qsize 0, out_qsize 0\n",
      "2018-03-16 18:03:24,296 : INFO : EPOCH 2 - PROGRESS: at 98.82% examples, 330483 words/s, in_qsize 0, out_qsize 0\n",
      "2018-03-16 18:03:24,678 : INFO : worker thread finished; awaiting finish of 7 more threads\n",
      "2018-03-16 18:03:24,697 : INFO : worker thread finished; awaiting finish of 6 more threads\n",
      "2018-03-16 18:03:24,698 : INFO : worker thread finished; awaiting finish of 5 more threads\n",
      "2018-03-16 18:03:24,698 : INFO : worker thread finished; awaiting finish of 4 more threads\n",
      "2018-03-16 18:03:24,698 : INFO : worker thread finished; awaiting finish of 3 more threads\n",
      "2018-03-16 18:03:24,699 : INFO : worker thread finished; awaiting finish of 2 more threads\n",
      "2018-03-16 18:03:24,717 : INFO : worker thread finished; awaiting finish of 1 more threads\n",
      "2018-03-16 18:03:24,720 : INFO : worker thread finished; awaiting finish of 0 more threads\n",
      "2018-03-16 18:03:24,721 : INFO : EPOCH - 2 : training on 17005207 raw words (12506772 effective words) took 37.8s, 330639 effective words/s\n",
      "2018-03-16 18:03:25,724 : INFO : EPOCH 3 - PROGRESS: at 2.53% examples, 317955 words/s, in_qsize 0, out_qsize 0\n",
      "2018-03-16 18:03:26,735 : INFO : EPOCH 3 - PROGRESS: at 5.23% examples, 325130 words/s, in_qsize 0, out_qsize 0\n",
      "2018-03-16 18:03:27,735 : INFO : EPOCH 3 - PROGRESS: at 7.88% examples, 324726 words/s, in_qsize 0, out_qsize 0\n",
      "2018-03-16 18:03:28,752 : INFO : EPOCH 3 - PROGRESS: at 10.58% examples, 326127 words/s, in_qsize 0, out_qsize 0\n",
      "2018-03-16 18:03:29,763 : INFO : EPOCH 3 - PROGRESS: at 13.23% examples, 326070 words/s, in_qsize 0, out_qsize 0\n",
      "2018-03-16 18:03:30,784 : INFO : EPOCH 3 - PROGRESS: at 15.99% examples, 327993 words/s, in_qsize 0, out_qsize 0\n",
      "2018-03-16 18:03:31,804 : INFO : EPOCH 3 - PROGRESS: at 18.75% examples, 329602 words/s, in_qsize 0, out_qsize 0\n",
      "2018-03-16 18:03:32,826 : INFO : EPOCH 3 - PROGRESS: at 21.52% examples, 330688 words/s, in_qsize 0, out_qsize 0\n",
      "2018-03-16 18:03:33,850 : INFO : EPOCH 3 - PROGRESS: at 24.16% examples, 330311 words/s, in_qsize 0, out_qsize 0\n",
      "2018-03-16 18:03:34,872 : INFO : EPOCH 3 - PROGRESS: at 26.81% examples, 329818 words/s, in_qsize 0, out_qsize 0\n",
      "2018-03-16 18:03:35,879 : INFO : EPOCH 3 - PROGRESS: at 29.45% examples, 330056 words/s, in_qsize 0, out_qsize 0\n",
      "2018-03-16 18:03:36,894 : INFO : EPOCH 3 - PROGRESS: at 32.16% examples, 330708 words/s, in_qsize 0, out_qsize 0\n",
      "2018-03-16 18:03:37,913 : INFO : EPOCH 3 - PROGRESS: at 34.80% examples, 330564 words/s, in_qsize 0, out_qsize 0\n",
      "2018-03-16 18:03:38,926 : INFO : EPOCH 3 - PROGRESS: at 37.51% examples, 330900 words/s, in_qsize 0, out_qsize 0\n",
      "2018-03-16 18:03:39,927 : INFO : EPOCH 3 - PROGRESS: at 40.27% examples, 331858 words/s, in_qsize 0, out_qsize 0\n",
      "2018-03-16 18:03:40,933 : INFO : EPOCH 3 - PROGRESS: at 42.92% examples, 331834 words/s, in_qsize 0, out_qsize 0\n",
      "2018-03-16 18:03:41,935 : INFO : EPOCH 3 - PROGRESS: at 45.50% examples, 331336 words/s, in_qsize 0, out_qsize 0\n",
      "2018-03-16 18:03:42,953 : INFO : EPOCH 3 - PROGRESS: at 48.15% examples, 331116 words/s, in_qsize 0, out_qsize 0\n",
      "2018-03-16 18:03:43,956 : INFO : EPOCH 3 - PROGRESS: at 50.79% examples, 331175 words/s, in_qsize 0, out_qsize 0\n",
      "2018-03-16 18:03:44,974 : INFO : EPOCH 3 - PROGRESS: at 53.50% examples, 331233 words/s, in_qsize 0, out_qsize 0\n",
      "2018-03-16 18:03:45,978 : INFO : EPOCH 3 - PROGRESS: at 56.08% examples, 330962 words/s, in_qsize 0, out_qsize 0\n",
      "2018-03-16 18:03:46,983 : INFO : EPOCH 3 - PROGRESS: at 58.73% examples, 330843 words/s, in_qsize 0, out_qsize 0\n",
      "2018-03-16 18:03:47,997 : INFO : EPOCH 3 - PROGRESS: at 61.43% examples, 331065 words/s, in_qsize 0, out_qsize 0\n",
      "2018-03-16 18:03:49,008 : INFO : EPOCH 3 - PROGRESS: at 64.08% examples, 330914 words/s, in_qsize 0, out_qsize 0\n",
      "2018-03-16 18:03:50,037 : INFO : EPOCH 3 - PROGRESS: at 66.78% examples, 330814 words/s, in_qsize 0, out_qsize 0\n",
      "2018-03-16 18:03:51,055 : INFO : EPOCH 3 - PROGRESS: at 69.43% examples, 330648 words/s, in_qsize 0, out_qsize 0\n",
      "2018-03-16 18:03:52,068 : INFO : EPOCH 3 - PROGRESS: at 72.13% examples, 330804 words/s, in_qsize 0, out_qsize 0\n",
      "2018-03-16 18:03:53,070 : INFO : EPOCH 3 - PROGRESS: at 74.84% examples, 331088 words/s, in_qsize 0, out_qsize 0\n",
      "2018-03-16 18:03:54,085 : INFO : EPOCH 3 - PROGRESS: at 77.54% examples, 330621 words/s, in_qsize 0, out_qsize 0\n",
      "2018-03-16 18:03:55,090 : INFO : EPOCH 3 - PROGRESS: at 80.25% examples, 330752 words/s, in_qsize 0, out_qsize 0\n",
      "2018-03-16 18:03:56,096 : INFO : EPOCH 3 - PROGRESS: at 82.89% examples, 330630 words/s, in_qsize 0, out_qsize 0\n",
      "2018-03-16 18:03:57,098 : INFO : EPOCH 3 - PROGRESS: at 85.48% examples, 330438 words/s, in_qsize 0, out_qsize 0\n",
      "2018-03-16 18:03:58,124 : INFO : EPOCH 3 - PROGRESS: at 88.18% examples, 330384 words/s, in_qsize 0, out_qsize 0\n",
      "2018-03-16 18:03:59,131 : INFO : EPOCH 3 - PROGRESS: at 90.83% examples, 330380 words/s, in_qsize 0, out_qsize 0\n",
      "2018-03-16 18:04:00,139 : INFO : EPOCH 3 - PROGRESS: at 93.53% examples, 330419 words/s, in_qsize 0, out_qsize 0\n",
      "2018-03-16 18:04:01,153 : INFO : EPOCH 3 - PROGRESS: at 96.24% examples, 330515 words/s, in_qsize 0, out_qsize 0\n",
      "2018-03-16 18:04:02,172 : INFO : EPOCH 3 - PROGRESS: at 98.94% examples, 330445 words/s, in_qsize 0, out_qsize 0\n",
      "2018-03-16 18:04:02,537 : INFO : worker thread finished; awaiting finish of 7 more threads\n",
      "2018-03-16 18:04:02,555 : INFO : worker thread finished; awaiting finish of 6 more threads\n",
      "2018-03-16 18:04:02,555 : INFO : worker thread finished; awaiting finish of 5 more threads\n",
      "2018-03-16 18:04:02,556 : INFO : worker thread finished; awaiting finish of 4 more threads\n",
      "2018-03-16 18:04:02,556 : INFO : worker thread finished; awaiting finish of 3 more threads\n",
      "2018-03-16 18:04:02,556 : INFO : worker thread finished; awaiting finish of 2 more threads\n",
      "2018-03-16 18:04:02,575 : INFO : worker thread finished; awaiting finish of 1 more threads\n",
      "2018-03-16 18:04:02,579 : INFO : worker thread finished; awaiting finish of 0 more threads\n",
      "2018-03-16 18:04:02,580 : INFO : EPOCH - 3 : training on 17005207 raw words (12505788 effective words) took 37.9s, 330342 effective words/s\n"
     ]
    },
    {
     "name": "stderr",
     "output_type": "stream",
     "text": [
      "2018-03-16 18:04:03,590 : INFO : EPOCH 4 - PROGRESS: at 2.47% examples, 308923 words/s, in_qsize 0, out_qsize 0\n",
      "2018-03-16 18:04:04,595 : INFO : EPOCH 4 - PROGRESS: at 5.11% examples, 317732 words/s, in_qsize 0, out_qsize 0\n",
      "2018-03-16 18:04:05,604 : INFO : EPOCH 4 - PROGRESS: at 7.76% examples, 318805 words/s, in_qsize 0, out_qsize 0\n",
      "2018-03-16 18:04:06,606 : INFO : EPOCH 4 - PROGRESS: at 10.46% examples, 322931 words/s, in_qsize 0, out_qsize 0\n",
      "2018-03-16 18:04:07,608 : INFO : EPOCH 4 - PROGRESS: at 13.17% examples, 325656 words/s, in_qsize 0, out_qsize 0\n",
      "2018-03-16 18:04:08,618 : INFO : EPOCH 4 - PROGRESS: at 15.81% examples, 325833 words/s, in_qsize 0, out_qsize 0\n",
      "2018-03-16 18:04:09,638 : INFO : EPOCH 4 - PROGRESS: at 18.52% examples, 326766 words/s, in_qsize 0, out_qsize 0\n",
      "2018-03-16 18:04:10,646 : INFO : EPOCH 4 - PROGRESS: at 21.22% examples, 327859 words/s, in_qsize 0, out_qsize 0\n",
      "2018-03-16 18:04:11,667 : INFO : EPOCH 4 - PROGRESS: at 23.87% examples, 327915 words/s, in_qsize 0, out_qsize 0\n",
      "2018-03-16 18:04:12,686 : INFO : EPOCH 4 - PROGRESS: at 26.57% examples, 328405 words/s, in_qsize 0, out_qsize 0\n",
      "2018-03-16 18:04:13,704 : INFO : EPOCH 4 - PROGRESS: at 29.28% examples, 329148 words/s, in_qsize 0, out_qsize 0\n",
      "2018-03-16 18:04:14,707 : INFO : EPOCH 4 - PROGRESS: at 31.86% examples, 328984 words/s, in_qsize 0, out_qsize 0\n",
      "2018-03-16 18:04:15,733 : INFO : EPOCH 4 - PROGRESS: at 34.45% examples, 328253 words/s, in_qsize 0, out_qsize 0\n",
      "2018-03-16 18:04:16,739 : INFO : EPOCH 4 - PROGRESS: at 37.10% examples, 328475 words/s, in_qsize 0, out_qsize 0\n",
      "2018-03-16 18:04:17,757 : INFO : EPOCH 4 - PROGRESS: at 39.80% examples, 328763 words/s, in_qsize 0, out_qsize 0\n",
      "2018-03-16 18:04:18,774 : INFO : EPOCH 4 - PROGRESS: at 42.56% examples, 329558 words/s, in_qsize 0, out_qsize 0\n",
      "2018-03-16 18:04:19,794 : INFO : EPOCH 4 - PROGRESS: at 45.21% examples, 329268 words/s, in_qsize 0, out_qsize 0\n",
      "2018-03-16 18:04:20,808 : INFO : EPOCH 4 - PROGRESS: at 47.85% examples, 329201 words/s, in_qsize 0, out_qsize 0\n",
      "2018-03-16 18:04:21,821 : INFO : EPOCH 4 - PROGRESS: at 50.50% examples, 329173 words/s, in_qsize 0, out_qsize 0\n",
      "2018-03-16 18:04:22,825 : INFO : EPOCH 4 - PROGRESS: at 53.15% examples, 329202 words/s, in_qsize 0, out_qsize 0\n",
      "2018-03-16 18:04:23,841 : INFO : EPOCH 4 - PROGRESS: at 55.85% examples, 329530 words/s, in_qsize 0, out_qsize 0\n",
      "2018-03-16 18:04:24,845 : INFO : EPOCH 4 - PROGRESS: at 58.55% examples, 329812 words/s, in_qsize 0, out_qsize 0\n",
      "2018-03-16 18:04:25,865 : INFO : EPOCH 4 - PROGRESS: at 61.20% examples, 329679 words/s, in_qsize 0, out_qsize 0\n",
      "2018-03-16 18:04:26,873 : INFO : EPOCH 4 - PROGRESS: at 63.84% examples, 329665 words/s, in_qsize 0, out_qsize 0\n",
      "2018-03-16 18:04:27,885 : INFO : EPOCH 4 - PROGRESS: at 66.61% examples, 330118 words/s, in_qsize 0, out_qsize 0\n",
      "2018-03-16 18:04:28,897 : INFO : EPOCH 4 - PROGRESS: at 69.25% examples, 330065 words/s, in_qsize 0, out_qsize 0\n",
      "2018-03-16 18:04:29,916 : INFO : EPOCH 4 - PROGRESS: at 71.90% examples, 329875 words/s, in_qsize 0, out_qsize 0\n",
      "2018-03-16 18:04:30,925 : INFO : EPOCH 4 - PROGRESS: at 74.49% examples, 329644 words/s, in_qsize 0, out_qsize 0\n",
      "2018-03-16 18:04:31,938 : INFO : EPOCH 4 - PROGRESS: at 77.37% examples, 329986 words/s, in_qsize 0, out_qsize 0\n",
      "2018-03-16 18:04:32,940 : INFO : EPOCH 4 - PROGRESS: at 80.07% examples, 330160 words/s, in_qsize 0, out_qsize 0\n",
      "2018-03-16 18:04:33,946 : INFO : EPOCH 4 - PROGRESS: at 82.60% examples, 329588 words/s, in_qsize 0, out_qsize 0\n",
      "2018-03-16 18:04:34,965 : INFO : EPOCH 4 - PROGRESS: at 85.24% examples, 329445 words/s, in_qsize 0, out_qsize 0\n",
      "2018-03-16 18:04:35,976 : INFO : EPOCH 4 - PROGRESS: at 87.95% examples, 329582 words/s, in_qsize 0, out_qsize 0\n",
      "2018-03-16 18:04:36,989 : INFO : EPOCH 4 - PROGRESS: at 90.53% examples, 329367 words/s, in_qsize 0, out_qsize 0\n",
      "2018-03-16 18:04:37,994 : INFO : EPOCH 4 - PROGRESS: at 93.24% examples, 329455 words/s, in_qsize 0, out_qsize 0\n",
      "2018-03-16 18:04:39,031 : INFO : EPOCH 4 - PROGRESS: at 96.00% examples, 329536 words/s, in_qsize 0, out_qsize 0\n",
      "2018-03-16 18:04:40,042 : INFO : EPOCH 4 - PROGRESS: at 98.77% examples, 329733 words/s, in_qsize 0, out_qsize 0\n",
      "2018-03-16 18:04:40,450 : INFO : worker thread finished; awaiting finish of 7 more threads\n",
      "2018-03-16 18:04:40,462 : INFO : worker thread finished; awaiting finish of 6 more threads\n",
      "2018-03-16 18:04:40,463 : INFO : worker thread finished; awaiting finish of 5 more threads\n",
      "2018-03-16 18:04:40,463 : INFO : worker thread finished; awaiting finish of 4 more threads\n",
      "2018-03-16 18:04:40,464 : INFO : worker thread finished; awaiting finish of 3 more threads\n",
      "2018-03-16 18:04:40,465 : INFO : worker thread finished; awaiting finish of 2 more threads\n",
      "2018-03-16 18:04:40,480 : INFO : worker thread finished; awaiting finish of 1 more threads\n",
      "2018-03-16 18:04:40,486 : INFO : worker thread finished; awaiting finish of 0 more threads\n",
      "2018-03-16 18:04:40,487 : INFO : EPOCH - 4 : training on 17005207 raw words (12505202 effective words) took 37.9s, 329912 effective words/s\n",
      "2018-03-16 18:04:41,514 : INFO : EPOCH 5 - PROGRESS: at 2.53% examples, 310732 words/s, in_qsize 0, out_qsize 0\n",
      "2018-03-16 18:04:42,529 : INFO : EPOCH 5 - PROGRESS: at 5.23% examples, 320605 words/s, in_qsize 0, out_qsize 0\n",
      "2018-03-16 18:04:43,544 : INFO : EPOCH 5 - PROGRESS: at 8.05% examples, 327438 words/s, in_qsize 0, out_qsize 0\n",
      "2018-03-16 18:04:44,561 : INFO : EPOCH 5 - PROGRESS: at 10.88% examples, 331301 words/s, in_qsize 0, out_qsize 0\n",
      "2018-03-16 18:04:45,563 : INFO : EPOCH 5 - PROGRESS: at 13.52% examples, 331174 words/s, in_qsize 0, out_qsize 0\n",
      "2018-03-16 18:04:46,584 : INFO : EPOCH 5 - PROGRESS: at 16.28% examples, 332086 words/s, in_qsize 0, out_qsize 0\n",
      "2018-03-16 18:04:47,586 : INFO : EPOCH 5 - PROGRESS: at 18.93% examples, 331853 words/s, in_qsize 0, out_qsize 0\n",
      "2018-03-16 18:04:48,596 : INFO : EPOCH 5 - PROGRESS: at 21.58% examples, 331377 words/s, in_qsize 0, out_qsize 0\n",
      "2018-03-16 18:04:49,607 : INFO : EPOCH 5 - PROGRESS: at 24.16% examples, 330592 words/s, in_qsize 0, out_qsize 0\n",
      "2018-03-16 18:04:50,624 : INFO : EPOCH 5 - PROGRESS: at 26.87% examples, 330994 words/s, in_qsize 0, out_qsize 0\n",
      "2018-03-16 18:04:51,626 : INFO : EPOCH 5 - PROGRESS: at 29.51% examples, 331288 words/s, in_qsize 0, out_qsize 0\n",
      "2018-03-16 18:04:52,645 : INFO : EPOCH 5 - PROGRESS: at 32.28% examples, 332284 words/s, in_qsize 0, out_qsize 0\n",
      "2018-03-16 18:04:53,654 : INFO : EPOCH 5 - PROGRESS: at 34.98% examples, 332858 words/s, in_qsize 0, out_qsize 0\n",
      "2018-03-16 18:04:54,656 : INFO : EPOCH 5 - PROGRESS: at 37.51% examples, 331740 words/s, in_qsize 0, out_qsize 0\n",
      "2018-03-16 18:04:55,674 : INFO : EPOCH 5 - PROGRESS: at 40.21% examples, 331837 words/s, in_qsize 0, out_qsize 0\n",
      "2018-03-16 18:04:56,680 : INFO : EPOCH 5 - PROGRESS: at 42.80% examples, 331326 words/s, in_qsize 0, out_qsize 0\n",
      "2018-03-16 18:04:57,692 : INFO : EPOCH 5 - PROGRESS: at 45.33% examples, 330237 words/s, in_qsize 0, out_qsize 0\n",
      "2018-03-16 18:04:58,712 : INFO : EPOCH 5 - PROGRESS: at 48.03% examples, 330417 words/s, in_qsize 0, out_qsize 0\n",
      "2018-03-16 18:04:59,714 : INFO : EPOCH 5 - PROGRESS: at 50.68% examples, 330543 words/s, in_qsize 0, out_qsize 0\n",
      "2018-03-16 18:05:00,717 : INFO : EPOCH 5 - PROGRESS: at 53.26% examples, 330178 words/s, in_qsize 0, out_qsize 0\n",
      "2018-03-16 18:05:01,726 : INFO : EPOCH 5 - PROGRESS: at 55.91% examples, 330227 words/s, in_qsize 0, out_qsize 0\n",
      "2018-03-16 18:05:02,727 : INFO : EPOCH 5 - PROGRESS: at 58.61% examples, 330543 words/s, in_qsize 0, out_qsize 0\n",
      "2018-03-16 18:05:03,747 : INFO : EPOCH 5 - PROGRESS: at 61.26% examples, 330372 words/s, in_qsize 0, out_qsize 0\n",
      "2018-03-16 18:05:04,758 : INFO : EPOCH 5 - PROGRESS: at 63.96% examples, 330580 words/s, in_qsize 0, out_qsize 0\n",
      "2018-03-16 18:05:05,772 : INFO : EPOCH 5 - PROGRESS: at 66.61% examples, 330367 words/s, in_qsize 0, out_qsize 0\n",
      "2018-03-16 18:05:06,793 : INFO : EPOCH 5 - PROGRESS: at 69.25% examples, 330203 words/s, in_qsize 0, out_qsize 0\n",
      "2018-03-16 18:05:07,814 : INFO : EPOCH 5 - PROGRESS: at 71.96% examples, 330243 words/s, in_qsize 0, out_qsize 0\n",
      "2018-03-16 18:05:08,832 : INFO : EPOCH 5 - PROGRESS: at 74.66% examples, 330399 words/s, in_qsize 0, out_qsize 0\n"
     ]
    },
    {
     "name": "stderr",
     "output_type": "stream",
     "text": [
      "2018-03-16 18:05:09,833 : INFO : EPOCH 5 - PROGRESS: at 77.43% examples, 330363 words/s, in_qsize 0, out_qsize 0\n",
      "2018-03-16 18:05:10,844 : INFO : EPOCH 5 - PROGRESS: at 80.19% examples, 330667 words/s, in_qsize 0, out_qsize 0\n",
      "2018-03-16 18:05:11,853 : INFO : EPOCH 5 - PROGRESS: at 82.89% examples, 330739 words/s, in_qsize 0, out_qsize 0\n",
      "2018-03-16 18:05:12,871 : INFO : EPOCH 5 - PROGRESS: at 85.54% examples, 330596 words/s, in_qsize 0, out_qsize 0\n",
      "2018-03-16 18:05:13,880 : INFO : EPOCH 5 - PROGRESS: at 88.24% examples, 330720 words/s, in_qsize 0, out_qsize 0\n",
      "2018-03-16 18:05:14,888 : INFO : EPOCH 5 - PROGRESS: at 90.89% examples, 330675 words/s, in_qsize 0, out_qsize 0\n",
      "2018-03-16 18:05:15,890 : INFO : EPOCH 5 - PROGRESS: at 93.53% examples, 330542 words/s, in_qsize 0, out_qsize 0\n",
      "2018-03-16 18:05:16,899 : INFO : EPOCH 5 - PROGRESS: at 96.30% examples, 330864 words/s, in_qsize 0, out_qsize 0\n",
      "2018-03-16 18:05:17,912 : INFO : EPOCH 5 - PROGRESS: at 99.06% examples, 331039 words/s, in_qsize 0, out_qsize 0\n",
      "2018-03-16 18:05:18,207 : INFO : worker thread finished; awaiting finish of 7 more threads\n",
      "2018-03-16 18:05:18,219 : INFO : worker thread finished; awaiting finish of 6 more threads\n",
      "2018-03-16 18:05:18,220 : INFO : worker thread finished; awaiting finish of 5 more threads\n",
      "2018-03-16 18:05:18,220 : INFO : worker thread finished; awaiting finish of 4 more threads\n",
      "2018-03-16 18:05:18,221 : INFO : worker thread finished; awaiting finish of 3 more threads\n",
      "2018-03-16 18:05:18,221 : INFO : worker thread finished; awaiting finish of 2 more threads\n",
      "2018-03-16 18:05:18,237 : INFO : worker thread finished; awaiting finish of 1 more threads\n",
      "2018-03-16 18:05:18,241 : INFO : worker thread finished; awaiting finish of 0 more threads\n",
      "2018-03-16 18:05:18,241 : INFO : EPOCH - 5 : training on 17005207 raw words (12504458 effective words) took 37.8s, 331224 effective words/s\n",
      "2018-03-16 18:05:18,242 : INFO : training on a 85026035 raw words (62530539 effective words) took 189.1s, 330699 effective words/s\n"
     ]
    },
    {
     "name": "stdout",
     "output_type": "stream",
     "text": [
      "CPU times: user 7min 55s, sys: 792 ms, total: 7min 56s\n",
      "Wall time: 3min 21s\n"
     ]
    }
   ],
   "source": [
    "%%time\n",
    "# train a `FasText` model on text8 corpus\n",
    "model_text8 = FastText(text8_corpus, size=50, iter=5, workers=multiprocessing.cpu_count())"
   ]
  },
  {
   "cell_type": "code",
   "execution_count": 8,
   "metadata": {
    "ExecuteTime": {
     "end_time": "2018-03-13T14:42:52.941043Z",
     "start_time": "2018-03-13T14:42:52.935211Z"
    }
   },
   "outputs": [
    {
     "name": "stdout",
     "output_type": "stream",
     "text": [
      "Vocabulary size: 71290\n",
      "Number of character ngram vectors: 306868\n",
      "Word embeddings matrix (enriched with sub-word information) shape: (71290, 50)\n",
      "Word embeddings matrix shape: (71290, 50)\n",
      "Character ngrams embeddings matrix shape: (306868, 50)\n"
     ]
    }
   ],
   "source": [
    "print('Vocabulary size: %d' % len(model_text8.wv.vocab))\n",
    "print('Number of character ngram vectors: %d' % model_text8.wv.num_ngram_vectors)\n",
    "print('Word embeddings matrix (enriched with sub-word information) shape: %s' % str(model_text8.wv.vectors.shape))\n",
    "print('Word embeddings matrix shape: %s' % str(model_text8.wv.vectors_vocab.shape))\n",
    "print('Character ngrams embeddings matrix shape: %s' % str(model_text8.wv.vectors_ngrams.shape))"
   ]
  },
  {
   "cell_type": "code",
   "execution_count": 9,
   "metadata": {
    "ExecuteTime": {
     "end_time": "2018-03-13T14:42:57.684729Z",
     "start_time": "2018-03-13T14:42:57.678715Z"
    }
   },
   "outputs": [
    {
     "name": "stdout",
     "output_type": "stream",
     "text": [
      "(50,)\n",
      "[-2.0393777e+00 -2.8581882e+00  2.9615505e+00 -9.7877985e-01\n",
      " -3.8802161e+00 -8.8847679e-01  3.0483403e+00 -2.7282963e+00\n",
      " -2.4614484e+00 -1.4614097e+00  1.2841483e+00 -6.9143003e-01\n",
      " -5.3423267e-02 -8.7003773e-01  1.7155259e+00 -2.8426635e+00\n",
      "  4.6885595e+00 -2.6297593e-01 -1.3536752e+00 -5.1508749e-01\n",
      " -3.5676370e+00 -2.5989435e+00 -4.6226163e+00 -1.3599348e+00\n",
      "  3.6850982e+00 -1.6002283e+00 -4.3084645e-01  2.0891464e+00\n",
      "  1.9049900e+00 -1.7213361e+00 -3.6866078e-01  5.0619764e+00\n",
      "  7.4098068e-01 -8.4964663e-01 -2.6734462e+00  4.0087705e+00\n",
      "  6.5677065e-01 -2.2645257e+00 -9.0384620e-01  3.0257204e+00\n",
      " -3.9950949e-03  7.9717487e-01  5.3211894e+00  1.6645195e+00\n",
      " -9.6946669e-01 -3.0503697e+00 -1.5650040e+00  1.5616430e+00\n",
      " -2.2396474e+00 -8.9467816e-02]\n",
      "[-2.0393777e+00 -2.8581882e+00  2.9615505e+00 -9.7877985e-01\n",
      " -3.8802161e+00 -8.8847679e-01  3.0483403e+00 -2.7282963e+00\n",
      " -2.4614484e+00 -1.4614097e+00  1.2841483e+00 -6.9143003e-01\n",
      " -5.3423267e-02 -8.7003773e-01  1.7155259e+00 -2.8426635e+00\n",
      "  4.6885595e+00 -2.6297593e-01 -1.3536752e+00 -5.1508749e-01\n",
      " -3.5676370e+00 -2.5989435e+00 -4.6226163e+00 -1.3599348e+00\n",
      "  3.6850982e+00 -1.6002283e+00 -4.3084645e-01  2.0891464e+00\n",
      "  1.9049900e+00 -1.7213361e+00 -3.6866078e-01  5.0619764e+00\n",
      "  7.4098068e-01 -8.4964663e-01 -2.6734462e+00  4.0087705e+00\n",
      "  6.5677065e-01 -2.2645257e+00 -9.0384620e-01  3.0257204e+00\n",
      " -3.9950949e-03  7.9717487e-01  5.3211894e+00  1.6645195e+00\n",
      " -9.6946669e-01 -3.0503697e+00 -1.5650040e+00  1.5616430e+00\n",
      " -2.2396474e+00 -8.9467816e-02]\n"
     ]
    }
   ],
   "source": [
    "# get an in-vocab word's vector\n",
    "print(model_text8.wv['cat'].shape)\n",
    "print(model_text8.wv['cat'])\n",
    "print(model_text8.wv.word_vec('cat', use_norm=False))"
   ]
  },
  {
   "cell_type": "code",
   "execution_count": 10,
   "metadata": {
    "ExecuteTime": {
     "end_time": "2018-03-13T14:43:03.657353Z",
     "start_time": "2018-03-13T14:43:03.649136Z"
    }
   },
   "outputs": [
    {
     "data": {
      "text/plain": [
       "array([-2.0264909e+00, -2.2376122e+00,  1.0348940e+00, -1.2243682e+00,\n",
       "       -2.7280340e+00, -3.6279455e-01,  1.3654044e+00, -7.1036452e-01,\n",
       "       -1.8739471e+00, -7.5159073e-01,  1.3055524e+00, -1.7166308e+00,\n",
       "       -2.9311562e-01, -5.5844812e-05,  1.6072632e-01, -1.3961310e+00,\n",
       "        3.4001768e+00,  5.5099364e-02, -3.6882219e-01, -4.3741339e-01,\n",
       "       -2.8066835e+00, -1.8946278e+00, -2.6743402e+00, -1.4515456e+00,\n",
       "        2.5340266e+00, -6.8539232e-01, -6.7706275e-01,  7.2869837e-01,\n",
       "        1.2682322e+00, -1.5962864e+00,  1.8885671e-01,  3.2583253e+00,\n",
       "        1.2463542e+00, -5.2369016e-01, -8.2357711e-01,  2.3633711e+00,\n",
       "        8.0159855e-01, -1.3674941e+00, -5.2810931e-01,  1.4976268e+00,\n",
       "       -1.7692111e-01, -4.5190400e-01,  3.5001357e+00,  1.1428747e+00,\n",
       "       -5.5562609e-01, -7.5430930e-01,  9.4020218e-02,  1.1946431e+00,\n",
       "       -2.5422812e+00,  3.8076183e-01], dtype=float32)"
      ]
     },
     "execution_count": 10,
     "metadata": {},
     "output_type": "execute_result"
    }
   ],
   "source": [
    "# get vector for an out-of-vocabulary word\n",
    "model_text8.wv['catdog']"
   ]
  },
  {
   "cell_type": "code",
   "execution_count": 11,
   "metadata": {},
   "outputs": [
    {
     "name": "stderr",
     "output_type": "stream",
     "text": [
      "2018-03-16 18:05:55,329 : INFO : precomputing L2-norms of word weight vectors\n",
      "2018-03-16 18:05:55,338 : INFO : precomputing L2-norms of ngram weight vectors\n"
     ]
    },
    {
     "data": {
      "text/plain": [
       "[('cat', 0.7719115018844604),\n",
       " ('grub', 0.7699938416481018),\n",
       " ('jjigae', 0.7306476831436157),\n",
       " ('rye', 0.726112425327301),\n",
       " ('cuyo', 0.7246506810188293),\n",
       " ('hotdog', 0.7239783406257629),\n",
       " ('qnx', 0.7199378609657288),\n",
       " ('bamboo', 0.7193440198898315),\n",
       " ('cuc', 0.7172972559928894),\n",
       " ('shrub', 0.7142845392227173)]"
      ]
     },
     "execution_count": 11,
     "metadata": {},
     "output_type": "execute_result"
    }
   ],
   "source": [
    "model_text8.wv.most_similar('catdog')"
   ]
  },
  {
   "cell_type": "code",
   "execution_count": 12,
   "metadata": {
    "ExecuteTime": {
     "end_time": "2018-03-13T14:43:05.666632Z",
     "start_time": "2018-03-13T14:43:05.247497Z"
    }
   },
   "outputs": [
    {
     "data": {
      "text/plain": [
       "[('midsummer', 0.948646068572998),\n",
       " ('winter', 0.8844784498214722),\n",
       " ('midwinter', 0.8575624227523804),\n",
       " ('summertime', 0.8520025014877319),\n",
       " ('summerson', 0.8276219964027405),\n",
       " ('winterthur', 0.8175298571586609),\n",
       " ('kummer', 0.8168879747390747),\n",
       " ('winterson', 0.8161854147911072),\n",
       " ('wintertime', 0.8079058527946472),\n",
       " ('fimbulwinter', 0.8065321445465088)]"
      ]
     },
     "execution_count": 12,
     "metadata": {},
     "output_type": "execute_result"
    }
   ],
   "source": [
    "# find the top-n most similar words\n",
    "# Compare the differences with `Word2Vec` model\n",
    "# [(u'winter', 0.8970272541046143),\n",
    "#  (u'spring', 0.8612320423126221),\n",
    "#  (u'autumn', 0.8402277827262878),\n",
    "#  (u'olympics', 0.7919313907623291),\n",
    "#  (u'nights', 0.7284520268440247)]\n",
    "model_text8.wv.most_similar('summer')"
   ]
  },
  {
   "cell_type": "markdown",
   "metadata": {},
   "source": [
    "**Online training** (on new corpus), **Saving/Loading** and other APIs are exactly the same as those for `Word2Vec` (Look at notebook for [part 1](https://github.com/RaRe-Technologies/talks/blob/master/2018-03-23_MLPrague-workshop/PragueML-Word2Vec.ipynb))."
   ]
  },
  {
   "cell_type": "markdown",
   "metadata": {},
   "source": [
    "## Comparison with `Word2Vec` embeddings\n",
    "Due to lack of time, it is not possible to train/run the comparisons between `Word2Vec` and `FastText` word embeddings. Let us look at a blog which neatly summarizes the differences between the `Word2Vec` and `FastText` embeddings.\n",
    "\n",
    "Link --\n",
    "https://rare-technologies.com/fasttext-and-gensim-word-embeddings/"
   ]
  },
  {
   "cell_type": "markdown",
   "metadata": {},
   "source": [
    "## Task - Movie Genre prediction\n",
    "Look at [notebook for previous part](https://github.com/RaRe-Technologies/talks/blob/master/2018-03-23_MLPrague-workshop/PragueML-Word2Vec.ipynb) description of task and dataset details."
   ]
  },
  {
   "cell_type": "code",
   "execution_count": 13,
   "metadata": {
    "ExecuteTime": {
     "end_time": "2018-03-13T14:46:54.830219Z",
     "start_time": "2018-03-13T14:46:54.623707Z"
    }
   },
   "outputs": [
    {
     "name": "stderr",
     "output_type": "stream",
     "text": [
      "/home/shiva/virtualenvironments/gensim_workshop_py3.5/lib/python3.5/site-packages/sklearn/cross_validation.py:41: DeprecationWarning: This module was deprecated in version 0.18 in favor of the model_selection module into which all the refactored classes and functions are moved. Also note that the interface of the new CV iterators are different from that of this module. This module will be removed in 0.20.\n",
      "  \"This module will be removed in 0.20.\", DeprecationWarning)\n",
      "2018-03-16 18:08:53,643 : INFO : font search path ['/home/shiva/virtualenvironments/gensim_workshop_py3.5/lib/python3.5/site-packages/matplotlib/mpl-data/fonts/ttf', '/home/shiva/virtualenvironments/gensim_workshop_py3.5/lib/python3.5/site-packages/matplotlib/mpl-data/fonts/afm', '/home/shiva/virtualenvironments/gensim_workshop_py3.5/lib/python3.5/site-packages/matplotlib/mpl-data/fonts/pdfcorefonts']\n",
      "2018-03-16 18:08:53,937 : INFO : generated new fontManager\n"
     ]
    }
   ],
   "source": [
    "import operator\n",
    "from sklearn.pipeline import Pipeline\n",
    "from sklearn.svm import LinearSVC\n",
    "from sklearn.feature_extraction.text import CountVectorizer, TfidfVectorizer, TfidfTransformer\n",
    "from sklearn.cross_validation import cross_val_score, train_test_split\n",
    "from sklearn.metrics import confusion_matrix, accuracy_score\n",
    "import pandas as pd\n",
    "import matplotlib.pyplot as plt\n",
    "\n",
    "%matplotlib inline"
   ]
  },
  {
   "cell_type": "code",
   "execution_count": 14,
   "metadata": {
    "ExecuteTime": {
     "end_time": "2018-03-13T14:46:57.581521Z",
     "start_time": "2018-03-13T14:46:57.549843Z"
    }
   },
   "outputs": [
    {
     "name": "stdout",
     "output_type": "stream",
     "text": [
      "Total number of words in the dataset: 171156\n"
     ]
    }
   ],
   "source": [
    "df = pd.read_csv('data/tagged_plots_movielens.csv')\n",
    "df = df.dropna()\n",
    "total_words = df['plot'].apply(lambda x: len(x.split(' '))).sum()\n",
    "print('Total number of words in the dataset: %d' % total_words)"
   ]
  },
  {
   "cell_type": "code",
   "execution_count": 15,
   "metadata": {
    "ExecuteTime": {
     "end_time": "2018-03-13T14:47:10.922804Z",
     "start_time": "2018-03-13T14:47:10.790791Z"
    }
   },
   "outputs": [
    {
     "data": {
      "image/png": "[encoded data removed]",
      "text/plain": [
       "<Figure size 432x288 with 1 Axes>"
      ]
     },
     "metadata": {},
     "output_type": "display_data"
    }
   ],
   "source": [
    "df.tag.value_counts().plot(kind=\"bar\", rot=0)\n",
    "my_tags = ['sci-fi' , 'action', 'comedy', 'fantasy', 'animation', 'romance']"
   ]
  },
  {
   "cell_type": "code",
   "execution_count": 16,
   "metadata": {
    "ExecuteTime": {
     "end_time": "2018-03-13T14:47:12.270471Z",
     "start_time": "2018-03-13T14:47:12.260939Z"
    }
   },
   "outputs": [
    {
     "data": {
      "text/plain": [
       "0.32138442521631644"
      ]
     },
     "execution_count": 16,
     "metadata": {},
     "output_type": "execute_result"
    }
   ],
   "source": [
    "float(df.tag.value_counts()['comedy']) / df.tag.value_counts().sum() "
   ]
  },
  {
   "cell_type": "code",
   "execution_count": 17,
   "metadata": {
    "ExecuteTime": {
     "end_time": "2018-03-13T14:47:13.196485Z",
     "start_time": "2018-03-13T14:47:13.182451Z"
    }
   },
   "outputs": [],
   "source": [
    "train_data, test_data = train_test_split(df, test_size=0.1, random_state=42)"
   ]
  },
  {
   "cell_type": "code",
   "execution_count": 18,
   "metadata": {
    "ExecuteTime": {
     "end_time": "2018-03-13T14:47:13.848682Z",
     "start_time": "2018-03-13T14:47:13.838315Z"
    }
   },
   "outputs": [
    {
     "name": "stdout",
     "output_type": "stream",
     "text": [
      "Number of training examples: 2184\n",
      "Number of tesing examples: 243\n"
     ]
    }
   ],
   "source": [
    "print('Number of training examples: %d' % len(train_data))\n",
    "print('Number of tesing examples: %d' % len(test_data))"
   ]
  },
  {
   "cell_type": "markdown",
   "metadata": {},
   "source": [
    "### Model Evaluation"
   ]
  },
  {
   "cell_type": "code",
   "execution_count": 19,
   "metadata": {
    "ExecuteTime": {
     "end_time": "2018-03-13T14:47:15.196320Z",
     "start_time": "2018-03-13T14:47:15.175515Z"
    }
   },
   "outputs": [],
   "source": [
    "def plot_confusion_matrix(cm, title='Confusion matrix', cmap=plt.cm.Blues):\n",
    "    plt.imshow(cm, interpolation='nearest', cmap=cmap)\n",
    "    plt.title(title)\n",
    "    plt.colorbar()\n",
    "    tick_marks = np.arange(len(my_tags))\n",
    "    target_names = my_tags\n",
    "    plt.xticks(tick_marks, target_names, rotation=45)\n",
    "    plt.yticks(tick_marks, target_names)\n",
    "    plt.tight_layout()\n",
    "    plt.ylabel('True label')\n",
    "    plt.xlabel('Predicted label')"
   ]
  },
  {
   "cell_type": "code",
   "execution_count": 20,
   "metadata": {
    "ExecuteTime": {
     "end_time": "2018-03-13T14:47:15.481405Z",
     "start_time": "2018-03-13T14:47:15.467978Z"
    }
   },
   "outputs": [],
   "source": [
    "def evaluate_prediction(predictions, target, title=\"Confusion matrix\"):\n",
    "    print('accuracy %s' % accuracy_score(target, predictions))\n",
    "    cm = confusion_matrix(target, predictions)\n",
    "    print('confusion matrix\\n %s' % cm)\n",
    "    print('(row=expected, col=predicted)')\n",
    "    \n",
    "    cm_normalized = cm.astype('float') / cm.sum(axis=1)[:, np.newaxis]\n",
    "    plot_confusion_matrix(cm_normalized, title + ' Normalized')"
   ]
  },
  {
   "cell_type": "markdown",
   "metadata": {},
   "source": [
    "### Tokenize text"
   ]
  },
  {
   "cell_type": "code",
   "execution_count": 21,
   "metadata": {
    "ExecuteTime": {
     "end_time": "2018-03-13T14:47:16.760511Z",
     "start_time": "2018-03-13T14:47:16.747836Z"
    }
   },
   "outputs": [],
   "source": [
    "def custom_tokenize_text(text):\n",
    "    filters = [strip_punctuation, strip_numeric, strip_multiple_whitespaces, strip_short]\n",
    "    cleaned_words = [word for word in preprocess_string(text, filters=filters)]\n",
    "    if cleaned_words:\n",
    "        return cleaned_words"
   ]
  },
  {
   "cell_type": "markdown",
   "metadata": {},
   "source": [
    "### Prepare data"
   ]
  },
  {
   "cell_type": "code",
   "execution_count": 22,
   "metadata": {
    "ExecuteTime": {
     "end_time": "2018-03-13T14:47:19.076294Z",
     "start_time": "2018-03-13T14:47:17.897439Z"
    }
   },
   "outputs": [
    {
     "name": "stdout",
     "output_type": "stream",
     "text": [
      "2184 2184\n",
      "comedy\n",
      "['Turkish', 'and', 'his', 'close', 'friend', 'accomplice', 'Tommy', 'get', 'pulled', 'into', 'the', 'world', 'match', 'fixing', 'the', 'notorious', 'Brick', 'Top', 'Things', 'get', 'complicated', 'when', 'the', 'boxer', 'they', 'had', 'lined', 'gets', 'badly', 'beaten', 'Pitt', 'pikey', 'slang', 'for', 'Irish', 'Gypsy', 'who', 'comes', 'into', 'the', 'equation', 'after', 'Turkish', 'unlicensed', 'boxing', 'promoter', 'wants', 'buy', 'caravan', 'off', 'the', 'Irish', 'Gypsies', 'They', 'then', 'try', 'convince', 'Pitt', 'not', 'only', 'fight', 'for', 'them', 'but', 'lose', 'for', 'them', 'too', 'Whilst', 'all', 'this', 'going', 'huge', 'diamond', 'heist', 'takes', 'place', 'and', 'fistful', 'motley', 'characters', 'enter', 'the', 'story', 'including', 'Cousin', 'Avi', 'Boris', 'The', 'Blade', 'Franky', 'Four', 'Fingers', 'and', 'Bullet', 'Tooth', 'Tony', 'Things', 'from', 'bad', 'worse', 'all', 'becomes', 'about', 'the', 'money', 'the', 'guns', 'and', 'the', 'damned', 'dog']\n"
     ]
    }
   ],
   "source": [
    "# prepare training data\n",
    "X_train = []\n",
    "y_train = []\n",
    "for plot, tag in train_data[['plot', 'tag']].values:\n",
    "    X_train.append(custom_tokenize_text(plot))\n",
    "    y_train.append(tag)\n",
    "X_train, y_train = np.array(X_train), np.array(y_train)\n",
    "print(len(X_train), len(y_train))\n",
    "print(y_train[0])\n",
    "print(X_train[0])"
   ]
  },
  {
   "cell_type": "code",
   "execution_count": 23,
   "metadata": {
    "ExecuteTime": {
     "end_time": "2018-03-13T14:47:21.763569Z",
     "start_time": "2018-03-13T14:47:21.618209Z"
    }
   },
   "outputs": [
    {
     "name": "stdout",
     "output_type": "stream",
     "text": [
      "243 243\n"
     ]
    }
   ],
   "source": [
    "# prepare test data\n",
    "X_test = []\n",
    "y_test = []\n",
    "for plot, tag in test_data[['plot', 'tag']].values:\n",
    "    X_test.append(custom_tokenize_text(plot))\n",
    "    y_test.append(tag)\n",
    "X_test, y_test = np.array(X_test), np.array(y_test)\n",
    "print(len(X_test), len(y_test))"
   ]
  },
  {
   "cell_type": "markdown",
   "metadata": {},
   "source": [
    "## Technique 1: Bag-of-CharNGrams + Linear SVM"
   ]
  },
  {
   "cell_type": "markdown",
   "metadata": {},
   "source": [
    "### CountVectorizer - character ngram features"
   ]
  },
  {
   "cell_type": "code",
   "execution_count": 24,
   "metadata": {
    "ExecuteTime": {
     "end_time": "2018-03-13T14:47:24.012517Z",
     "start_time": "2018-03-13T14:47:23.950254Z"
    }
   },
   "outputs": [
    {
     "name": "stdout",
     "output_type": "stream",
     "text": [
      "[(' br', 0), ('he ', 1), ('over ', 2), ('over t', 3), ('own', 4), ('own ', 5), ('own f', 6), ('own fo', 7), ('ox ', 8), ('ox j', 9), ('ox ju', 10), ('ox jum', 11), ('ped', 12), ('ped ', 13), ('ped o', 14), ('ped ov', 15), ('qui', 16), ('quic', 17), ('the', 18), ('the ', 19)]\n",
      "(1, 20)\n",
      "<class 'scipy.sparse.csr.csr_matrix'>\n",
      "[[1 2 1 1 1 1 1 1 1 1 1 1 1 1 1 1 1 1 2 2]]\n"
     ]
    }
   ],
   "source": [
    "from sklearn.feature_extraction.text import CountVectorizer\n",
    "# list of text documents\n",
    "text = [\"The quick brown fox jumped over the lazy dog.\"]\n",
    "# create the transform\n",
    "vectorizer = CountVectorizer(analyzer=\"char\", ngram_range=([3,6]), max_features=20)\n",
    "# tokenize and build vocab\n",
    "vectorizer.fit(text)\n",
    "# summarize\n",
    "print(sorted(vectorizer.vocabulary_.items(), key=operator.itemgetter(1)))\n",
    "# encode document\n",
    "vector = vectorizer.transform(text)\n",
    "# summarize encoded vector\n",
    "print(vector.shape)\n",
    "print(type(vector))\n",
    "print(vector.toarray())"
   ]
  },
  {
   "cell_type": "code",
   "execution_count": 25,
   "metadata": {
    "ExecuteTime": {
     "end_time": "2018-03-13T14:47:35.805454Z",
     "start_time": "2018-03-13T14:47:35.800777Z"
    }
   },
   "outputs": [],
   "source": [
    "ngrams_counts_svc = Pipeline([(\"count_ngrams_vectorizer\", CountVectorizer(analyzer=\"char\", ngram_range=([3,6]), max_features=10000)), (\"linear_svc\", LinearSVC())])"
   ]
  },
  {
   "cell_type": "code",
   "execution_count": 26,
   "metadata": {
    "ExecuteTime": {
     "end_time": "2018-03-13T14:47:37.192350Z",
     "start_time": "2018-03-13T14:47:37.181901Z"
    }
   },
   "outputs": [],
   "source": [
    "# CountVectorizer expects a list of strings and not a list of list of tokens.\n",
    "X_train_ngrams = [' '.join(tokens) for tokens in X_train]\n",
    "X_test_ngrams = [' '.join(tokens) for tokens in X_test]"
   ]
  },
  {
   "cell_type": "code",
   "execution_count": 27,
   "metadata": {
    "ExecuteTime": {
     "end_time": "2018-03-13T14:47:44.174954Z",
     "start_time": "2018-03-13T14:47:40.093973Z"
    }
   },
   "outputs": [
    {
     "name": "stdout",
     "output_type": "stream",
     "text": [
      "CPU times: user 4.08 s, sys: 32 ms, total: 4.12 s\n",
      "Wall time: 4.12 s\n"
     ]
    },
    {
     "data": {
      "text/plain": [
       "Pipeline(memory=None,\n",
       "     steps=[('count_ngrams_vectorizer', CountVectorizer(analyzer='char', binary=False, decode_error='strict',\n",
       "        dtype=<class 'numpy.int64'>, encoding='utf-8', input='content',\n",
       "        lowercase=True, max_df=1.0, max_features=10000, min_df=1,\n",
       "        ngram_range=[3, 6], preprocessor=None, stop_words...ax_iter=1000,\n",
       "     multi_class='ovr', penalty='l2', random_state=None, tol=0.0001,\n",
       "     verbose=0))])"
      ]
     },
     "execution_count": 27,
     "metadata": {},
     "output_type": "execute_result"
    }
   ],
   "source": [
    "%%time\n",
    "# fit the classifier\n",
    "ngrams_counts_svc.fit(X_train_ngrams, y_train)"
   ]
  },
  {
   "cell_type": "code",
   "execution_count": 28,
   "metadata": {
    "ExecuteTime": {
     "end_time": "2018-03-13T14:47:52.552181Z",
     "start_time": "2018-03-13T14:47:52.344306Z"
    }
   },
   "outputs": [],
   "source": [
    "# get predictions on test data\n",
    "y_pred_ngrams_counts_svc = ngrams_counts_svc.predict(X_test_ngrams)"
   ]
  },
  {
   "cell_type": "code",
   "execution_count": 29,
   "metadata": {
    "ExecuteTime": {
     "end_time": "2018-03-13T14:47:55.956577Z",
     "start_time": "2018-03-13T14:47:55.793647Z"
    }
   },
   "outputs": [
    {
     "name": "stdout",
     "output_type": "stream",
     "text": [
      "accuracy 0.4156378600823045\n",
      "confusion matrix\n",
      " [[16  4 11  2  6  3]\n",
      " [ 9  4 11  5  1  1]\n",
      " [10  7 49  3 15  2]\n",
      " [ 2  4  3  2  2  3]\n",
      " [ 4  0 17  0 14  0]\n",
      " [ 6  3  4  3  1 16]]\n",
      "(row=expected, col=predicted)\n"
     ]
    },
    {
     "data": {
      "image/png": "[encoded data removed]",
      "text/plain": [
       "<Figure size 432x288 with 2 Axes>"
      ]
     },
     "metadata": {},
     "output_type": "display_data"
    }
   ],
   "source": [
    "# plot results from test data evaluation\n",
    "evaluate_prediction(y_pred_ngrams_counts_svc, y_test)"
   ]
  },
  {
   "cell_type": "markdown",
   "metadata": {},
   "source": [
    "Load pre-trained FastText vectors. We will be using 'wiki-news-300d-1M-subword.vec': 1 million word vectors trained with subword infomation on Wikipedia 2017, UMBC webbase corpus and statmt.org news dataset (16B tokens). Can be downloaded from this link - https://fasttext.cc/docs/en/english-vectors.html.\n",
    "\n",
    "Warning: loading can take upto 3-4 mins."
   ]
  },
  {
   "cell_type": "code",
   "execution_count": 30,
   "metadata": {},
   "outputs": [
    {
     "name": "stdout",
     "output_type": "stream",
     "text": [
      "[==------------------------------------------------] 5.5% 52.4/958.4MB downloaded"
     ]
    },
    {
     "ename": "KeyboardInterrupt",
     "evalue": "",
     "output_type": "error",
     "traceback": [
      "\u001b[0;31m---------------------------------------------------------------------------\u001b[0m",
      "\u001b[0;31mKeyboardInterrupt\u001b[0m                         Traceback (most recent call last)",
      "\u001b[0;32m<ipython-input-30-e0bf86624eff>\u001b[0m in \u001b[0;36m<module>\u001b[0;34m()\u001b[0m\n\u001b[0;32m----> 1\u001b[0;31m \u001b[0mpath\u001b[0m \u001b[0;34m=\u001b[0m \u001b[0mapi\u001b[0m\u001b[0;34m.\u001b[0m\u001b[0mload\u001b[0m\u001b[0;34m(\u001b[0m\u001b[0;34m\"fasttext-wiki-news-subwords-300\"\u001b[0m\u001b[0;34m,\u001b[0m \u001b[0mreturn_path\u001b[0m\u001b[0;34m=\u001b[0m\u001b[0;32mTrue\u001b[0m\u001b[0;34m)\u001b[0m\u001b[0;34m\u001b[0m\u001b[0m\n\u001b[0m",
      "\u001b[0;32m~/virtualenvironments/gensim_workshop_py3.5/lib/python3.5/site-packages/gensim/downloader.py\u001b[0m in \u001b[0;36mload\u001b[0;34m(name, return_path)\u001b[0m\n\u001b[1;32m    409\u001b[0m     \u001b[0mpath\u001b[0m \u001b[0;34m=\u001b[0m \u001b[0mos\u001b[0m\u001b[0;34m.\u001b[0m\u001b[0mpath\u001b[0m\u001b[0;34m.\u001b[0m\u001b[0mjoin\u001b[0m\u001b[0;34m(\u001b[0m\u001b[0mfolder_dir\u001b[0m\u001b[0;34m,\u001b[0m \u001b[0mfile_name\u001b[0m\u001b[0;34m)\u001b[0m\u001b[0;34m\u001b[0m\u001b[0m\n\u001b[1;32m    410\u001b[0m     \u001b[0;32mif\u001b[0m \u001b[0;32mnot\u001b[0m \u001b[0mos\u001b[0m\u001b[0;34m.\u001b[0m\u001b[0mpath\u001b[0m\u001b[0;34m.\u001b[0m\u001b[0mexists\u001b[0m\u001b[0;34m(\u001b[0m\u001b[0mfolder_dir\u001b[0m\u001b[0;34m)\u001b[0m\u001b[0;34m:\u001b[0m\u001b[0;34m\u001b[0m\u001b[0m\n\u001b[0;32m--> 411\u001b[0;31m         \u001b[0m_download\u001b[0m\u001b[0;34m(\u001b[0m\u001b[0mname\u001b[0m\u001b[0;34m)\u001b[0m\u001b[0;34m\u001b[0m\u001b[0m\n\u001b[0m\u001b[1;32m    412\u001b[0m \u001b[0;34m\u001b[0m\u001b[0m\n\u001b[1;32m    413\u001b[0m     \u001b[0;32mif\u001b[0m \u001b[0mreturn_path\u001b[0m\u001b[0;34m:\u001b[0m\u001b[0;34m\u001b[0m\u001b[0m\n",
      "\u001b[0;32m~/virtualenvironments/gensim_workshop_py3.5/lib/python3.5/site-packages/gensim/downloader.py\u001b[0m in \u001b[0;36m_download\u001b[0;34m(name)\u001b[0m\n\u001b[1;32m    316\u001b[0m         \u001b[0mfname\u001b[0m \u001b[0;34m=\u001b[0m \u001b[0;34m\"{fname}.gz\"\u001b[0m\u001b[0;34m.\u001b[0m\u001b[0mformat\u001b[0m\u001b[0;34m(\u001b[0m\u001b[0mfname\u001b[0m\u001b[0;34m=\u001b[0m\u001b[0mname\u001b[0m\u001b[0;34m)\u001b[0m\u001b[0;34m\u001b[0m\u001b[0m\n\u001b[1;32m    317\u001b[0m         \u001b[0mdst_path\u001b[0m \u001b[0;34m=\u001b[0m \u001b[0mos\u001b[0m\u001b[0;34m.\u001b[0m\u001b[0mpath\u001b[0m\u001b[0;34m.\u001b[0m\u001b[0mjoin\u001b[0m\u001b[0;34m(\u001b[0m\u001b[0mtmp_dir\u001b[0m\u001b[0;34m,\u001b[0m \u001b[0mfname\u001b[0m\u001b[0;34m)\u001b[0m\u001b[0;34m\u001b[0m\u001b[0m\n\u001b[0;32m--> 318\u001b[0;31m         \u001b[0murllib\u001b[0m\u001b[0;34m.\u001b[0m\u001b[0murlretrieve\u001b[0m\u001b[0;34m(\u001b[0m\u001b[0murl_data\u001b[0m\u001b[0;34m,\u001b[0m \u001b[0mdst_path\u001b[0m\u001b[0;34m,\u001b[0m \u001b[0mreporthook\u001b[0m\u001b[0;34m=\u001b[0m\u001b[0m_progress\u001b[0m\u001b[0;34m)\u001b[0m\u001b[0;34m\u001b[0m\u001b[0m\n\u001b[0m\u001b[1;32m    319\u001b[0m         \u001b[0;32mif\u001b[0m \u001b[0m_calculate_md5_checksum\u001b[0m\u001b[0;34m(\u001b[0m\u001b[0mdst_path\u001b[0m\u001b[0;34m)\u001b[0m \u001b[0;34m==\u001b[0m \u001b[0m_get_checksum\u001b[0m\u001b[0;34m(\u001b[0m\u001b[0mname\u001b[0m\u001b[0;34m)\u001b[0m\u001b[0;34m:\u001b[0m\u001b[0;34m\u001b[0m\u001b[0m\n\u001b[1;32m    320\u001b[0m             \u001b[0msys\u001b[0m\u001b[0;34m.\u001b[0m\u001b[0mstdout\u001b[0m\u001b[0;34m.\u001b[0m\u001b[0mwrite\u001b[0m\u001b[0;34m(\u001b[0m\u001b[0;34m\"\\n\"\u001b[0m\u001b[0;34m)\u001b[0m\u001b[0;34m\u001b[0m\u001b[0m\n",
      "\u001b[0;32m/usr/lib/python3.5/urllib/request.py\u001b[0m in \u001b[0;36murlretrieve\u001b[0;34m(url, filename, reporthook, data)\u001b[0m\n\u001b[1;32m    215\u001b[0m \u001b[0;34m\u001b[0m\u001b[0m\n\u001b[1;32m    216\u001b[0m             \u001b[0;32mwhile\u001b[0m \u001b[0;32mTrue\u001b[0m\u001b[0;34m:\u001b[0m\u001b[0;34m\u001b[0m\u001b[0m\n\u001b[0;32m--> 217\u001b[0;31m                 \u001b[0mblock\u001b[0m \u001b[0;34m=\u001b[0m \u001b[0mfp\u001b[0m\u001b[0;34m.\u001b[0m\u001b[0mread\u001b[0m\u001b[0;34m(\u001b[0m\u001b[0mbs\u001b[0m\u001b[0;34m)\u001b[0m\u001b[0;34m\u001b[0m\u001b[0m\n\u001b[0m\u001b[1;32m    218\u001b[0m                 \u001b[0;32mif\u001b[0m \u001b[0;32mnot\u001b[0m \u001b[0mblock\u001b[0m\u001b[0;34m:\u001b[0m\u001b[0;34m\u001b[0m\u001b[0m\n\u001b[1;32m    219\u001b[0m                     \u001b[0;32mbreak\u001b[0m\u001b[0;34m\u001b[0m\u001b[0m\n",
      "\u001b[0;32m/usr/lib/python3.5/http/client.py\u001b[0m in \u001b[0;36mread\u001b[0;34m(self, amt)\u001b[0m\n\u001b[1;32m    446\u001b[0m             \u001b[0;31m# Amount is given, implement using readinto\u001b[0m\u001b[0;34m\u001b[0m\u001b[0;34m\u001b[0m\u001b[0m\n\u001b[1;32m    447\u001b[0m             \u001b[0mb\u001b[0m \u001b[0;34m=\u001b[0m \u001b[0mbytearray\u001b[0m\u001b[0;34m(\u001b[0m\u001b[0mamt\u001b[0m\u001b[0;34m)\u001b[0m\u001b[0;34m\u001b[0m\u001b[0m\n\u001b[0;32m--> 448\u001b[0;31m             \u001b[0mn\u001b[0m \u001b[0;34m=\u001b[0m \u001b[0mself\u001b[0m\u001b[0;34m.\u001b[0m\u001b[0mreadinto\u001b[0m\u001b[0;34m(\u001b[0m\u001b[0mb\u001b[0m\u001b[0;34m)\u001b[0m\u001b[0;34m\u001b[0m\u001b[0m\n\u001b[0m\u001b[1;32m    449\u001b[0m             \u001b[0;32mreturn\u001b[0m \u001b[0mmemoryview\u001b[0m\u001b[0;34m(\u001b[0m\u001b[0mb\u001b[0m\u001b[0;34m)\u001b[0m\u001b[0;34m[\u001b[0m\u001b[0;34m:\u001b[0m\u001b[0mn\u001b[0m\u001b[0;34m]\u001b[0m\u001b[0;34m.\u001b[0m\u001b[0mtobytes\u001b[0m\u001b[0;34m(\u001b[0m\u001b[0;34m)\u001b[0m\u001b[0;34m\u001b[0m\u001b[0m\n\u001b[1;32m    450\u001b[0m         \u001b[0;32melse\u001b[0m\u001b[0;34m:\u001b[0m\u001b[0;34m\u001b[0m\u001b[0m\n",
      "\u001b[0;32m/usr/lib/python3.5/http/client.py\u001b[0m in \u001b[0;36mreadinto\u001b[0;34m(self, b)\u001b[0m\n\u001b[1;32m    486\u001b[0m         \u001b[0;31m# connection, and the user is reading more bytes than will be provided\u001b[0m\u001b[0;34m\u001b[0m\u001b[0;34m\u001b[0m\u001b[0m\n\u001b[1;32m    487\u001b[0m         \u001b[0;31m# (for example, reading in 1k chunks)\u001b[0m\u001b[0;34m\u001b[0m\u001b[0;34m\u001b[0m\u001b[0m\n\u001b[0;32m--> 488\u001b[0;31m         \u001b[0mn\u001b[0m \u001b[0;34m=\u001b[0m \u001b[0mself\u001b[0m\u001b[0;34m.\u001b[0m\u001b[0mfp\u001b[0m\u001b[0;34m.\u001b[0m\u001b[0mreadinto\u001b[0m\u001b[0;34m(\u001b[0m\u001b[0mb\u001b[0m\u001b[0;34m)\u001b[0m\u001b[0;34m\u001b[0m\u001b[0m\n\u001b[0m\u001b[1;32m    489\u001b[0m         \u001b[0;32mif\u001b[0m \u001b[0;32mnot\u001b[0m \u001b[0mn\u001b[0m \u001b[0;32mand\u001b[0m \u001b[0mb\u001b[0m\u001b[0;34m:\u001b[0m\u001b[0;34m\u001b[0m\u001b[0m\n\u001b[1;32m    490\u001b[0m             \u001b[0;31m# Ideally, we would raise IncompleteRead if the content-length\u001b[0m\u001b[0;34m\u001b[0m\u001b[0;34m\u001b[0m\u001b[0m\n",
      "\u001b[0;32m/usr/lib/python3.5/socket.py\u001b[0m in \u001b[0;36mreadinto\u001b[0;34m(self, b)\u001b[0m\n\u001b[1;32m    574\u001b[0m         \u001b[0;32mwhile\u001b[0m \u001b[0;32mTrue\u001b[0m\u001b[0;34m:\u001b[0m\u001b[0;34m\u001b[0m\u001b[0m\n\u001b[1;32m    575\u001b[0m             \u001b[0;32mtry\u001b[0m\u001b[0;34m:\u001b[0m\u001b[0;34m\u001b[0m\u001b[0m\n\u001b[0;32m--> 576\u001b[0;31m                 \u001b[0;32mreturn\u001b[0m \u001b[0mself\u001b[0m\u001b[0;34m.\u001b[0m\u001b[0m_sock\u001b[0m\u001b[0;34m.\u001b[0m\u001b[0mrecv_into\u001b[0m\u001b[0;34m(\u001b[0m\u001b[0mb\u001b[0m\u001b[0;34m)\u001b[0m\u001b[0;34m\u001b[0m\u001b[0m\n\u001b[0m\u001b[1;32m    577\u001b[0m             \u001b[0;32mexcept\u001b[0m \u001b[0mtimeout\u001b[0m\u001b[0;34m:\u001b[0m\u001b[0;34m\u001b[0m\u001b[0m\n\u001b[1;32m    578\u001b[0m                 \u001b[0mself\u001b[0m\u001b[0;34m.\u001b[0m\u001b[0m_timeout_occurred\u001b[0m \u001b[0;34m=\u001b[0m \u001b[0;32mTrue\u001b[0m\u001b[0;34m\u001b[0m\u001b[0m\n",
      "\u001b[0;32m/usr/lib/python3.5/ssl.py\u001b[0m in \u001b[0;36mrecv_into\u001b[0;34m(self, buffer, nbytes, flags)\u001b[0m\n\u001b[1;32m    935\u001b[0m                   \u001b[0;34m\"non-zero flags not allowed in calls to recv_into() on %s\"\u001b[0m \u001b[0;34m%\u001b[0m\u001b[0;34m\u001b[0m\u001b[0m\n\u001b[1;32m    936\u001b[0m                   self.__class__)\n\u001b[0;32m--> 937\u001b[0;31m             \u001b[0;32mreturn\u001b[0m \u001b[0mself\u001b[0m\u001b[0;34m.\u001b[0m\u001b[0mread\u001b[0m\u001b[0;34m(\u001b[0m\u001b[0mnbytes\u001b[0m\u001b[0;34m,\u001b[0m \u001b[0mbuffer\u001b[0m\u001b[0;34m)\u001b[0m\u001b[0;34m\u001b[0m\u001b[0m\n\u001b[0m\u001b[1;32m    938\u001b[0m         \u001b[0;32melse\u001b[0m\u001b[0;34m:\u001b[0m\u001b[0;34m\u001b[0m\u001b[0m\n\u001b[1;32m    939\u001b[0m             \u001b[0;32mreturn\u001b[0m \u001b[0msocket\u001b[0m\u001b[0;34m.\u001b[0m\u001b[0mrecv_into\u001b[0m\u001b[0;34m(\u001b[0m\u001b[0mself\u001b[0m\u001b[0;34m,\u001b[0m \u001b[0mbuffer\u001b[0m\u001b[0;34m,\u001b[0m \u001b[0mnbytes\u001b[0m\u001b[0;34m,\u001b[0m \u001b[0mflags\u001b[0m\u001b[0;34m)\u001b[0m\u001b[0;34m\u001b[0m\u001b[0m\n",
      "\u001b[0;32m/usr/lib/python3.5/ssl.py\u001b[0m in \u001b[0;36mread\u001b[0;34m(self, len, buffer)\u001b[0m\n\u001b[1;32m    797\u001b[0m             \u001b[0;32mraise\u001b[0m \u001b[0mValueError\u001b[0m\u001b[0;34m(\u001b[0m\u001b[0;34m\"Read on closed or unwrapped SSL socket.\"\u001b[0m\u001b[0;34m)\u001b[0m\u001b[0;34m\u001b[0m\u001b[0m\n\u001b[1;32m    798\u001b[0m         \u001b[0;32mtry\u001b[0m\u001b[0;34m:\u001b[0m\u001b[0;34m\u001b[0m\u001b[0m\n\u001b[0;32m--> 799\u001b[0;31m             \u001b[0;32mreturn\u001b[0m \u001b[0mself\u001b[0m\u001b[0;34m.\u001b[0m\u001b[0m_sslobj\u001b[0m\u001b[0;34m.\u001b[0m\u001b[0mread\u001b[0m\u001b[0;34m(\u001b[0m\u001b[0mlen\u001b[0m\u001b[0;34m,\u001b[0m \u001b[0mbuffer\u001b[0m\u001b[0;34m)\u001b[0m\u001b[0;34m\u001b[0m\u001b[0m\n\u001b[0m\u001b[1;32m    800\u001b[0m         \u001b[0;32mexcept\u001b[0m \u001b[0mSSLError\u001b[0m \u001b[0;32mas\u001b[0m \u001b[0mx\u001b[0m\u001b[0;34m:\u001b[0m\u001b[0;34m\u001b[0m\u001b[0m\n\u001b[1;32m    801\u001b[0m             \u001b[0;32mif\u001b[0m \u001b[0mx\u001b[0m\u001b[0;34m.\u001b[0m\u001b[0margs\u001b[0m\u001b[0;34m[\u001b[0m\u001b[0;36m0\u001b[0m\u001b[0;34m]\u001b[0m \u001b[0;34m==\u001b[0m \u001b[0mSSL_ERROR_EOF\u001b[0m \u001b[0;32mand\u001b[0m \u001b[0mself\u001b[0m\u001b[0;34m.\u001b[0m\u001b[0msuppress_ragged_eofs\u001b[0m\u001b[0;34m:\u001b[0m\u001b[0;34m\u001b[0m\u001b[0m\n",
      "\u001b[0;32m/usr/lib/python3.5/ssl.py\u001b[0m in \u001b[0;36mread\u001b[0;34m(self, len, buffer)\u001b[0m\n\u001b[1;32m    581\u001b[0m         \"\"\"\n\u001b[1;32m    582\u001b[0m         \u001b[0;32mif\u001b[0m \u001b[0mbuffer\u001b[0m \u001b[0;32mis\u001b[0m \u001b[0;32mnot\u001b[0m \u001b[0;32mNone\u001b[0m\u001b[0;34m:\u001b[0m\u001b[0;34m\u001b[0m\u001b[0m\n\u001b[0;32m--> 583\u001b[0;31m             \u001b[0mv\u001b[0m \u001b[0;34m=\u001b[0m \u001b[0mself\u001b[0m\u001b[0;34m.\u001b[0m\u001b[0m_sslobj\u001b[0m\u001b[0;34m.\u001b[0m\u001b[0mread\u001b[0m\u001b[0;34m(\u001b[0m\u001b[0mlen\u001b[0m\u001b[0;34m,\u001b[0m \u001b[0mbuffer\u001b[0m\u001b[0;34m)\u001b[0m\u001b[0;34m\u001b[0m\u001b[0m\n\u001b[0m\u001b[1;32m    584\u001b[0m         \u001b[0;32melse\u001b[0m\u001b[0;34m:\u001b[0m\u001b[0;34m\u001b[0m\u001b[0m\n\u001b[1;32m    585\u001b[0m             \u001b[0mv\u001b[0m \u001b[0;34m=\u001b[0m \u001b[0mself\u001b[0m\u001b[0;34m.\u001b[0m\u001b[0m_sslobj\u001b[0m\u001b[0;34m.\u001b[0m\u001b[0mread\u001b[0m\u001b[0;34m(\u001b[0m\u001b[0mlen\u001b[0m\u001b[0;34m)\u001b[0m\u001b[0;34m\u001b[0m\u001b[0m\n",
      "\u001b[0;31mKeyboardInterrupt\u001b[0m: "
     ]
    }
   ],
   "source": [
    "path = api.load(\"fasttext-wiki-news-subwords-300\", return_path=True)"
   ]
  },
  {
   "cell_type": "code",
   "execution_count": null,
   "metadata": {},
   "outputs": [],
   "source": [
    "%%time\n",
    "model_pretrained_ft = KeyedVectors.load_word2vec_format(path, limit=500000)"
   ]
  },
  {
   "cell_type": "markdown",
   "metadata": {},
   "source": [
    "The code below has been lazily copy-pasted from [previous part's notebook](https://github.com/RaRe-Technologies/talks/blob/master/2018-03-23_MLPrague-workshop/PragueML-Word2Vec.ipynb) and only changes the word embeddings model passed to the vectorizers."
   ]
  },
  {
   "cell_type": "markdown",
   "metadata": {
    "ExecuteTime": {
     "end_time": "2018-03-13T09:06:40.411577Z",
     "start_time": "2018-03-13T09:06:40.398672Z"
    }
   },
   "source": [
    "## Technique 2: Average word embeddings (FastText) + Linear SVM"
   ]
  },
  {
   "cell_type": "code",
   "execution_count": 29,
   "metadata": {
    "ExecuteTime": {
     "end_time": "2018-03-13T14:50:47.438087Z",
     "start_time": "2018-03-13T14:50:47.430838Z"
    }
   },
   "outputs": [],
   "source": [
    "class MeanEmbeddingVectorizer(object):\n",
    "    def __init__(self, word2vec):\n",
    "        self.word2vec = word2vec\n",
    "        self.dim = word2vec.vector_size\n",
    "    \n",
    "    def fit(self, X, y):\n",
    "        return self \n",
    "\n",
    "    def transform(self, X):\n",
    "        return np.array([\n",
    "            np.mean([self.word2vec[w] for w in words if w in self.word2vec] \n",
    "                    or [np.zeros(self.dim)], axis=0)\n",
    "            for words in X\n",
    "        ])"
   ]
  },
  {
   "cell_type": "code",
   "execution_count": 30,
   "metadata": {
    "ExecuteTime": {
     "end_time": "2018-03-13T14:50:48.259014Z",
     "start_time": "2018-03-13T14:50:48.253709Z"
    }
   },
   "outputs": [],
   "source": [
    "avg_ft_svc = Pipeline([(\"mean_embedding_vectorizer\", MeanEmbeddingVectorizer(model_pretrained_ft)), (\"linear_svc\", LinearSVC())])"
   ]
  },
  {
   "cell_type": "code",
   "execution_count": 31,
   "metadata": {
    "ExecuteTime": {
     "end_time": "2018-03-13T14:50:49.937718Z",
     "start_time": "2018-03-13T14:50:49.149337Z"
    }
   },
   "outputs": [
    {
     "data": {
      "text/plain": [
       "Pipeline(memory=None,\n",
       "     steps=[('mean_embedding_vectorizer', <__main__.MeanEmbeddingVectorizer object at 0x7fda0e5a53d0>), ('linear_svc', LinearSVC(C=1.0, class_weight=None, dual=True, fit_intercept=True,\n",
       "     intercept_scaling=1, loss='squared_hinge', max_iter=1000,\n",
       "     multi_class='ovr', penalty='l2', random_state=None, tol=0.0001,\n",
       "     verbose=0))])"
      ]
     },
     "execution_count": 31,
     "metadata": {},
     "output_type": "execute_result"
    }
   ],
   "source": [
    "avg_ft_svc.fit(X_train, y_train)"
   ]
  },
  {
   "cell_type": "code",
   "execution_count": 32,
   "metadata": {
    "ExecuteTime": {
     "end_time": "2018-03-13T14:50:55.149599Z",
     "start_time": "2018-03-13T14:50:55.098363Z"
    }
   },
   "outputs": [],
   "source": [
    "y_pred_avg_ft_svc = avg_ft_svc.predict(X_test)"
   ]
  },
  {
   "cell_type": "code",
   "execution_count": 33,
   "metadata": {
    "ExecuteTime": {
     "end_time": "2018-03-13T14:50:56.190768Z",
     "start_time": "2018-03-13T14:50:56.027948Z"
    }
   },
   "outputs": [
    {
     "name": "stdout",
     "output_type": "stream",
     "text": [
      "accuracy 0.5720164609053497\n",
      "confusion matrix\n",
      " [[27  0 12  0  1  2]\n",
      " [ 3  8 12  1  3  4]\n",
      " [ 4  1 74  0  6  1]\n",
      " [ 2  0  6  4  2  2]\n",
      " [ 0  1 24  0  8  2]\n",
      " [ 6  1  8  0  0 18]]\n",
      "(row=expected, col=predicted)\n"
     ]
    },
    {
     "data": {
      "image/png": "[encoded data removed]",
      "text/plain": [
       "<Figure size 432x288 with 2 Axes>"
      ]
     },
     "metadata": {},
     "output_type": "display_data"
    }
   ],
   "source": [
    "evaluate_prediction(y_pred_avg_ft_svc, y_test)"
   ]
  },
  {
   "cell_type": "markdown",
   "metadata": {},
   "source": [
    "We saw a few techniques to get started with text classification using different word embeddings. The goal of this tutorial was to show the APIs so you can start using word embeddings and related techniques on your own data/task. The [previous notebook](add link to notebook) also provided a few links to papers discussing various modifications to average word embeddings to tap into their true potential for NLP tasks."
   ]
  },
  {
   "cell_type": "markdown",
   "metadata": {},
   "source": [
    "## References\n",
    "A lot of the code used in this notebook as been picked up directly/modified from various other tutorials/blogs/notebooks. Thanks to all of you guys to help speed up the creation of this notebook.\n",
    "- https://github.com/RaRe-Technologies/movie-plots-by-genre/blob/master/Document%20classification%20with%20word%20embeddings%20tutorial.ipynb - Lev Konstantinovskiy.\n",
    "- http://sujitpal.blogspot.in/2016/04/predicting-movie-tags-from-plots-using.html - Sujit Pal.\n",
    "- http://nadbordrozd.github.io/blog/2016/05/20/text-classification-with-word2vec/ - Nadbor Drozd.\n",
    "- https://machinelearningmastery.com/prepare-text-data-machine-learning-scikit-learn/ - Jason Brownlee."
   ]
  },
  {
   "cell_type": "code",
   "execution_count": null,
   "metadata": {},
   "outputs": [],
   "source": []
  }
 ],
 "metadata": {
  "kernelspec": {
   "display_name": "Python 3",
   "language": "python",
   "name": "python3"
  },
  "language_info": {
   "codemirror_mode": {
    "name": "ipython",
    "version": 3
   },
   "file_extension": ".py",
   "mimetype": "text/x-python",
   "name": "python",
   "nbconvert_exporter": "python",
   "pygments_lexer": "ipython3",
   "version": "3.5.3"
  }
 },
 "nbformat": 4,
 "nbformat_minor": 2
}
